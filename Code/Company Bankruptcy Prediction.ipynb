{
 "cells": [
  {
   "cell_type": "markdown",
   "metadata": {},
   "source": [
    "# Importing libraries"
   ]
  },
  {
   "cell_type": "code",
   "execution_count": 33,
   "metadata": {},
   "outputs": [],
   "source": [
    "import numpy as np\n",
    "import pandas as pd\n",
    "import seaborn as sns\n",
    "import matplotlib.pyplot as plt\n",
    "\n",
    "#from sklearn.pipeline import Pipeline\n",
    "from imblearn.pipeline import Pipeline\n",
    "\n",
    "from sklearn.decomposition import PCA\n",
    "from sklearn.discriminant_analysis import LinearDiscriminantAnalysis\n",
    "from sklearn.manifold import Isomap\n",
    "from sklearn.manifold import LocallyLinearEmbedding\n",
    "\n",
    "from imblearn.over_sampling import SMOTE\n",
    "from imblearn.under_sampling import RandomUnderSampler\n",
    "from imblearn.over_sampling import BorderlineSMOTE\n",
    "from imblearn.over_sampling import SVMSMOTE\n",
    "from imblearn.over_sampling import ADASYN\n",
    "\n",
    "from sklearn.svm import SVC\n",
    "\n",
    "from sklearn.model_selection import GridSearchCV, train_test_split\n",
    "from sklearn.metrics import classification_report, roc_curve, auc"
   ]
  },
  {
   "cell_type": "markdown",
   "metadata": {},
   "source": [
    "# Loading data"
   ]
  },
  {
   "cell_type": "code",
   "execution_count": 2,
   "metadata": {},
   "outputs": [],
   "source": [
    "bank_data = pd.read_csv('/home/dungnasa/Desktop/Coding/Python/Applied Statistics Project/project_appstats/data/data.csv')"
   ]
  },
  {
   "cell_type": "code",
   "execution_count": 3,
   "metadata": {},
   "outputs": [
    {
     "data": {
      "text/html": [
       "<div>\n",
       "<style scoped>\n",
       "    .dataframe tbody tr th:only-of-type {\n",
       "        vertical-align: middle;\n",
       "    }\n",
       "\n",
       "    .dataframe tbody tr th {\n",
       "        vertical-align: top;\n",
       "    }\n",
       "\n",
       "    .dataframe thead th {\n",
       "        text-align: right;\n",
       "    }\n",
       "</style>\n",
       "<table border=\"1\" class=\"dataframe\">\n",
       "  <thead>\n",
       "    <tr style=\"text-align: right;\">\n",
       "      <th></th>\n",
       "      <th>Bankrupt?</th>\n",
       "      <th>ROA(C) before interest and depreciation before interest</th>\n",
       "      <th>ROA(A) before interest and % after tax</th>\n",
       "      <th>ROA(B) before interest and depreciation after tax</th>\n",
       "      <th>Operating Gross Margin</th>\n",
       "      <th>Realized Sales Gross Margin</th>\n",
       "      <th>Operating Profit Rate</th>\n",
       "      <th>Pre-tax net Interest Rate</th>\n",
       "      <th>After-tax net Interest Rate</th>\n",
       "      <th>Non-industry income and expenditure/revenue</th>\n",
       "      <th>...</th>\n",
       "      <th>Net Income to Total Assets</th>\n",
       "      <th>Total assets to GNP price</th>\n",
       "      <th>No-credit Interval</th>\n",
       "      <th>Gross Profit to Sales</th>\n",
       "      <th>Net Income to Stockholder's Equity</th>\n",
       "      <th>Liability to Equity</th>\n",
       "      <th>Degree of Financial Leverage (DFL)</th>\n",
       "      <th>Interest Coverage Ratio (Interest expense to EBIT)</th>\n",
       "      <th>Net Income Flag</th>\n",
       "      <th>Equity to Liability</th>\n",
       "    </tr>\n",
       "  </thead>\n",
       "  <tbody>\n",
       "    <tr>\n",
       "      <th>0</th>\n",
       "      <td>1</td>\n",
       "      <td>0.370594</td>\n",
       "      <td>0.424389</td>\n",
       "      <td>0.405750</td>\n",
       "      <td>0.601457</td>\n",
       "      <td>0.601457</td>\n",
       "      <td>0.998969</td>\n",
       "      <td>0.796887</td>\n",
       "      <td>0.808809</td>\n",
       "      <td>0.302646</td>\n",
       "      <td>...</td>\n",
       "      <td>0.716845</td>\n",
       "      <td>0.009219</td>\n",
       "      <td>0.622879</td>\n",
       "      <td>0.601453</td>\n",
       "      <td>0.827890</td>\n",
       "      <td>0.290202</td>\n",
       "      <td>0.026601</td>\n",
       "      <td>0.564050</td>\n",
       "      <td>1</td>\n",
       "      <td>0.016469</td>\n",
       "    </tr>\n",
       "    <tr>\n",
       "      <th>1</th>\n",
       "      <td>1</td>\n",
       "      <td>0.464291</td>\n",
       "      <td>0.538214</td>\n",
       "      <td>0.516730</td>\n",
       "      <td>0.610235</td>\n",
       "      <td>0.610235</td>\n",
       "      <td>0.998946</td>\n",
       "      <td>0.797380</td>\n",
       "      <td>0.809301</td>\n",
       "      <td>0.303556</td>\n",
       "      <td>...</td>\n",
       "      <td>0.795297</td>\n",
       "      <td>0.008323</td>\n",
       "      <td>0.623652</td>\n",
       "      <td>0.610237</td>\n",
       "      <td>0.839969</td>\n",
       "      <td>0.283846</td>\n",
       "      <td>0.264577</td>\n",
       "      <td>0.570175</td>\n",
       "      <td>1</td>\n",
       "      <td>0.020794</td>\n",
       "    </tr>\n",
       "    <tr>\n",
       "      <th>2</th>\n",
       "      <td>1</td>\n",
       "      <td>0.426071</td>\n",
       "      <td>0.499019</td>\n",
       "      <td>0.472295</td>\n",
       "      <td>0.601450</td>\n",
       "      <td>0.601364</td>\n",
       "      <td>0.998857</td>\n",
       "      <td>0.796403</td>\n",
       "      <td>0.808388</td>\n",
       "      <td>0.302035</td>\n",
       "      <td>...</td>\n",
       "      <td>0.774670</td>\n",
       "      <td>0.040003</td>\n",
       "      <td>0.623841</td>\n",
       "      <td>0.601449</td>\n",
       "      <td>0.836774</td>\n",
       "      <td>0.290189</td>\n",
       "      <td>0.026555</td>\n",
       "      <td>0.563706</td>\n",
       "      <td>1</td>\n",
       "      <td>0.016474</td>\n",
       "    </tr>\n",
       "    <tr>\n",
       "      <th>3</th>\n",
       "      <td>1</td>\n",
       "      <td>0.399844</td>\n",
       "      <td>0.451265</td>\n",
       "      <td>0.457733</td>\n",
       "      <td>0.583541</td>\n",
       "      <td>0.583541</td>\n",
       "      <td>0.998700</td>\n",
       "      <td>0.796967</td>\n",
       "      <td>0.808966</td>\n",
       "      <td>0.303350</td>\n",
       "      <td>...</td>\n",
       "      <td>0.739555</td>\n",
       "      <td>0.003252</td>\n",
       "      <td>0.622929</td>\n",
       "      <td>0.583538</td>\n",
       "      <td>0.834697</td>\n",
       "      <td>0.281721</td>\n",
       "      <td>0.026697</td>\n",
       "      <td>0.564663</td>\n",
       "      <td>1</td>\n",
       "      <td>0.023982</td>\n",
       "    </tr>\n",
       "    <tr>\n",
       "      <th>4</th>\n",
       "      <td>1</td>\n",
       "      <td>0.465022</td>\n",
       "      <td>0.538432</td>\n",
       "      <td>0.522298</td>\n",
       "      <td>0.598783</td>\n",
       "      <td>0.598783</td>\n",
       "      <td>0.998973</td>\n",
       "      <td>0.797366</td>\n",
       "      <td>0.809304</td>\n",
       "      <td>0.303475</td>\n",
       "      <td>...</td>\n",
       "      <td>0.795016</td>\n",
       "      <td>0.003878</td>\n",
       "      <td>0.623521</td>\n",
       "      <td>0.598782</td>\n",
       "      <td>0.839973</td>\n",
       "      <td>0.278514</td>\n",
       "      <td>0.024752</td>\n",
       "      <td>0.575617</td>\n",
       "      <td>1</td>\n",
       "      <td>0.035490</td>\n",
       "    </tr>\n",
       "  </tbody>\n",
       "</table>\n",
       "<p>5 rows × 96 columns</p>\n",
       "</div>"
      ],
      "text/plain": [
       "   Bankrupt?   ROA(C) before interest and depreciation before interest  \\\n",
       "0          1                                           0.370594          \n",
       "1          1                                           0.464291          \n",
       "2          1                                           0.426071          \n",
       "3          1                                           0.399844          \n",
       "4          1                                           0.465022          \n",
       "\n",
       "    ROA(A) before interest and % after tax  \\\n",
       "0                                 0.424389   \n",
       "1                                 0.538214   \n",
       "2                                 0.499019   \n",
       "3                                 0.451265   \n",
       "4                                 0.538432   \n",
       "\n",
       "    ROA(B) before interest and depreciation after tax  \\\n",
       "0                                           0.405750    \n",
       "1                                           0.516730    \n",
       "2                                           0.472295    \n",
       "3                                           0.457733    \n",
       "4                                           0.522298    \n",
       "\n",
       "    Operating Gross Margin   Realized Sales Gross Margin  \\\n",
       "0                 0.601457                      0.601457   \n",
       "1                 0.610235                      0.610235   \n",
       "2                 0.601450                      0.601364   \n",
       "3                 0.583541                      0.583541   \n",
       "4                 0.598783                      0.598783   \n",
       "\n",
       "    Operating Profit Rate   Pre-tax net Interest Rate  \\\n",
       "0                0.998969                    0.796887   \n",
       "1                0.998946                    0.797380   \n",
       "2                0.998857                    0.796403   \n",
       "3                0.998700                    0.796967   \n",
       "4                0.998973                    0.797366   \n",
       "\n",
       "    After-tax net Interest Rate   Non-industry income and expenditure/revenue  \\\n",
       "0                      0.808809                                      0.302646   \n",
       "1                      0.809301                                      0.303556   \n",
       "2                      0.808388                                      0.302035   \n",
       "3                      0.808966                                      0.303350   \n",
       "4                      0.809304                                      0.303475   \n",
       "\n",
       "   ...   Net Income to Total Assets   Total assets to GNP price  \\\n",
       "0  ...                     0.716845                    0.009219   \n",
       "1  ...                     0.795297                    0.008323   \n",
       "2  ...                     0.774670                    0.040003   \n",
       "3  ...                     0.739555                    0.003252   \n",
       "4  ...                     0.795016                    0.003878   \n",
       "\n",
       "    No-credit Interval   Gross Profit to Sales  \\\n",
       "0             0.622879                0.601453   \n",
       "1             0.623652                0.610237   \n",
       "2             0.623841                0.601449   \n",
       "3             0.622929                0.583538   \n",
       "4             0.623521                0.598782   \n",
       "\n",
       "    Net Income to Stockholder's Equity   Liability to Equity  \\\n",
       "0                             0.827890              0.290202   \n",
       "1                             0.839969              0.283846   \n",
       "2                             0.836774              0.290189   \n",
       "3                             0.834697              0.281721   \n",
       "4                             0.839973              0.278514   \n",
       "\n",
       "    Degree of Financial Leverage (DFL)  \\\n",
       "0                             0.026601   \n",
       "1                             0.264577   \n",
       "2                             0.026555   \n",
       "3                             0.026697   \n",
       "4                             0.024752   \n",
       "\n",
       "    Interest Coverage Ratio (Interest expense to EBIT)   Net Income Flag  \\\n",
       "0                                           0.564050                   1   \n",
       "1                                           0.570175                   1   \n",
       "2                                           0.563706                   1   \n",
       "3                                           0.564663                   1   \n",
       "4                                           0.575617                   1   \n",
       "\n",
       "    Equity to Liability  \n",
       "0              0.016469  \n",
       "1              0.020794  \n",
       "2              0.016474  \n",
       "3              0.023982  \n",
       "4              0.035490  \n",
       "\n",
       "[5 rows x 96 columns]"
      ]
     },
     "execution_count": 3,
     "metadata": {},
     "output_type": "execute_result"
    }
   ],
   "source": [
    "bank_data.head()"
   ]
  },
  {
   "cell_type": "code",
   "execution_count": 4,
   "metadata": {},
   "outputs": [
    {
     "data": {
      "text/plain": [
       "(6819, 96)"
      ]
     },
     "execution_count": 4,
     "metadata": {},
     "output_type": "execute_result"
    }
   ],
   "source": [
    "bank_data.shape"
   ]
  },
  {
   "cell_type": "markdown",
   "metadata": {},
   "source": [
    "It seems that the dataset has been scaled, let's check this"
   ]
  },
  {
   "cell_type": "code",
   "execution_count": 5,
   "metadata": {},
   "outputs": [
    {
     "data": {
      "text/plain": [
       "96"
      ]
     },
     "execution_count": 5,
     "metadata": {},
     "output_type": "execute_result"
    }
   ],
   "source": [
    "(np.max(bank_data, axis=0) > 0.999).sum()"
   ]
  },
  {
   "cell_type": "code",
   "execution_count": 6,
   "metadata": {},
   "outputs": [
    {
     "data": {
      "text/plain": [
       "95"
      ]
     },
     "execution_count": 6,
     "metadata": {},
     "output_type": "execute_result"
    }
   ],
   "source": [
    "(np.min(bank_data, axis=0) < 0.001).sum()"
   ]
  },
  {
   "cell_type": "markdown",
   "metadata": {},
   "source": [
    "We can see that the dataset has been scaled"
   ]
  },
  {
   "cell_type": "markdown",
   "metadata": {},
   "source": [
    "# EDA"
   ]
  },
  {
   "cell_type": "code",
   "execution_count": 7,
   "metadata": {},
   "outputs": [
    {
     "name": "stdout",
     "output_type": "stream",
     "text": [
      "<class 'pandas.core.frame.DataFrame'>\n",
      "RangeIndex: 6819 entries, 0 to 6818\n",
      "Data columns (total 96 columns):\n",
      " #   Column                                                    Non-Null Count  Dtype  \n",
      "---  ------                                                    --------------  -----  \n",
      " 0   Bankrupt?                                                 6819 non-null   int64  \n",
      " 1    ROA(C) before interest and depreciation before interest  6819 non-null   float64\n",
      " 2    ROA(A) before interest and % after tax                   6819 non-null   float64\n",
      " 3    ROA(B) before interest and depreciation after tax        6819 non-null   float64\n",
      " 4    Operating Gross Margin                                   6819 non-null   float64\n",
      " 5    Realized Sales Gross Margin                              6819 non-null   float64\n",
      " 6    Operating Profit Rate                                    6819 non-null   float64\n",
      " 7    Pre-tax net Interest Rate                                6819 non-null   float64\n",
      " 8    After-tax net Interest Rate                              6819 non-null   float64\n",
      " 9    Non-industry income and expenditure/revenue              6819 non-null   float64\n",
      " 10   Continuous interest rate (after tax)                     6819 non-null   float64\n",
      " 11   Operating Expense Rate                                   6819 non-null   float64\n",
      " 12   Research and development expense rate                    6819 non-null   float64\n",
      " 13   Cash flow rate                                           6819 non-null   float64\n",
      " 14   Interest-bearing debt interest rate                      6819 non-null   float64\n",
      " 15   Tax rate (A)                                             6819 non-null   float64\n",
      " 16   Net Value Per Share (B)                                  6819 non-null   float64\n",
      " 17   Net Value Per Share (A)                                  6819 non-null   float64\n",
      " 18   Net Value Per Share (C)                                  6819 non-null   float64\n",
      " 19   Persistent EPS in the Last Four Seasons                  6819 non-null   float64\n",
      " 20   Cash Flow Per Share                                      6819 non-null   float64\n",
      " 21   Revenue Per Share (Yuan ¥)                               6819 non-null   float64\n",
      " 22   Operating Profit Per Share (Yuan ¥)                      6819 non-null   float64\n",
      " 23   Per Share Net profit before tax (Yuan ¥)                 6819 non-null   float64\n",
      " 24   Realized Sales Gross Profit Growth Rate                  6819 non-null   float64\n",
      " 25   Operating Profit Growth Rate                             6819 non-null   float64\n",
      " 26   After-tax Net Profit Growth Rate                         6819 non-null   float64\n",
      " 27   Regular Net Profit Growth Rate                           6819 non-null   float64\n",
      " 28   Continuous Net Profit Growth Rate                        6819 non-null   float64\n",
      " 29   Total Asset Growth Rate                                  6819 non-null   float64\n",
      " 30   Net Value Growth Rate                                    6819 non-null   float64\n",
      " 31   Total Asset Return Growth Rate Ratio                     6819 non-null   float64\n",
      " 32   Cash Reinvestment %                                      6819 non-null   float64\n",
      " 33   Current Ratio                                            6819 non-null   float64\n",
      " 34   Quick Ratio                                              6819 non-null   float64\n",
      " 35   Interest Expense Ratio                                   6819 non-null   float64\n",
      " 36   Total debt/Total net worth                               6819 non-null   float64\n",
      " 37   Debt ratio %                                             6819 non-null   float64\n",
      " 38   Net worth/Assets                                         6819 non-null   float64\n",
      " 39   Long-term fund suitability ratio (A)                     6819 non-null   float64\n",
      " 40   Borrowing dependency                                     6819 non-null   float64\n",
      " 41   Contingent liabilities/Net worth                         6819 non-null   float64\n",
      " 42   Operating profit/Paid-in capital                         6819 non-null   float64\n",
      " 43   Net profit before tax/Paid-in capital                    6819 non-null   float64\n",
      " 44   Inventory and accounts receivable/Net value              6819 non-null   float64\n",
      " 45   Total Asset Turnover                                     6819 non-null   float64\n",
      " 46   Accounts Receivable Turnover                             6819 non-null   float64\n",
      " 47   Average Collection Days                                  6819 non-null   float64\n",
      " 48   Inventory Turnover Rate (times)                          6819 non-null   float64\n",
      " 49   Fixed Assets Turnover Frequency                          6819 non-null   float64\n",
      " 50   Net Worth Turnover Rate (times)                          6819 non-null   float64\n",
      " 51   Revenue per person                                       6819 non-null   float64\n",
      " 52   Operating profit per person                              6819 non-null   float64\n",
      " 53   Allocation rate per person                               6819 non-null   float64\n",
      " 54   Working Capital to Total Assets                          6819 non-null   float64\n",
      " 55   Quick Assets/Total Assets                                6819 non-null   float64\n",
      " 56   Current Assets/Total Assets                              6819 non-null   float64\n",
      " 57   Cash/Total Assets                                        6819 non-null   float64\n",
      " 58   Quick Assets/Current Liability                           6819 non-null   float64\n",
      " 59   Cash/Current Liability                                   6819 non-null   float64\n",
      " 60   Current Liability to Assets                              6819 non-null   float64\n",
      " 61   Operating Funds to Liability                             6819 non-null   float64\n",
      " 62   Inventory/Working Capital                                6819 non-null   float64\n",
      " 63   Inventory/Current Liability                              6819 non-null   float64\n",
      " 64   Current Liabilities/Liability                            6819 non-null   float64\n",
      " 65   Working Capital/Equity                                   6819 non-null   float64\n",
      " 66   Current Liabilities/Equity                               6819 non-null   float64\n",
      " 67   Long-term Liability to Current Assets                    6819 non-null   float64\n",
      " 68   Retained Earnings to Total Assets                        6819 non-null   float64\n",
      " 69   Total income/Total expense                               6819 non-null   float64\n",
      " 70   Total expense/Assets                                     6819 non-null   float64\n",
      " 71   Current Asset Turnover Rate                              6819 non-null   float64\n",
      " 72   Quick Asset Turnover Rate                                6819 non-null   float64\n",
      " 73   Working capitcal Turnover Rate                           6819 non-null   float64\n",
      " 74   Cash Turnover Rate                                       6819 non-null   float64\n",
      " 75   Cash Flow to Sales                                       6819 non-null   float64\n",
      " 76   Fixed Assets to Assets                                   6819 non-null   float64\n",
      " 77   Current Liability to Liability                           6819 non-null   float64\n",
      " 78   Current Liability to Equity                              6819 non-null   float64\n",
      " 79   Equity to Long-term Liability                            6819 non-null   float64\n",
      " 80   Cash Flow to Total Assets                                6819 non-null   float64\n",
      " 81   Cash Flow to Liability                                   6819 non-null   float64\n",
      " 82   CFO to Assets                                            6819 non-null   float64\n",
      " 83   Cash Flow to Equity                                      6819 non-null   float64\n",
      " 84   Current Liability to Current Assets                      6819 non-null   float64\n",
      " 85   Liability-Assets Flag                                    6819 non-null   int64  \n",
      " 86   Net Income to Total Assets                               6819 non-null   float64\n",
      " 87   Total assets to GNP price                                6819 non-null   float64\n",
      " 88   No-credit Interval                                       6819 non-null   float64\n",
      " 89   Gross Profit to Sales                                    6819 non-null   float64\n",
      " 90   Net Income to Stockholder's Equity                       6819 non-null   float64\n",
      " 91   Liability to Equity                                      6819 non-null   float64\n",
      " 92   Degree of Financial Leverage (DFL)                       6819 non-null   float64\n",
      " 93   Interest Coverage Ratio (Interest expense to EBIT)       6819 non-null   float64\n",
      " 94   Net Income Flag                                          6819 non-null   int64  \n",
      " 95   Equity to Liability                                      6819 non-null   float64\n",
      "dtypes: float64(93), int64(3)\n",
      "memory usage: 5.0 MB\n"
     ]
    }
   ],
   "source": [
    "bank_data.info()"
   ]
  },
  {
   "cell_type": "markdown",
   "metadata": {},
   "source": [
    "Through data.info(), we observed that we have a majority of \"float64\" data. The categorical data is distinguished as binary 1 and 0, thus stored as \"int64\". So, we first analize three features which datatype are \"int64\""
   ]
  },
  {
   "cell_type": "code",
   "execution_count": 8,
   "metadata": {},
   "outputs": [
    {
     "data": {
      "text/plain": [
       "['Bankrupt?', ' Liability-Assets Flag', ' Net Income Flag']"
      ]
     },
     "execution_count": 8,
     "metadata": {},
     "output_type": "execute_result"
    }
   ],
   "source": [
    "strange_features = bank_data.dtypes[bank_data.dtypes == \"int64\"].index\n",
    "numeric_features = bank_data.dtypes[bank_data.dtypes == \"float64\"].index\n",
    "bank_data[strange_features].columns.tolist()"
   ]
  },
  {
   "cell_type": "code",
   "execution_count": 9,
   "metadata": {},
   "outputs": [
    {
     "name": "stdout",
     "output_type": "stream",
     "text": [
      " Liability-Assets Flag  Bankrupt?\n",
      "0                       0            6597\n",
      "                        1             214\n",
      "1                       1               6\n",
      "                        0               2\n",
      "dtype: int64\n"
     ]
    },
    {
     "data": {
      "text/plain": [
       "<AxesSubplot:xlabel=' Liability-Assets Flag', ylabel='count'>"
      ]
     },
     "execution_count": 9,
     "metadata": {},
     "output_type": "execute_result"
    },
    {
     "data": {
      "image/png": "[encoded data removed]",
      "text/plain": [
       "<Figure size 720x504 with 1 Axes>"
      ]
     },
     "metadata": {
      "needs_background": "light"
     },
     "output_type": "display_data"
    }
   ],
   "source": [
    "print(bank_data[[\" Liability-Assets Flag\", \"Bankrupt?\"]].value_counts())\n",
    "plt.figure(figsize=(10, 7))\n",
    "sns.countplot(x=\" Liability-Assets Flag\", hue=\"Bankrupt?\", data=bank_data)"
   ]
  },
  {
   "cell_type": "markdown",
   "metadata": {},
   "source": [
    "The \"Liability-Assets\" flag denotes the status of an organization, where if the total liability exceeds total assets, the flagged value will be 1, else the value is 0. A majority number of times, organizations/company's assets are more than their liabilities."
   ]
  },
  {
   "cell_type": "markdown",
   "metadata": {},
   "source": [
    "A small portion of organizations suffers bankruptcy, although possessing more assets than their liabilities."
   ]
  },
  {
   "cell_type": "code",
   "execution_count": 10,
   "metadata": {},
   "outputs": [
    {
     "name": "stdout",
     "output_type": "stream",
     "text": [
      " Net Income Flag  Bankrupt?\n",
      "1                 0            6599\n",
      "                  1             220\n",
      "dtype: int64\n"
     ]
    },
    {
     "data": {
      "text/plain": [
       "<AxesSubplot:xlabel=' Net Income Flag', ylabel='count'>"
      ]
     },
     "execution_count": 10,
     "metadata": {},
     "output_type": "execute_result"
    },
    {
     "data": {
      "image/png": "[encoded data removed]",
      "text/plain": [
       "<Figure size 720x504 with 1 Axes>"
      ]
     },
     "metadata": {
      "needs_background": "light"
     },
     "output_type": "display_data"
    }
   ],
   "source": [
    "print(bank_data[[\" Net Income Flag\", \"Bankrupt?\"]].value_counts())\n",
    "plt.figure(figsize=(10, 7))\n",
    "sns.countplot(x=\" Net Income Flag\", hue=\"Bankrupt?\", data=bank_data)"
   ]
  },
  {
   "cell_type": "markdown",
   "metadata": {},
   "source": [
    "The \"Net Income\" flag denotes the status of an organization's income in the last two years, where if the net income is negative for the past two years, the flagged value will be 1, else the value is 0. We observe that all the records have been exhibiting a loss for the past two years."
   ]
  },
  {
   "cell_type": "markdown",
   "metadata": {},
   "source": [
    "Many organizations that have suffered losses for the past two years have stabilized their business, thus avoiding bankruptcy."
   ]
  },
  {
   "cell_type": "code",
   "execution_count": 11,
   "metadata": {},
   "outputs": [
    {
     "name": "stdout",
     "output_type": "stream",
     "text": [
      " Liability-Assets Flag  Bankrupt?\n",
      "0                       0            6597\n",
      "                        1             214\n",
      "1                       1               6\n",
      "                        0               2\n",
      "dtype: int64\n"
     ]
    },
    {
     "data": {
      "text/plain": [
       "<AxesSubplot:xlabel=' Liability-Assets Flag', ylabel='count'>"
      ]
     },
     "execution_count": 11,
     "metadata": {},
     "output_type": "execute_result"
    },
    {
     "data": {
      "image/png": "[encoded data removed]",
      "text/plain": [
       "<Figure size 720x504 with 1 Axes>"
      ]
     },
     "metadata": {
      "needs_background": "light"
     },
     "output_type": "display_data"
    }
   ],
   "source": [
    "print(bank_data[[\" Liability-Assets Flag\", \"Bankrupt?\"]].value_counts())\n",
    "plt.figure(figsize=(10, 7))\n",
    "sns.countplot(x=\" Liability-Assets Flag\", hue=\"Bankrupt?\", data=bank_data)"
   ]
  },
  {
   "cell_type": "code",
   "execution_count": 12,
   "metadata": {},
   "outputs": [
    {
     "data": {
      "text/html": [
       "<div>\n",
       "<style scoped>\n",
       "    .dataframe tbody tr th:only-of-type {\n",
       "        vertical-align: middle;\n",
       "    }\n",
       "\n",
       "    .dataframe tbody tr th {\n",
       "        vertical-align: top;\n",
       "    }\n",
       "\n",
       "    .dataframe thead th {\n",
       "        text-align: right;\n",
       "    }\n",
       "</style>\n",
       "<table border=\"1\" class=\"dataframe\">\n",
       "  <thead>\n",
       "    <tr style=\"text-align: right;\">\n",
       "      <th></th>\n",
       "      <th>Bankrupt?</th>\n",
       "      <th>ROA(C) before interest and depreciation before interest</th>\n",
       "      <th>ROA(A) before interest and % after tax</th>\n",
       "      <th>ROA(B) before interest and depreciation after tax</th>\n",
       "      <th>Operating Gross Margin</th>\n",
       "      <th>Realized Sales Gross Margin</th>\n",
       "      <th>Operating Profit Rate</th>\n",
       "      <th>Pre-tax net Interest Rate</th>\n",
       "      <th>After-tax net Interest Rate</th>\n",
       "      <th>Non-industry income and expenditure/revenue</th>\n",
       "      <th>...</th>\n",
       "      <th>Net Income to Total Assets</th>\n",
       "      <th>Total assets to GNP price</th>\n",
       "      <th>No-credit Interval</th>\n",
       "      <th>Gross Profit to Sales</th>\n",
       "      <th>Net Income to Stockholder's Equity</th>\n",
       "      <th>Liability to Equity</th>\n",
       "      <th>Degree of Financial Leverage (DFL)</th>\n",
       "      <th>Interest Coverage Ratio (Interest expense to EBIT)</th>\n",
       "      <th>Net Income Flag</th>\n",
       "      <th>Equity to Liability</th>\n",
       "    </tr>\n",
       "  </thead>\n",
       "  <tbody>\n",
       "    <tr>\n",
       "      <th>count</th>\n",
       "      <td>6819.000000</td>\n",
       "      <td>6819.000000</td>\n",
       "      <td>6819.000000</td>\n",
       "      <td>6819.000000</td>\n",
       "      <td>6819.000000</td>\n",
       "      <td>6819.000000</td>\n",
       "      <td>6819.000000</td>\n",
       "      <td>6819.000000</td>\n",
       "      <td>6819.000000</td>\n",
       "      <td>6819.000000</td>\n",
       "      <td>...</td>\n",
       "      <td>6819.000000</td>\n",
       "      <td>6.819000e+03</td>\n",
       "      <td>6819.000000</td>\n",
       "      <td>6819.000000</td>\n",
       "      <td>6819.000000</td>\n",
       "      <td>6819.000000</td>\n",
       "      <td>6819.000000</td>\n",
       "      <td>6819.000000</td>\n",
       "      <td>6819.0</td>\n",
       "      <td>6819.000000</td>\n",
       "    </tr>\n",
       "    <tr>\n",
       "      <th>mean</th>\n",
       "      <td>0.032263</td>\n",
       "      <td>0.505180</td>\n",
       "      <td>0.558625</td>\n",
       "      <td>0.553589</td>\n",
       "      <td>0.607948</td>\n",
       "      <td>0.607929</td>\n",
       "      <td>0.998755</td>\n",
       "      <td>0.797190</td>\n",
       "      <td>0.809084</td>\n",
       "      <td>0.303623</td>\n",
       "      <td>...</td>\n",
       "      <td>0.807760</td>\n",
       "      <td>1.862942e+07</td>\n",
       "      <td>0.623915</td>\n",
       "      <td>0.607946</td>\n",
       "      <td>0.840402</td>\n",
       "      <td>0.280365</td>\n",
       "      <td>0.027541</td>\n",
       "      <td>0.565358</td>\n",
       "      <td>1.0</td>\n",
       "      <td>0.047578</td>\n",
       "    </tr>\n",
       "    <tr>\n",
       "      <th>std</th>\n",
       "      <td>0.176710</td>\n",
       "      <td>0.060686</td>\n",
       "      <td>0.065620</td>\n",
       "      <td>0.061595</td>\n",
       "      <td>0.016934</td>\n",
       "      <td>0.016916</td>\n",
       "      <td>0.013010</td>\n",
       "      <td>0.012869</td>\n",
       "      <td>0.013601</td>\n",
       "      <td>0.011163</td>\n",
       "      <td>...</td>\n",
       "      <td>0.040332</td>\n",
       "      <td>3.764501e+08</td>\n",
       "      <td>0.012290</td>\n",
       "      <td>0.016934</td>\n",
       "      <td>0.014523</td>\n",
       "      <td>0.014463</td>\n",
       "      <td>0.015668</td>\n",
       "      <td>0.013214</td>\n",
       "      <td>0.0</td>\n",
       "      <td>0.050014</td>\n",
       "    </tr>\n",
       "    <tr>\n",
       "      <th>min</th>\n",
       "      <td>0.000000</td>\n",
       "      <td>0.000000</td>\n",
       "      <td>0.000000</td>\n",
       "      <td>0.000000</td>\n",
       "      <td>0.000000</td>\n",
       "      <td>0.000000</td>\n",
       "      <td>0.000000</td>\n",
       "      <td>0.000000</td>\n",
       "      <td>0.000000</td>\n",
       "      <td>0.000000</td>\n",
       "      <td>...</td>\n",
       "      <td>0.000000</td>\n",
       "      <td>0.000000e+00</td>\n",
       "      <td>0.000000</td>\n",
       "      <td>0.000000</td>\n",
       "      <td>0.000000</td>\n",
       "      <td>0.000000</td>\n",
       "      <td>0.000000</td>\n",
       "      <td>0.000000</td>\n",
       "      <td>1.0</td>\n",
       "      <td>0.000000</td>\n",
       "    </tr>\n",
       "    <tr>\n",
       "      <th>25%</th>\n",
       "      <td>0.000000</td>\n",
       "      <td>0.476527</td>\n",
       "      <td>0.535543</td>\n",
       "      <td>0.527277</td>\n",
       "      <td>0.600445</td>\n",
       "      <td>0.600434</td>\n",
       "      <td>0.998969</td>\n",
       "      <td>0.797386</td>\n",
       "      <td>0.809312</td>\n",
       "      <td>0.303466</td>\n",
       "      <td>...</td>\n",
       "      <td>0.796750</td>\n",
       "      <td>9.036205e-04</td>\n",
       "      <td>0.623636</td>\n",
       "      <td>0.600443</td>\n",
       "      <td>0.840115</td>\n",
       "      <td>0.276944</td>\n",
       "      <td>0.026791</td>\n",
       "      <td>0.565158</td>\n",
       "      <td>1.0</td>\n",
       "      <td>0.024477</td>\n",
       "    </tr>\n",
       "    <tr>\n",
       "      <th>50%</th>\n",
       "      <td>0.000000</td>\n",
       "      <td>0.502706</td>\n",
       "      <td>0.559802</td>\n",
       "      <td>0.552278</td>\n",
       "      <td>0.605997</td>\n",
       "      <td>0.605976</td>\n",
       "      <td>0.999022</td>\n",
       "      <td>0.797464</td>\n",
       "      <td>0.809375</td>\n",
       "      <td>0.303525</td>\n",
       "      <td>...</td>\n",
       "      <td>0.810619</td>\n",
       "      <td>2.085213e-03</td>\n",
       "      <td>0.623879</td>\n",
       "      <td>0.605998</td>\n",
       "      <td>0.841179</td>\n",
       "      <td>0.278778</td>\n",
       "      <td>0.026808</td>\n",
       "      <td>0.565252</td>\n",
       "      <td>1.0</td>\n",
       "      <td>0.033798</td>\n",
       "    </tr>\n",
       "    <tr>\n",
       "      <th>75%</th>\n",
       "      <td>0.000000</td>\n",
       "      <td>0.535563</td>\n",
       "      <td>0.589157</td>\n",
       "      <td>0.584105</td>\n",
       "      <td>0.613914</td>\n",
       "      <td>0.613842</td>\n",
       "      <td>0.999095</td>\n",
       "      <td>0.797579</td>\n",
       "      <td>0.809469</td>\n",
       "      <td>0.303585</td>\n",
       "      <td>...</td>\n",
       "      <td>0.826455</td>\n",
       "      <td>5.269777e-03</td>\n",
       "      <td>0.624168</td>\n",
       "      <td>0.613913</td>\n",
       "      <td>0.842357</td>\n",
       "      <td>0.281449</td>\n",
       "      <td>0.026913</td>\n",
       "      <td>0.565725</td>\n",
       "      <td>1.0</td>\n",
       "      <td>0.052838</td>\n",
       "    </tr>\n",
       "    <tr>\n",
       "      <th>max</th>\n",
       "      <td>1.000000</td>\n",
       "      <td>1.000000</td>\n",
       "      <td>1.000000</td>\n",
       "      <td>1.000000</td>\n",
       "      <td>1.000000</td>\n",
       "      <td>1.000000</td>\n",
       "      <td>1.000000</td>\n",
       "      <td>1.000000</td>\n",
       "      <td>1.000000</td>\n",
       "      <td>1.000000</td>\n",
       "      <td>...</td>\n",
       "      <td>1.000000</td>\n",
       "      <td>9.820000e+09</td>\n",
       "      <td>1.000000</td>\n",
       "      <td>1.000000</td>\n",
       "      <td>1.000000</td>\n",
       "      <td>1.000000</td>\n",
       "      <td>1.000000</td>\n",
       "      <td>1.000000</td>\n",
       "      <td>1.0</td>\n",
       "      <td>1.000000</td>\n",
       "    </tr>\n",
       "  </tbody>\n",
       "</table>\n",
       "<p>8 rows × 96 columns</p>\n",
       "</div>"
      ],
      "text/plain": [
       "         Bankrupt?   ROA(C) before interest and depreciation before interest  \\\n",
       "count  6819.000000                                        6819.000000          \n",
       "mean      0.032263                                           0.505180          \n",
       "std       0.176710                                           0.060686          \n",
       "min       0.000000                                           0.000000          \n",
       "25%       0.000000                                           0.476527          \n",
       "50%       0.000000                                           0.502706          \n",
       "75%       0.000000                                           0.535563          \n",
       "max       1.000000                                           1.000000          \n",
       "\n",
       "        ROA(A) before interest and % after tax  \\\n",
       "count                              6819.000000   \n",
       "mean                                  0.558625   \n",
       "std                                   0.065620   \n",
       "min                                   0.000000   \n",
       "25%                                   0.535543   \n",
       "50%                                   0.559802   \n",
       "75%                                   0.589157   \n",
       "max                                   1.000000   \n",
       "\n",
       "        ROA(B) before interest and depreciation after tax  \\\n",
       "count                                        6819.000000    \n",
       "mean                                            0.553589    \n",
       "std                                             0.061595    \n",
       "min                                             0.000000    \n",
       "25%                                             0.527277    \n",
       "50%                                             0.552278    \n",
       "75%                                             0.584105    \n",
       "max                                             1.000000    \n",
       "\n",
       "        Operating Gross Margin   Realized Sales Gross Margin  \\\n",
       "count              6819.000000                   6819.000000   \n",
       "mean                  0.607948                      0.607929   \n",
       "std                   0.016934                      0.016916   \n",
       "min                   0.000000                      0.000000   \n",
       "25%                   0.600445                      0.600434   \n",
       "50%                   0.605997                      0.605976   \n",
       "75%                   0.613914                      0.613842   \n",
       "max                   1.000000                      1.000000   \n",
       "\n",
       "        Operating Profit Rate   Pre-tax net Interest Rate  \\\n",
       "count             6819.000000                 6819.000000   \n",
       "mean                 0.998755                    0.797190   \n",
       "std                  0.013010                    0.012869   \n",
       "min                  0.000000                    0.000000   \n",
       "25%                  0.998969                    0.797386   \n",
       "50%                  0.999022                    0.797464   \n",
       "75%                  0.999095                    0.797579   \n",
       "max                  1.000000                    1.000000   \n",
       "\n",
       "        After-tax net Interest Rate  \\\n",
       "count                   6819.000000   \n",
       "mean                       0.809084   \n",
       "std                        0.013601   \n",
       "min                        0.000000   \n",
       "25%                        0.809312   \n",
       "50%                        0.809375   \n",
       "75%                        0.809469   \n",
       "max                        1.000000   \n",
       "\n",
       "        Non-industry income and expenditure/revenue  ...  \\\n",
       "count                                   6819.000000  ...   \n",
       "mean                                       0.303623  ...   \n",
       "std                                        0.011163  ...   \n",
       "min                                        0.000000  ...   \n",
       "25%                                        0.303466  ...   \n",
       "50%                                        0.303525  ...   \n",
       "75%                                        0.303585  ...   \n",
       "max                                        1.000000  ...   \n",
       "\n",
       "        Net Income to Total Assets   Total assets to GNP price  \\\n",
       "count                  6819.000000                6.819000e+03   \n",
       "mean                      0.807760                1.862942e+07   \n",
       "std                       0.040332                3.764501e+08   \n",
       "min                       0.000000                0.000000e+00   \n",
       "25%                       0.796750                9.036205e-04   \n",
       "50%                       0.810619                2.085213e-03   \n",
       "75%                       0.826455                5.269777e-03   \n",
       "max                       1.000000                9.820000e+09   \n",
       "\n",
       "        No-credit Interval   Gross Profit to Sales  \\\n",
       "count          6819.000000             6819.000000   \n",
       "mean              0.623915                0.607946   \n",
       "std               0.012290                0.016934   \n",
       "min               0.000000                0.000000   \n",
       "25%               0.623636                0.600443   \n",
       "50%               0.623879                0.605998   \n",
       "75%               0.624168                0.613913   \n",
       "max               1.000000                1.000000   \n",
       "\n",
       "        Net Income to Stockholder's Equity   Liability to Equity  \\\n",
       "count                          6819.000000           6819.000000   \n",
       "mean                              0.840402              0.280365   \n",
       "std                               0.014523              0.014463   \n",
       "min                               0.000000              0.000000   \n",
       "25%                               0.840115              0.276944   \n",
       "50%                               0.841179              0.278778   \n",
       "75%                               0.842357              0.281449   \n",
       "max                               1.000000              1.000000   \n",
       "\n",
       "        Degree of Financial Leverage (DFL)  \\\n",
       "count                          6819.000000   \n",
       "mean                              0.027541   \n",
       "std                               0.015668   \n",
       "min                               0.000000   \n",
       "25%                               0.026791   \n",
       "50%                               0.026808   \n",
       "75%                               0.026913   \n",
       "max                               1.000000   \n",
       "\n",
       "        Interest Coverage Ratio (Interest expense to EBIT)   Net Income Flag  \\\n",
       "count                                        6819.000000              6819.0   \n",
       "mean                                            0.565358                 1.0   \n",
       "std                                             0.013214                 0.0   \n",
       "min                                             0.000000                 1.0   \n",
       "25%                                             0.565158                 1.0   \n",
       "50%                                             0.565252                 1.0   \n",
       "75%                                             0.565725                 1.0   \n",
       "max                                             1.000000                 1.0   \n",
       "\n",
       "        Equity to Liability  \n",
       "count           6819.000000  \n",
       "mean               0.047578  \n",
       "std                0.050014  \n",
       "min                0.000000  \n",
       "25%                0.024477  \n",
       "50%                0.033798  \n",
       "75%                0.052838  \n",
       "max                1.000000  \n",
       "\n",
       "[8 rows x 96 columns]"
      ]
     },
     "execution_count": 12,
     "metadata": {},
     "output_type": "execute_result"
    }
   ],
   "source": [
    "bank_data.describe()"
   ]
  },
  {
   "cell_type": "markdown",
   "metadata": {},
   "source": [
    "### Checking NAN"
   ]
  },
  {
   "cell_type": "code",
   "execution_count": 13,
   "metadata": {},
   "outputs": [
    {
     "data": {
      "text/plain": [
       "[]"
      ]
     },
     "execution_count": 13,
     "metadata": {},
     "output_type": "execute_result"
    }
   ],
   "source": [
    "[col for col in bank_data if bank_data[col].isnull().sum() > 0]"
   ]
  },
  {
   "cell_type": "markdown",
   "metadata": {},
   "source": [
    "There's no missing data"
   ]
  },
  {
   "cell_type": "markdown",
   "metadata": {},
   "source": [
    "### Checking duplicates"
   ]
  },
  {
   "cell_type": "code",
   "execution_count": 14,
   "metadata": {},
   "outputs": [
    {
     "data": {
      "text/plain": [
       "0"
      ]
     },
     "execution_count": 14,
     "metadata": {},
     "output_type": "execute_result"
    }
   ],
   "source": [
    "bank_data.duplicated().sum()"
   ]
  },
  {
   "cell_type": "markdown",
   "metadata": {},
   "source": [
    "There's no duplicated rows"
   ]
  },
  {
   "cell_type": "markdown",
   "metadata": {},
   "source": [
    "### Checking objective column"
   ]
  },
  {
   "cell_type": "code",
   "execution_count": 15,
   "metadata": {},
   "outputs": [
    {
     "data": {
      "text/plain": [
       "0    6599\n",
       "1     220\n",
       "Name: Bankrupt?, dtype: int64"
      ]
     },
     "execution_count": 15,
     "metadata": {},
     "output_type": "execute_result"
    }
   ],
   "source": [
    "bank_data['Bankrupt?'].value_counts()"
   ]
  },
  {
   "cell_type": "code",
   "execution_count": 16,
   "metadata": {},
   "outputs": [
    {
     "name": "stdout",
     "output_type": "stream",
     "text": [
      "Financially stable: 96.77 %\n",
      "Financially unstable: 3.23 %\n"
     ]
    }
   ],
   "source": [
    "print(f\"Financially stable: {round(bank_data['Bankrupt?'].value_counts()[0]/len(bank_data) * 100,2)} %\")\n",
    "print(f\"Financially unstable: {round(bank_data['Bankrupt?'].value_counts()[1]/len(bank_data) * 100,2)} %\")"
   ]
  },
  {
   "cell_type": "code",
   "execution_count": 17,
   "metadata": {},
   "outputs": [
    {
     "name": "stderr",
     "output_type": "stream",
     "text": [
      "/home/dungnasa/anaconda3/envs/LearnML/lib/python3.8/site-packages/seaborn/_decorators.py:36: FutureWarning: Pass the following variable as a keyword arg: x. From version 0.12, the only valid positional argument will be `data`, and passing other arguments without an explicit keyword will result in an error or misinterpretation.\n",
      "  warnings.warn(\n"
     ]
    },
    {
     "data": {
      "text/plain": [
       "Text(0.5, 1.0, 'Class Distributions \\n (0: Financially Stable || 1: Financially Unstable)')"
      ]
     },
     "execution_count": 17,
     "metadata": {},
     "output_type": "execute_result"
    },
    {
     "data": {
      "image/png": "[encoded data removed]",
      "text/plain": [
       "<Figure size 720x504 with 1 Axes>"
      ]
     },
     "metadata": {
      "needs_background": "light"
     },
     "output_type": "display_data"
    }
   ],
   "source": [
    "plt.figure(figsize=(10, 7))\n",
    "sns.countplot(bank_data['Bankrupt?'])\n",
    "plt.title('Class Distributions \\n (0: Financially Stable || 1: Financially Unstable)', fontsize=14)"
   ]
  },
  {
   "cell_type": "markdown",
   "metadata": {},
   "source": [
    "We see that the dataset is highly imbalanced"
   ]
  },
  {
   "cell_type": "markdown",
   "metadata": {},
   "source": [
    "### Seeing correlations between features and target column"
   ]
  },
  {
   "cell_type": "markdown",
   "metadata": {},
   "source": [
    "We analyze the ten top positively and negatively correlated attributes."
   ]
  },
  {
   "cell_type": "code",
   "execution_count": 18,
   "metadata": {},
   "outputs": [],
   "source": [
    "positive_corr = bank_data[numeric_features].corrwith(bank_data[\"Bankrupt?\"]).sort_values(ascending=False)[:10].index.tolist()\n",
    "negative_corr = bank_data[numeric_features].corrwith(bank_data[\"Bankrupt?\"]).sort_values()[:10].index.tolist()\n",
    "positive_corr_df = bank_data[positive_corr + [\"Bankrupt?\"]]\n",
    "negative_corr_df = bank_data[negative_corr + [\"Bankrupt?\"]]"
   ]
  },
  {
   "cell_type": "code",
   "execution_count": 19,
   "metadata": {},
   "outputs": [],
   "source": [
    "def corr_barplot(x_value, y_value):\n",
    "    plt.figure(figsize=(10, 14))\n",
    "    for i in range(1, 11):\n",
    "        plt.subplot(5, 2, i)\n",
    "        sns.barplot(x=x_value, y=y_value[i - 1], data=bank_data)"
   ]
  },
  {
   "cell_type": "code",
   "execution_count": 20,
   "metadata": {},
   "outputs": [
    {
     "data": {
      "image/png": "[encoded data removed]",
      "text/plain": [
       "<Figure size 720x1008 with 10 Axes>"
      ]
     },
     "metadata": {
      "needs_background": "light"
     },
     "output_type": "display_data"
    }
   ],
   "source": [
    "x_value = positive_corr_df.columns.tolist()[-1]\n",
    "y_value = positive_corr_df.columns.tolist()[:-1]\n",
    "corr_barplot(x_value, y_value)"
   ]
  },
  {
   "cell_type": "markdown",
   "metadata": {},
   "source": [
    "We see that three attributes - \"Debt Ratio %, Current Liability To Assets, Current Liability To Current Assets\" are commonly high in bankrupt organizations"
   ]
  },
  {
   "cell_type": "code",
   "execution_count": 21,
   "metadata": {},
   "outputs": [
    {
     "data": {
      "image/png": "[encoded data removed]",
      "text/plain": [
       "<Figure size 720x1008 with 10 Axes>"
      ]
     },
     "metadata": {
      "needs_background": "light"
     },
     "output_type": "display_data"
    }
   ],
   "source": [
    "x_value = negative_corr_df.columns.tolist()[-1]\n",
    "y_value = negative_corr_df.columns.tolist()[:-1]\n",
    "\n",
    "corr_barplot(x_value, y_value)"
   ]
  },
  {
   "cell_type": "markdown",
   "metadata": {},
   "source": [
    "These attributes show us that the more the assets and earing of a company, the less likely is the organization to be bankrupt.\n",
    "Let us check the relation of top six positive and negative correlation attributes among eachother"
   ]
  },
  {
   "cell_type": "code",
   "execution_count": 22,
   "metadata": {},
   "outputs": [
    {
     "data": {
      "text/plain": [
       "<AxesSubplot:>"
      ]
     },
     "execution_count": 22,
     "metadata": {},
     "output_type": "execute_result"
    },
    {
     "data": {
      "image/png": "[encoded data removed]",
      "text/plain": [
       "<Figure size 1008x720 with 2 Axes>"
      ]
     },
     "metadata": {
      "needs_background": "light"
     },
     "output_type": "display_data"
    }
   ],
   "source": [
    "relation = positive_corr + negative_corr\n",
    "plt.figure(figsize=(14, 10))\n",
    "mask = np.zeros_like(bank_data[relation].corr())\n",
    "mask[np.triu_indices_from(mask)] = True\n",
    "sns.heatmap(bank_data[relation].corr(), mask=mask, annot=True, cmap='viridis')"
   ]
  },
  {
   "cell_type": "markdown",
   "metadata": {},
   "source": [
    "# Data processing"
   ]
  },
  {
   "cell_type": "markdown",
   "metadata": {},
   "source": [
    "## Outliers removal"
   ]
  },
  {
   "cell_type": "code",
   "execution_count": 23,
   "metadata": {},
   "outputs": [
    {
     "name": "stdout",
     "output_type": "stream",
     "text": [
      "Quartile 25: 0.0 | Quartile 75: 0.0\n",
      "iqr: 0.0\n",
      "Cut Off: 0.0\n",
      "Bankrupt? Lower: 0.0\n",
      "Bankrupt? Upper: 0.0\n",
      "Bankrupt? outliers for close to bankruptcy cases: 220\n",
      "-----------------------------------------------------------------\n",
      "Quartile 25: 0.47862331204602 | Quartile 75: 0.537074050602057\n",
      "iqr: 0.05845073855603705\n",
      "Cut Off: 0.08767610783405558\n",
      " ROA(C) before interest and depreciation before interest Lower: 0.3909472042119644\n",
      " ROA(C) before interest and depreciation before interest Upper: 0.6247501584361126\n",
      " ROA(C) before interest and depreciation before interest outliers for close to bankruptcy cases: 345\n",
      "-----------------------------------------------------------------\n",
      "Quartile 25: 0.5386093545573485 | Quartile 75: 0.587549062363716\n",
      "iqr: 0.04893970780636747\n",
      "Cut Off: 0.07340956170955121\n",
      " ROA(A) before interest and % after tax Lower: 0.4651997928477973\n",
      " ROA(A) before interest and % after tax Upper: 0.6609586240732672\n",
      " ROA(A) before interest and % after tax outliers for close to bankruptcy cases: 272\n",
      "-----------------------------------------------------------------\n",
      "Quartile 25: 0.532309010118315 | Quartile 75: 0.5812275817763265\n",
      "iqr: 0.0489185716580115\n",
      "Cut Off: 0.07337785748701725\n",
      " ROA(B) before interest and depreciation after tax Lower: 0.45893115263129775\n",
      " ROA(B) before interest and depreciation after tax Upper: 0.6546054392633438\n",
      " ROA(B) before interest and depreciation after tax outliers for close to bankruptcy cases: 41\n",
      "-----------------------------------------------------------------\n",
      "Quartile 25: 0.600801395234869 | Quartile 75: 0.613261938050419\n",
      "iqr: 0.01246054281554998\n",
      "Cut Off: 0.01869081422332497\n",
      " Operating Gross Margin Lower: 0.582110581011544\n",
      " Operating Gross Margin Upper: 0.6319527522737439\n",
      " Operating Gross Margin outliers for close to bankruptcy cases: 242\n",
      "-----------------------------------------------------------------\n",
      "Quartile 25: 0.600678879776301 | Quartile 75: 0.612216953256749\n",
      "iqr: 0.011538073480447997\n",
      "Cut Off: 0.017307110220671995\n",
      " Realized Sales Gross Margin Lower: 0.583371769555629\n",
      " Realized Sales Gross Margin Upper: 0.629524063477421\n",
      " Realized Sales Gross Margin outliers for close to bankruptcy cases: 58\n",
      "-----------------------------------------------------------------\n",
      "Quartile 25: 0.998977638145374 | Quartile 75: 0.999083826045962\n",
      "iqr: 0.0001061879005880284\n",
      "Cut Off: 0.0001592818508820426\n",
      " Operating Profit Rate Lower: 0.9988183562944919\n",
      " Operating Profit Rate Upper: 0.999243107896844\n",
      " Operating Profit Rate outliers for close to bankruptcy cases: 335\n",
      "-----------------------------------------------------------------\n",
      "Quartile 25: 0.7974020836564162 | Quartile 75: 0.797552840178166\n",
      "iqr: 0.00015075652174978416\n",
      "Cut Off: 0.00022613478262467623\n",
      " Pre-tax net Interest Rate Lower: 0.7971759488737915\n",
      " Pre-tax net Interest Rate Upper: 0.7977789749607906\n",
      " Pre-tax net Interest Rate outliers for close to bankruptcy cases: 241\n",
      "-----------------------------------------------------------------\n",
      "Quartile 25: 0.809328067111004 | Quartile 75: 0.809444072948012\n",
      "iqr: 0.00011600583700799305\n",
      "Cut Off: 0.00017400875551198958\n",
      " After-tax net Interest Rate Lower: 0.809154058355492\n",
      " After-tax net Interest Rate Upper: 0.809618081703524\n",
      " After-tax net Interest Rate outliers for close to bankruptcy cases: 115\n",
      "-----------------------------------------------------------------\n",
      "Quartile 25: 0.30348808992359677 | Quartile 75: 0.303580358482991\n",
      "iqr: 9.226855939420409e-05\n",
      "Cut Off: 0.00013840283909130613\n",
      " Non-industry income and expenditure/revenue Lower: 0.3033496870845055\n",
      " Non-industry income and expenditure/revenue Upper: 0.3037187613220823\n",
      " Non-industry income and expenditure/revenue outliers for close to bankruptcy cases: 517\n",
      "-----------------------------------------------------------------\n",
      "Quartile 25: 0.781587518396538 | Quartile 75: 0.781697273059778\n",
      "iqr: 0.00010975466324003591\n",
      "Cut Off: 0.00016463199486005387\n",
      " Continuous interest rate (after tax) Lower: 0.7814228864016779\n",
      " Continuous interest rate (after tax) Upper: 0.781861905054638\n",
      " Continuous interest rate (after tax) outliers for close to bankruptcy cases: 82\n",
      "-----------------------------------------------------------------\n",
      "Quartile 25: 0.00015073216980655 | Quartile 75: 5255000000.0\n",
      "iqr: 5254999999.999849\n",
      "Cut Off: 7882499999.999774\n",
      " Operating Expense Rate Lower: -7882499999.999623\n",
      " Operating Expense Rate Upper: 13137499999.999775\n",
      " Operating Expense Rate outliers for close to bankruptcy cases: 0\n",
      "-----------------------------------------------------------------\n",
      "Quartile 25: 0.0001349793685308 | Quartile 75: 3580000000.0\n",
      "iqr: 3579999999.999865\n",
      "Cut Off: 5369999999.999798\n",
      " Research and development expense rate Lower: -5369999999.999662\n",
      " Research and development expense rate Upper: 8949999999.999798\n",
      " Research and development expense rate outliers for close to bankruptcy cases: 81\n",
      "-----------------------------------------------------------------\n",
      "Quartile 25: 0.46191422795937 | Quartile 75: 0.46992442733365225\n",
      "iqr: 0.008010199374282267\n",
      "Cut Off: 0.012015299061423401\n",
      " Cash flow rate Lower: 0.4498989288979466\n",
      " Cash flow rate Upper: 0.48193972639507565\n",
      " Cash flow rate outliers for close to bankruptcy cases: 253\n",
      "-----------------------------------------------------------------\n",
      "Quartile 25: 0.0002200220022002 | Quartile 75: 0.0005390539053905\n",
      "iqr: 0.0003190319031903\n",
      "Cut Off: 0.00047854785478545\n",
      " Interest-bearing debt interest rate Lower: -0.00025852585258525\n",
      " Interest-bearing debt interest rate Upper: 0.00101760176017595\n",
      " Interest-bearing debt interest rate outliers for close to bankruptcy cases: 205\n",
      "-----------------------------------------------------------------\n",
      "Quartile 25: 0.0 | Quartile 75: 0.230387691061848\n",
      "iqr: 0.230387691061848\n",
      "Cut Off: 0.345581536592772\n",
      " Tax rate (A) Lower: -0.345581536592772\n",
      " Tax rate (A) Upper: 0.57596922765462\n",
      " Tax rate (A) outliers for close to bankruptcy cases: 69\n",
      "-----------------------------------------------------------------\n",
      "Quartile 25: 0.176225190678859 | Quartile 75: 0.197421094770553\n",
      "iqr: 0.021195904091694\n",
      "Cut Off: 0.031793856137541\n",
      " Net Value Per Share (B) Lower: 0.144431334541318\n",
      " Net Value Per Share (B) Upper: 0.22921495090809402\n",
      " Net Value Per Share (B) outliers for close to bankruptcy cases: 230\n",
      "-----------------------------------------------------------------\n",
      "Quartile 25: 0.175635245038136 | Quartile 75: 0.194302810669588\n",
      "iqr: 0.018667565631452\n",
      "Cut Off: 0.028001348447178\n",
      " Net Value Per Share (A) Lower: 0.147633896590958\n",
      " Net Value Per Share (A) Upper: 0.222304159116766\n",
      " Net Value Per Share (A) outliers for close to bankruptcy cases: 97\n",
      "-----------------------------------------------------------------\n",
      "Quartile 25: 0.175508828115124 | Quartile 75: 0.193375753234166\n",
      "iqr: 0.017866925119042004\n",
      "Cut Off: 0.026800387678563006\n",
      " Net Value Per Share (C) Lower: 0.148708440436561\n",
      " Net Value Per Share (C) Upper: 0.22017614091272902\n",
      " Net Value Per Share (C) outliers for close to bankruptcy cases: 28\n",
      "-----------------------------------------------------------------\n",
      "Quartile 25: 0.217452963978444 | Quartile 75: 0.233336484825565\n",
      "iqr: 0.015883520847120997\n",
      "Cut Off: 0.023825281270681495\n",
      " Persistent EPS in the Last Four Seasons Lower: 0.19362768270776248\n",
      " Persistent EPS in the Last Four Seasons Upper: 0.25716176609624647\n",
      " Persistent EPS in the Last Four Seasons outliers for close to bankruptcy cases: 120\n",
      "-----------------------------------------------------------------\n",
      "Quartile 25: 0.3181633302680913 | Quartile 75: 0.3270584282379567\n",
      "iqr: 0.008895097969865429\n",
      "Cut Off: 0.013342646954798143\n",
      " Cash Flow Per Share Lower: 0.30482068331329315\n",
      " Cash Flow Per Share Upper: 0.34040107519275487\n",
      " Cash Flow Per Share outliers for close to bankruptcy cases: 214\n",
      "-----------------------------------------------------------------\n",
      "Quartile 25: 0.0204637233994283 | Quartile 75: 0.046795831631804195\n",
      "iqr: 0.026332108232375896\n",
      "Cut Off: 0.03949816234856385\n",
      " Revenue Per Share (Yuan ¥) Lower: -0.01903443894913555\n",
      " Revenue Per Share (Yuan ¥) Upper: 0.08629399398036805\n",
      " Revenue Per Share (Yuan ¥) outliers for close to bankruptcy cases: 182\n",
      "-----------------------------------------------------------------\n",
      "Quartile 25: 0.0978747658985425 | Quartile 75: 0.111228727302337\n",
      "iqr: 0.013353961403794495\n",
      "Cut Off: 0.020030942105691743\n",
      " Operating Profit Per Share (Yuan ¥) Lower: 0.07784382379285076\n",
      " Operating Profit Per Share (Yuan ¥) Upper: 0.13125966940802875\n",
      " Operating Profit Per Share (Yuan ¥) outliers for close to bankruptcy cases: 63\n",
      "-----------------------------------------------------------------\n",
      "Quartile 25: 0.172177449725089 | Quartile 75: 0.185508774572569\n",
      "iqr: 0.013331324847480008\n",
      "Cut Off: 0.019996987271220013\n",
      " Per Share Net profit before tax (Yuan ¥) Lower: 0.152180462453869\n",
      " Per Share Net profit before tax (Yuan ¥) Upper: 0.20550576184378902\n",
      " Per Share Net profit before tax (Yuan ¥) outliers for close to bankruptcy cases: 42\n",
      "-----------------------------------------------------------------\n",
      "Quartile 25: 0.0220688311693853 | Quartile 75: 0.02214211788673\n",
      "iqr: 7.32867173446998e-05\n",
      "Cut Off: 0.0001099300760170497\n",
      " Realized Sales Gross Profit Growth Rate Lower: 0.021958901093368254\n",
      " Realized Sales Gross Profit Growth Rate Upper: 0.022252047962747053\n",
      " Realized Sales Gross Profit Growth Rate outliers for close to bankruptcy cases: 261\n",
      "-----------------------------------------------------------------\n",
      "Quartile 25: 0.8479846728513015 | Quartile 75: 0.8481006476945303\n",
      "iqr: 0.00011597484322878326\n",
      "Cut Off: 0.0001739622648431749\n",
      " Operating Profit Growth Rate Lower: 0.8478107105864583\n",
      " Operating Profit Growth Rate Upper: 0.8482746099593734\n",
      " Operating Profit Growth Rate outliers for close to bankruptcy cases: 271\n",
      "-----------------------------------------------------------------\n",
      "Quartile 25: 0.689277810824966 | Quartile 75: 0.6895650934204395\n",
      "iqr: 0.00028728259547350365\n",
      "Cut Off: 0.0004309238932102555\n",
      " After-tax Net Profit Growth Rate Lower: 0.6888468869317557\n",
      " After-tax Net Profit Growth Rate Upper: 0.6899960173136497\n",
      " After-tax Net Profit Growth Rate outliers for close to bankruptcy cases: 200\n",
      "-----------------------------------------------------------------\n",
      "Quartile 25: 0.689283985532487 | Quartile 75: 0.6895290550573855\n",
      "iqr: 0.0002450695248984447\n",
      "Cut Off: 0.00036760428734766704\n",
      " Regular Net Profit Growth Rate Lower: 0.6889163812451393\n",
      " Regular Net Profit Growth Rate Upper: 0.6898966593447331\n",
      " Regular Net Profit Growth Rate outliers for close to bankruptcy cases: 72\n",
      "-----------------------------------------------------------------\n",
      "Quartile 25: 0.21758081135323948 | Quartile 75: 0.2176072272298755\n",
      "iqr: 2.6415876636015634e-05\n",
      "Cut Off: 3.962381495402345e-05\n",
      " Continuous Net Profit Growth Rate Lower: 0.21754118753828544\n",
      " Continuous Net Profit Growth Rate Upper: 0.2176468510448295\n",
      " Continuous Net Profit Growth Rate outliers for close to bankruptcy cases: 63\n",
      "-----------------------------------------------------------------\n",
      "Quartile 25: 5897500000.0 | Quartile 75: 7390000000.0\n",
      "iqr: 1492500000.0\n",
      "Cut Off: 2238750000.0\n",
      " Total Asset Growth Rate Lower: 3658750000.0\n",
      " Total Asset Growth Rate Upper: 9628750000.0\n",
      " Total Asset Growth Rate outliers for close to bankruptcy cases: 275\n",
      "-----------------------------------------------------------------\n",
      "Quartile 25: 0.000445660310669 | Quartile 75: 0.0004769031971105\n",
      "iqr: 3.124288644150002e-05\n",
      "Cut Off: 4.686432966225003e-05\n",
      " Net Value Growth Rate Lower: 0.00039879598100675\n",
      " Net Value Growth Rate Upper: 0.0005237675267727501\n",
      " Net Value Growth Rate outliers for close to bankruptcy cases: 99\n",
      "-----------------------------------------------------------------\n",
      "Quartile 25: 0.263790202889091 | Quartile 75: 0.264106270057735\n",
      "iqr: 0.0003160671686440186\n",
      "Cut Off: 0.00047410075296602794\n",
      " Total Asset Return Growth Rate Ratio Lower: 0.263316102136125\n",
      " Total Asset Return Growth Rate Ratio Upper: 0.26458037081070107\n",
      " Total Asset Return Growth Rate Ratio outliers for close to bankruptcy cases: 95\n",
      "-----------------------------------------------------------------\n",
      "Quartile 25: 0.3765554562050595 | Quartile 75: 0.3853898886032565\n",
      "iqr: 0.008834432398197034\n",
      "Cut Off: 0.013251648597295551\n",
      " Cash Reinvestment % Lower: 0.36330380760776393\n",
      " Cash Reinvestment % Upper: 0.39864153720055207\n",
      " Cash Reinvestment % outliers for close to bankruptcy cases: 49\n",
      "-----------------------------------------------------------------\n",
      "Quartile 25: 0.007776262788571625 | Quartile 75: 0.01438685058704965\n",
      "iqr: 0.006610587798478025\n",
      "Cut Off: 0.009915881697717038\n",
      " Current Ratio Lower: -0.0021396189091454137\n",
      " Current Ratio Upper: 0.02430273228476669\n",
      " Current Ratio outliers for close to bankruptcy cases: 77\n",
      "-----------------------------------------------------------------\n",
      "Quartile 25: 0.0046825463170332 | Quartile 75: 0.0096289771387433\n",
      "iqr: 0.0049464308217101\n",
      "Cut Off: 0.00741964623256515\n",
      " Quick Ratio Lower: -0.0027370999155319495\n",
      " Quick Ratio Upper: 0.017048623371308448\n",
      " Quick Ratio outliers for close to bankruptcy cases: 34\n",
      "-----------------------------------------------------------------\n",
      "Quartile 25: 0.630721668196326 | Quartile 75: 0.631707099902741\n",
      "iqr: 0.0009854317064149631\n",
      "Cut Off: 0.0014781475596224447\n",
      " Interest Expense Ratio Lower: 0.6292435206367035\n",
      " Interest Expense Ratio Upper: 0.6331852474623634\n",
      " Interest Expense Ratio outliers for close to bankruptcy cases: 162\n",
      "-----------------------------------------------------------------\n",
      "Quartile 25: 0.0039248944455083 | Quartile 75: 0.008252856582679\n",
      "iqr: 0.0043279621371707\n",
      "Cut Off: 0.006491943205756049\n",
      " Total debt/Total net worth Lower: -0.002567048760247749\n",
      " Total debt/Total net worth Upper: 0.01474479978843505\n",
      " Total debt/Total net worth outliers for close to bankruptcy cases: 36\n",
      "-----------------------------------------------------------------\n",
      "Quartile 25: 0.0875835172476343 | Quartile 75: 0.138585724219246\n",
      "iqr: 0.0510022069716117\n",
      "Cut Off: 0.07650331045741755\n",
      " Debt ratio % Lower: 0.011080206790216748\n",
      " Debt ratio % Upper: 0.21508903467666357\n",
      " Debt ratio % outliers for close to bankruptcy cases: 0\n",
      "-----------------------------------------------------------------\n",
      "Quartile 25: 0.861414275780754 | Quartile 75: 0.912416482752366\n",
      "iqr: 0.05100220697161195\n",
      "Cut Off: 0.07650331045741793\n",
      " Net worth/Assets Lower: 0.7849109653233362\n",
      " Net worth/Assets Upper: 0.988919793209784\n",
      " Net worth/Assets outliers for close to bankruptcy cases: 0\n",
      "-----------------------------------------------------------------\n",
      "Quartile 25: 0.0052228411578481 | Quartile 75: 0.006098088490859\n",
      "iqr: 0.0008752473330109001\n",
      "Cut Off: 0.0013128709995163502\n",
      " Long-term fund suitability ratio (A) Lower: 0.003909970158331749\n",
      " Long-term fund suitability ratio (A) Upper: 0.00741095949037535\n",
      " Long-term fund suitability ratio (A) outliers for close to bankruptcy cases: 112\n",
      "-----------------------------------------------------------------\n",
      "Quartile 25: 0.371134666270021 | Quartile 75: 0.375614818724935\n",
      "iqr: 0.00448015245491401\n",
      "Cut Off: 0.0067202286823710156\n",
      " Borrowing dependency Lower: 0.36441443758765\n",
      " Borrowing dependency Upper: 0.38233504740730606\n",
      " Borrowing dependency outliers for close to bankruptcy cases: 8\n",
      "-----------------------------------------------------------------\n",
      "Quartile 25: 0.0053658477137564 | Quartile 75: 0.0059276591595983\n",
      "iqr: 0.0005618114458418996\n",
      "Cut Off: 0.0008427171687628494\n",
      " Contingent liabilities/Net worth Lower: 0.0045231305449935505\n",
      " Contingent liabilities/Net worth Upper: 0.006770376328361149\n",
      " Contingent liabilities/Net worth outliers for close to bankruptcy cases: 91\n",
      "-----------------------------------------------------------------\n",
      "Quartile 25: 0.10140944843421751 | Quartile 75: 0.11321795560766651\n",
      "iqr: 0.011808507173449001\n",
      "Cut Off: 0.0177127607601735\n",
      " Operating profit/Paid-in capital Lower: 0.083696687674044\n",
      " Operating profit/Paid-in capital Upper: 0.13093071636784\n",
      " Operating profit/Paid-in capital outliers for close to bankruptcy cases: 1\n",
      "-----------------------------------------------------------------\n",
      "Quartile 25: 0.175326144333007 | Quartile 75: 0.1861398084609\n",
      "iqr: 0.010813664127893002\n",
      "Cut Off: 0.016220496191839504\n",
      " Net profit before tax/Paid-in capital Lower: 0.1591056481411675\n",
      " Net profit before tax/Paid-in capital Upper: 0.20236030465273952\n",
      " Net profit before tax/Paid-in capital outliers for close to bankruptcy cases: 3\n",
      "-----------------------------------------------------------------\n",
      "Quartile 25: 0.3986864686645507 | Quartile 75: 0.403434446687736\n",
      "iqr: 0.004747978023185273\n",
      "Cut Off: 0.00712196703477791\n",
      " Inventory and accounts receivable/Net value Lower: 0.3915645016297728\n",
      " Inventory and accounts receivable/Net value Upper: 0.4105564137225139\n",
      " Inventory and accounts receivable/Net value outliers for close to bankruptcy cases: 24\n",
      "-----------------------------------------------------------------\n",
      "Quartile 25: 0.101949025487256 | Quartile 75: 0.166416791604198\n",
      "iqr: 0.06446776611694201\n",
      "Cut Off: 0.09670164917541302\n",
      " Total Asset Turnover Lower: 0.00524737631184298\n",
      " Total Asset Turnover Upper: 0.263118440779611\n",
      " Total Asset Turnover outliers for close to bankruptcy cases: 17\n",
      "-----------------------------------------------------------------\n",
      "Quartile 25: 0.0007223073255353 | Quartile 75: 0.0012214298032929\n",
      "iqr: 0.0004991224777576\n",
      "Cut Off: 0.0007486837166364001\n",
      " Accounts Receivable Turnover Lower: -2.6376391101100012e-05\n",
      " Accounts Receivable Turnover Upper: 0.0019701135199293\n",
      " Accounts Receivable Turnover outliers for close to bankruptcy cases: 68\n",
      "-----------------------------------------------------------------\n",
      "Quartile 25: 0.0056861799100833 | Quartile 75: 0.008949820038682\n",
      "iqr: 0.0032636401285986993\n",
      "Cut Off: 0.004895460192898049\n",
      " Average Collection Days Lower: 0.0007907197171852509\n",
      " Average Collection Days Upper: 0.013845280231580048\n",
      " Average Collection Days outliers for close to bankruptcy cases: 25\n",
      "-----------------------------------------------------------------\n",
      "Quartile 25: 0.000155867824085125 | Quartile 75: 6310000000.0\n",
      "iqr: 6309999999.999845\n",
      "Cut Off: 9464999999.999767\n",
      " Inventory Turnover Rate (times) Lower: -9464999999.99961\n",
      " Inventory Turnover Rate (times) Upper: 15774999999.999767\n",
      " Inventory Turnover Rate (times) outliers for close to bankruptcy cases: 0\n",
      "-----------------------------------------------------------------\n",
      "Quartile 25: 0.0001830724550848 | Quartile 75: 0.000636781979618375\n",
      "iqr: 0.00045370952453357505\n",
      "Cut Off: 0.0006805642868003626\n",
      " Fixed Assets Turnover Frequency Lower: -0.0004974918317155626\n",
      " Fixed Assets Turnover Frequency Upper: 0.0013173462664187376\n",
      " Fixed Assets Turnover Frequency outliers for close to bankruptcy cases: 107\n",
      "-----------------------------------------------------------------\n",
      "Quartile 25: 0.0274193548387097 | Quartile 75: 0.04\n",
      "iqr: 0.012580645161290302\n",
      "Cut Off: 0.018870967741935453\n",
      " Net Worth Turnover Rate (times) Lower: 0.008548387096774246\n",
      " Net Worth Turnover Rate (times) Upper: 0.058870967741935454\n",
      " Net Worth Turnover Rate (times) outliers for close to bankruptcy cases: 9\n",
      "-----------------------------------------------------------------\n",
      "Quartile 25: 0.011430900518484801 | Quartile 75: 0.025515914398601673\n",
      "iqr: 0.014085013880116872\n",
      "Cut Off: 0.021127520820175306\n",
      " Revenue per person Lower: -0.009696620301690505\n",
      " Revenue per person Upper: 0.04664343521877698\n",
      " Revenue per person outliers for close to bankruptcy cases: 42\n",
      "-----------------------------------------------------------------\n",
      "Quartile 25: 0.394354492209584 | Quartile 75: 0.398034870310486\n",
      "iqr: 0.003680378100901993\n",
      "Cut Off: 0.00552056715135299\n",
      " Operating profit per person Lower: 0.388833925058231\n",
      " Operating profit per person Upper: 0.403555437461839\n",
      " Operating profit per person outliers for close to bankruptcy cases: 28\n",
      "-----------------------------------------------------------------\n",
      "Quartile 25: 0.0052837041579054 | Quartile 75: 0.01063092962984425\n",
      "iqr: 0.005347225471938851\n",
      "Cut Off: 0.008020838207908276\n",
      " Allocation rate per person Lower: -0.0027371340500028764\n",
      " Allocation rate per person Upper: 0.018651767837752527\n",
      " Allocation rate per person outliers for close to bankruptcy cases: 29\n",
      "-----------------------------------------------------------------\n",
      "Quartile 25: 0.784951815744128 | Quartile 75: 0.83636139784289\n",
      "iqr: 0.05140958209876201\n",
      "Cut Off: 0.07711437314814301\n",
      " Working Capital to Total Assets Lower: 0.707837442595985\n",
      " Working Capital to Total Assets Upper: 0.913475770991033\n",
      " Working Capital to Total Assets outliers for close to bankruptcy cases: 0\n",
      "-----------------------------------------------------------------\n",
      "Quartile 25: 0.287884380195404 | Quartile 75: 0.457517917473978\n",
      "iqr: 0.169633537278574\n",
      "Cut Off: 0.254450305917861\n",
      " Quick Assets/Total Assets Lower: 0.033434074277543024\n",
      " Quick Assets/Total Assets Upper: 0.711968223391839\n",
      " Quick Assets/Total Assets outliers for close to bankruptcy cases: 5\n",
      "-----------------------------------------------------------------\n",
      "Quartile 25: 0.4080074329458495 | Quartile 75: 0.584772920922217\n",
      "iqr: 0.17676548797636749\n",
      "Cut Off: 0.26514823196455123\n",
      " Current Assets/Total Assets Lower: 0.14285920098129828\n",
      " Current Assets/Total Assets Upper: 0.8499211528867683\n",
      " Current Assets/Total Assets outliers for close to bankruptcy cases: 1\n",
      "-----------------------------------------------------------------\n",
      "Quartile 25: 0.0365998758280015 | Quartile 75: 0.11206291438961949\n",
      "iqr: 0.07546303856161798\n",
      "Cut Off: 0.11319455784242698\n",
      " Cash/Total Assets Lower: -0.07659468201442549\n",
      " Cash/Total Assets Upper: 0.22525747223204645\n",
      " Cash/Total Assets outliers for close to bankruptcy cases: 27\n",
      "-----------------------------------------------------------------\n",
      "Quartile 25: 0.00582366806877095 | Quartile 75: 0.0102675581889411\n",
      "iqr: 0.0044438901201701506\n",
      "Cut Off: 0.006665835180255226\n",
      " Quick Assets/Current Liability Lower: -0.0008421671114842762\n",
      " Quick Assets/Current Liability Upper: 0.016933393369196324\n",
      " Quick Assets/Current Liability outliers for close to bankruptcy cases: 3\n",
      "-----------------------------------------------------------------\n",
      "Quartile 25: 0.0021348530979918 | Quartile 75: 0.0069338225302052\n",
      "iqr: 0.004798969432213401\n",
      "Cut Off: 0.007198454148320101\n",
      " Cash/Current Liability Lower: -0.0050636010503283015\n",
      " Cash/Current Liability Upper: 0.014132276678525301\n",
      " Cash/Current Liability outliers for close to bankruptcy cases: 22\n",
      "-----------------------------------------------------------------\n",
      "Quartile 25: 0.0688376829415158 | Quartile 75: 0.1077861912075965\n",
      "iqr: 0.038948508266080706\n",
      "Cut Off: 0.05842276239912106\n",
      " Current Liability to Assets Lower: 0.010414920542394734\n",
      " Current Liability to Assets Upper: 0.16620895360671756\n",
      " Current Liability to Assets outliers for close to bankruptcy cases: 0\n",
      "-----------------------------------------------------------------\n",
      "Quartile 25: 0.34428939079207554 | Quartile 75: 0.356600807942801\n",
      "iqr: 0.012311417150725479\n",
      "Cut Off: 0.018467125726088218\n",
      " Operating Funds to Liability Lower: 0.3258222650659873\n",
      " Operating Funds to Liability Upper: 0.37506793366888924\n",
      " Operating Funds to Liability outliers for close to bankruptcy cases: 14\n",
      "-----------------------------------------------------------------\n",
      "Quartile 25: 0.277186752906984 | Quartile 75: 0.277525337623469\n",
      "iqr: 0.0003385847164849576\n",
      "Cut Off: 0.0005078770747274364\n",
      " Inventory/Working Capital Lower: 0.2766788758322566\n",
      " Inventory/Working Capital Upper: 0.2780332146981964\n",
      " Inventory/Working Capital outliers for close to bankruptcy cases: 52\n",
      "-----------------------------------------------------------------\n",
      "Quartile 25: 0.0050513337176799 | Quartile 75: 0.011053694043557\n",
      "iqr: 0.0060023603258771\n",
      "Cut Off: 0.009003540488815649\n",
      " Inventory/Current Liability Lower: -0.003952206771135749\n",
      " Inventory/Current Liability Upper: 0.020057234532372646\n",
      " Inventory/Current Liability outliers for close to bankruptcy cases: 8\n",
      "-----------------------------------------------------------------\n",
      "Quartile 25: 0.648311134424722 | Quartile 75: 0.871262760810337\n",
      "iqr: 0.22295162638561505\n",
      "Cut Off: 0.3344274395784226\n",
      " Current Liabilities/Liability Lower: 0.3138836948462994\n",
      " Current Liabilities/Liability Upper: 1.2056902003887595\n",
      " Current Liabilities/Liability outliers for close to bankruptcy cases: 1\n",
      "-----------------------------------------------------------------\n",
      "Quartile 25: 0.7346925831867339 | Quartile 75: 0.737260608768925\n",
      "iqr: 0.002568025582191047\n",
      "Cut Off: 0.0038520383732865704\n",
      " Working Capital/Equity Lower: 0.7308405448134474\n",
      " Working Capital/Equity Upper: 0.7411126471422116\n",
      " Working Capital/Equity outliers for close to bankruptcy cases: 4\n",
      "-----------------------------------------------------------------\n",
      "Quartile 25: 0.328905681758861 | Quartile 75: 0.33107999244792474\n",
      "iqr: 0.002174310689063763\n",
      "Cut Off: 0.0032614660335956447\n",
      " Current Liabilities/Equity Lower: 0.32564421572526536\n",
      " Current Liabilities/Equity Upper: 0.3343414584815204\n",
      " Current Liabilities/Equity outliers for close to bankruptcy cases: 10\n",
      "-----------------------------------------------------------------\n",
      "Quartile 25: 0.0 | Quartile 75: 0.008019076202225875\n",
      "iqr: 0.008019076202225875\n",
      "Cut Off: 0.012028614303338812\n",
      " Long-term Liability to Current Assets Lower: -0.012028614303338812\n",
      " Long-term Liability to Current Assets Upper: 0.020047690505564687\n",
      " Long-term Liability to Current Assets outliers for close to bankruptcy cases: 14\n",
      "-----------------------------------------------------------------\n",
      "Quartile 25: 0.9364319139052395 | Quartile 75: 0.9433777826600928\n",
      "iqr: 0.006945868754853257\n",
      "Cut Off: 0.010418803132279886\n",
      " Retained Earnings to Total Assets Lower: 0.9260131107729597\n",
      " Retained Earnings to Total Assets Upper: 0.9537965857923727\n",
      " Retained Earnings to Total Assets outliers for close to bankruptcy cases: 8\n",
      "-----------------------------------------------------------------\n",
      "Quartile 25: 0.002296723247891075 | Quartile 75: 0.0024157886521881753\n",
      "iqr: 0.00011906540429710037\n",
      "Cut Off: 0.00017859810644565055\n",
      " Total income/Total expense Lower: 0.002118125141445424\n",
      " Total income/Total expense Upper: 0.0025943867586338256\n",
      " Total income/Total expense outliers for close to bankruptcy cases: 12\n",
      "-----------------------------------------------------------------\n",
      "Quartile 25: 0.018682229224701426 | Quartile 75: 0.034004736928484575\n",
      "iqr: 0.015322507703783149\n",
      "Cut Off: 0.022983761555674723\n",
      " Total expense/Assets Lower: -0.004301532330973298\n",
      " Total expense/Assets Upper: 0.056988498484159295\n",
      " Total expense/Assets outliers for close to bankruptcy cases: 13\n",
      "-----------------------------------------------------------------\n",
      "Quartile 25: 0.00013477308928555001 | Quartile 75: 0.00020599833306305\n",
      "iqr: 7.122524377749999e-05\n",
      "Cut Off: 0.00010683786566624998\n",
      " Current Asset Turnover Rate Lower: 2.7935223619300034e-05\n",
      " Current Asset Turnover Rate Upper: 0.0003128361987293\n",
      " Current Asset Turnover Rate outliers for close to bankruptcy cases: 42\n",
      "-----------------------------------------------------------------\n",
      "Quartile 25: 0.0001186879113995 | Quartile 75: 747000000.0\n",
      "iqr: 746999999.9998813\n",
      "Cut Off: 1120499999.999822\n",
      " Quick Asset Turnover Rate Lower: -1120499999.9997032\n",
      " Quick Asset Turnover Rate Upper: 1867499999.999822\n",
      " Quick Asset Turnover Rate outliers for close to bankruptcy cases: 66\n",
      "-----------------------------------------------------------------\n",
      "Quartile 25: 0.593958794536691 | Quartile 75: 0.5939895132160755\n",
      "iqr: 3.0718679384533765e-05\n",
      "Cut Off: 4.607801907680065e-05\n",
      " Working capitcal Turnover Rate Lower: 0.5939127165176141\n",
      " Working capitcal Turnover Rate Upper: 0.5940355912351523\n",
      " Working capitcal Turnover Rate outliers for close to bankruptcy cases: 2\n",
      "-----------------------------------------------------------------\n",
      "Quartile 25: 0.0001788828962231 | Quartile 75: 6570000000.0\n",
      "iqr: 6569999999.999821\n",
      "Cut Off: 9854999999.999731\n",
      " Cash Turnover Rate Lower: -9854999999.999552\n",
      " Cash Turnover Rate Upper: 16424999999.999731\n",
      " Cash Turnover Rate outliers for close to bankruptcy cases: 0\n",
      "-----------------------------------------------------------------\n",
      "Quartile 25: 0.671565523013734 | Quartile 75: 0.671581312850707\n",
      "iqr: 1.578983697303471e-05\n",
      "Cut Off: 2.3684755459552065e-05\n",
      " Cash Flow to Sales Lower: 0.6715418382582744\n",
      " Cash Flow to Sales Upper: 0.6716049976061665\n",
      " Cash Flow to Sales outliers for close to bankruptcy cases: 16\n",
      "-----------------------------------------------------------------\n",
      "Quartile 25: 0.1628065412548 | Quartile 75: 0.306723490678753\n",
      "iqr: 0.14391694942395297\n",
      "Cut Off: 0.21587542413592947\n",
      " Fixed Assets to Assets Lower: -0.05306888288112946\n",
      " Fixed Assets to Assets Upper: 0.5225989148146825\n",
      " Fixed Assets to Assets outliers for close to bankruptcy cases: 4\n",
      "-----------------------------------------------------------------\n",
      "Quartile 25: 0.686339368007088 | Quartile 75: 0.883415400500497\n",
      "iqr: 0.1970760324934091\n",
      "Cut Off: 0.29561404874011366\n",
      " Current Liability to Liability Lower: 0.3907253192669743\n",
      " Current Liability to Liability Upper: 1.1790294492406108\n",
      " Current Liability to Liability outliers for close to bankruptcy cases: 1\n",
      "-----------------------------------------------------------------\n",
      "Quartile 25: 0.3289337651059667 | Quartile 75: 0.3309171096044075\n",
      "iqr: 0.0019833444984407866\n",
      "Cut Off: 0.00297501674766118\n",
      " Current Liability to Equity Lower: 0.3259587483583055\n",
      " Current Liability to Equity Upper: 0.33389212635206866\n",
      " Current Liability to Equity outliers for close to bankruptcy cases: 4\n",
      "-----------------------------------------------------------------\n",
      "Quartile 25: 0.110933233663468 | Quartile 75: 0.11609200774519825\n",
      "iqr: 0.005158774081730252\n",
      "Cut Off: 0.007738161122595379\n",
      " Equity to Long-term Liability Lower: 0.10319507254087262\n",
      " Equity to Long-term Liability Upper: 0.12383016886779363\n",
      " Equity to Long-term Liability outliers for close to bankruptcy cases: 5\n",
      "-----------------------------------------------------------------\n",
      "Quartile 25: 0.6328857334171595 | Quartile 75: 0.655282375354864\n",
      "iqr: 0.02239664193770452\n",
      "Cut Off: 0.03359496290655678\n",
      " Cash Flow to Total Assets Lower: 0.5992907705106028\n",
      " Cash Flow to Total Assets Upper: 0.6888773382614208\n",
      " Cash Flow to Total Assets outliers for close to bankruptcy cases: 1\n",
      "-----------------------------------------------------------------\n",
      "Quartile 25: 0.45693583806730476 | Quartile 75: 0.4621395730501808\n",
      "iqr: 0.005203734982876018\n",
      "Cut Off: 0.007805602474314027\n",
      " Cash Flow to Liability Lower: 0.4491302355929907\n",
      " Cash Flow to Liability Upper: 0.4699451755244948\n",
      " Cash Flow to Liability outliers for close to bankruptcy cases: 6\n",
      "-----------------------------------------------------------------\n",
      "Quartile 25: 0.5790614842442577 | Quartile 75: 0.619384572662051\n",
      "iqr: 0.04032308841779331\n",
      "Cut Off: 0.06048463262668996\n",
      " CFO to Assets Lower: 0.5185768516175677\n",
      " CFO to Assets Upper: 0.679869205288741\n",
      " CFO to Assets outliers for close to bankruptcy cases: 0\n",
      "-----------------------------------------------------------------\n",
      "Quartile 25: 0.3134280826500528 | Quartile 75: 0.31644481893473353\n",
      "iqr: 0.0030167362846807433\n",
      "Cut Off: 0.004525104427021115\n",
      " Cash Flow to Equity Lower: 0.3089029782230317\n",
      " Cash Flow to Equity Upper: 0.32096992336175467\n",
      " Cash Flow to Equity outliers for close to bankruptcy cases: 4\n",
      "-----------------------------------------------------------------\n",
      "Quartile 25: 0.02142914773454725 | Quartile 75: 0.029390565538311698\n",
      "iqr: 0.00796141780376445\n",
      "Cut Off: 0.011942126705646674\n",
      " Current Liability to Current Assets Lower: 0.009487021028900575\n",
      " Current Liability to Current Assets Upper: 0.04133269224395837\n",
      " Current Liability to Current Assets outliers for close to bankruptcy cases: 2\n",
      "-----------------------------------------------------------------\n",
      "Quartile 25: 0.0 | Quartile 75: 0.0\n",
      "iqr: 0.0\n",
      "Cut Off: 0.0\n",
      " Liability-Assets Flag Lower: 0.0\n",
      " Liability-Assets Flag Upper: 0.0\n",
      " Liability-Assets Flag outliers for close to bankruptcy cases: 0\n",
      "-----------------------------------------------------------------\n",
      "Quartile 25: 0.8068589269844222 | Quartile 75: 0.8204484268280368\n",
      "iqr: 0.013589499843614572\n",
      "Cut Off: 0.020384249765421858\n",
      " Net Income to Total Assets Lower: 0.7864746772190003\n",
      " Net Income to Total Assets Upper: 0.8408326765934586\n",
      " Net Income to Total Assets outliers for close to bankruptcy cases: 1\n",
      "-----------------------------------------------------------------\n",
      "Quartile 25: 0.0010875080321889 | Quartile 75: 0.0031758068656489\n",
      "iqr: 0.00208829883346\n",
      "Cut Off: 0.00313244825019\n",
      " Total assets to GNP price Lower: -0.0020449402180011\n",
      " Total assets to GNP price Upper: 0.0063082551158389\n",
      " Total assets to GNP price outliers for close to bankruptcy cases: 19\n",
      "-----------------------------------------------------------------\n",
      "Quartile 25: 0.6238432851856648 | Quartile 75: 0.6240786551340736\n",
      "iqr: 0.00023536994840878123\n",
      "Cut Off: 0.00035305492261317184\n",
      " No-credit Interval Lower: 0.6234902302630516\n",
      " No-credit Interval Upper: 0.6244317100566867\n",
      " No-credit Interval outliers for close to bankruptcy cases: 16\n",
      "-----------------------------------------------------------------\n",
      "Quartile 25: 0.604835518307087 | Quartile 75: 0.612111659854354\n",
      "iqr: 0.007276141547266968\n",
      "Cut Off: 0.010914212320900452\n",
      " Gross Profit to Sales Lower: 0.5939213059861865\n",
      " Gross Profit to Sales Upper: 0.6230258721752544\n",
      " Gross Profit to Sales outliers for close to bankruptcy cases: 1\n",
      "-----------------------------------------------------------------\n",
      "Quartile 25: 0.840884715120258 | Quartile 75: 0.841802182825138\n",
      "iqr: 0.0009174677048799929\n",
      "Cut Off: 0.0013762015573199893\n",
      " Net Income to Stockholder's Equity Lower: 0.839508513562938\n",
      " Net Income to Stockholder's Equity Upper: 0.843178384382458\n",
      " Net Income to Stockholder's Equity outliers for close to bankruptcy cases: 0\n",
      "-----------------------------------------------------------------\n",
      "Quartile 25: 0.277611774689274 | Quartile 75: 0.279858131623327\n",
      "iqr: 0.0022463569340530065\n",
      "Cut Off: 0.0033695354010795098\n",
      " Liability to Equity Lower: 0.27424223928819447\n",
      " Liability to Equity Upper: 0.2832276670244065\n",
      " Liability to Equity outliers for close to bankruptcy cases: 1\n",
      "-----------------------------------------------------------------\n",
      "Quartile 25: 0.026816202173284828 | Quartile 75: 0.026955664491013602\n",
      "iqr: 0.00013946231772877377\n",
      "Cut Off: 0.00020919347659316065\n",
      " Degree of Financial Leverage (DFL) Lower: 0.026607008696691668\n",
      " Degree of Financial Leverage (DFL) Upper: 0.027164857967606763\n",
      " Degree of Financial Leverage (DFL) outliers for close to bankruptcy cases: 14\n",
      "-----------------------------------------------------------------\n",
      "Quartile 25: 0.5652586584829125 | Quartile 75: 0.5656660814672487\n",
      "iqr: 0.0004074229843362698\n",
      "Cut Off: 0.0006111344765044047\n",
      " Interest Coverage Ratio (Interest expense to EBIT) Lower: 0.564647524006408\n",
      " Interest Coverage Ratio (Interest expense to EBIT) Upper: 0.5662772159437531\n",
      " Interest Coverage Ratio (Interest expense to EBIT) outliers for close to bankruptcy cases: 5\n",
      "-----------------------------------------------------------------\n",
      "Quartile 25: 1.0 | Quartile 75: 1.0\n",
      "iqr: 0.0\n",
      "Cut Off: 0.0\n",
      " Net Income Flag Lower: 1.0\n",
      " Net Income Flag Upper: 1.0\n",
      " Net Income Flag outliers for close to bankruptcy cases: 0\n",
      "-----------------------------------------------------------------\n",
      "Quartile 25: 0.0306974550877562 | Quartile 75: 0.0454704513203881\n",
      "iqr: 0.0147729962326319\n",
      "Cut Off: 0.02215949434894785\n",
      " Equity to Liability Lower: 0.008537960738808349\n",
      " Equity to Liability Upper: 0.06762994566933594\n",
      " Equity to Liability outliers for close to bankruptcy cases: 3\n",
      "-----------------------------------------------------------------\n"
     ]
    }
   ],
   "source": [
    "# Don't run this cell, it is used for testing only\n",
    "# Outliers removal\n",
    "\n",
    "def outliers_removal(feature,feature_name,dataset):\n",
    "    \n",
    "    # Identify 25th & 75th quartiles\n",
    "\n",
    "    q25, q75 = np.percentile(feature, 25), np.percentile(feature, 75)\n",
    "    print('Quartile 25: {} | Quartile 75: {}'.format(q25, q75))\n",
    "    feat_iqr = q75 - q25\n",
    "    print('iqr: {}'.format(feat_iqr))\n",
    "    \n",
    "    feat_cut_off = feat_iqr * 1.5\n",
    "    feat_lower, feat_upper = q25 - feat_cut_off, q75 + feat_cut_off\n",
    "    print('Cut Off: {}'.format(feat_cut_off))\n",
    "    print(feature_name +' Lower: {}'.format(feat_lower))\n",
    "    print(feature_name +' Upper: {}'.format(feat_upper))\n",
    "    \n",
    "    outliers = [x for x in feature if x < feat_lower or x > feat_upper]\n",
    "    print(feature_name + ' outliers for close to bankruptcy cases: {}'.format(len(outliers)))\n",
    "\n",
    "    dataset = dataset.drop(dataset[(dataset[feature_name] > feat_upper) | (dataset[feature_name] < feat_lower)].index)\n",
    "    print('-' * 65)\n",
    "    \n",
    "    return dataset\n",
    "new_data = bank_data.copy()\n",
    "\n",
    "for col in bank_data:\n",
    "    new_data = outliers_removal(new_data[col],str(col),new_data)"
   ]
  },
  {
   "cell_type": "markdown",
   "metadata": {},
   "source": [
    "## Dimentional Reduction"
   ]
  },
  {
   "cell_type": "code",
   "execution_count": 24,
   "metadata": {},
   "outputs": [],
   "source": [
    "pca = ('pca', PCA())\n",
    "lda = ('lda', LinearDiscriminantAnalysis())\n",
    "iso = ('iso', Isomap())\n",
    "lle = ('lle', LocallyLinearEmbedding())\n",
    "# mlle = ('lle', LocallyLinearEmbedding(method='modified'))"
   ]
  },
  {
   "cell_type": "markdown",
   "metadata": {},
   "source": [
    "## Handling imbalanced data"
   ]
  },
  {
   "cell_type": "code",
   "execution_count": 25,
   "metadata": {},
   "outputs": [],
   "source": [
    "over = ('over', SMOTE())\n",
    "under = ('under', RandomUnderSampler())\n",
    "borderline_smote = ('borderline_smote', BorderlineSMOTE())\n",
    "svm_smote = ('svm_smote', SVMSMOTE())\n",
    "adasyn = ('adasyn', ADASYN())"
   ]
  },
  {
   "cell_type": "markdown",
   "metadata": {},
   "source": [
    "# Building pipeline"
   ]
  },
  {
   "cell_type": "code",
   "execution_count": 26,
   "metadata": {},
   "outputs": [],
   "source": [
    "# Features and label\n",
    "features = bank_data.columns[1:]\n",
    "X = bank_data[features]\n",
    "y = bank_data[\"Bankrupt?\"]"
   ]
  },
  {
   "cell_type": "code",
   "execution_count": 27,
   "metadata": {},
   "outputs": [],
   "source": [
    "# train test split\n",
    "X_train, X_test, y_train, y_test = train_test_split(X,y,test_size=0.2, stratify=y)"
   ]
  },
  {
   "cell_type": "code",
   "execution_count": 28,
   "metadata": {},
   "outputs": [],
   "source": [
    "# Add more models here\n",
    "svm = ('svm', SVC(cache_size=10000))"
   ]
  },
  {
   "cell_type": "code",
   "execution_count": 34,
   "metadata": {},
   "outputs": [],
   "source": [
    "# Testing components of pipeline to obtain best model\n",
    "pipe = Pipeline(steps=[pca, over, svm])"
   ]
  },
  {
   "cell_type": "code",
   "execution_count": 35,
   "metadata": {},
   "outputs": [],
   "source": [
    "# Parameters of pipelines\n",
    "param_grid = {\n",
    "    'pca__n_components': [10, 15, 20, 25, 30],\n",
    "    'over__sampling_strategy': [0.5, 0.75, 1.0],\n",
    "    'svm__C':[0.01,0.1,1,10],\n",
    "    'svm__gamma':[0.1,0.01,0.001,0.0001],\n",
    "    'svm__kernel':['linear', 'poly', 'rbf', 'sigmoid', 'precomputed']\n",
    "}"
   ]
  },
  {
   "cell_type": "code",
   "execution_count": 36,
   "metadata": {},
   "outputs": [],
   "source": [
    "# Grid Search\n",
    "search = GridSearchCV(pipe, param_grid, n_jobs=4)"
   ]
  },
  {
   "cell_type": "markdown",
   "metadata": {},
   "source": [
    "### Training and Evaluation"
   ]
  },
  {
   "cell_type": "code",
   "execution_count": 37,
   "metadata": {},
   "outputs": [],
   "source": [
    "search.fit(X_train, y_train)"
   ]
  },
  {
   "cell_type": "code",
   "execution_count": null,
   "metadata": {},
   "outputs": [],
   "source": [
    "print(\"Best parameter (CV score=%0.3f):\" % search.best_score_)"
   ]
  },
  {
   "cell_type": "code",
   "execution_count": null,
   "metadata": {},
   "outputs": [],
   "source": [
    "best_model = search.best_estimator_"
   ]
  },
  {
   "cell_type": "markdown",
   "metadata": {},
   "source": [
    "We should fine tune the best model again here"
   ]
  },
  {
   "cell_type": "code",
   "execution_count": null,
   "metadata": {},
   "outputs": [],
   "source": [
    "# Prediction\n",
    "y_pred = best_model.predict(X_test)"
   ]
  },
  {
   "cell_type": "code",
   "execution_count": null,
   "metadata": {},
   "outputs": [],
   "source": [
    "# Evaluation\n",
    "result = classification_report(y_test, y_pred)\n",
    "print(result)"
   ]
  }
 ],
 "metadata": {
  "interpreter": {
   "hash": "7a92c992b800fa774aac7d5822a596282d125a26635bcd06f076e6986145244f"
  },
  "kernelspec": {
   "display_name": "Python 3.8.12 ('LearnML')",
   "language": "python",
   "name": "python3"
  },
  "language_info": {
   "codemirror_mode": {
    "name": "ipython",
    "version": 3
   },
   "file_extension": ".py",
   "mimetype": "text/x-python",
   "name": "python",
   "nbconvert_exporter": "python",
   "pygments_lexer": "ipython3",
   "version": "3.8.12"
  },
  "orig_nbformat": 4
 },
 "nbformat": 4,
 "nbformat_minor": 2
}
