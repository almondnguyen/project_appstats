{
  "nbformat": 4,
  "nbformat_minor": 0,
  "metadata": {
    "colab": {
      "name": "Machine learning approaches (draft).ipynb",
      "provenance": [],
      "collapsed_sections": [],
      "toc_visible": true
    },
    "kernelspec": {
      "name": "python3",
      "display_name": "Python 3"
    },
    "language_info": {
      "name": "python"
    },
    "gpuClass": "standard"
  },
  "cells": [
    {
      "cell_type": "markdown",
      "source": [
        "TODO:\n",
        "- prove that oversampling is bad for ada and gb if halving grid search cv is used"
      ],
      "metadata": {
        "id": "EcHgHvShGy7g"
      }
    },
    {
      "cell_type": "markdown",
      "source": [
        "# Preparation"
      ],
      "metadata": {
        "id": "cWo6IcAtpBNQ"
      }
    },
    {
      "cell_type": "markdown",
      "source": [
        "## Starting the timer"
      ],
      "metadata": {
        "id": "Z7uWu3sWXvZD"
      }
    },
    {
      "cell_type": "code",
      "source": [
        "import time\n",
        "\n",
        "start_time = time.time()"
      ],
      "metadata": {
        "id": "DeqkgvPgW1im"
      },
      "execution_count": 1,
      "outputs": []
    },
    {
      "cell_type": "markdown",
      "source": [
        "## Importing and setting global variables"
      ],
      "metadata": {
        "id": "z4aI2s8Lr7VI"
      }
    },
    {
      "cell_type": "code",
      "source": [
        "import os\n",
        "import datetime\n",
        "\n",
        "import numpy as np\n",
        "import pandas as pd\n",
        "\n",
        "import matplotlib\n",
        "import matplotlib.pyplot as plt\n",
        "\n",
        "import sklearn\n",
        "from sklearn.experimental import enable_halving_search_cv\n",
        "from sklearn.model_selection import train_test_split\n",
        "from sklearn.model_selection import HalvingGridSearchCV\n",
        "from sklearn.metrics import fbeta_score, make_scorer\n",
        "from sklearn.utils import resample\n",
        "from sklearn.ensemble import BaggingClassifier\n",
        "from sklearn.ensemble import RandomForestClassifier\n",
        "from sklearn.ensemble import AdaBoostClassifier\n",
        "from sklearn.ensemble import GradientBoostingClassifier\n",
        "from sklearn.ensemble import StackingClassifier\n",
        "\n",
        "import imblearn\n",
        "from imblearn.over_sampling import SMOTE"
      ],
      "metadata": {
        "id": "XLU66-FpqmdM"
      },
      "execution_count": 2,
      "outputs": []
    },
    {
      "cell_type": "code",
      "source": [
        "CSV_FILE_PATH = '/content/drive/MyDrive/Colab Notebooks/AppStats Project/data.csv'\n",
        "\n",
        "TEST_TO_ALL_SIZE = 0.125\n",
        "VAL_TO_TRAIN_SIZE = 0.1\n",
        "\n",
        "RSPL_TO_OVER_SIZE = 2\n",
        "\n",
        "RANDOM_STATE = 42"
      ],
      "metadata": {
        "id": "fW5q3GRQmqsC"
      },
      "execution_count": 3,
      "outputs": []
    },
    {
      "cell_type": "markdown",
      "source": [
        "## Setting up"
      ],
      "metadata": {
        "id": "jXpZwyWrsB1Z"
      }
    },
    {
      "cell_type": "code",
      "source": [
        "np.random.seed(RANDOM_STATE)"
      ],
      "metadata": {
        "id": "8H_oZUNXsAFs"
      },
      "execution_count": 4,
      "outputs": []
    },
    {
      "cell_type": "code",
      "source": [
        "f2_score = lambda y_true, y_pred: fbeta_score(y_true, y_pred, beta=2)\n",
        "f2_scorer = make_scorer(fbeta_score, beta=2)"
      ],
      "metadata": {
        "id": "b24U0HvllG8w"
      },
      "execution_count": 5,
      "outputs": []
    },
    {
      "cell_type": "code",
      "source": [
        "def plot_mean_test_score(params, mean_test_score):\n",
        "    plt.plot(params, mean_test_score)\n",
        "    plt.scatter(params, mean_test_score, s=20, color='red')"
      ],
      "metadata": {
        "id": "qpCIKlXLpWfG"
      },
      "execution_count": 6,
      "outputs": []
    },
    {
      "cell_type": "code",
      "source": [
        "def get_params_from_list_of_dict(param_name, l):\n",
        "    return [d[param_name] for d in l]"
      ],
      "metadata": {
        "id": "1ZwSUMzjtHs0"
      },
      "execution_count": 7,
      "outputs": []
    },
    {
      "cell_type": "code",
      "source": [
        "def show_cv_results(param_name, cv_results):\n",
        "    params = get_params_from_list_of_dict(param_name, cv_results['params'])\n",
        "    df = pd.DataFrame({'iter': cv_results['iter'],\n",
        "                       param_name: params,\n",
        "                       'mean_test_score': cv_results['mean_test_score'],\n",
        "                       'rank_test_score': cv_results['rank_test_score']\n",
        "                       })\n",
        "    for iter_index in np.unique(cv_results['iter']):\n",
        "        df_sub = df[df['iter'] == iter_index]\n",
        "        plot_mean_test_score(df_sub[param_name], df_sub['mean_test_score'])\n",
        "    return df"
      ],
      "metadata": {
        "id": "NPqoAecT7mhi"
      },
      "execution_count": 8,
      "outputs": []
    },
    {
      "cell_type": "markdown",
      "source": [
        "# Data preparation"
      ],
      "metadata": {
        "id": "XV7PFS7Gs1Y1"
      }
    },
    {
      "cell_type": "markdown",
      "source": [
        "## Data exploration"
      ],
      "metadata": {
        "id": "-DJbBJU7sGV2"
      }
    },
    {
      "cell_type": "code",
      "execution_count": 9,
      "metadata": {
        "colab": {
          "base_uri": "https://localhost:8080/",
          "height": 386
        },
        "id": "ei9sUlO8QQB_",
        "outputId": "25e3ecc7-0d2c-4d95-d9b5-3ebf71faf104"
      },
      "outputs": [
        {
          "output_type": "execute_result",
          "data": {
            "text/plain": [
              "   Bankrupt?   ROA(C) before interest and depreciation before interest  \\\n",
              "0          1                                           0.370594          \n",
              "1          1                                           0.464291          \n",
              "2          1                                           0.426071          \n",
              "3          1                                           0.399844          \n",
              "4          1                                           0.465022          \n",
              "\n",
              "    ROA(A) before interest and % after tax  \\\n",
              "0                                 0.424389   \n",
              "1                                 0.538214   \n",
              "2                                 0.499019   \n",
              "3                                 0.451265   \n",
              "4                                 0.538432   \n",
              "\n",
              "    ROA(B) before interest and depreciation after tax  \\\n",
              "0                                           0.405750    \n",
              "1                                           0.516730    \n",
              "2                                           0.472295    \n",
              "3                                           0.457733    \n",
              "4                                           0.522298    \n",
              "\n",
              "    Operating Gross Margin   Realized Sales Gross Margin  \\\n",
              "0                 0.601457                      0.601457   \n",
              "1                 0.610235                      0.610235   \n",
              "2                 0.601450                      0.601364   \n",
              "3                 0.583541                      0.583541   \n",
              "4                 0.598783                      0.598783   \n",
              "\n",
              "    Operating Profit Rate   Pre-tax net Interest Rate  \\\n",
              "0                0.998969                    0.796887   \n",
              "1                0.998946                    0.797380   \n",
              "2                0.998857                    0.796403   \n",
              "3                0.998700                    0.796967   \n",
              "4                0.998973                    0.797366   \n",
              "\n",
              "    After-tax net Interest Rate   Non-industry income and expenditure/revenue  \\\n",
              "0                      0.808809                                      0.302646   \n",
              "1                      0.809301                                      0.303556   \n",
              "2                      0.808388                                      0.302035   \n",
              "3                      0.808966                                      0.303350   \n",
              "4                      0.809304                                      0.303475   \n",
              "\n",
              "   ...   Net Income to Total Assets   Total assets to GNP price  \\\n",
              "0  ...                     0.716845                    0.009219   \n",
              "1  ...                     0.795297                    0.008323   \n",
              "2  ...                     0.774670                    0.040003   \n",
              "3  ...                     0.739555                    0.003252   \n",
              "4  ...                     0.795016                    0.003878   \n",
              "\n",
              "    No-credit Interval   Gross Profit to Sales  \\\n",
              "0             0.622879                0.601453   \n",
              "1             0.623652                0.610237   \n",
              "2             0.623841                0.601449   \n",
              "3             0.622929                0.583538   \n",
              "4             0.623521                0.598782   \n",
              "\n",
              "    Net Income to Stockholder's Equity   Liability to Equity  \\\n",
              "0                             0.827890              0.290202   \n",
              "1                             0.839969              0.283846   \n",
              "2                             0.836774              0.290189   \n",
              "3                             0.834697              0.281721   \n",
              "4                             0.839973              0.278514   \n",
              "\n",
              "    Degree of Financial Leverage (DFL)  \\\n",
              "0                             0.026601   \n",
              "1                             0.264577   \n",
              "2                             0.026555   \n",
              "3                             0.026697   \n",
              "4                             0.024752   \n",
              "\n",
              "    Interest Coverage Ratio (Interest expense to EBIT)   Net Income Flag  \\\n",
              "0                                           0.564050                   1   \n",
              "1                                           0.570175                   1   \n",
              "2                                           0.563706                   1   \n",
              "3                                           0.564663                   1   \n",
              "4                                           0.575617                   1   \n",
              "\n",
              "    Equity to Liability  \n",
              "0              0.016469  \n",
              "1              0.020794  \n",
              "2              0.016474  \n",
              "3              0.023982  \n",
              "4              0.035490  \n",
              "\n",
              "[5 rows x 96 columns]"
            ],
            "text/html": [
              "\n",
              "  <div id=\"df-f0ebdfe4-7ba8-42e4-b718-f2012e0ceb34\">\n",
              "    <div class=\"colab-df-container\">\n",
              "      <div>\n",
              "<style scoped>\n",
              "    .dataframe tbody tr th:only-of-type {\n",
              "        vertical-align: middle;\n",
              "    }\n",
              "\n",
              "    .dataframe tbody tr th {\n",
              "        vertical-align: top;\n",
              "    }\n",
              "\n",
              "    .dataframe thead th {\n",
              "        text-align: right;\n",
              "    }\n",
              "</style>\n",
              "<table border=\"1\" class=\"dataframe\">\n",
              "  <thead>\n",
              "    <tr style=\"text-align: right;\">\n",
              "      <th></th>\n",
              "      <th>Bankrupt?</th>\n",
              "      <th>ROA(C) before interest and depreciation before interest</th>\n",
              "      <th>ROA(A) before interest and % after tax</th>\n",
              "      <th>ROA(B) before interest and depreciation after tax</th>\n",
              "      <th>Operating Gross Margin</th>\n",
              "      <th>Realized Sales Gross Margin</th>\n",
              "      <th>Operating Profit Rate</th>\n",
              "      <th>Pre-tax net Interest Rate</th>\n",
              "      <th>After-tax net Interest Rate</th>\n",
              "      <th>Non-industry income and expenditure/revenue</th>\n",
              "      <th>...</th>\n",
              "      <th>Net Income to Total Assets</th>\n",
              "      <th>Total assets to GNP price</th>\n",
              "      <th>No-credit Interval</th>\n",
              "      <th>Gross Profit to Sales</th>\n",
              "      <th>Net Income to Stockholder's Equity</th>\n",
              "      <th>Liability to Equity</th>\n",
              "      <th>Degree of Financial Leverage (DFL)</th>\n",
              "      <th>Interest Coverage Ratio (Interest expense to EBIT)</th>\n",
              "      <th>Net Income Flag</th>\n",
              "      <th>Equity to Liability</th>\n",
              "    </tr>\n",
              "  </thead>\n",
              "  <tbody>\n",
              "    <tr>\n",
              "      <th>0</th>\n",
              "      <td>1</td>\n",
              "      <td>0.370594</td>\n",
              "      <td>0.424389</td>\n",
              "      <td>0.405750</td>\n",
              "      <td>0.601457</td>\n",
              "      <td>0.601457</td>\n",
              "      <td>0.998969</td>\n",
              "      <td>0.796887</td>\n",
              "      <td>0.808809</td>\n",
              "      <td>0.302646</td>\n",
              "      <td>...</td>\n",
              "      <td>0.716845</td>\n",
              "      <td>0.009219</td>\n",
              "      <td>0.622879</td>\n",
              "      <td>0.601453</td>\n",
              "      <td>0.827890</td>\n",
              "      <td>0.290202</td>\n",
              "      <td>0.026601</td>\n",
              "      <td>0.564050</td>\n",
              "      <td>1</td>\n",
              "      <td>0.016469</td>\n",
              "    </tr>\n",
              "    <tr>\n",
              "      <th>1</th>\n",
              "      <td>1</td>\n",
              "      <td>0.464291</td>\n",
              "      <td>0.538214</td>\n",
              "      <td>0.516730</td>\n",
              "      <td>0.610235</td>\n",
              "      <td>0.610235</td>\n",
              "      <td>0.998946</td>\n",
              "      <td>0.797380</td>\n",
              "      <td>0.809301</td>\n",
              "      <td>0.303556</td>\n",
              "      <td>...</td>\n",
              "      <td>0.795297</td>\n",
              "      <td>0.008323</td>\n",
              "      <td>0.623652</td>\n",
              "      <td>0.610237</td>\n",
              "      <td>0.839969</td>\n",
              "      <td>0.283846</td>\n",
              "      <td>0.264577</td>\n",
              "      <td>0.570175</td>\n",
              "      <td>1</td>\n",
              "      <td>0.020794</td>\n",
              "    </tr>\n",
              "    <tr>\n",
              "      <th>2</th>\n",
              "      <td>1</td>\n",
              "      <td>0.426071</td>\n",
              "      <td>0.499019</td>\n",
              "      <td>0.472295</td>\n",
              "      <td>0.601450</td>\n",
              "      <td>0.601364</td>\n",
              "      <td>0.998857</td>\n",
              "      <td>0.796403</td>\n",
              "      <td>0.808388</td>\n",
              "      <td>0.302035</td>\n",
              "      <td>...</td>\n",
              "      <td>0.774670</td>\n",
              "      <td>0.040003</td>\n",
              "      <td>0.623841</td>\n",
              "      <td>0.601449</td>\n",
              "      <td>0.836774</td>\n",
              "      <td>0.290189</td>\n",
              "      <td>0.026555</td>\n",
              "      <td>0.563706</td>\n",
              "      <td>1</td>\n",
              "      <td>0.016474</td>\n",
              "    </tr>\n",
              "    <tr>\n",
              "      <th>3</th>\n",
              "      <td>1</td>\n",
              "      <td>0.399844</td>\n",
              "      <td>0.451265</td>\n",
              "      <td>0.457733</td>\n",
              "      <td>0.583541</td>\n",
              "      <td>0.583541</td>\n",
              "      <td>0.998700</td>\n",
              "      <td>0.796967</td>\n",
              "      <td>0.808966</td>\n",
              "      <td>0.303350</td>\n",
              "      <td>...</td>\n",
              "      <td>0.739555</td>\n",
              "      <td>0.003252</td>\n",
              "      <td>0.622929</td>\n",
              "      <td>0.583538</td>\n",
              "      <td>0.834697</td>\n",
              "      <td>0.281721</td>\n",
              "      <td>0.026697</td>\n",
              "      <td>0.564663</td>\n",
              "      <td>1</td>\n",
              "      <td>0.023982</td>\n",
              "    </tr>\n",
              "    <tr>\n",
              "      <th>4</th>\n",
              "      <td>1</td>\n",
              "      <td>0.465022</td>\n",
              "      <td>0.538432</td>\n",
              "      <td>0.522298</td>\n",
              "      <td>0.598783</td>\n",
              "      <td>0.598783</td>\n",
              "      <td>0.998973</td>\n",
              "      <td>0.797366</td>\n",
              "      <td>0.809304</td>\n",
              "      <td>0.303475</td>\n",
              "      <td>...</td>\n",
              "      <td>0.795016</td>\n",
              "      <td>0.003878</td>\n",
              "      <td>0.623521</td>\n",
              "      <td>0.598782</td>\n",
              "      <td>0.839973</td>\n",
              "      <td>0.278514</td>\n",
              "      <td>0.024752</td>\n",
              "      <td>0.575617</td>\n",
              "      <td>1</td>\n",
              "      <td>0.035490</td>\n",
              "    </tr>\n",
              "  </tbody>\n",
              "</table>\n",
              "<p>5 rows × 96 columns</p>\n",
              "</div>\n",
              "      <button class=\"colab-df-convert\" onclick=\"convertToInteractive('df-f0ebdfe4-7ba8-42e4-b718-f2012e0ceb34')\"\n",
              "              title=\"Convert this dataframe to an interactive table.\"\n",
              "              style=\"display:none;\">\n",
              "        \n",
              "  <svg xmlns=\"http://www.w3.org/2000/svg\" height=\"24px\"viewBox=\"0 0 24 24\"\n",
              "       width=\"24px\">\n",
              "    <path d=\"M0 0h24v24H0V0z\" fill=\"none\"/>\n",
              "    <path d=\"M18.56 5.44l.94 2.06.94-2.06 2.06-.94-2.06-.94-.94-2.06-.94 2.06-2.06.94zm-11 1L8.5 8.5l.94-2.06 2.06-.94-2.06-.94L8.5 2.5l-.94 2.06-2.06.94zm10 10l.94 2.06.94-2.06 2.06-.94-2.06-.94-.94-2.06-.94 2.06-2.06.94z\"/><path d=\"M17.41 7.96l-1.37-1.37c-.4-.4-.92-.59-1.43-.59-.52 0-1.04.2-1.43.59L10.3 9.45l-7.72 7.72c-.78.78-.78 2.05 0 2.83L4 21.41c.39.39.9.59 1.41.59.51 0 1.02-.2 1.41-.59l7.78-7.78 2.81-2.81c.8-.78.8-2.07 0-2.86zM5.41 20L4 18.59l7.72-7.72 1.47 1.35L5.41 20z\"/>\n",
              "  </svg>\n",
              "      </button>\n",
              "      \n",
              "  <style>\n",
              "    .colab-df-container {\n",
              "      display:flex;\n",
              "      flex-wrap:wrap;\n",
              "      gap: 12px;\n",
              "    }\n",
              "\n",
              "    .colab-df-convert {\n",
              "      background-color: #E8F0FE;\n",
              "      border: none;\n",
              "      border-radius: 50%;\n",
              "      cursor: pointer;\n",
              "      display: none;\n",
              "      fill: #1967D2;\n",
              "      height: 32px;\n",
              "      padding: 0 0 0 0;\n",
              "      width: 32px;\n",
              "    }\n",
              "\n",
              "    .colab-df-convert:hover {\n",
              "      background-color: #E2EBFA;\n",
              "      box-shadow: 0px 1px 2px rgba(60, 64, 67, 0.3), 0px 1px 3px 1px rgba(60, 64, 67, 0.15);\n",
              "      fill: #174EA6;\n",
              "    }\n",
              "\n",
              "    [theme=dark] .colab-df-convert {\n",
              "      background-color: #3B4455;\n",
              "      fill: #D2E3FC;\n",
              "    }\n",
              "\n",
              "    [theme=dark] .colab-df-convert:hover {\n",
              "      background-color: #434B5C;\n",
              "      box-shadow: 0px 1px 3px 1px rgba(0, 0, 0, 0.15);\n",
              "      filter: drop-shadow(0px 1px 2px rgba(0, 0, 0, 0.3));\n",
              "      fill: #FFFFFF;\n",
              "    }\n",
              "  </style>\n",
              "\n",
              "      <script>\n",
              "        const buttonEl =\n",
              "          document.querySelector('#df-f0ebdfe4-7ba8-42e4-b718-f2012e0ceb34 button.colab-df-convert');\n",
              "        buttonEl.style.display =\n",
              "          google.colab.kernel.accessAllowed ? 'block' : 'none';\n",
              "\n",
              "        async function convertToInteractive(key) {\n",
              "          const element = document.querySelector('#df-f0ebdfe4-7ba8-42e4-b718-f2012e0ceb34');\n",
              "          const dataTable =\n",
              "            await google.colab.kernel.invokeFunction('convertToInteractive',\n",
              "                                                     [key], {});\n",
              "          if (!dataTable) return;\n",
              "\n",
              "          const docLinkHtml = 'Like what you see? Visit the ' +\n",
              "            '<a target=\"_blank\" href=https://colab.research.google.com/notebooks/data_table.ipynb>data table notebook</a>'\n",
              "            + ' to learn more about interactive tables.';\n",
              "          element.innerHTML = '';\n",
              "          dataTable['output_type'] = 'display_data';\n",
              "          await google.colab.output.renderOutput(dataTable, element);\n",
              "          const docLink = document.createElement('div');\n",
              "          docLink.innerHTML = docLinkHtml;\n",
              "          element.appendChild(docLink);\n",
              "        }\n",
              "      </script>\n",
              "    </div>\n",
              "  </div>\n",
              "  "
            ]
          },
          "metadata": {},
          "execution_count": 9
        }
      ],
      "source": [
        "df = pd.read_csv(CSV_FILE_PATH)\n",
        "df.head()"
      ]
    },
    {
      "cell_type": "code",
      "execution_count": 10,
      "metadata": {
        "colab": {
          "base_uri": "https://localhost:8080/",
          "height": 480
        },
        "id": "K3O7T38Xb3_T",
        "outputId": "0e53b9c5-24fd-4467-8415-85aa0aaae550"
      },
      "outputs": [
        {
          "output_type": "execute_result",
          "data": {
            "text/plain": [
              "         Bankrupt?   ROA(C) before interest and depreciation before interest  \\\n",
              "count  6819.000000                                        6819.000000          \n",
              "mean      0.032263                                           0.505180          \n",
              "std       0.176710                                           0.060686          \n",
              "min       0.000000                                           0.000000          \n",
              "25%       0.000000                                           0.476527          \n",
              "50%       0.000000                                           0.502706          \n",
              "75%       0.000000                                           0.535563          \n",
              "max       1.000000                                           1.000000          \n",
              "\n",
              "        ROA(A) before interest and % after tax  \\\n",
              "count                              6819.000000   \n",
              "mean                                  0.558625   \n",
              "std                                   0.065620   \n",
              "min                                   0.000000   \n",
              "25%                                   0.535543   \n",
              "50%                                   0.559802   \n",
              "75%                                   0.589157   \n",
              "max                                   1.000000   \n",
              "\n",
              "        ROA(B) before interest and depreciation after tax  \\\n",
              "count                                        6819.000000    \n",
              "mean                                            0.553589    \n",
              "std                                             0.061595    \n",
              "min                                             0.000000    \n",
              "25%                                             0.527277    \n",
              "50%                                             0.552278    \n",
              "75%                                             0.584105    \n",
              "max                                             1.000000    \n",
              "\n",
              "        Operating Gross Margin   Realized Sales Gross Margin  \\\n",
              "count              6819.000000                   6819.000000   \n",
              "mean                  0.607948                      0.607929   \n",
              "std                   0.016934                      0.016916   \n",
              "min                   0.000000                      0.000000   \n",
              "25%                   0.600445                      0.600434   \n",
              "50%                   0.605997                      0.605976   \n",
              "75%                   0.613914                      0.613842   \n",
              "max                   1.000000                      1.000000   \n",
              "\n",
              "        Operating Profit Rate   Pre-tax net Interest Rate  \\\n",
              "count             6819.000000                 6819.000000   \n",
              "mean                 0.998755                    0.797190   \n",
              "std                  0.013010                    0.012869   \n",
              "min                  0.000000                    0.000000   \n",
              "25%                  0.998969                    0.797386   \n",
              "50%                  0.999022                    0.797464   \n",
              "75%                  0.999095                    0.797579   \n",
              "max                  1.000000                    1.000000   \n",
              "\n",
              "        After-tax net Interest Rate  \\\n",
              "count                   6819.000000   \n",
              "mean                       0.809084   \n",
              "std                        0.013601   \n",
              "min                        0.000000   \n",
              "25%                        0.809312   \n",
              "50%                        0.809375   \n",
              "75%                        0.809469   \n",
              "max                        1.000000   \n",
              "\n",
              "        Non-industry income and expenditure/revenue  ...  \\\n",
              "count                                   6819.000000  ...   \n",
              "mean                                       0.303623  ...   \n",
              "std                                        0.011163  ...   \n",
              "min                                        0.000000  ...   \n",
              "25%                                        0.303466  ...   \n",
              "50%                                        0.303525  ...   \n",
              "75%                                        0.303585  ...   \n",
              "max                                        1.000000  ...   \n",
              "\n",
              "        Net Income to Total Assets   Total assets to GNP price  \\\n",
              "count                  6819.000000                6.819000e+03   \n",
              "mean                      0.807760                1.862942e+07   \n",
              "std                       0.040332                3.764501e+08   \n",
              "min                       0.000000                0.000000e+00   \n",
              "25%                       0.796750                9.036205e-04   \n",
              "50%                       0.810619                2.085213e-03   \n",
              "75%                       0.826455                5.269777e-03   \n",
              "max                       1.000000                9.820000e+09   \n",
              "\n",
              "        No-credit Interval   Gross Profit to Sales  \\\n",
              "count          6819.000000             6819.000000   \n",
              "mean              0.623915                0.607946   \n",
              "std               0.012290                0.016934   \n",
              "min               0.000000                0.000000   \n",
              "25%               0.623636                0.600443   \n",
              "50%               0.623879                0.605998   \n",
              "75%               0.624168                0.613913   \n",
              "max               1.000000                1.000000   \n",
              "\n",
              "        Net Income to Stockholder's Equity   Liability to Equity  \\\n",
              "count                          6819.000000           6819.000000   \n",
              "mean                              0.840402              0.280365   \n",
              "std                               0.014523              0.014463   \n",
              "min                               0.000000              0.000000   \n",
              "25%                               0.840115              0.276944   \n",
              "50%                               0.841179              0.278778   \n",
              "75%                               0.842357              0.281449   \n",
              "max                               1.000000              1.000000   \n",
              "\n",
              "        Degree of Financial Leverage (DFL)  \\\n",
              "count                          6819.000000   \n",
              "mean                              0.027541   \n",
              "std                               0.015668   \n",
              "min                               0.000000   \n",
              "25%                               0.026791   \n",
              "50%                               0.026808   \n",
              "75%                               0.026913   \n",
              "max                               1.000000   \n",
              "\n",
              "        Interest Coverage Ratio (Interest expense to EBIT)   Net Income Flag  \\\n",
              "count                                        6819.000000              6819.0   \n",
              "mean                                            0.565358                 1.0   \n",
              "std                                             0.013214                 0.0   \n",
              "min                                             0.000000                 1.0   \n",
              "25%                                             0.565158                 1.0   \n",
              "50%                                             0.565252                 1.0   \n",
              "75%                                             0.565725                 1.0   \n",
              "max                                             1.000000                 1.0   \n",
              "\n",
              "        Equity to Liability  \n",
              "count           6819.000000  \n",
              "mean               0.047578  \n",
              "std                0.050014  \n",
              "min                0.000000  \n",
              "25%                0.024477  \n",
              "50%                0.033798  \n",
              "75%                0.052838  \n",
              "max                1.000000  \n",
              "\n",
              "[8 rows x 96 columns]"
            ],
            "text/html": [
              "\n",
              "  <div id=\"df-8e8e3473-e2f5-4fde-952b-fc2309ba598a\">\n",
              "    <div class=\"colab-df-container\">\n",
              "      <div>\n",
              "<style scoped>\n",
              "    .dataframe tbody tr th:only-of-type {\n",
              "        vertical-align: middle;\n",
              "    }\n",
              "\n",
              "    .dataframe tbody tr th {\n",
              "        vertical-align: top;\n",
              "    }\n",
              "\n",
              "    .dataframe thead th {\n",
              "        text-align: right;\n",
              "    }\n",
              "</style>\n",
              "<table border=\"1\" class=\"dataframe\">\n",
              "  <thead>\n",
              "    <tr style=\"text-align: right;\">\n",
              "      <th></th>\n",
              "      <th>Bankrupt?</th>\n",
              "      <th>ROA(C) before interest and depreciation before interest</th>\n",
              "      <th>ROA(A) before interest and % after tax</th>\n",
              "      <th>ROA(B) before interest and depreciation after tax</th>\n",
              "      <th>Operating Gross Margin</th>\n",
              "      <th>Realized Sales Gross Margin</th>\n",
              "      <th>Operating Profit Rate</th>\n",
              "      <th>Pre-tax net Interest Rate</th>\n",
              "      <th>After-tax net Interest Rate</th>\n",
              "      <th>Non-industry income and expenditure/revenue</th>\n",
              "      <th>...</th>\n",
              "      <th>Net Income to Total Assets</th>\n",
              "      <th>Total assets to GNP price</th>\n",
              "      <th>No-credit Interval</th>\n",
              "      <th>Gross Profit to Sales</th>\n",
              "      <th>Net Income to Stockholder's Equity</th>\n",
              "      <th>Liability to Equity</th>\n",
              "      <th>Degree of Financial Leverage (DFL)</th>\n",
              "      <th>Interest Coverage Ratio (Interest expense to EBIT)</th>\n",
              "      <th>Net Income Flag</th>\n",
              "      <th>Equity to Liability</th>\n",
              "    </tr>\n",
              "  </thead>\n",
              "  <tbody>\n",
              "    <tr>\n",
              "      <th>count</th>\n",
              "      <td>6819.000000</td>\n",
              "      <td>6819.000000</td>\n",
              "      <td>6819.000000</td>\n",
              "      <td>6819.000000</td>\n",
              "      <td>6819.000000</td>\n",
              "      <td>6819.000000</td>\n",
              "      <td>6819.000000</td>\n",
              "      <td>6819.000000</td>\n",
              "      <td>6819.000000</td>\n",
              "      <td>6819.000000</td>\n",
              "      <td>...</td>\n",
              "      <td>6819.000000</td>\n",
              "      <td>6.819000e+03</td>\n",
              "      <td>6819.000000</td>\n",
              "      <td>6819.000000</td>\n",
              "      <td>6819.000000</td>\n",
              "      <td>6819.000000</td>\n",
              "      <td>6819.000000</td>\n",
              "      <td>6819.000000</td>\n",
              "      <td>6819.0</td>\n",
              "      <td>6819.000000</td>\n",
              "    </tr>\n",
              "    <tr>\n",
              "      <th>mean</th>\n",
              "      <td>0.032263</td>\n",
              "      <td>0.505180</td>\n",
              "      <td>0.558625</td>\n",
              "      <td>0.553589</td>\n",
              "      <td>0.607948</td>\n",
              "      <td>0.607929</td>\n",
              "      <td>0.998755</td>\n",
              "      <td>0.797190</td>\n",
              "      <td>0.809084</td>\n",
              "      <td>0.303623</td>\n",
              "      <td>...</td>\n",
              "      <td>0.807760</td>\n",
              "      <td>1.862942e+07</td>\n",
              "      <td>0.623915</td>\n",
              "      <td>0.607946</td>\n",
              "      <td>0.840402</td>\n",
              "      <td>0.280365</td>\n",
              "      <td>0.027541</td>\n",
              "      <td>0.565358</td>\n",
              "      <td>1.0</td>\n",
              "      <td>0.047578</td>\n",
              "    </tr>\n",
              "    <tr>\n",
              "      <th>std</th>\n",
              "      <td>0.176710</td>\n",
              "      <td>0.060686</td>\n",
              "      <td>0.065620</td>\n",
              "      <td>0.061595</td>\n",
              "      <td>0.016934</td>\n",
              "      <td>0.016916</td>\n",
              "      <td>0.013010</td>\n",
              "      <td>0.012869</td>\n",
              "      <td>0.013601</td>\n",
              "      <td>0.011163</td>\n",
              "      <td>...</td>\n",
              "      <td>0.040332</td>\n",
              "      <td>3.764501e+08</td>\n",
              "      <td>0.012290</td>\n",
              "      <td>0.016934</td>\n",
              "      <td>0.014523</td>\n",
              "      <td>0.014463</td>\n",
              "      <td>0.015668</td>\n",
              "      <td>0.013214</td>\n",
              "      <td>0.0</td>\n",
              "      <td>0.050014</td>\n",
              "    </tr>\n",
              "    <tr>\n",
              "      <th>min</th>\n",
              "      <td>0.000000</td>\n",
              "      <td>0.000000</td>\n",
              "      <td>0.000000</td>\n",
              "      <td>0.000000</td>\n",
              "      <td>0.000000</td>\n",
              "      <td>0.000000</td>\n",
              "      <td>0.000000</td>\n",
              "      <td>0.000000</td>\n",
              "      <td>0.000000</td>\n",
              "      <td>0.000000</td>\n",
              "      <td>...</td>\n",
              "      <td>0.000000</td>\n",
              "      <td>0.000000e+00</td>\n",
              "      <td>0.000000</td>\n",
              "      <td>0.000000</td>\n",
              "      <td>0.000000</td>\n",
              "      <td>0.000000</td>\n",
              "      <td>0.000000</td>\n",
              "      <td>0.000000</td>\n",
              "      <td>1.0</td>\n",
              "      <td>0.000000</td>\n",
              "    </tr>\n",
              "    <tr>\n",
              "      <th>25%</th>\n",
              "      <td>0.000000</td>\n",
              "      <td>0.476527</td>\n",
              "      <td>0.535543</td>\n",
              "      <td>0.527277</td>\n",
              "      <td>0.600445</td>\n",
              "      <td>0.600434</td>\n",
              "      <td>0.998969</td>\n",
              "      <td>0.797386</td>\n",
              "      <td>0.809312</td>\n",
              "      <td>0.303466</td>\n",
              "      <td>...</td>\n",
              "      <td>0.796750</td>\n",
              "      <td>9.036205e-04</td>\n",
              "      <td>0.623636</td>\n",
              "      <td>0.600443</td>\n",
              "      <td>0.840115</td>\n",
              "      <td>0.276944</td>\n",
              "      <td>0.026791</td>\n",
              "      <td>0.565158</td>\n",
              "      <td>1.0</td>\n",
              "      <td>0.024477</td>\n",
              "    </tr>\n",
              "    <tr>\n",
              "      <th>50%</th>\n",
              "      <td>0.000000</td>\n",
              "      <td>0.502706</td>\n",
              "      <td>0.559802</td>\n",
              "      <td>0.552278</td>\n",
              "      <td>0.605997</td>\n",
              "      <td>0.605976</td>\n",
              "      <td>0.999022</td>\n",
              "      <td>0.797464</td>\n",
              "      <td>0.809375</td>\n",
              "      <td>0.303525</td>\n",
              "      <td>...</td>\n",
              "      <td>0.810619</td>\n",
              "      <td>2.085213e-03</td>\n",
              "      <td>0.623879</td>\n",
              "      <td>0.605998</td>\n",
              "      <td>0.841179</td>\n",
              "      <td>0.278778</td>\n",
              "      <td>0.026808</td>\n",
              "      <td>0.565252</td>\n",
              "      <td>1.0</td>\n",
              "      <td>0.033798</td>\n",
              "    </tr>\n",
              "    <tr>\n",
              "      <th>75%</th>\n",
              "      <td>0.000000</td>\n",
              "      <td>0.535563</td>\n",
              "      <td>0.589157</td>\n",
              "      <td>0.584105</td>\n",
              "      <td>0.613914</td>\n",
              "      <td>0.613842</td>\n",
              "      <td>0.999095</td>\n",
              "      <td>0.797579</td>\n",
              "      <td>0.809469</td>\n",
              "      <td>0.303585</td>\n",
              "      <td>...</td>\n",
              "      <td>0.826455</td>\n",
              "      <td>5.269777e-03</td>\n",
              "      <td>0.624168</td>\n",
              "      <td>0.613913</td>\n",
              "      <td>0.842357</td>\n",
              "      <td>0.281449</td>\n",
              "      <td>0.026913</td>\n",
              "      <td>0.565725</td>\n",
              "      <td>1.0</td>\n",
              "      <td>0.052838</td>\n",
              "    </tr>\n",
              "    <tr>\n",
              "      <th>max</th>\n",
              "      <td>1.000000</td>\n",
              "      <td>1.000000</td>\n",
              "      <td>1.000000</td>\n",
              "      <td>1.000000</td>\n",
              "      <td>1.000000</td>\n",
              "      <td>1.000000</td>\n",
              "      <td>1.000000</td>\n",
              "      <td>1.000000</td>\n",
              "      <td>1.000000</td>\n",
              "      <td>1.000000</td>\n",
              "      <td>...</td>\n",
              "      <td>1.000000</td>\n",
              "      <td>9.820000e+09</td>\n",
              "      <td>1.000000</td>\n",
              "      <td>1.000000</td>\n",
              "      <td>1.000000</td>\n",
              "      <td>1.000000</td>\n",
              "      <td>1.000000</td>\n",
              "      <td>1.000000</td>\n",
              "      <td>1.0</td>\n",
              "      <td>1.000000</td>\n",
              "    </tr>\n",
              "  </tbody>\n",
              "</table>\n",
              "<p>8 rows × 96 columns</p>\n",
              "</div>\n",
              "      <button class=\"colab-df-convert\" onclick=\"convertToInteractive('df-8e8e3473-e2f5-4fde-952b-fc2309ba598a')\"\n",
              "              title=\"Convert this dataframe to an interactive table.\"\n",
              "              style=\"display:none;\">\n",
              "        \n",
              "  <svg xmlns=\"http://www.w3.org/2000/svg\" height=\"24px\"viewBox=\"0 0 24 24\"\n",
              "       width=\"24px\">\n",
              "    <path d=\"M0 0h24v24H0V0z\" fill=\"none\"/>\n",
              "    <path d=\"M18.56 5.44l.94 2.06.94-2.06 2.06-.94-2.06-.94-.94-2.06-.94 2.06-2.06.94zm-11 1L8.5 8.5l.94-2.06 2.06-.94-2.06-.94L8.5 2.5l-.94 2.06-2.06.94zm10 10l.94 2.06.94-2.06 2.06-.94-2.06-.94-.94-2.06-.94 2.06-2.06.94z\"/><path d=\"M17.41 7.96l-1.37-1.37c-.4-.4-.92-.59-1.43-.59-.52 0-1.04.2-1.43.59L10.3 9.45l-7.72 7.72c-.78.78-.78 2.05 0 2.83L4 21.41c.39.39.9.59 1.41.59.51 0 1.02-.2 1.41-.59l7.78-7.78 2.81-2.81c.8-.78.8-2.07 0-2.86zM5.41 20L4 18.59l7.72-7.72 1.47 1.35L5.41 20z\"/>\n",
              "  </svg>\n",
              "      </button>\n",
              "      \n",
              "  <style>\n",
              "    .colab-df-container {\n",
              "      display:flex;\n",
              "      flex-wrap:wrap;\n",
              "      gap: 12px;\n",
              "    }\n",
              "\n",
              "    .colab-df-convert {\n",
              "      background-color: #E8F0FE;\n",
              "      border: none;\n",
              "      border-radius: 50%;\n",
              "      cursor: pointer;\n",
              "      display: none;\n",
              "      fill: #1967D2;\n",
              "      height: 32px;\n",
              "      padding: 0 0 0 0;\n",
              "      width: 32px;\n",
              "    }\n",
              "\n",
              "    .colab-df-convert:hover {\n",
              "      background-color: #E2EBFA;\n",
              "      box-shadow: 0px 1px 2px rgba(60, 64, 67, 0.3), 0px 1px 3px 1px rgba(60, 64, 67, 0.15);\n",
              "      fill: #174EA6;\n",
              "    }\n",
              "\n",
              "    [theme=dark] .colab-df-convert {\n",
              "      background-color: #3B4455;\n",
              "      fill: #D2E3FC;\n",
              "    }\n",
              "\n",
              "    [theme=dark] .colab-df-convert:hover {\n",
              "      background-color: #434B5C;\n",
              "      box-shadow: 0px 1px 3px 1px rgba(0, 0, 0, 0.15);\n",
              "      filter: drop-shadow(0px 1px 2px rgba(0, 0, 0, 0.3));\n",
              "      fill: #FFFFFF;\n",
              "    }\n",
              "  </style>\n",
              "\n",
              "      <script>\n",
              "        const buttonEl =\n",
              "          document.querySelector('#df-8e8e3473-e2f5-4fde-952b-fc2309ba598a button.colab-df-convert');\n",
              "        buttonEl.style.display =\n",
              "          google.colab.kernel.accessAllowed ? 'block' : 'none';\n",
              "\n",
              "        async function convertToInteractive(key) {\n",
              "          const element = document.querySelector('#df-8e8e3473-e2f5-4fde-952b-fc2309ba598a');\n",
              "          const dataTable =\n",
              "            await google.colab.kernel.invokeFunction('convertToInteractive',\n",
              "                                                     [key], {});\n",
              "          if (!dataTable) return;\n",
              "\n",
              "          const docLinkHtml = 'Like what you see? Visit the ' +\n",
              "            '<a target=\"_blank\" href=https://colab.research.google.com/notebooks/data_table.ipynb>data table notebook</a>'\n",
              "            + ' to learn more about interactive tables.';\n",
              "          element.innerHTML = '';\n",
              "          dataTable['output_type'] = 'display_data';\n",
              "          await google.colab.output.renderOutput(dataTable, element);\n",
              "          const docLink = document.createElement('div');\n",
              "          docLink.innerHTML = docLinkHtml;\n",
              "          element.appendChild(docLink);\n",
              "        }\n",
              "      </script>\n",
              "    </div>\n",
              "  </div>\n",
              "  "
            ]
          },
          "metadata": {},
          "execution_count": 10
        }
      ],
      "source": [
        "df.describe()"
      ]
    },
    {
      "cell_type": "markdown",
      "source": [
        "## Splitting the dataset into training set, validation set, and test set"
      ],
      "metadata": {
        "id": "3xU5_aNtnDda"
      }
    },
    {
      "cell_type": "code",
      "execution_count": 11,
      "metadata": {
        "colab": {
          "base_uri": "https://localhost:8080/"
        },
        "id": "O_3S5yfmQa74",
        "outputId": "b18c7638-7b51-4cd5-aadc-4da8d9dd7996"
      },
      "outputs": [
        {
          "output_type": "execute_result",
          "data": {
            "text/plain": [
              "array([1, 1, 1, ..., 0, 0, 0])"
            ]
          },
          "metadata": {},
          "execution_count": 11
        }
      ],
      "source": [
        "y = (df['Bankrupt?']).to_numpy()\n",
        "y"
      ]
    },
    {
      "cell_type": "code",
      "execution_count": 12,
      "metadata": {
        "colab": {
          "base_uri": "https://localhost:8080/"
        },
        "id": "RLtbZ-kBQbN2",
        "outputId": "2089147a-7e73-43bd-f3ed-cb7aebdfefbb"
      },
      "outputs": [
        {
          "output_type": "execute_result",
          "data": {
            "text/plain": [
              "array([[0.37059426, 0.42438945, 0.40574977, ..., 0.56405011, 1.        ,\n",
              "        0.01646874],\n",
              "       [0.46429094, 0.53821413, 0.51673002, ..., 0.57017495, 1.        ,\n",
              "        0.02079431],\n",
              "       [0.42607127, 0.49901875, 0.47229509, ..., 0.56370608, 1.        ,\n",
              "        0.01647411],\n",
              "       ...,\n",
              "       [0.47272461, 0.533744  , 0.52063815, ..., 0.5651584 , 1.        ,\n",
              "        0.09764874],\n",
              "       [0.50626432, 0.5599106 , 0.55404465, ..., 0.56530151, 1.        ,\n",
              "        0.04400945],\n",
              "       [0.49305319, 0.57010467, 0.54954762, ..., 0.56516694, 1.        ,\n",
              "        0.23390224]])"
            ]
          },
          "metadata": {},
          "execution_count": 12
        }
      ],
      "source": [
        "X = df.drop('Bankrupt?', axis=1, inplace=False).to_numpy()\n",
        "X"
      ]
    },
    {
      "cell_type": "code",
      "execution_count": 13,
      "metadata": {
        "colab": {
          "base_uri": "https://localhost:8080/"
        },
        "id": "lUWu7PAaVOHp",
        "outputId": "9da04677-2e19-4873-a1e6-6f5ba1fd4c3c"
      },
      "outputs": [
        {
          "output_type": "stream",
          "name": "stdout",
          "text": [
            "(5966, 95) (853, 95) (5966, 95) (853,)\n"
          ]
        }
      ],
      "source": [
        "X_train_val, X_test, y_train_val, y_test = train_test_split(\n",
        "        X, y,\n",
        "        test_size=TEST_TO_ALL_SIZE, stratify=y,\n",
        "        random_state=RANDOM_STATE)\n",
        "print(  X_train_val.shape,\n",
        "        X_test.shape,\n",
        "        X_train_val.shape,\n",
        "        y_test.shape\n",
        ")"
      ]
    },
    {
      "cell_type": "code",
      "source": [
        "X_train, X_val, y_train, y_val = train_test_split(\n",
        "        X_train_val, y_train_val,\n",
        "        test_size=VAL_TO_TRAIN_SIZE,\n",
        "        stratify=y_train_val,\n",
        "        random_state=RANDOM_STATE)\n",
        "print(  X_train.shape,\n",
        "        X_val.shape,\n",
        "        y_train.shape,\n",
        "        y_val.shape\n",
        ")"
      ],
      "metadata": {
        "colab": {
          "base_uri": "https://localhost:8080/"
        },
        "id": "h1fAEmIB5OAp",
        "outputId": "862e0ce4-56e5-4322-fad6-26629e856683"
      },
      "execution_count": 14,
      "outputs": [
        {
          "output_type": "stream",
          "name": "stdout",
          "text": [
            "(5369, 95) (597, 95) (5369,) (597,)\n"
          ]
        }
      ]
    },
    {
      "cell_type": "code",
      "execution_count": 15,
      "metadata": {
        "colab": {
          "base_uri": "https://localhost:8080/",
          "height": 282
        },
        "id": "noTjouT8YbIs",
        "outputId": "53b1d384-9a2e-40bb-cd3b-cac3fc3cd0ab"
      },
      "outputs": [
        {
          "output_type": "stream",
          "name": "stdout",
          "text": [
            "(array([0, 1]), array([6599,  220]))\n",
            "(array([0, 1]), array([5196,  173]))\n",
            "(array([0, 1]), array([578,  19]))\n",
            "(array([0, 1]), array([825,  28]))\n"
          ]
        },
        {
          "output_type": "display_data",
          "data": {
            "text/plain": [
              "<Figure size 1008x216 with 4 Axes>"
            ],
            "image/png": "[encoded data removed]"
          },
          "metadata": {
            "needs_background": "light"
          }
        }
      ],
      "source": [
        "fig, ax = plt.subplots(1, 4)\n",
        "fig.set_figheight(3)\n",
        "fig.set_figwidth(14)\n",
        "\n",
        "ax[0].hist(y, bins=2)\n",
        "ax[1].hist(y_train, bins=2)\n",
        "ax[2].hist(y_val, bins=2)\n",
        "ax[3].hist(y_test, bins=2)\n",
        "\n",
        "print(np.unique(y, return_counts=True))\n",
        "print(np.unique(y_train, return_counts=True))\n",
        "print(np.unique(y_val, return_counts=True))\n",
        "print(np.unique(y_test, return_counts=True))"
      ]
    },
    {
      "cell_type": "markdown",
      "metadata": {
        "id": "R9hm3eryWaNQ"
      },
      "source": [
        "## Creating a new dataset that SMOTE oversample the training set"
      ]
    },
    {
      "cell_type": "code",
      "execution_count": 16,
      "metadata": {
        "id": "onjiEUv1WZpi"
      },
      "outputs": [],
      "source": [
        "X_train_over, y_train_over = SMOTE(\n",
        "    random_state=RANDOM_STATE).fit_resample(X_train, y_train)"
      ]
    },
    {
      "cell_type": "code",
      "execution_count": 17,
      "metadata": {
        "colab": {
          "base_uri": "https://localhost:8080/",
          "height": 282
        },
        "id": "5X9iiyACbXsF",
        "outputId": "10d67c78-7b62-466d-dd60-1ef83450aaa7"
      },
      "outputs": [
        {
          "output_type": "stream",
          "name": "stdout",
          "text": [
            "(array([0, 1]), array([5196,  173]))\n"
          ]
        },
        {
          "output_type": "display_data",
          "data": {
            "text/plain": [
              "<Figure size 432x288 with 1 Axes>"
            ],
            "image/png": "[encoded data removed]"
          },
          "metadata": {
            "needs_background": "light"
          }
        }
      ],
      "source": [
        "plt.hist(y_train_over, bins=3)\n",
        "print(np.unique(y_train, return_counts=True))"
      ]
    },
    {
      "cell_type": "markdown",
      "source": [
        "# Random forest (1/2)"
      ],
      "metadata": {
        "id": "CRy8NX1i-WGy"
      }
    },
    {
      "cell_type": "markdown",
      "source": [
        "## Setting up parameter grid and Random forest"
      ],
      "metadata": {
        "id": "_HB6Lcpw-aiz"
      }
    },
    {
      "cell_type": "code",
      "source": [
        "n_estimators_rf_1 = np.unique(np.linspace(2, 200, num=20, dtype=int))\n",
        "n_estimators_rf_1"
      ],
      "metadata": {
        "id": "R2Z_SSFF-gpW",
        "colab": {
          "base_uri": "https://localhost:8080/"
        },
        "outputId": "a33de249-b5df-484c-cb76-87007435175a"
      },
      "execution_count": 18,
      "outputs": [
        {
          "output_type": "execute_result",
          "data": {
            "text/plain": [
              "array([  2,  12,  22,  33,  43,  54,  64,  74,  85,  95, 106, 116, 127,\n",
              "       137, 147, 158, 168, 179, 189, 200])"
            ]
          },
          "metadata": {},
          "execution_count": 18
        }
      ]
    },
    {
      "cell_type": "code",
      "source": [
        "param_grid_rf_1 = {'n_estimators': n_estimators_rf_1}"
      ],
      "metadata": {
        "id": "1_brEefe-gpe"
      },
      "execution_count": 19,
      "outputs": []
    },
    {
      "cell_type": "code",
      "source": [
        "rf_1 = RandomForestClassifier(random_state=RANDOM_STATE)\n",
        "rf_1"
      ],
      "metadata": {
        "id": "EFKhuKfD-gpe",
        "colab": {
          "base_uri": "https://localhost:8080/"
        },
        "outputId": "9a9c5c7f-d64f-47cd-f500-18a7b0b4104c"
      },
      "execution_count": 20,
      "outputs": [
        {
          "output_type": "execute_result",
          "data": {
            "text/plain": [
              "RandomForestClassifier(random_state=42)"
            ]
          },
          "metadata": {},
          "execution_count": 20
        }
      ]
    },
    {
      "cell_type": "markdown",
      "source": [
        "## Performing grid search cross validation and choosing the best model"
      ],
      "metadata": {
        "id": "oK9WZUsy_MFb"
      }
    },
    {
      "cell_type": "code",
      "source": [
        "clf_rf_1 = HalvingGridSearchCV(rf_1, param_grid_rf_1, scoring=f2_scorer, \n",
        "                               random_state=RANDOM_STATE)\n",
        "clf_rf_1"
      ],
      "metadata": {
        "id": "BN53otXV_MFc",
        "colab": {
          "base_uri": "https://localhost:8080/"
        },
        "outputId": "8fb67a9a-3d7b-4349-8436-35748c3ba4ce"
      },
      "execution_count": 21,
      "outputs": [
        {
          "output_type": "execute_result",
          "data": {
            "text/plain": [
              "HalvingGridSearchCV(estimator=RandomForestClassifier(random_state=42),\n",
              "                    param_grid={'n_estimators': array([  2,  12,  22,  33,  43,  54,  64,  74,  85,  95, 106, 116, 127,\n",
              "       137, 147, 158, 168, 179, 189, 200])},\n",
              "                    random_state=42, scoring=make_scorer(fbeta_score, beta=2))"
            ]
          },
          "metadata": {},
          "execution_count": 21
        }
      ]
    },
    {
      "cell_type": "code",
      "source": [
        "clf_rf_1.fit(X_train_over, y_train_over)"
      ],
      "metadata": {
        "id": "bYBQ8gKP_MFd",
        "colab": {
          "base_uri": "https://localhost:8080/"
        },
        "outputId": "5dd61510-ee23-4e9b-f55a-a1856626d759"
      },
      "execution_count": 22,
      "outputs": [
        {
          "output_type": "execute_result",
          "data": {
            "text/plain": [
              "HalvingGridSearchCV(estimator=RandomForestClassifier(random_state=42),\n",
              "                    param_grid={'n_estimators': array([  2,  12,  22,  33,  43,  54,  64,  74,  85,  95, 106, 116, 127,\n",
              "       137, 147, 158, 168, 179, 189, 200])},\n",
              "                    random_state=42, scoring=make_scorer(fbeta_score, beta=2))"
            ]
          },
          "metadata": {},
          "execution_count": 22
        }
      ]
    },
    {
      "cell_type": "code",
      "source": [
        "clf_rf_1.cv_results_"
      ],
      "metadata": {
        "id": "wHf_F-cb_MFd",
        "colab": {
          "base_uri": "https://localhost:8080/"
        },
        "outputId": "37077f87-75a0-42c0-e1ad-52d0dacdf6ab"
      },
      "execution_count": 23,
      "outputs": [
        {
          "output_type": "execute_result",
          "data": {
            "text/plain": [
              "{'iter': array([0, 0, 0, 0, 0, 0, 0, 0, 0, 0, 0, 0, 0, 0, 0, 0, 0, 0, 0, 0, 1, 1,\n",
              "        1, 1, 1, 1, 1, 2, 2, 2]),\n",
              " 'mean_fit_time': array([1.18197441e-02, 6.85603619e-02, 1.19018030e-01, 2.81752443e-01,\n",
              "        4.40097237e-01, 5.23783064e-01, 7.07353449e-01, 8.08557272e-01,\n",
              "        9.19227600e-01, 1.11830759e+00, 6.29829931e-01, 6.09542704e-01,\n",
              "        6.67465162e-01, 7.18604660e-01, 7.70296288e-01, 8.32030106e-01,\n",
              "        8.87933016e-01, 9.50814486e-01, 1.00087514e+00, 1.05266366e+00,\n",
              "        4.08448744e-01, 7.97727680e-01, 1.96623354e+00, 2.36142182e+00,\n",
              "        3.66338439e+00, 3.11501484e+00, 6.16274118e-01, 7.66993818e+00,\n",
              "        1.30448896e+01, 9.28098125e+00]),\n",
              " 'mean_score_time': array([0.00165501, 0.00296173, 0.00415792, 0.0120532 , 0.01167278,\n",
              "        0.01446986, 0.02445259, 0.02428503, 0.0279954 , 0.03894548,\n",
              "        0.01349001, 0.0154047 , 0.01592522, 0.01710649, 0.01830697,\n",
              "        0.01925416, 0.02100363, 0.02590971, 0.02288747, 0.02466187,\n",
              "        0.00611162, 0.01070051, 0.02173443, 0.02529564, 0.03501406,\n",
              "        0.03405156, 0.00808568, 0.04543161, 0.07839327, 0.05357094]),\n",
              " 'mean_test_score': array([0.80654247, 0.928546  , 0.94460651, 0.94606293, 0.94473196,\n",
              "        0.94114126, 0.9396902 , 0.9403933 , 0.94363584, 0.94441824,\n",
              "        0.94475607, 0.94301074, 0.94476492, 0.94149097, 0.94248287,\n",
              "        0.94248287, 0.94513934, 0.94510469, 0.94236222, 0.94334401,\n",
              "        0.9733436 , 0.97313343, 0.97368601, 0.97394236, 0.973928  ,\n",
              "        0.97240974, 0.97219844, 0.98875467, 0.98925285, 0.98853068]),\n",
              " 'mean_train_score': array([0.92857197, 0.99660229, 0.99886299, 0.99973826, 0.99973826,\n",
              "        1.        , 1.        , 1.        , 1.        , 1.        ,\n",
              "        1.        , 1.        , 1.        , 1.        , 1.        ,\n",
              "        1.        , 1.        , 1.        , 1.        , 1.        ,\n",
              "        0.99976952, 0.9999711 , 1.        , 1.        , 1.        ,\n",
              "        1.        , 0.99979816, 1.        , 1.        , 1.        ]),\n",
              " 'n_resources': array([ 1154,  1154,  1154,  1154,  1154,  1154,  1154,  1154,  1154,\n",
              "         1154,  1154,  1154,  1154,  1154,  1154,  1154,  1154,  1154,\n",
              "         1154,  1154,  3462,  3462,  3462,  3462,  3462,  3462,  3462,\n",
              "        10386, 10386, 10386]),\n",
              " 'param_n_estimators': masked_array(data=[2, 12, 22, 33, 43, 54, 64, 74, 85, 95, 106, 116, 127,\n",
              "                    137, 147, 158, 168, 179, 189, 200, 22, 43, 106, 127,\n",
              "                    179, 168, 33, 106, 179, 127],\n",
              "              mask=[False, False, False, False, False, False, False, False,\n",
              "                    False, False, False, False, False, False, False, False,\n",
              "                    False, False, False, False, False, False, False, False,\n",
              "                    False, False, False, False, False, False],\n",
              "        fill_value='?',\n",
              "             dtype=object),\n",
              " 'params': [{'n_estimators': 2},\n",
              "  {'n_estimators': 12},\n",
              "  {'n_estimators': 22},\n",
              "  {'n_estimators': 33},\n",
              "  {'n_estimators': 43},\n",
              "  {'n_estimators': 54},\n",
              "  {'n_estimators': 64},\n",
              "  {'n_estimators': 74},\n",
              "  {'n_estimators': 85},\n",
              "  {'n_estimators': 95},\n",
              "  {'n_estimators': 106},\n",
              "  {'n_estimators': 116},\n",
              "  {'n_estimators': 127},\n",
              "  {'n_estimators': 137},\n",
              "  {'n_estimators': 147},\n",
              "  {'n_estimators': 158},\n",
              "  {'n_estimators': 168},\n",
              "  {'n_estimators': 179},\n",
              "  {'n_estimators': 189},\n",
              "  {'n_estimators': 200},\n",
              "  {'n_estimators': 22},\n",
              "  {'n_estimators': 43},\n",
              "  {'n_estimators': 106},\n",
              "  {'n_estimators': 127},\n",
              "  {'n_estimators': 179},\n",
              "  {'n_estimators': 168},\n",
              "  {'n_estimators': 33},\n",
              "  {'n_estimators': 106},\n",
              "  {'n_estimators': 179},\n",
              "  {'n_estimators': 127}],\n",
              " 'rank_test_score': array([30, 29, 17, 11, 16, 26, 28, 27, 19, 18, 15, 21, 14, 25, 22, 22, 12,\n",
              "        13, 24, 20,  7,  8,  6,  4,  5,  9, 10,  2,  1,  3], dtype=int32),\n",
              " 'split0_test_score': array([0.72425829, 0.92775041, 0.94417077, 0.93442623, 0.93442623,\n",
              "        0.92927632, 0.92927632, 0.92775041, 0.93442623, 0.93442623,\n",
              "        0.93442623, 0.93289689, 0.92775041, 0.91803279, 0.92471358,\n",
              "        0.92471358, 0.92471358, 0.92622951, 0.92471358, 0.92471358,\n",
              "        0.96164854, 0.96230725, 0.96561605, 0.96451059, 0.96395881,\n",
              "        0.96164854, 0.96285714, 0.98659004, 0.98869515, 0.98754789]),\n",
              " 'split0_train_score': array([0.92424242, 0.99914785, 0.99957374, 1.        , 1.        ,\n",
              "        1.        , 1.        , 1.        , 1.        , 1.        ,\n",
              "        1.        , 1.        , 1.        , 1.        , 1.        ,\n",
              "        1.        , 1.        , 1.        , 1.        , 1.        ,\n",
              "        0.99971273, 1.        , 1.        , 1.        , 1.        ,\n",
              "        1.        , 0.99985634, 1.        , 1.        , 1.        ]),\n",
              " 'split1_test_score': array([0.87883959, 0.93333333, 0.9602649 , 0.96217105, 0.95709571,\n",
              "        0.95709571, 0.95709571, 0.96217105, 0.96217105, 0.95551895,\n",
              "        0.95551895, 0.95551895, 0.96217105, 0.95551895, 0.95551895,\n",
              "        0.95551895, 0.96880131, 0.96880131, 0.96217105, 0.96880131,\n",
              "        0.97617664, 0.97737819, 0.97857556, 0.97800926, 0.97327135,\n",
              "        0.97327135, 0.97327135, 0.98740698, 0.98893763, 0.98665396]),\n",
              " 'split1_train_score': array([0.95269097, 0.99441581, 0.999571  , 0.999571  , 0.999571  ,\n",
              "        1.        , 1.        , 1.        , 1.        , 1.        ,\n",
              "        1.        , 1.        , 1.        , 1.        , 1.        ,\n",
              "        1.        , 1.        , 1.        , 1.        , 1.        ,\n",
              "        0.99985488, 1.        , 1.        , 1.        , 1.        ,\n",
              "        1.        , 1.        , 1.        , 1.        , 1.        ]),\n",
              " 'split2_test_score': array([0.83948339, 0.8892922 , 0.90827338, 0.91964286, 0.9252669 ,\n",
              "        0.91800357, 0.91800357, 0.91071429, 0.92362345, 0.93250444,\n",
              "        0.93250444, 0.93085106, 0.93085106, 0.93085106, 0.93085106,\n",
              "        0.93085106, 0.93085106, 0.93085106, 0.93085106, 0.93085106,\n",
              "        0.9735023 , 0.97462514, 0.9694172 , 0.9735023 , 0.97174164,\n",
              "        0.97174164, 0.9735023 , 0.99025043, 0.98987197, 0.98987197]),\n",
              " 'split2_train_score': array([0.91946309, 0.9956044 , 0.99956063, 1.        , 1.        ,\n",
              "        1.        , 1.        , 1.        , 1.        , 1.        ,\n",
              "        1.        , 1.        , 1.        , 1.        , 1.        ,\n",
              "        1.        , 1.        , 1.        , 1.        , 1.        ,\n",
              "        0.99985551, 0.99985551, 1.        , 1.        , 1.        ,\n",
              "        1.        , 0.99971107, 1.        , 1.        , 1.        ]),\n",
              " 'split3_test_score': array([0.78007519, 0.95878136, 0.96050269, 0.97321429, 0.96601073,\n",
              "        0.95878136, 0.95152603, 0.95878136, 0.95878136, 0.95878136,\n",
              "        0.95878136, 0.95323741, 0.96050269, 0.96050269, 0.95878136,\n",
              "        0.95878136, 0.95878136, 0.95878136, 0.95152603, 0.95878136,\n",
              "        0.97971014, 0.97447796, 0.97857556, 0.97800926, 0.98265896,\n",
              "        0.97681159, 0.97624565, 0.99004213, 0.99023176, 0.98966309]),\n",
              " 'split3_train_score': array([0.92318059, 0.99779249, 0.99955869, 0.99955869, 0.99955869,\n",
              "        1.        , 1.        , 1.        , 1.        , 1.        ,\n",
              "        1.        , 1.        , 1.        , 1.        , 1.        ,\n",
              "        1.        , 1.        , 1.        , 1.        , 1.        ,\n",
              "        0.9998553 , 1.        , 1.        , 1.        , 1.        ,\n",
              "        1.        , 0.99971065, 1.        , 1.        , 1.        ]),\n",
              " 'split4_test_score': array([0.81005587, 0.93357271, 0.94982079, 0.94086022, 0.94086022,\n",
              "        0.94254937, 0.94254937, 0.94254937, 0.9391771 , 0.94086022,\n",
              "        0.94254937, 0.94254937, 0.94254937, 0.94254937, 0.94254937,\n",
              "        0.94254937, 0.94254937, 0.94086022, 0.94254937, 0.93357271,\n",
              "        0.97568037, 0.97687861, 0.97624565, 0.97568037, 0.97800926,\n",
              "        0.97857556, 0.97511574, 0.98948375, 0.98852772, 0.98891649]),\n",
              " 'split4_train_score': array([0.92328278, 0.9960509 , 0.9960509 , 0.9995616 , 0.9995616 ,\n",
              "        1.        , 1.        , 1.        , 1.        , 1.        ,\n",
              "        1.        , 1.        , 1.        , 1.        , 1.        ,\n",
              "        1.        , 1.        , 1.        , 1.        , 1.        ,\n",
              "        0.99956915, 1.        , 1.        , 1.        , 1.        ,\n",
              "        1.        , 0.99971273, 1.        , 1.        , 1.        ]),\n",
              " 'std_fit_time': array([0.00085898, 0.00749729, 0.00333344, 0.03502737, 0.05809082,\n",
              "        0.08664659, 0.17805116, 0.05800497, 0.14758905, 0.03975427,\n",
              "        0.14413848, 0.01289134, 0.00955192, 0.0116888 , 0.01269912,\n",
              "        0.01772735, 0.01982091, 0.01771268, 0.02119592, 0.01612866,\n",
              "        0.01074218, 0.02315698, 0.04861752, 0.06078873, 0.4098634 ,\n",
              "        0.07727531, 0.01670606, 0.09324752, 0.13838767, 0.18603543]),\n",
              " 'std_score_time': array([7.11524450e-05, 1.09663175e-04, 6.76657970e-05, 4.66489472e-03,\n",
              "        1.02636920e-03, 1.40282698e-03, 1.23852587e-02, 8.82057262e-03,\n",
              "        1.50671967e-02, 2.16229437e-02, 1.30731271e-04, 9.76429067e-04,\n",
              "        2.61513400e-04, 3.40011022e-04, 3.90380731e-04, 1.88195454e-04,\n",
              "        7.17687567e-04, 4.53197364e-03, 3.08926562e-04, 5.47511240e-04,\n",
              "        1.42981194e-04, 1.02674940e-03, 5.51085335e-04, 2.81117510e-04,\n",
              "        1.62837174e-04, 2.31258099e-03, 5.92350756e-05, 1.04305419e-03,\n",
              "        3.57067441e-03, 1.29488345e-03]),\n",
              " 'std_test_score': array([0.05252718, 0.02237792, 0.01921119, 0.01927262, 0.01487101,\n",
              "        0.01577232, 0.01435251, 0.01927551, 0.01468424, 0.01080707,\n",
              "        0.01071658, 0.01011336, 0.01441283, 0.01563869, 0.01331639,\n",
              "        0.01331639, 0.0165775 , 0.01628518, 0.01356747, 0.01723387,\n",
              "        0.00617769, 0.00553685, 0.00524813, 0.00500504, 0.00628462,\n",
              "        0.00590569, 0.00479587, 0.0014784 , 0.00067495, 0.00124243]),\n",
              " 'std_train_score': array([1.21695146e-02, 1.67194402e-03, 1.40605893e-03, 2.13750318e-04,\n",
              "        2.13750318e-04, 0.00000000e+00, 0.00000000e+00, 0.00000000e+00,\n",
              "        0.00000000e+00, 0.00000000e+00, 0.00000000e+00, 0.00000000e+00,\n",
              "        0.00000000e+00, 0.00000000e+00, 0.00000000e+00, 0.00000000e+00,\n",
              "        0.00000000e+00, 0.00000000e+00, 0.00000000e+00, 0.00000000e+00,\n",
              "        1.14379593e-04, 5.77951163e-05, 0.00000000e+00, 0.00000000e+00,\n",
              "        0.00000000e+00, 0.00000000e+00, 1.15470495e-04, 0.00000000e+00,\n",
              "        0.00000000e+00, 0.00000000e+00])}"
            ]
          },
          "metadata": {},
          "execution_count": 23
        }
      ]
    },
    {
      "cell_type": "code",
      "source": [
        "show_cv_results('n_estimators', clf_rf_1.cv_results_)"
      ],
      "metadata": {
        "id": "Trx1tu4HGxZU",
        "colab": {
          "base_uri": "https://localhost:8080/",
          "height": 1000
        },
        "outputId": "e9a5fbd2-765a-4bdb-cb0b-c64be1d7efcb"
      },
      "execution_count": 24,
      "outputs": [
        {
          "output_type": "execute_result",
          "data": {
            "text/plain": [
              "    iter  n_estimators  mean_test_score  rank_test_score\n",
              "0      0             2         0.806542               30\n",
              "1      0            12         0.928546               29\n",
              "2      0            22         0.944607               17\n",
              "3      0            33         0.946063               11\n",
              "4      0            43         0.944732               16\n",
              "5      0            54         0.941141               26\n",
              "6      0            64         0.939690               28\n",
              "7      0            74         0.940393               27\n",
              "8      0            85         0.943636               19\n",
              "9      0            95         0.944418               18\n",
              "10     0           106         0.944756               15\n",
              "11     0           116         0.943011               21\n",
              "12     0           127         0.944765               14\n",
              "13     0           137         0.941491               25\n",
              "14     0           147         0.942483               22\n",
              "15     0           158         0.942483               22\n",
              "16     0           168         0.945139               12\n",
              "17     0           179         0.945105               13\n",
              "18     0           189         0.942362               24\n",
              "19     0           200         0.943344               20\n",
              "20     1            22         0.973344                7\n",
              "21     1            43         0.973133                8\n",
              "22     1           106         0.973686                6\n",
              "23     1           127         0.973942                4\n",
              "24     1           179         0.973928                5\n",
              "25     1           168         0.972410                9\n",
              "26     1            33         0.972198               10\n",
              "27     2           106         0.988755                2\n",
              "28     2           179         0.989253                1\n",
              "29     2           127         0.988531                3"
            ],
            "text/html": [
              "\n",
              "  <div id=\"df-523308ba-41d4-4952-9104-dac5ec4a4b73\">\n",
              "    <div class=\"colab-df-container\">\n",
              "      <div>\n",
              "<style scoped>\n",
              "    .dataframe tbody tr th:only-of-type {\n",
              "        vertical-align: middle;\n",
              "    }\n",
              "\n",
              "    .dataframe tbody tr th {\n",
              "        vertical-align: top;\n",
              "    }\n",
              "\n",
              "    .dataframe thead th {\n",
              "        text-align: right;\n",
              "    }\n",
              "</style>\n",
              "<table border=\"1\" class=\"dataframe\">\n",
              "  <thead>\n",
              "    <tr style=\"text-align: right;\">\n",
              "      <th></th>\n",
              "      <th>iter</th>\n",
              "      <th>n_estimators</th>\n",
              "      <th>mean_test_score</th>\n",
              "      <th>rank_test_score</th>\n",
              "    </tr>\n",
              "  </thead>\n",
              "  <tbody>\n",
              "    <tr>\n",
              "      <th>0</th>\n",
              "      <td>0</td>\n",
              "      <td>2</td>\n",
              "      <td>0.806542</td>\n",
              "      <td>30</td>\n",
              "    </tr>\n",
              "    <tr>\n",
              "      <th>1</th>\n",
              "      <td>0</td>\n",
              "      <td>12</td>\n",
              "      <td>0.928546</td>\n",
              "      <td>29</td>\n",
              "    </tr>\n",
              "    <tr>\n",
              "      <th>2</th>\n",
              "      <td>0</td>\n",
              "      <td>22</td>\n",
              "      <td>0.944607</td>\n",
              "      <td>17</td>\n",
              "    </tr>\n",
              "    <tr>\n",
              "      <th>3</th>\n",
              "      <td>0</td>\n",
              "      <td>33</td>\n",
              "      <td>0.946063</td>\n",
              "      <td>11</td>\n",
              "    </tr>\n",
              "    <tr>\n",
              "      <th>4</th>\n",
              "      <td>0</td>\n",
              "      <td>43</td>\n",
              "      <td>0.944732</td>\n",
              "      <td>16</td>\n",
              "    </tr>\n",
              "    <tr>\n",
              "      <th>5</th>\n",
              "      <td>0</td>\n",
              "      <td>54</td>\n",
              "      <td>0.941141</td>\n",
              "      <td>26</td>\n",
              "    </tr>\n",
              "    <tr>\n",
              "      <th>6</th>\n",
              "      <td>0</td>\n",
              "      <td>64</td>\n",
              "      <td>0.939690</td>\n",
              "      <td>28</td>\n",
              "    </tr>\n",
              "    <tr>\n",
              "      <th>7</th>\n",
              "      <td>0</td>\n",
              "      <td>74</td>\n",
              "      <td>0.940393</td>\n",
              "      <td>27</td>\n",
              "    </tr>\n",
              "    <tr>\n",
              "      <th>8</th>\n",
              "      <td>0</td>\n",
              "      <td>85</td>\n",
              "      <td>0.943636</td>\n",
              "      <td>19</td>\n",
              "    </tr>\n",
              "    <tr>\n",
              "      <th>9</th>\n",
              "      <td>0</td>\n",
              "      <td>95</td>\n",
              "      <td>0.944418</td>\n",
              "      <td>18</td>\n",
              "    </tr>\n",
              "    <tr>\n",
              "      <th>10</th>\n",
              "      <td>0</td>\n",
              "      <td>106</td>\n",
              "      <td>0.944756</td>\n",
              "      <td>15</td>\n",
              "    </tr>\n",
              "    <tr>\n",
              "      <th>11</th>\n",
              "      <td>0</td>\n",
              "      <td>116</td>\n",
              "      <td>0.943011</td>\n",
              "      <td>21</td>\n",
              "    </tr>\n",
              "    <tr>\n",
              "      <th>12</th>\n",
              "      <td>0</td>\n",
              "      <td>127</td>\n",
              "      <td>0.944765</td>\n",
              "      <td>14</td>\n",
              "    </tr>\n",
              "    <tr>\n",
              "      <th>13</th>\n",
              "      <td>0</td>\n",
              "      <td>137</td>\n",
              "      <td>0.941491</td>\n",
              "      <td>25</td>\n",
              "    </tr>\n",
              "    <tr>\n",
              "      <th>14</th>\n",
              "      <td>0</td>\n",
              "      <td>147</td>\n",
              "      <td>0.942483</td>\n",
              "      <td>22</td>\n",
              "    </tr>\n",
              "    <tr>\n",
              "      <th>15</th>\n",
              "      <td>0</td>\n",
              "      <td>158</td>\n",
              "      <td>0.942483</td>\n",
              "      <td>22</td>\n",
              "    </tr>\n",
              "    <tr>\n",
              "      <th>16</th>\n",
              "      <td>0</td>\n",
              "      <td>168</td>\n",
              "      <td>0.945139</td>\n",
              "      <td>12</td>\n",
              "    </tr>\n",
              "    <tr>\n",
              "      <th>17</th>\n",
              "      <td>0</td>\n",
              "      <td>179</td>\n",
              "      <td>0.945105</td>\n",
              "      <td>13</td>\n",
              "    </tr>\n",
              "    <tr>\n",
              "      <th>18</th>\n",
              "      <td>0</td>\n",
              "      <td>189</td>\n",
              "      <td>0.942362</td>\n",
              "      <td>24</td>\n",
              "    </tr>\n",
              "    <tr>\n",
              "      <th>19</th>\n",
              "      <td>0</td>\n",
              "      <td>200</td>\n",
              "      <td>0.943344</td>\n",
              "      <td>20</td>\n",
              "    </tr>\n",
              "    <tr>\n",
              "      <th>20</th>\n",
              "      <td>1</td>\n",
              "      <td>22</td>\n",
              "      <td>0.973344</td>\n",
              "      <td>7</td>\n",
              "    </tr>\n",
              "    <tr>\n",
              "      <th>21</th>\n",
              "      <td>1</td>\n",
              "      <td>43</td>\n",
              "      <td>0.973133</td>\n",
              "      <td>8</td>\n",
              "    </tr>\n",
              "    <tr>\n",
              "      <th>22</th>\n",
              "      <td>1</td>\n",
              "      <td>106</td>\n",
              "      <td>0.973686</td>\n",
              "      <td>6</td>\n",
              "    </tr>\n",
              "    <tr>\n",
              "      <th>23</th>\n",
              "      <td>1</td>\n",
              "      <td>127</td>\n",
              "      <td>0.973942</td>\n",
              "      <td>4</td>\n",
              "    </tr>\n",
              "    <tr>\n",
              "      <th>24</th>\n",
              "      <td>1</td>\n",
              "      <td>179</td>\n",
              "      <td>0.973928</td>\n",
              "      <td>5</td>\n",
              "    </tr>\n",
              "    <tr>\n",
              "      <th>25</th>\n",
              "      <td>1</td>\n",
              "      <td>168</td>\n",
              "      <td>0.972410</td>\n",
              "      <td>9</td>\n",
              "    </tr>\n",
              "    <tr>\n",
              "      <th>26</th>\n",
              "      <td>1</td>\n",
              "      <td>33</td>\n",
              "      <td>0.972198</td>\n",
              "      <td>10</td>\n",
              "    </tr>\n",
              "    <tr>\n",
              "      <th>27</th>\n",
              "      <td>2</td>\n",
              "      <td>106</td>\n",
              "      <td>0.988755</td>\n",
              "      <td>2</td>\n",
              "    </tr>\n",
              "    <tr>\n",
              "      <th>28</th>\n",
              "      <td>2</td>\n",
              "      <td>179</td>\n",
              "      <td>0.989253</td>\n",
              "      <td>1</td>\n",
              "    </tr>\n",
              "    <tr>\n",
              "      <th>29</th>\n",
              "      <td>2</td>\n",
              "      <td>127</td>\n",
              "      <td>0.988531</td>\n",
              "      <td>3</td>\n",
              "    </tr>\n",
              "  </tbody>\n",
              "</table>\n",
              "</div>\n",
              "      <button class=\"colab-df-convert\" onclick=\"convertToInteractive('df-523308ba-41d4-4952-9104-dac5ec4a4b73')\"\n",
              "              title=\"Convert this dataframe to an interactive table.\"\n",
              "              style=\"display:none;\">\n",
              "        \n",
              "  <svg xmlns=\"http://www.w3.org/2000/svg\" height=\"24px\"viewBox=\"0 0 24 24\"\n",
              "       width=\"24px\">\n",
              "    <path d=\"M0 0h24v24H0V0z\" fill=\"none\"/>\n",
              "    <path d=\"M18.56 5.44l.94 2.06.94-2.06 2.06-.94-2.06-.94-.94-2.06-.94 2.06-2.06.94zm-11 1L8.5 8.5l.94-2.06 2.06-.94-2.06-.94L8.5 2.5l-.94 2.06-2.06.94zm10 10l.94 2.06.94-2.06 2.06-.94-2.06-.94-.94-2.06-.94 2.06-2.06.94z\"/><path d=\"M17.41 7.96l-1.37-1.37c-.4-.4-.92-.59-1.43-.59-.52 0-1.04.2-1.43.59L10.3 9.45l-7.72 7.72c-.78.78-.78 2.05 0 2.83L4 21.41c.39.39.9.59 1.41.59.51 0 1.02-.2 1.41-.59l7.78-7.78 2.81-2.81c.8-.78.8-2.07 0-2.86zM5.41 20L4 18.59l7.72-7.72 1.47 1.35L5.41 20z\"/>\n",
              "  </svg>\n",
              "      </button>\n",
              "      \n",
              "  <style>\n",
              "    .colab-df-container {\n",
              "      display:flex;\n",
              "      flex-wrap:wrap;\n",
              "      gap: 12px;\n",
              "    }\n",
              "\n",
              "    .colab-df-convert {\n",
              "      background-color: #E8F0FE;\n",
              "      border: none;\n",
              "      border-radius: 50%;\n",
              "      cursor: pointer;\n",
              "      display: none;\n",
              "      fill: #1967D2;\n",
              "      height: 32px;\n",
              "      padding: 0 0 0 0;\n",
              "      width: 32px;\n",
              "    }\n",
              "\n",
              "    .colab-df-convert:hover {\n",
              "      background-color: #E2EBFA;\n",
              "      box-shadow: 0px 1px 2px rgba(60, 64, 67, 0.3), 0px 1px 3px 1px rgba(60, 64, 67, 0.15);\n",
              "      fill: #174EA6;\n",
              "    }\n",
              "\n",
              "    [theme=dark] .colab-df-convert {\n",
              "      background-color: #3B4455;\n",
              "      fill: #D2E3FC;\n",
              "    }\n",
              "\n",
              "    [theme=dark] .colab-df-convert:hover {\n",
              "      background-color: #434B5C;\n",
              "      box-shadow: 0px 1px 3px 1px rgba(0, 0, 0, 0.15);\n",
              "      filter: drop-shadow(0px 1px 2px rgba(0, 0, 0, 0.3));\n",
              "      fill: #FFFFFF;\n",
              "    }\n",
              "  </style>\n",
              "\n",
              "      <script>\n",
              "        const buttonEl =\n",
              "          document.querySelector('#df-523308ba-41d4-4952-9104-dac5ec4a4b73 button.colab-df-convert');\n",
              "        buttonEl.style.display =\n",
              "          google.colab.kernel.accessAllowed ? 'block' : 'none';\n",
              "\n",
              "        async function convertToInteractive(key) {\n",
              "          const element = document.querySelector('#df-523308ba-41d4-4952-9104-dac5ec4a4b73');\n",
              "          const dataTable =\n",
              "            await google.colab.kernel.invokeFunction('convertToInteractive',\n",
              "                                                     [key], {});\n",
              "          if (!dataTable) return;\n",
              "\n",
              "          const docLinkHtml = 'Like what you see? Visit the ' +\n",
              "            '<a target=\"_blank\" href=https://colab.research.google.com/notebooks/data_table.ipynb>data table notebook</a>'\n",
              "            + ' to learn more about interactive tables.';\n",
              "          element.innerHTML = '';\n",
              "          dataTable['output_type'] = 'display_data';\n",
              "          await google.colab.output.renderOutput(dataTable, element);\n",
              "          const docLink = document.createElement('div');\n",
              "          docLink.innerHTML = docLinkHtml;\n",
              "          element.appendChild(docLink);\n",
              "        }\n",
              "      </script>\n",
              "    </div>\n",
              "  </div>\n",
              "  "
            ]
          },
          "metadata": {},
          "execution_count": 24
        },
        {
          "output_type": "display_data",
          "data": {
            "text/plain": [
              "<Figure size 432x288 with 1 Axes>"
            ],
            "image/png": "[encoded data removed]"
          },
          "metadata": {
            "needs_background": "light"
          }
        }
      ]
    },
    {
      "cell_type": "code",
      "source": [
        "best_rf_1 = clf_rf_1.best_estimator_\n",
        "best_rf_1"
      ],
      "metadata": {
        "id": "MGUjebwU_MFd",
        "colab": {
          "base_uri": "https://localhost:8080/"
        },
        "outputId": "2efcb8ac-281b-48f2-d465-cc503c06910b"
      },
      "execution_count": 25,
      "outputs": [
        {
          "output_type": "execute_result",
          "data": {
            "text/plain": [
              "RandomForestClassifier(n_estimators=179, random_state=42)"
            ]
          },
          "metadata": {},
          "execution_count": 25
        }
      ]
    },
    {
      "cell_type": "code",
      "source": [
        "y_val_pred_best_rf_1 = best_rf_1.predict(X_val)\n",
        "f2_score(y_val, y_val_pred_best_rf_1)"
      ],
      "metadata": {
        "id": "wKc6yeWT_MFe",
        "colab": {
          "base_uri": "https://localhost:8080/"
        },
        "outputId": "f0179829-86d4-415d-d97f-90c2746c646f"
      },
      "execution_count": 26,
      "outputs": [
        {
          "output_type": "execute_result",
          "data": {
            "text/plain": [
              "0.6862745098039215"
            ]
          },
          "metadata": {},
          "execution_count": 26
        }
      ]
    },
    {
      "cell_type": "code",
      "source": [
        "best_rf_1.feature_importances_"
      ],
      "metadata": {
        "colab": {
          "base_uri": "https://localhost:8080/"
        },
        "id": "qaPmK3Y3c_2J",
        "outputId": "f42c577b-deb9-42c6-b06f-d57ecfbd294d"
      },
      "execution_count": 27,
      "outputs": [
        {
          "output_type": "execute_result",
          "data": {
            "text/plain": [
              "array([0.01680887, 0.02688682, 0.02478166, 0.00363385, 0.00360519,\n",
              "       0.0091425 , 0.02227214, 0.06300992, 0.01275598, 0.03774334,\n",
              "       0.00344026, 0.00316357, 0.00303613, 0.00962245, 0.00245658,\n",
              "       0.00495204, 0.00798044, 0.00931527, 0.05318174, 0.00310815,\n",
              "       0.00357107, 0.00405609, 0.02816495, 0.00270127, 0.00286701,\n",
              "       0.00492083, 0.00420182, 0.00415486, 0.00592711, 0.01985801,\n",
              "       0.00268352, 0.00258632, 0.00266761, 0.00847655, 0.01028741,\n",
              "       0.04762785, 0.02059202, 0.02255093, 0.00247114, 0.02474922,\n",
              "       0.00424977, 0.00785807, 0.03586905, 0.00291291, 0.00343248,\n",
              "       0.00377941, 0.00541917, 0.00440896, 0.00574849, 0.00269742,\n",
              "       0.00576672, 0.00423611, 0.00802211, 0.00244468, 0.00343775,\n",
              "       0.0030916 , 0.00438321, 0.00415612, 0.00302581, 0.00639092,\n",
              "       0.00503955, 0.00910161, 0.00369304, 0.00519992, 0.00266556,\n",
              "       0.01101786, 0.00564232, 0.03731129, 0.03328545, 0.00357868,\n",
              "       0.00596429, 0.00666626, 0.00231643, 0.0078906 , 0.00314539,\n",
              "       0.00263488, 0.00407831, 0.01066719, 0.00954696, 0.00342079,\n",
              "       0.00286761, 0.00286359, 0.00213208, 0.00688133, 0.00013685,\n",
              "       0.05692038, 0.00495842, 0.00285905, 0.00346313, 0.02601625,\n",
              "       0.02399448, 0.00854361, 0.00783596, 0.        , 0.01031759])"
            ]
          },
          "metadata": {},
          "execution_count": 27
        }
      ]
    },
    {
      "cell_type": "markdown",
      "source": [
        "# Random forest (2/2)"
      ],
      "metadata": {
        "id": "7CzFneOoiOcO"
      }
    },
    {
      "cell_type": "markdown",
      "source": [
        "## Setting up parameter grid and Random forest"
      ],
      "metadata": {
        "id": "1Pxre8R9iOcb"
      }
    },
    {
      "cell_type": "code",
      "source": [
        "n_estimators_rf_2 = np.unique(np.linspace(107, 126, num=20, dtype=int))\n",
        "n_estimators_rf_2"
      ],
      "metadata": {
        "id": "iQjfruaQiOcb",
        "colab": {
          "base_uri": "https://localhost:8080/"
        },
        "outputId": "3f4e85bf-0055-4a2d-82db-bf401290a162"
      },
      "execution_count": 28,
      "outputs": [
        {
          "output_type": "execute_result",
          "data": {
            "text/plain": [
              "array([107, 108, 109, 110, 111, 112, 113, 114, 115, 116, 117, 118, 119,\n",
              "       120, 121, 122, 123, 124, 125, 126])"
            ]
          },
          "metadata": {},
          "execution_count": 28
        }
      ]
    },
    {
      "cell_type": "code",
      "source": [
        "param_grid_rf_2 = {'n_estimators': n_estimators_rf_2}"
      ],
      "metadata": {
        "id": "8qyzRyTjiOcc"
      },
      "execution_count": 29,
      "outputs": []
    },
    {
      "cell_type": "code",
      "source": [
        "rf_2 = RandomForestClassifier(random_state=RANDOM_STATE)\n",
        "rf_2"
      ],
      "metadata": {
        "id": "ZQIqQ-aDiOcc",
        "colab": {
          "base_uri": "https://localhost:8080/"
        },
        "outputId": "a3183090-cfb8-4ead-da67-161b6b7ea225"
      },
      "execution_count": 30,
      "outputs": [
        {
          "output_type": "execute_result",
          "data": {
            "text/plain": [
              "RandomForestClassifier(random_state=42)"
            ]
          },
          "metadata": {},
          "execution_count": 30
        }
      ]
    },
    {
      "cell_type": "markdown",
      "source": [
        "## Performing grid search cross validation and choosing the best model"
      ],
      "metadata": {
        "id": "EDnLNfUciOcc"
      }
    },
    {
      "cell_type": "code",
      "source": [
        "clf_rf_2 = HalvingGridSearchCV(rf_2, param_grid_rf_2, scoring=f2_scorer, \n",
        "                               random_state=RANDOM_STATE)\n",
        "clf_rf_2"
      ],
      "metadata": {
        "id": "d5fmXmshiOcd",
        "colab": {
          "base_uri": "https://localhost:8080/"
        },
        "outputId": "f2f3b58c-cca8-437d-8e41-2ccb3ad3c223"
      },
      "execution_count": 31,
      "outputs": [
        {
          "output_type": "execute_result",
          "data": {
            "text/plain": [
              "HalvingGridSearchCV(estimator=RandomForestClassifier(random_state=42),\n",
              "                    param_grid={'n_estimators': array([107, 108, 109, 110, 111, 112, 113, 114, 115, 116, 117, 118, 119,\n",
              "       120, 121, 122, 123, 124, 125, 126])},\n",
              "                    random_state=42, scoring=make_scorer(fbeta_score, beta=2))"
            ]
          },
          "metadata": {},
          "execution_count": 31
        }
      ]
    },
    {
      "cell_type": "code",
      "source": [
        "clf_rf_2.fit(X_train_over, y_train_over)"
      ],
      "metadata": {
        "id": "NLPG6xvSiOcd",
        "colab": {
          "base_uri": "https://localhost:8080/"
        },
        "outputId": "910d27ec-4ee6-44d8-eac6-c9c6eaa03c24"
      },
      "execution_count": 32,
      "outputs": [
        {
          "output_type": "execute_result",
          "data": {
            "text/plain": [
              "HalvingGridSearchCV(estimator=RandomForestClassifier(random_state=42),\n",
              "                    param_grid={'n_estimators': array([107, 108, 109, 110, 111, 112, 113, 114, 115, 116, 117, 118, 119,\n",
              "       120, 121, 122, 123, 124, 125, 126])},\n",
              "                    random_state=42, scoring=make_scorer(fbeta_score, beta=2))"
            ]
          },
          "metadata": {},
          "execution_count": 32
        }
      ]
    },
    {
      "cell_type": "code",
      "source": [
        "clf_rf_2.cv_results_"
      ],
      "metadata": {
        "id": "eIylQeiwiOcd",
        "colab": {
          "base_uri": "https://localhost:8080/"
        },
        "outputId": "a588b823-1d64-438d-e5c9-0ee576e6ce83"
      },
      "execution_count": 33,
      "outputs": [
        {
          "output_type": "execute_result",
          "data": {
            "text/plain": [
              "{'iter': array([0, 0, 0, 0, 0, 0, 0, 0, 0, 0, 0, 0, 0, 0, 0, 0, 0, 0, 0, 0, 1, 1,\n",
              "        1, 1, 1, 1, 1, 2, 2, 2]),\n",
              " 'mean_fit_time': array([0.5775002 , 0.57380958, 0.57667975, 0.5803946 , 0.58431187,\n",
              "        0.58824539, 0.59339557, 0.59927392, 0.60516133, 0.6113399 ,\n",
              "        0.61146173, 0.62043452, 0.62194571, 0.63720136, 0.63663621,\n",
              "        0.64427428, 0.64669681, 0.65235567, 0.65674829, 0.66397686,\n",
              "        2.30717659, 2.10908871, 2.13257551, 2.28921499, 2.31688352,\n",
              "        2.33588042, 1.98733482, 8.24895043, 8.333044  , 9.1444725 ]),\n",
              " 'mean_score_time': array([0.01946483, 0.01453972, 0.01491566, 0.013873  , 0.01413817,\n",
              "        0.01518965, 0.01444464, 0.01678925, 0.01460662, 0.01475844,\n",
              "        0.01614909, 0.01808133, 0.01609368, 0.0151227 , 0.0159411 ,\n",
              "        0.01543207, 0.01574593, 0.01567264, 0.01617889, 0.01697354,\n",
              "        0.02506871, 0.02301397, 0.02303905, 0.02660155, 0.02695737,\n",
              "        0.02524362, 0.02159734, 0.04889302, 0.04969926, 0.05217881]),\n",
              " 'mean_test_score': array([0.94647253, 0.94270587, 0.94202576, 0.94133365, 0.94236359,\n",
              "        0.94133498, 0.94266846, 0.9433166 , 0.94403332, 0.94301074,\n",
              "        0.94301074, 0.94167726, 0.94137408, 0.94198144, 0.9427045 ,\n",
              "        0.94167726, 0.94403629, 0.94331186, 0.94446074, 0.94476492,\n",
              "        0.97403763, 0.97415013, 0.97439148, 0.97358763, 0.97405277,\n",
              "        0.97450198, 0.97392306, 0.98856563, 0.98875918, 0.98856619]),\n",
              " 'mean_train_score': array([1., 1., 1., 1., 1., 1., 1., 1., 1., 1., 1., 1., 1., 1., 1., 1., 1.,\n",
              "        1., 1., 1., 1., 1., 1., 1., 1., 1., 1., 1., 1., 1.]),\n",
              " 'n_resources': array([ 1154,  1154,  1154,  1154,  1154,  1154,  1154,  1154,  1154,\n",
              "         1154,  1154,  1154,  1154,  1154,  1154,  1154,  1154,  1154,\n",
              "         1154,  1154,  3462,  3462,  3462,  3462,  3462,  3462,  3462,\n",
              "        10386, 10386, 10386]),\n",
              " 'param_n_estimators': masked_array(data=[107, 108, 109, 110, 111, 112, 113, 114, 115, 116, 117,\n",
              "                    118, 119, 120, 121, 122, 123, 124, 125, 126, 124, 114,\n",
              "                    115, 123, 125, 126, 107, 114, 115, 126],\n",
              "              mask=[False, False, False, False, False, False, False, False,\n",
              "                    False, False, False, False, False, False, False, False,\n",
              "                    False, False, False, False, False, False, False, False,\n",
              "                    False, False, False, False, False, False],\n",
              "        fill_value='?',\n",
              "             dtype=object),\n",
              " 'params': [{'n_estimators': 107},\n",
              "  {'n_estimators': 108},\n",
              "  {'n_estimators': 109},\n",
              "  {'n_estimators': 110},\n",
              "  {'n_estimators': 111},\n",
              "  {'n_estimators': 112},\n",
              "  {'n_estimators': 113},\n",
              "  {'n_estimators': 114},\n",
              "  {'n_estimators': 115},\n",
              "  {'n_estimators': 116},\n",
              "  {'n_estimators': 117},\n",
              "  {'n_estimators': 118},\n",
              "  {'n_estimators': 119},\n",
              "  {'n_estimators': 120},\n",
              "  {'n_estimators': 121},\n",
              "  {'n_estimators': 122},\n",
              "  {'n_estimators': 123},\n",
              "  {'n_estimators': 124},\n",
              "  {'n_estimators': 125},\n",
              "  {'n_estimators': 126},\n",
              "  {'n_estimators': 124},\n",
              "  {'n_estimators': 114},\n",
              "  {'n_estimators': 115},\n",
              "  {'n_estimators': 123},\n",
              "  {'n_estimators': 125},\n",
              "  {'n_estimators': 126},\n",
              "  {'n_estimators': 107},\n",
              "  {'n_estimators': 114},\n",
              "  {'n_estimators': 115},\n",
              "  {'n_estimators': 126}],\n",
              " 'rank_test_score': array([11, 20, 24, 30, 23, 29, 22, 16, 15, 18, 18, 26, 28, 25, 21, 26, 14,\n",
              "        17, 13, 12,  8,  6,  5, 10,  7,  4,  9,  3,  1,  2], dtype=int32),\n",
              " 'split0_test_score': array([0.93800979, 0.93137255, 0.93137255, 0.93289689, 0.93137255,\n",
              "        0.92622951, 0.93289689, 0.93442623, 0.93800979, 0.93289689,\n",
              "        0.93289689, 0.92622951, 0.92471358, 0.92775041, 0.92471358,\n",
              "        0.92622951, 0.93137255, 0.92775041, 0.92622951, 0.92775041,\n",
              "        0.96561605, 0.96561605, 0.965063  , 0.965063  , 0.965063  ,\n",
              "        0.96561605, 0.96792669, 0.98696819, 0.98773711, 0.98773711]),\n",
              " 'split0_train_score': array([1., 1., 1., 1., 1., 1., 1., 1., 1., 1., 1., 1., 1., 1., 1., 1., 1.,\n",
              "        1., 1., 1., 1., 1., 1., 1., 1., 1., 1., 1., 1., 1.]),\n",
              " 'split1_test_score': array([0.96217105, 0.95551895, 0.95551895, 0.94884488, 0.95551895,\n",
              "        0.95551895, 0.95551895, 0.95551895, 0.95551895, 0.95551895,\n",
              "        0.95551895, 0.95551895, 0.95551895, 0.95551895, 0.96217105,\n",
              "        0.95551895, 0.96217105, 0.96217105, 0.96217105, 0.96217105,\n",
              "        0.97800926, 0.97800926, 0.97744361, 0.97687861, 0.97744361,\n",
              "        0.97800926, 0.97800926, 0.98703033, 0.98760724, 0.98684211]),\n",
              " 'split1_train_score': array([1., 1., 1., 1., 1., 1., 1., 1., 1., 1., 1., 1., 1., 1., 1., 1., 1.,\n",
              "        1., 1., 1., 1., 1., 1., 1., 1., 1., 1., 1., 1., 1.]),\n",
              " 'split2_test_score': array([0.93085106, 0.93085106, 0.93085106, 0.93085106, 0.93085106,\n",
              "        0.93085106, 0.93085106, 0.93085106, 0.93085106, 0.93085106,\n",
              "        0.93085106, 0.93085106, 0.93085106, 0.93085106, 0.93085106,\n",
              "        0.93085106, 0.93085106, 0.93085106, 0.93085106, 0.93085106,\n",
              "        0.97174164, 0.96997691, 0.97230237, 0.97174164, 0.9735023 ,\n",
              "        0.9740634 , 0.96885813, 0.98987197, 0.98987197, 0.99006116]),\n",
              " 'split2_train_score': array([1., 1., 1., 1., 1., 1., 1., 1., 1., 1., 1., 1., 1., 1., 1., 1., 1.,\n",
              "        1., 1., 1., 1., 1., 1., 1., 1., 1., 1., 1., 1., 1.]),\n",
              " 'split3_test_score': array([0.95878136, 0.95323741, 0.95152603, 0.95152603, 0.95152603,\n",
              "        0.95152603, 0.95152603, 0.95323741, 0.95323741, 0.95323741,\n",
              "        0.95323741, 0.95323741, 0.95323741, 0.95323741, 0.95323741,\n",
              "        0.95323741, 0.95323741, 0.95323741, 0.96050269, 0.96050269,\n",
              "        0.97857556, 0.98090278, 0.98090278, 0.97800926, 0.97800926,\n",
              "        0.97857556, 0.97857556, 0.98966309, 0.98966309, 0.98927409]),\n",
              " 'split3_train_score': array([1., 1., 1., 1., 1., 1., 1., 1., 1., 1., 1., 1., 1., 1., 1., 1., 1.,\n",
              "        1., 1., 1., 1., 1., 1., 1., 1., 1., 1., 1., 1., 1.]),\n",
              " 'split4_test_score': array([0.94254937, 0.94254937, 0.94086022, 0.94254937, 0.94254937,\n",
              "        0.94254937, 0.94254937, 0.94254937, 0.94254937, 0.94254937,\n",
              "        0.94254937, 0.94254937, 0.94254937, 0.94254937, 0.94254937,\n",
              "        0.94254937, 0.94254937, 0.94254937, 0.94254937, 0.94254937,\n",
              "        0.97624565, 0.97624565, 0.97624565, 0.97624565, 0.97624565,\n",
              "        0.97624565, 0.97624565, 0.98929459, 0.98891649, 0.98891649]),\n",
              " 'split4_train_score': array([1., 1., 1., 1., 1., 1., 1., 1., 1., 1., 1., 1., 1., 1., 1., 1., 1.,\n",
              "        1., 1., 1., 1., 1., 1., 1., 1., 1., 1., 1., 1., 1.]),\n",
              " 'std_fit_time': array([0.01233098, 0.01340616, 0.01172199, 0.01200346, 0.01193031,\n",
              "        0.00947877, 0.00958815, 0.00958805, 0.00866812, 0.00657815,\n",
              "        0.01264695, 0.01358925, 0.00847142, 0.01331077, 0.01347477,\n",
              "        0.00899808, 0.01295328, 0.01156894, 0.00996418, 0.01471456,\n",
              "        0.05299301, 0.05530424, 0.05521794, 0.0537889 , 0.05728114,\n",
              "        0.05571105, 0.05476168, 0.10655492, 0.09886219, 0.13095183]),\n",
              " 'std_score_time': array([6.48091907e-03, 1.38531644e-03, 1.40244478e-03, 1.00705095e-04,\n",
              "        4.45587355e-04, 2.06876178e-03, 3.64415023e-04, 4.92690785e-03,\n",
              "        3.54773659e-04, 2.08445948e-04, 2.95751482e-03, 4.19474760e-03,\n",
              "        2.06272487e-03, 1.51216513e-04, 8.73192745e-04, 7.23711576e-05,\n",
              "        4.15336481e-04, 1.97466402e-04, 1.08096528e-03, 2.36540817e-03,\n",
              "        8.68795436e-04, 4.51831341e-04, 3.06736835e-04, 2.94044081e-03,\n",
              "        3.04513695e-03, 5.73824212e-04, 3.57035381e-04, 1.26246847e-03,\n",
              "        9.50457816e-04, 4.59782955e-04]),\n",
              " 'std_test_score': array([0.01207469, 0.01043162, 0.01011973, 0.00828064, 0.01010336,\n",
              "        0.01135434, 0.00978509, 0.00982178, 0.00926166, 0.01011336,\n",
              "        0.01011336, 0.01167758, 0.01208721, 0.01128442, 0.01381369,\n",
              "        0.01167758, 0.01224714, 0.01305525, 0.01478008, 0.01441283,\n",
              "        0.00484637, 0.00557008, 0.0054136 , 0.00476494, 0.00475561,\n",
              "        0.00471355, 0.00459015, 0.00129239, 0.00094358, 0.00114181]),\n",
              " 'std_train_score': array([0., 0., 0., 0., 0., 0., 0., 0., 0., 0., 0., 0., 0., 0., 0., 0., 0.,\n",
              "        0., 0., 0., 0., 0., 0., 0., 0., 0., 0., 0., 0., 0.])}"
            ]
          },
          "metadata": {},
          "execution_count": 33
        }
      ]
    },
    {
      "cell_type": "code",
      "source": [
        "show_cv_results('n_estimators', clf_rf_2.cv_results_)"
      ],
      "metadata": {
        "id": "LVEBXNcUiOce",
        "colab": {
          "base_uri": "https://localhost:8080/",
          "height": 1000
        },
        "outputId": "408a98a9-0614-4694-930d-31160cccf9e6"
      },
      "execution_count": 34,
      "outputs": [
        {
          "output_type": "execute_result",
          "data": {
            "text/plain": [
              "    iter  n_estimators  mean_test_score  rank_test_score\n",
              "0      0           107         0.946473               11\n",
              "1      0           108         0.942706               20\n",
              "2      0           109         0.942026               24\n",
              "3      0           110         0.941334               30\n",
              "4      0           111         0.942364               23\n",
              "5      0           112         0.941335               29\n",
              "6      0           113         0.942668               22\n",
              "7      0           114         0.943317               16\n",
              "8      0           115         0.944033               15\n",
              "9      0           116         0.943011               18\n",
              "10     0           117         0.943011               18\n",
              "11     0           118         0.941677               26\n",
              "12     0           119         0.941374               28\n",
              "13     0           120         0.941981               25\n",
              "14     0           121         0.942704               21\n",
              "15     0           122         0.941677               26\n",
              "16     0           123         0.944036               14\n",
              "17     0           124         0.943312               17\n",
              "18     0           125         0.944461               13\n",
              "19     0           126         0.944765               12\n",
              "20     1           124         0.974038                8\n",
              "21     1           114         0.974150                6\n",
              "22     1           115         0.974391                5\n",
              "23     1           123         0.973588               10\n",
              "24     1           125         0.974053                7\n",
              "25     1           126         0.974502                4\n",
              "26     1           107         0.973923                9\n",
              "27     2           114         0.988566                3\n",
              "28     2           115         0.988759                1\n",
              "29     2           126         0.988566                2"
            ],
            "text/html": [
              "\n",
              "  <div id=\"df-225fddd4-719a-44a2-9c05-6b551afb180a\">\n",
              "    <div class=\"colab-df-container\">\n",
              "      <div>\n",
              "<style scoped>\n",
              "    .dataframe tbody tr th:only-of-type {\n",
              "        vertical-align: middle;\n",
              "    }\n",
              "\n",
              "    .dataframe tbody tr th {\n",
              "        vertical-align: top;\n",
              "    }\n",
              "\n",
              "    .dataframe thead th {\n",
              "        text-align: right;\n",
              "    }\n",
              "</style>\n",
              "<table border=\"1\" class=\"dataframe\">\n",
              "  <thead>\n",
              "    <tr style=\"text-align: right;\">\n",
              "      <th></th>\n",
              "      <th>iter</th>\n",
              "      <th>n_estimators</th>\n",
              "      <th>mean_test_score</th>\n",
              "      <th>rank_test_score</th>\n",
              "    </tr>\n",
              "  </thead>\n",
              "  <tbody>\n",
              "    <tr>\n",
              "      <th>0</th>\n",
              "      <td>0</td>\n",
              "      <td>107</td>\n",
              "      <td>0.946473</td>\n",
              "      <td>11</td>\n",
              "    </tr>\n",
              "    <tr>\n",
              "      <th>1</th>\n",
              "      <td>0</td>\n",
              "      <td>108</td>\n",
              "      <td>0.942706</td>\n",
              "      <td>20</td>\n",
              "    </tr>\n",
              "    <tr>\n",
              "      <th>2</th>\n",
              "      <td>0</td>\n",
              "      <td>109</td>\n",
              "      <td>0.942026</td>\n",
              "      <td>24</td>\n",
              "    </tr>\n",
              "    <tr>\n",
              "      <th>3</th>\n",
              "      <td>0</td>\n",
              "      <td>110</td>\n",
              "      <td>0.941334</td>\n",
              "      <td>30</td>\n",
              "    </tr>\n",
              "    <tr>\n",
              "      <th>4</th>\n",
              "      <td>0</td>\n",
              "      <td>111</td>\n",
              "      <td>0.942364</td>\n",
              "      <td>23</td>\n",
              "    </tr>\n",
              "    <tr>\n",
              "      <th>5</th>\n",
              "      <td>0</td>\n",
              "      <td>112</td>\n",
              "      <td>0.941335</td>\n",
              "      <td>29</td>\n",
              "    </tr>\n",
              "    <tr>\n",
              "      <th>6</th>\n",
              "      <td>0</td>\n",
              "      <td>113</td>\n",
              "      <td>0.942668</td>\n",
              "      <td>22</td>\n",
              "    </tr>\n",
              "    <tr>\n",
              "      <th>7</th>\n",
              "      <td>0</td>\n",
              "      <td>114</td>\n",
              "      <td>0.943317</td>\n",
              "      <td>16</td>\n",
              "    </tr>\n",
              "    <tr>\n",
              "      <th>8</th>\n",
              "      <td>0</td>\n",
              "      <td>115</td>\n",
              "      <td>0.944033</td>\n",
              "      <td>15</td>\n",
              "    </tr>\n",
              "    <tr>\n",
              "      <th>9</th>\n",
              "      <td>0</td>\n",
              "      <td>116</td>\n",
              "      <td>0.943011</td>\n",
              "      <td>18</td>\n",
              "    </tr>\n",
              "    <tr>\n",
              "      <th>10</th>\n",
              "      <td>0</td>\n",
              "      <td>117</td>\n",
              "      <td>0.943011</td>\n",
              "      <td>18</td>\n",
              "    </tr>\n",
              "    <tr>\n",
              "      <th>11</th>\n",
              "      <td>0</td>\n",
              "      <td>118</td>\n",
              "      <td>0.941677</td>\n",
              "      <td>26</td>\n",
              "    </tr>\n",
              "    <tr>\n",
              "      <th>12</th>\n",
              "      <td>0</td>\n",
              "      <td>119</td>\n",
              "      <td>0.941374</td>\n",
              "      <td>28</td>\n",
              "    </tr>\n",
              "    <tr>\n",
              "      <th>13</th>\n",
              "      <td>0</td>\n",
              "      <td>120</td>\n",
              "      <td>0.941981</td>\n",
              "      <td>25</td>\n",
              "    </tr>\n",
              "    <tr>\n",
              "      <th>14</th>\n",
              "      <td>0</td>\n",
              "      <td>121</td>\n",
              "      <td>0.942704</td>\n",
              "      <td>21</td>\n",
              "    </tr>\n",
              "    <tr>\n",
              "      <th>15</th>\n",
              "      <td>0</td>\n",
              "      <td>122</td>\n",
              "      <td>0.941677</td>\n",
              "      <td>26</td>\n",
              "    </tr>\n",
              "    <tr>\n",
              "      <th>16</th>\n",
              "      <td>0</td>\n",
              "      <td>123</td>\n",
              "      <td>0.944036</td>\n",
              "      <td>14</td>\n",
              "    </tr>\n",
              "    <tr>\n",
              "      <th>17</th>\n",
              "      <td>0</td>\n",
              "      <td>124</td>\n",
              "      <td>0.943312</td>\n",
              "      <td>17</td>\n",
              "    </tr>\n",
              "    <tr>\n",
              "      <th>18</th>\n",
              "      <td>0</td>\n",
              "      <td>125</td>\n",
              "      <td>0.944461</td>\n",
              "      <td>13</td>\n",
              "    </tr>\n",
              "    <tr>\n",
              "      <th>19</th>\n",
              "      <td>0</td>\n",
              "      <td>126</td>\n",
              "      <td>0.944765</td>\n",
              "      <td>12</td>\n",
              "    </tr>\n",
              "    <tr>\n",
              "      <th>20</th>\n",
              "      <td>1</td>\n",
              "      <td>124</td>\n",
              "      <td>0.974038</td>\n",
              "      <td>8</td>\n",
              "    </tr>\n",
              "    <tr>\n",
              "      <th>21</th>\n",
              "      <td>1</td>\n",
              "      <td>114</td>\n",
              "      <td>0.974150</td>\n",
              "      <td>6</td>\n",
              "    </tr>\n",
              "    <tr>\n",
              "      <th>22</th>\n",
              "      <td>1</td>\n",
              "      <td>115</td>\n",
              "      <td>0.974391</td>\n",
              "      <td>5</td>\n",
              "    </tr>\n",
              "    <tr>\n",
              "      <th>23</th>\n",
              "      <td>1</td>\n",
              "      <td>123</td>\n",
              "      <td>0.973588</td>\n",
              "      <td>10</td>\n",
              "    </tr>\n",
              "    <tr>\n",
              "      <th>24</th>\n",
              "      <td>1</td>\n",
              "      <td>125</td>\n",
              "      <td>0.974053</td>\n",
              "      <td>7</td>\n",
              "    </tr>\n",
              "    <tr>\n",
              "      <th>25</th>\n",
              "      <td>1</td>\n",
              "      <td>126</td>\n",
              "      <td>0.974502</td>\n",
              "      <td>4</td>\n",
              "    </tr>\n",
              "    <tr>\n",
              "      <th>26</th>\n",
              "      <td>1</td>\n",
              "      <td>107</td>\n",
              "      <td>0.973923</td>\n",
              "      <td>9</td>\n",
              "    </tr>\n",
              "    <tr>\n",
              "      <th>27</th>\n",
              "      <td>2</td>\n",
              "      <td>114</td>\n",
              "      <td>0.988566</td>\n",
              "      <td>3</td>\n",
              "    </tr>\n",
              "    <tr>\n",
              "      <th>28</th>\n",
              "      <td>2</td>\n",
              "      <td>115</td>\n",
              "      <td>0.988759</td>\n",
              "      <td>1</td>\n",
              "    </tr>\n",
              "    <tr>\n",
              "      <th>29</th>\n",
              "      <td>2</td>\n",
              "      <td>126</td>\n",
              "      <td>0.988566</td>\n",
              "      <td>2</td>\n",
              "    </tr>\n",
              "  </tbody>\n",
              "</table>\n",
              "</div>\n",
              "      <button class=\"colab-df-convert\" onclick=\"convertToInteractive('df-225fddd4-719a-44a2-9c05-6b551afb180a')\"\n",
              "              title=\"Convert this dataframe to an interactive table.\"\n",
              "              style=\"display:none;\">\n",
              "        \n",
              "  <svg xmlns=\"http://www.w3.org/2000/svg\" height=\"24px\"viewBox=\"0 0 24 24\"\n",
              "       width=\"24px\">\n",
              "    <path d=\"M0 0h24v24H0V0z\" fill=\"none\"/>\n",
              "    <path d=\"M18.56 5.44l.94 2.06.94-2.06 2.06-.94-2.06-.94-.94-2.06-.94 2.06-2.06.94zm-11 1L8.5 8.5l.94-2.06 2.06-.94-2.06-.94L8.5 2.5l-.94 2.06-2.06.94zm10 10l.94 2.06.94-2.06 2.06-.94-2.06-.94-.94-2.06-.94 2.06-2.06.94z\"/><path d=\"M17.41 7.96l-1.37-1.37c-.4-.4-.92-.59-1.43-.59-.52 0-1.04.2-1.43.59L10.3 9.45l-7.72 7.72c-.78.78-.78 2.05 0 2.83L4 21.41c.39.39.9.59 1.41.59.51 0 1.02-.2 1.41-.59l7.78-7.78 2.81-2.81c.8-.78.8-2.07 0-2.86zM5.41 20L4 18.59l7.72-7.72 1.47 1.35L5.41 20z\"/>\n",
              "  </svg>\n",
              "      </button>\n",
              "      \n",
              "  <style>\n",
              "    .colab-df-container {\n",
              "      display:flex;\n",
              "      flex-wrap:wrap;\n",
              "      gap: 12px;\n",
              "    }\n",
              "\n",
              "    .colab-df-convert {\n",
              "      background-color: #E8F0FE;\n",
              "      border: none;\n",
              "      border-radius: 50%;\n",
              "      cursor: pointer;\n",
              "      display: none;\n",
              "      fill: #1967D2;\n",
              "      height: 32px;\n",
              "      padding: 0 0 0 0;\n",
              "      width: 32px;\n",
              "    }\n",
              "\n",
              "    .colab-df-convert:hover {\n",
              "      background-color: #E2EBFA;\n",
              "      box-shadow: 0px 1px 2px rgba(60, 64, 67, 0.3), 0px 1px 3px 1px rgba(60, 64, 67, 0.15);\n",
              "      fill: #174EA6;\n",
              "    }\n",
              "\n",
              "    [theme=dark] .colab-df-convert {\n",
              "      background-color: #3B4455;\n",
              "      fill: #D2E3FC;\n",
              "    }\n",
              "\n",
              "    [theme=dark] .colab-df-convert:hover {\n",
              "      background-color: #434B5C;\n",
              "      box-shadow: 0px 1px 3px 1px rgba(0, 0, 0, 0.15);\n",
              "      filter: drop-shadow(0px 1px 2px rgba(0, 0, 0, 0.3));\n",
              "      fill: #FFFFFF;\n",
              "    }\n",
              "  </style>\n",
              "\n",
              "      <script>\n",
              "        const buttonEl =\n",
              "          document.querySelector('#df-225fddd4-719a-44a2-9c05-6b551afb180a button.colab-df-convert');\n",
              "        buttonEl.style.display =\n",
              "          google.colab.kernel.accessAllowed ? 'block' : 'none';\n",
              "\n",
              "        async function convertToInteractive(key) {\n",
              "          const element = document.querySelector('#df-225fddd4-719a-44a2-9c05-6b551afb180a');\n",
              "          const dataTable =\n",
              "            await google.colab.kernel.invokeFunction('convertToInteractive',\n",
              "                                                     [key], {});\n",
              "          if (!dataTable) return;\n",
              "\n",
              "          const docLinkHtml = 'Like what you see? Visit the ' +\n",
              "            '<a target=\"_blank\" href=https://colab.research.google.com/notebooks/data_table.ipynb>data table notebook</a>'\n",
              "            + ' to learn more about interactive tables.';\n",
              "          element.innerHTML = '';\n",
              "          dataTable['output_type'] = 'display_data';\n",
              "          await google.colab.output.renderOutput(dataTable, element);\n",
              "          const docLink = document.createElement('div');\n",
              "          docLink.innerHTML = docLinkHtml;\n",
              "          element.appendChild(docLink);\n",
              "        }\n",
              "      </script>\n",
              "    </div>\n",
              "  </div>\n",
              "  "
            ]
          },
          "metadata": {},
          "execution_count": 34
        },
        {
          "output_type": "display_data",
          "data": {
            "text/plain": [
              "<Figure size 432x288 with 1 Axes>"
            ],
            "image/png": "[encoded data removed]"
          },
          "metadata": {
            "needs_background": "light"
          }
        }
      ]
    },
    {
      "cell_type": "code",
      "source": [
        "best_rf_2 = clf_rf_2.best_estimator_\n",
        "best_rf_2"
      ],
      "metadata": {
        "id": "WEc4zANuiOce",
        "colab": {
          "base_uri": "https://localhost:8080/"
        },
        "outputId": "1b7527a5-edb3-4b6a-a0dd-1f50a416c8cb"
      },
      "execution_count": 35,
      "outputs": [
        {
          "output_type": "execute_result",
          "data": {
            "text/plain": [
              "RandomForestClassifier(n_estimators=115, random_state=42)"
            ]
          },
          "metadata": {},
          "execution_count": 35
        }
      ]
    },
    {
      "cell_type": "code",
      "source": [
        "y_val_pred_best_rf_2 = best_rf_2.predict(X_val)\n",
        "f2_score(y_val, y_val_pred_best_rf_2)"
      ],
      "metadata": {
        "id": "NrrFEISIiOce",
        "colab": {
          "base_uri": "https://localhost:8080/"
        },
        "outputId": "ca0b2c4b-3ebe-45bc-9260-aa87f3e0759f"
      },
      "execution_count": 36,
      "outputs": [
        {
          "output_type": "execute_result",
          "data": {
            "text/plain": [
              "0.6796116504854368"
            ]
          },
          "metadata": {},
          "execution_count": 36
        }
      ]
    },
    {
      "cell_type": "code",
      "source": [
        "best_rf_2.feature_importances_"
      ],
      "metadata": {
        "colab": {
          "base_uri": "https://localhost:8080/"
        },
        "id": "sPF-k9QS4of5",
        "outputId": "31315cfd-d5ab-4d1d-938f-b232f8378f8d"
      },
      "execution_count": 37,
      "outputs": [
        {
          "output_type": "execute_result",
          "data": {
            "text/plain": [
              "array([0.01668679, 0.02805429, 0.02006552, 0.00369455, 0.00370831,\n",
              "       0.01219975, 0.03131383, 0.05668721, 0.01120838, 0.04317696,\n",
              "       0.00332136, 0.00334176, 0.00293254, 0.00854428, 0.00221691,\n",
              "       0.00450833, 0.00945449, 0.0061331 , 0.04746206, 0.00291405,\n",
              "       0.00361378, 0.00498761, 0.03472541, 0.0027081 , 0.00301186,\n",
              "       0.00561495, 0.00293263, 0.00379407, 0.00585745, 0.01649904,\n",
              "       0.00262656, 0.0027161 , 0.00253341, 0.00592285, 0.01247111,\n",
              "       0.05160061, 0.02000059, 0.02139226, 0.00243641, 0.02824601,\n",
              "       0.00415768, 0.00574798, 0.03038315, 0.00300391, 0.00324069,\n",
              "       0.0035673 , 0.00537667, 0.00431207, 0.00551205, 0.00255151,\n",
              "       0.00546494, 0.00405767, 0.00856888, 0.00231704, 0.00347536,\n",
              "       0.00289072, 0.00428161, 0.00290935, 0.00295558, 0.00667277,\n",
              "       0.00348115, 0.00906621, 0.00350368, 0.00528218, 0.00286967,\n",
              "       0.01027672, 0.00523291, 0.04521065, 0.03851334, 0.00340946,\n",
              "       0.00554541, 0.00689739, 0.00223444, 0.00842323, 0.00344299,\n",
              "       0.00255283, 0.00399976, 0.01059735, 0.00928888, 0.0033863 ,\n",
              "       0.00280838, 0.00292536, 0.00218841, 0.00692783, 0.00014072,\n",
              "       0.05551194, 0.00533024, 0.00296389, 0.00330586, 0.02095143,\n",
              "       0.02532683, 0.00923512, 0.00759473, 0.        , 0.00881253])"
            ]
          },
          "metadata": {},
          "execution_count": 37
        }
      ]
    },
    {
      "cell_type": "markdown",
      "source": [
        "# Bagging (1/2)"
      ],
      "metadata": {
        "id": "bP1vFqzGqK-_"
      }
    },
    {
      "cell_type": "markdown",
      "source": [
        "## Setting up parameter grid and Bagging"
      ],
      "metadata": {
        "id": "ouhJlFHut-fh"
      }
    },
    {
      "cell_type": "code",
      "source": [
        "n_estimators_bagging_1 = np.unique(np.linspace(2, 20, num=10, dtype=int))\n",
        "n_estimators_bagging_1"
      ],
      "metadata": {
        "id": "XRK9noIxuqB9",
        "colab": {
          "base_uri": "https://localhost:8080/"
        },
        "outputId": "b3a23bb9-d3cc-4da0-c317-15f5b48748be"
      },
      "execution_count": 38,
      "outputs": [
        {
          "output_type": "execute_result",
          "data": {
            "text/plain": [
              "array([ 2,  4,  6,  8, 10, 12, 14, 16, 18, 20])"
            ]
          },
          "metadata": {},
          "execution_count": 38
        }
      ]
    },
    {
      "cell_type": "code",
      "source": [
        "param_grid_bagging_1 = {'n_estimators': n_estimators_bagging_1}"
      ],
      "metadata": {
        "id": "FxTrnqk4vJS_"
      },
      "execution_count": 39,
      "outputs": []
    },
    {
      "cell_type": "code",
      "source": [
        "bagging_1 = BaggingClassifier(random_state=RANDOM_STATE)\n",
        "bagging_1"
      ],
      "metadata": {
        "id": "_Z5onyXfwoBt",
        "colab": {
          "base_uri": "https://localhost:8080/"
        },
        "outputId": "51285d58-131d-4995-b8ee-57d56bd8d109"
      },
      "execution_count": 40,
      "outputs": [
        {
          "output_type": "execute_result",
          "data": {
            "text/plain": [
              "BaggingClassifier(random_state=42)"
            ]
          },
          "metadata": {},
          "execution_count": 40
        }
      ]
    },
    {
      "cell_type": "markdown",
      "source": [
        "## Performing grid search cross validation and choosing the best model"
      ],
      "metadata": {
        "id": "bRm4PfBIwoe9"
      }
    },
    {
      "cell_type": "code",
      "source": [
        "clf_bagging_1 = HalvingGridSearchCV(bagging_1, param_grid_bagging_1,\n",
        "                                    scoring=f2_scorer,\n",
        "                                    random_state=RANDOM_STATE)\n",
        "clf_bagging_1"
      ],
      "metadata": {
        "id": "UqBLAFfIwmVO",
        "colab": {
          "base_uri": "https://localhost:8080/"
        },
        "outputId": "4896c00f-eb57-4a88-ad59-a1b1ef26c7ac"
      },
      "execution_count": 41,
      "outputs": [
        {
          "output_type": "execute_result",
          "data": {
            "text/plain": [
              "HalvingGridSearchCV(estimator=BaggingClassifier(random_state=42),\n",
              "                    param_grid={'n_estimators': array([ 2,  4,  6,  8, 10, 12, 14, 16, 18, 20])},\n",
              "                    random_state=42, scoring=make_scorer(fbeta_score, beta=2))"
            ]
          },
          "metadata": {},
          "execution_count": 41
        }
      ]
    },
    {
      "cell_type": "code",
      "source": [
        "clf_bagging_1.fit(X_train_over, y_train_over)"
      ],
      "metadata": {
        "id": "JNXqVjV8yqfZ",
        "colab": {
          "base_uri": "https://localhost:8080/"
        },
        "outputId": "56548f51-3b44-41f1-bdb2-af117c4f2c6f"
      },
      "execution_count": 42,
      "outputs": [
        {
          "output_type": "execute_result",
          "data": {
            "text/plain": [
              "HalvingGridSearchCV(estimator=BaggingClassifier(random_state=42),\n",
              "                    param_grid={'n_estimators': array([ 2,  4,  6,  8, 10, 12, 14, 16, 18, 20])},\n",
              "                    random_state=42, scoring=make_scorer(fbeta_score, beta=2))"
            ]
          },
          "metadata": {},
          "execution_count": 42
        }
      ]
    },
    {
      "cell_type": "code",
      "source": [
        "clf_bagging_1.cv_results_"
      ],
      "metadata": {
        "id": "5i6KYb9Wz80z",
        "colab": {
          "base_uri": "https://localhost:8080/"
        },
        "outputId": "8034751f-a07d-4bbc-b5cb-f3e69725d6c8"
      },
      "execution_count": 43,
      "outputs": [
        {
          "output_type": "execute_result",
          "data": {
            "text/plain": [
              "{'iter': array([0, 0, 0, 0, 0, 0, 0, 0, 0, 0, 1, 1, 1, 1, 2, 2]),\n",
              " 'mean_fit_time': array([ 0.10370898,  0.19947081,  0.28589625,  0.38440056,  0.48647847,\n",
              "         0.58425016,  0.68535852,  0.78508606,  0.88578396,  0.98951483,\n",
              "         3.0266634 ,  2.58779225,  3.88414197,  4.30424323, 18.55446668,\n",
              "        20.67869325]),\n",
              " 'mean_score_time': array([0.00295944, 0.00283394, 0.00282722, 0.00315781, 0.0035398 ,\n",
              "        0.00380673, 0.00435634, 0.00453668, 0.00480685, 0.00511475,\n",
              "        0.00910583, 0.00817056, 0.01102471, 0.0131372 , 0.022018  ,\n",
              "        0.02663774]),\n",
              " 'mean_test_score': array([0.82291159, 0.88643719, 0.91274743, 0.91030833, 0.92021495,\n",
              "        0.92705792, 0.92579767, 0.92431897, 0.93109   , 0.93236499,\n",
              "        0.96059267, 0.95930885, 0.96238349, 0.96273574, 0.98287587,\n",
              "        0.98248739]),\n",
              " 'mean_train_score': array([0.93674569, 0.97347539, 0.98620623, 0.9910755 , 0.99447452,\n",
              "        0.99640337, 0.9951835 , 0.99658745, 0.99816614, 0.99896032,\n",
              "        0.99855492, 0.99841142, 0.99950871, 0.99939385, 0.99979772,\n",
              "        0.99981699]),\n",
              " 'n_resources': array([ 1154,  1154,  1154,  1154,  1154,  1154,  1154,  1154,  1154,\n",
              "         1154,  3462,  3462,  3462,  3462, 10386, 10386]),\n",
              " 'param_n_estimators': masked_array(data=[2, 4, 6, 8, 10, 12, 14, 16, 18, 20, 14, 12, 18, 20, 18,\n",
              "                    20],\n",
              "              mask=[False, False, False, False, False, False, False, False,\n",
              "                    False, False, False, False, False, False, False, False],\n",
              "        fill_value='?',\n",
              "             dtype=object),\n",
              " 'params': [{'n_estimators': 2},\n",
              "  {'n_estimators': 4},\n",
              "  {'n_estimators': 6},\n",
              "  {'n_estimators': 8},\n",
              "  {'n_estimators': 10},\n",
              "  {'n_estimators': 12},\n",
              "  {'n_estimators': 14},\n",
              "  {'n_estimators': 16},\n",
              "  {'n_estimators': 18},\n",
              "  {'n_estimators': 20},\n",
              "  {'n_estimators': 14},\n",
              "  {'n_estimators': 12},\n",
              "  {'n_estimators': 18},\n",
              "  {'n_estimators': 20},\n",
              "  {'n_estimators': 18},\n",
              "  {'n_estimators': 20}],\n",
              " 'rank_test_score': array([16, 15, 13, 14, 12,  9, 10, 11,  8,  7,  5,  6,  4,  3,  1,  2],\n",
              "       dtype=int32),\n",
              " 'split0_test_score': array([0.82342954, 0.85304054, 0.86956522, 0.875     , 0.90531561,\n",
              "        0.91735537, 0.92105263, 0.92105263, 0.91954023, 0.91803279,\n",
              "        0.9454023 , 0.9506031 , 0.94307073, 0.94718714, 0.97523517,\n",
              "        0.97502402]),\n",
              " 'split0_train_score': array([0.95350839, 0.9764454 , 0.98630723, 0.99487617, 0.99829352,\n",
              "        1.        , 0.99829352, 0.99829352, 0.99829352, 0.99829352,\n",
              "        0.99913805, 0.99899454, 0.99985634, 0.99971273, 0.99980741,\n",
              "        0.99971107]),\n",
              " 'split1_test_score': array([0.89527027, 0.93802345, 0.93178037, 0.93023256, 0.93543046,\n",
              "        0.9338843 , 0.92561983, 0.92561983, 0.93904448, 0.93904448,\n",
              "        0.97206054, 0.96445221, 0.96915017, 0.96567772, 0.98549895,\n",
              "        0.98606338]),\n",
              " 'split1_train_score': array([0.95495886, 0.98106713, 0.99099099, 0.99398884, 0.997426  ,\n",
              "        0.997426  , 0.99656357, 0.99785408, 0.999571  , 0.99914237,\n",
              "        0.99796777, 0.99782293, 0.99927431, 0.9991293 , 0.99956645,\n",
              "        0.999711  ]),\n",
              " 'split2_test_score': array([0.76350093, 0.84699454, 0.92362345, 0.90178571, 0.89605735,\n",
              "        0.90339893, 0.90339893, 0.89766607, 0.92128801, 0.91964286,\n",
              "        0.96009254, 0.9612044 , 0.96409959, 0.96409959, 0.98641408,\n",
              "        0.98584815]),\n",
              " 'split2_train_score': array([0.92675301, 0.97087379, 0.98768148, 0.99208095, 0.99428069,\n",
              "        0.99604222, 0.99648042, 0.99824099, 1.        , 1.        ,\n",
              "        0.9991337 , 0.99855596, 0.9994223 , 0.99956666, 0.99995184,\n",
              "        0.99990369]),\n",
              " 'split3_test_score': array([0.82560297, 0.8850365 , 0.9057971 , 0.91155235, 0.92224231,\n",
              "        0.93128391, 0.93297101, 0.93862816, 0.9352518 , 0.94086022,\n",
              "        0.96802326, 0.96915017, 0.97617664, 0.97383721, 0.98561841,\n",
              "        0.98619896]),\n",
              " 'split3_train_score': array([0.91073039, 0.97252991, 0.98230088, 0.98628925, 0.99027409,\n",
              "        0.99425541, 0.99204596, 0.99425541, 0.99735216, 0.99955869,\n",
              "        0.99754051, 0.99826389, 0.99942146, 0.99956604, 0.99971107,\n",
              "        0.99975921]),\n",
              " 'split4_test_score': array([0.80675422, 0.90909091, 0.93297101, 0.93297101, 0.94202899,\n",
              "        0.94936709, 0.94594595, 0.93862816, 0.9403255 , 0.9442446 ,\n",
              "        0.95738471, 0.95113438, 0.95942029, 0.96287703, 0.98161272,\n",
              "        0.97930241]),\n",
              " 'split4_train_score': array([0.93777778, 0.96646072, 0.98375055, 0.98814229, 0.99209833,\n",
              "        0.99429324, 0.99253404, 0.99429324, 0.99561404, 0.99780702,\n",
              "        0.99899454, 0.99841977, 0.99956915, 0.99899454, 0.99995184,\n",
              "        1.        ]),\n",
              " 'std_fit_time': array([0.01091272, 0.00844557, 0.00662933, 0.01141004, 0.01052983,\n",
              "        0.01490653, 0.01126888, 0.01383547, 0.02523748, 0.02439362,\n",
              "        0.11514668, 0.11288012, 0.14784069, 0.14012109, 1.03714127,\n",
              "        0.71607222]),\n",
              " 'std_score_time': array([1.54836573e-03, 7.02286239e-04, 2.90883955e-05, 4.40297603e-05,\n",
              "        2.49509343e-05, 6.31456637e-05, 3.15377926e-04, 1.68877210e-04,\n",
              "        8.14870757e-05, 8.57034376e-06, 6.00910558e-05, 2.18978939e-04,\n",
              "        9.67642298e-05, 2.23270405e-03, 2.37842933e-04, 5.98399655e-04]),\n",
              " 'std_test_score': array([0.04250642, 0.03419753, 0.02367507, 0.0211255 , 0.01741869,\n",
              "        0.01559516, 0.01401186, 0.01504822, 0.0088923 , 0.0111819 ,\n",
              "        0.00925218, 0.00734181, 0.01114224, 0.00866645, 0.00416886,\n",
              "        0.00455421]),\n",
              " 'std_train_score': array([0.01667587, 0.00496635, 0.00304508, 0.00333033, 0.00305363,\n",
              "        0.00215306, 0.00245449, 0.00189478, 0.00158295, 0.00080584,\n",
              "        0.00066964, 0.00038186, 0.00019724, 0.00027951, 0.00014737,\n",
              "        0.00011559])}"
            ]
          },
          "metadata": {},
          "execution_count": 43
        }
      ]
    },
    {
      "cell_type": "code",
      "source": [
        "show_cv_results('n_estimators', clf_bagging_1.cv_results_)"
      ],
      "metadata": {
        "colab": {
          "base_uri": "https://localhost:8080/",
          "height": 799
        },
        "id": "bXWwi55l-NV-",
        "outputId": "035c6b25-2eaf-45d6-b8a3-cb933bf61f14"
      },
      "execution_count": 44,
      "outputs": [
        {
          "output_type": "execute_result",
          "data": {
            "text/plain": [
              "    iter  n_estimators  mean_test_score  rank_test_score\n",
              "0      0             2         0.822912               16\n",
              "1      0             4         0.886437               15\n",
              "2      0             6         0.912747               13\n",
              "3      0             8         0.910308               14\n",
              "4      0            10         0.920215               12\n",
              "5      0            12         0.927058                9\n",
              "6      0            14         0.925798               10\n",
              "7      0            16         0.924319               11\n",
              "8      0            18         0.931090                8\n",
              "9      0            20         0.932365                7\n",
              "10     1            14         0.960593                5\n",
              "11     1            12         0.959309                6\n",
              "12     1            18         0.962383                4\n",
              "13     1            20         0.962736                3\n",
              "14     2            18         0.982876                1\n",
              "15     2            20         0.982487                2"
            ],
            "text/html": [
              "\n",
              "  <div id=\"df-ba756e51-7c17-4e86-81be-8b119cf33cc3\">\n",
              "    <div class=\"colab-df-container\">\n",
              "      <div>\n",
              "<style scoped>\n",
              "    .dataframe tbody tr th:only-of-type {\n",
              "        vertical-align: middle;\n",
              "    }\n",
              "\n",
              "    .dataframe tbody tr th {\n",
              "        vertical-align: top;\n",
              "    }\n",
              "\n",
              "    .dataframe thead th {\n",
              "        text-align: right;\n",
              "    }\n",
              "</style>\n",
              "<table border=\"1\" class=\"dataframe\">\n",
              "  <thead>\n",
              "    <tr style=\"text-align: right;\">\n",
              "      <th></th>\n",
              "      <th>iter</th>\n",
              "      <th>n_estimators</th>\n",
              "      <th>mean_test_score</th>\n",
              "      <th>rank_test_score</th>\n",
              "    </tr>\n",
              "  </thead>\n",
              "  <tbody>\n",
              "    <tr>\n",
              "      <th>0</th>\n",
              "      <td>0</td>\n",
              "      <td>2</td>\n",
              "      <td>0.822912</td>\n",
              "      <td>16</td>\n",
              "    </tr>\n",
              "    <tr>\n",
              "      <th>1</th>\n",
              "      <td>0</td>\n",
              "      <td>4</td>\n",
              "      <td>0.886437</td>\n",
              "      <td>15</td>\n",
              "    </tr>\n",
              "    <tr>\n",
              "      <th>2</th>\n",
              "      <td>0</td>\n",
              "      <td>6</td>\n",
              "      <td>0.912747</td>\n",
              "      <td>13</td>\n",
              "    </tr>\n",
              "    <tr>\n",
              "      <th>3</th>\n",
              "      <td>0</td>\n",
              "      <td>8</td>\n",
              "      <td>0.910308</td>\n",
              "      <td>14</td>\n",
              "    </tr>\n",
              "    <tr>\n",
              "      <th>4</th>\n",
              "      <td>0</td>\n",
              "      <td>10</td>\n",
              "      <td>0.920215</td>\n",
              "      <td>12</td>\n",
              "    </tr>\n",
              "    <tr>\n",
              "      <th>5</th>\n",
              "      <td>0</td>\n",
              "      <td>12</td>\n",
              "      <td>0.927058</td>\n",
              "      <td>9</td>\n",
              "    </tr>\n",
              "    <tr>\n",
              "      <th>6</th>\n",
              "      <td>0</td>\n",
              "      <td>14</td>\n",
              "      <td>0.925798</td>\n",
              "      <td>10</td>\n",
              "    </tr>\n",
              "    <tr>\n",
              "      <th>7</th>\n",
              "      <td>0</td>\n",
              "      <td>16</td>\n",
              "      <td>0.924319</td>\n",
              "      <td>11</td>\n",
              "    </tr>\n",
              "    <tr>\n",
              "      <th>8</th>\n",
              "      <td>0</td>\n",
              "      <td>18</td>\n",
              "      <td>0.931090</td>\n",
              "      <td>8</td>\n",
              "    </tr>\n",
              "    <tr>\n",
              "      <th>9</th>\n",
              "      <td>0</td>\n",
              "      <td>20</td>\n",
              "      <td>0.932365</td>\n",
              "      <td>7</td>\n",
              "    </tr>\n",
              "    <tr>\n",
              "      <th>10</th>\n",
              "      <td>1</td>\n",
              "      <td>14</td>\n",
              "      <td>0.960593</td>\n",
              "      <td>5</td>\n",
              "    </tr>\n",
              "    <tr>\n",
              "      <th>11</th>\n",
              "      <td>1</td>\n",
              "      <td>12</td>\n",
              "      <td>0.959309</td>\n",
              "      <td>6</td>\n",
              "    </tr>\n",
              "    <tr>\n",
              "      <th>12</th>\n",
              "      <td>1</td>\n",
              "      <td>18</td>\n",
              "      <td>0.962383</td>\n",
              "      <td>4</td>\n",
              "    </tr>\n",
              "    <tr>\n",
              "      <th>13</th>\n",
              "      <td>1</td>\n",
              "      <td>20</td>\n",
              "      <td>0.962736</td>\n",
              "      <td>3</td>\n",
              "    </tr>\n",
              "    <tr>\n",
              "      <th>14</th>\n",
              "      <td>2</td>\n",
              "      <td>18</td>\n",
              "      <td>0.982876</td>\n",
              "      <td>1</td>\n",
              "    </tr>\n",
              "    <tr>\n",
              "      <th>15</th>\n",
              "      <td>2</td>\n",
              "      <td>20</td>\n",
              "      <td>0.982487</td>\n",
              "      <td>2</td>\n",
              "    </tr>\n",
              "  </tbody>\n",
              "</table>\n",
              "</div>\n",
              "      <button class=\"colab-df-convert\" onclick=\"convertToInteractive('df-ba756e51-7c17-4e86-81be-8b119cf33cc3')\"\n",
              "              title=\"Convert this dataframe to an interactive table.\"\n",
              "              style=\"display:none;\">\n",
              "        \n",
              "  <svg xmlns=\"http://www.w3.org/2000/svg\" height=\"24px\"viewBox=\"0 0 24 24\"\n",
              "       width=\"24px\">\n",
              "    <path d=\"M0 0h24v24H0V0z\" fill=\"none\"/>\n",
              "    <path d=\"M18.56 5.44l.94 2.06.94-2.06 2.06-.94-2.06-.94-.94-2.06-.94 2.06-2.06.94zm-11 1L8.5 8.5l.94-2.06 2.06-.94-2.06-.94L8.5 2.5l-.94 2.06-2.06.94zm10 10l.94 2.06.94-2.06 2.06-.94-2.06-.94-.94-2.06-.94 2.06-2.06.94z\"/><path d=\"M17.41 7.96l-1.37-1.37c-.4-.4-.92-.59-1.43-.59-.52 0-1.04.2-1.43.59L10.3 9.45l-7.72 7.72c-.78.78-.78 2.05 0 2.83L4 21.41c.39.39.9.59 1.41.59.51 0 1.02-.2 1.41-.59l7.78-7.78 2.81-2.81c.8-.78.8-2.07 0-2.86zM5.41 20L4 18.59l7.72-7.72 1.47 1.35L5.41 20z\"/>\n",
              "  </svg>\n",
              "      </button>\n",
              "      \n",
              "  <style>\n",
              "    .colab-df-container {\n",
              "      display:flex;\n",
              "      flex-wrap:wrap;\n",
              "      gap: 12px;\n",
              "    }\n",
              "\n",
              "    .colab-df-convert {\n",
              "      background-color: #E8F0FE;\n",
              "      border: none;\n",
              "      border-radius: 50%;\n",
              "      cursor: pointer;\n",
              "      display: none;\n",
              "      fill: #1967D2;\n",
              "      height: 32px;\n",
              "      padding: 0 0 0 0;\n",
              "      width: 32px;\n",
              "    }\n",
              "\n",
              "    .colab-df-convert:hover {\n",
              "      background-color: #E2EBFA;\n",
              "      box-shadow: 0px 1px 2px rgba(60, 64, 67, 0.3), 0px 1px 3px 1px rgba(60, 64, 67, 0.15);\n",
              "      fill: #174EA6;\n",
              "    }\n",
              "\n",
              "    [theme=dark] .colab-df-convert {\n",
              "      background-color: #3B4455;\n",
              "      fill: #D2E3FC;\n",
              "    }\n",
              "\n",
              "    [theme=dark] .colab-df-convert:hover {\n",
              "      background-color: #434B5C;\n",
              "      box-shadow: 0px 1px 3px 1px rgba(0, 0, 0, 0.15);\n",
              "      filter: drop-shadow(0px 1px 2px rgba(0, 0, 0, 0.3));\n",
              "      fill: #FFFFFF;\n",
              "    }\n",
              "  </style>\n",
              "\n",
              "      <script>\n",
              "        const buttonEl =\n",
              "          document.querySelector('#df-ba756e51-7c17-4e86-81be-8b119cf33cc3 button.colab-df-convert');\n",
              "        buttonEl.style.display =\n",
              "          google.colab.kernel.accessAllowed ? 'block' : 'none';\n",
              "\n",
              "        async function convertToInteractive(key) {\n",
              "          const element = document.querySelector('#df-ba756e51-7c17-4e86-81be-8b119cf33cc3');\n",
              "          const dataTable =\n",
              "            await google.colab.kernel.invokeFunction('convertToInteractive',\n",
              "                                                     [key], {});\n",
              "          if (!dataTable) return;\n",
              "\n",
              "          const docLinkHtml = 'Like what you see? Visit the ' +\n",
              "            '<a target=\"_blank\" href=https://colab.research.google.com/notebooks/data_table.ipynb>data table notebook</a>'\n",
              "            + ' to learn more about interactive tables.';\n",
              "          element.innerHTML = '';\n",
              "          dataTable['output_type'] = 'display_data';\n",
              "          await google.colab.output.renderOutput(dataTable, element);\n",
              "          const docLink = document.createElement('div');\n",
              "          docLink.innerHTML = docLinkHtml;\n",
              "          element.appendChild(docLink);\n",
              "        }\n",
              "      </script>\n",
              "    </div>\n",
              "  </div>\n",
              "  "
            ]
          },
          "metadata": {},
          "execution_count": 44
        },
        {
          "output_type": "display_data",
          "data": {
            "text/plain": [
              "<Figure size 432x288 with 1 Axes>"
            ],
            "image/png": "[encoded data removed]"
          },
          "metadata": {
            "needs_background": "light"
          }
        }
      ]
    },
    {
      "cell_type": "code",
      "source": [
        "best_bagging_1 = clf_bagging_1.best_estimator_\n",
        "best_bagging_1"
      ],
      "metadata": {
        "id": "rcbLGjS028Jn",
        "colab": {
          "base_uri": "https://localhost:8080/"
        },
        "outputId": "9140a249-f128-49b9-896d-d3936a975061"
      },
      "execution_count": 45,
      "outputs": [
        {
          "output_type": "execute_result",
          "data": {
            "text/plain": [
              "BaggingClassifier(n_estimators=18, random_state=42)"
            ]
          },
          "metadata": {},
          "execution_count": 45
        }
      ]
    },
    {
      "cell_type": "code",
      "source": [
        "y_val_pred_best_bagging_1 = best_bagging_1.predict(X_val)\n",
        "f2_score(y_val, y_val_pred_best_bagging_1)"
      ],
      "metadata": {
        "id": "5D60HBFX3JrP",
        "colab": {
          "base_uri": "https://localhost:8080/"
        },
        "outputId": "e29f382e-f2f2-4c32-9405-eade0d399708"
      },
      "execution_count": 46,
      "outputs": [
        {
          "output_type": "execute_result",
          "data": {
            "text/plain": [
              "0.42105263157894735"
            ]
          },
          "metadata": {},
          "execution_count": 46
        }
      ]
    },
    {
      "cell_type": "markdown",
      "source": [
        "# Bagging (2/2)"
      ],
      "metadata": {
        "id": "U0tWr2BthoZe"
      }
    },
    {
      "cell_type": "markdown",
      "source": [
        "## Setting up parameter grid and Bagging"
      ],
      "metadata": {
        "id": "LVBvN0_2hoZg"
      }
    },
    {
      "cell_type": "code",
      "source": [
        "n_estimators_bagging_2 = np.unique(np.linspace(16, 22, num=7, dtype=int))\n",
        "n_estimators_bagging_2"
      ],
      "metadata": {
        "id": "N-A3mV0AhoZg",
        "colab": {
          "base_uri": "https://localhost:8080/"
        },
        "outputId": "e7791ec0-4770-4b57-abd6-7138559ec496"
      },
      "execution_count": 47,
      "outputs": [
        {
          "output_type": "execute_result",
          "data": {
            "text/plain": [
              "array([16, 17, 18, 19, 20, 21, 22])"
            ]
          },
          "metadata": {},
          "execution_count": 47
        }
      ]
    },
    {
      "cell_type": "code",
      "source": [
        "param_grid_bagging_2 = {'n_estimators': n_estimators_bagging_2}"
      ],
      "metadata": {
        "id": "FGcgVh_thoZh"
      },
      "execution_count": 48,
      "outputs": []
    },
    {
      "cell_type": "code",
      "source": [
        "bagging_2 = BaggingClassifier(random_state=RANDOM_STATE)\n",
        "bagging_2"
      ],
      "metadata": {
        "id": "gRz6XTQ1hoZh",
        "colab": {
          "base_uri": "https://localhost:8080/"
        },
        "outputId": "cba258bb-56cb-4e43-bbd6-b21c80e2d5d2"
      },
      "execution_count": 49,
      "outputs": [
        {
          "output_type": "execute_result",
          "data": {
            "text/plain": [
              "BaggingClassifier(random_state=42)"
            ]
          },
          "metadata": {},
          "execution_count": 49
        }
      ]
    },
    {
      "cell_type": "markdown",
      "source": [
        "## Performing grid search cross validation and choosing the best model"
      ],
      "metadata": {
        "id": "0YqSKydVhoZi"
      }
    },
    {
      "cell_type": "code",
      "source": [
        "clf_bagging_2 = HalvingGridSearchCV(bagging_2, param_grid_bagging_2, \n",
        "                                    scoring=f2_scorer,\n",
        "                                    random_state=RANDOM_STATE)\n",
        "clf_bagging_2"
      ],
      "metadata": {
        "id": "mz0k5XGvhoZi",
        "colab": {
          "base_uri": "https://localhost:8080/"
        },
        "outputId": "a7d77fa6-d5a3-4728-9055-a86a3080edc2"
      },
      "execution_count": 50,
      "outputs": [
        {
          "output_type": "execute_result",
          "data": {
            "text/plain": [
              "HalvingGridSearchCV(estimator=BaggingClassifier(random_state=42),\n",
              "                    param_grid={'n_estimators': array([16, 17, 18, 19, 20, 21, 22])},\n",
              "                    random_state=42, scoring=make_scorer(fbeta_score, beta=2))"
            ]
          },
          "metadata": {},
          "execution_count": 50
        }
      ]
    },
    {
      "cell_type": "code",
      "source": [
        "clf_bagging_2.fit(X_train_over, y_train_over)"
      ],
      "metadata": {
        "id": "xjfLUsbzhoZi",
        "colab": {
          "base_uri": "https://localhost:8080/"
        },
        "outputId": "39796f44-6f9f-4fce-8803-355415445a7c"
      },
      "execution_count": 51,
      "outputs": [
        {
          "output_type": "execute_result",
          "data": {
            "text/plain": [
              "HalvingGridSearchCV(estimator=BaggingClassifier(random_state=42),\n",
              "                    param_grid={'n_estimators': array([16, 17, 18, 19, 20, 21, 22])},\n",
              "                    random_state=42, scoring=make_scorer(fbeta_score, beta=2))"
            ]
          },
          "metadata": {},
          "execution_count": 51
        }
      ]
    },
    {
      "cell_type": "code",
      "source": [
        "clf_bagging_2.cv_results_"
      ],
      "metadata": {
        "id": "K_OFwmbbhoZj",
        "colab": {
          "base_uri": "https://localhost:8080/"
        },
        "outputId": "cdcccfa0-fa46-433d-dbec-52b2b732b1e7"
      },
      "execution_count": 52,
      "outputs": [
        {
          "output_type": "execute_result",
          "data": {
            "text/plain": [
              "{'iter': array([0, 0, 0, 0, 0, 0, 0, 1, 1, 1]),\n",
              " 'mean_fit_time': array([ 3.50483646,  3.71162286,  3.93475876,  4.13415647,  4.35593295,\n",
              "         4.57747908,  4.74241796, 22.75551906, 20.6725471 , 21.49891801]),\n",
              " 'mean_score_time': array([0.01024742, 0.01068301, 0.01129627, 0.01200914, 0.01262927,\n",
              "        0.01278429, 0.01315923, 0.02846766, 0.02509856, 0.02546258]),\n",
              " 'mean_test_score': array([0.96417609, 0.96460664, 0.96362155, 0.96622442, 0.96454854,\n",
              "        0.96633738, 0.96503221, 0.98315159, 0.98248037, 0.9834377 ]),\n",
              " 'mean_train_score': array([0.99921911, 0.9992493 , 0.99950886, 0.99945211, 0.99939385,\n",
              "        0.99950958, 0.99968277, 0.99975942, 0.99978834, 0.99974023]),\n",
              " 'n_resources': array([ 3464,  3464,  3464,  3464,  3464,  3464,  3464, 10392, 10392,\n",
              "        10392]),\n",
              " 'param_n_estimators': masked_array(data=[16, 17, 18, 19, 20, 21, 22, 22, 19, 21],\n",
              "              mask=[False, False, False, False, False, False, False, False,\n",
              "                    False, False],\n",
              "        fill_value='?',\n",
              "             dtype=object),\n",
              " 'params': [{'n_estimators': 16},\n",
              "  {'n_estimators': 17},\n",
              "  {'n_estimators': 18},\n",
              "  {'n_estimators': 19},\n",
              "  {'n_estimators': 20},\n",
              "  {'n_estimators': 21},\n",
              "  {'n_estimators': 22},\n",
              "  {'n_estimators': 22},\n",
              "  {'n_estimators': 19},\n",
              "  {'n_estimators': 21}],\n",
              " 'rank_test_score': array([ 9,  7, 10,  5,  8,  4,  6,  2,  3,  1], dtype=int32),\n",
              " 'split0_test_score': array([0.94447624, 0.95034247, 0.94447624, 0.95088521, 0.94857143,\n",
              "        0.9526526 , 0.94911378, 0.97467383, 0.97411314, 0.9746981 ]),\n",
              " 'split0_train_score': array([0.99956915, 0.99942562, 0.99971273, 0.99956915, 0.99971273,\n",
              "        0.99942562, 0.99956915, 0.99966325, 0.9997595 , 0.999519  ]),\n",
              " 'split1_test_score': array([0.97036607, 0.96699479, 0.9692397 , 0.96988998, 0.96577726,\n",
              "        0.96755504, 0.96521739, 0.98720642, 0.98627787, 0.98740698]),\n",
              " 'split1_train_score': array([0.99854862, 0.99898433, 0.99927431, 0.99970981, 0.9991293 ,\n",
              "        0.99956478, 0.99985488, 0.99927815, 0.99985565, 0.99961507]),\n",
              " 'split2_test_score': array([0.96876807, 0.96709007, 0.96587623, 0.96709007, 0.96587623,\n",
              "        0.96820809, 0.96587623, 0.98719419, 0.98529693, 0.98606338]),\n",
              " 'split2_train_score': array([0.9994223 , 0.99898946, 0.99956666, 0.99927798, 0.99956666,\n",
              "        0.9994223 , 0.99971107, 0.99990379, 0.99980759, 0.99980759]),\n",
              " 'split3_test_score': array([0.97908193, 0.97851336, 0.97965116, 0.9826087 , 0.97908193,\n",
              "        0.98317865, 0.98374927, 0.98600997, 0.98506605, 0.98755981]),\n",
              " 'split3_train_score': array([0.99884276, 0.99942146, 0.99942146, 0.99942146, 0.99956604,\n",
              "        0.99956604, 0.99956604, 0.99995189, 0.99971134, 0.99985569]),\n",
              " 'split4_test_score': array([0.95818815, 0.96009254, 0.95886443, 0.96064815, 0.96343587,\n",
              "        0.96009254, 0.9612044 , 0.98067356, 0.98164787, 0.98146024]),\n",
              " 'split4_train_score': array([0.99971273, 0.99942562, 0.99956915, 0.99928212, 0.99899454,\n",
              "        0.99956915, 0.99971273, 1.        , 0.99980759, 0.99990379]),\n",
              " 'std_fit_time': array([0.10932098, 0.14691927, 0.15852196, 0.15698092, 0.14254732,\n",
              "        0.15147469, 0.16039347, 0.7803972 , 2.32984843, 0.75439258]),\n",
              " 'std_score_time': array([2.26540029e-04, 6.99416903e-05, 3.57242917e-04, 3.71790608e-04,\n",
              "        3.48017633e-04, 1.50603368e-04, 6.05751345e-04, 1.50122069e-03,\n",
              "        3.71069202e-03, 7.69061403e-04]),\n",
              " 'std_test_score': array([0.01187877, 0.00926403, 0.01168562, 0.01047871, 0.00970565,\n",
              "        0.01014773, 0.01112766, 0.00487786, 0.0044664 , 0.00489759]),\n",
              " 'std_train_score': array([4.46915264e-04, 2.14262151e-04, 1.49123481e-04, 1.67489172e-04,\n",
              "        2.79509530e-04, 6.99287054e-05, 1.07570702e-04, 2.67070229e-04,\n",
              "        4.90552525e-05, 1.47801249e-04])}"
            ]
          },
          "metadata": {},
          "execution_count": 52
        }
      ]
    },
    {
      "cell_type": "code",
      "source": [
        "show_cv_results('n_estimators', clf_bagging_2.cv_results_)"
      ],
      "metadata": {
        "id": "0FagBJC0hoZj",
        "colab": {
          "base_uri": "https://localhost:8080/",
          "height": 611
        },
        "outputId": "72820119-c038-4642-dae9-2714b45270f9"
      },
      "execution_count": 53,
      "outputs": [
        {
          "output_type": "execute_result",
          "data": {
            "text/plain": [
              "   iter  n_estimators  mean_test_score  rank_test_score\n",
              "0     0            16         0.964176                9\n",
              "1     0            17         0.964607                7\n",
              "2     0            18         0.963622               10\n",
              "3     0            19         0.966224                5\n",
              "4     0            20         0.964549                8\n",
              "5     0            21         0.966337                4\n",
              "6     0            22         0.965032                6\n",
              "7     1            22         0.983152                2\n",
              "8     1            19         0.982480                3\n",
              "9     1            21         0.983438                1"
            ],
            "text/html": [
              "\n",
              "  <div id=\"df-25d584a3-b4b6-45ed-97b0-8cad6e7d83e1\">\n",
              "    <div class=\"colab-df-container\">\n",
              "      <div>\n",
              "<style scoped>\n",
              "    .dataframe tbody tr th:only-of-type {\n",
              "        vertical-align: middle;\n",
              "    }\n",
              "\n",
              "    .dataframe tbody tr th {\n",
              "        vertical-align: top;\n",
              "    }\n",
              "\n",
              "    .dataframe thead th {\n",
              "        text-align: right;\n",
              "    }\n",
              "</style>\n",
              "<table border=\"1\" class=\"dataframe\">\n",
              "  <thead>\n",
              "    <tr style=\"text-align: right;\">\n",
              "      <th></th>\n",
              "      <th>iter</th>\n",
              "      <th>n_estimators</th>\n",
              "      <th>mean_test_score</th>\n",
              "      <th>rank_test_score</th>\n",
              "    </tr>\n",
              "  </thead>\n",
              "  <tbody>\n",
              "    <tr>\n",
              "      <th>0</th>\n",
              "      <td>0</td>\n",
              "      <td>16</td>\n",
              "      <td>0.964176</td>\n",
              "      <td>9</td>\n",
              "    </tr>\n",
              "    <tr>\n",
              "      <th>1</th>\n",
              "      <td>0</td>\n",
              "      <td>17</td>\n",
              "      <td>0.964607</td>\n",
              "      <td>7</td>\n",
              "    </tr>\n",
              "    <tr>\n",
              "      <th>2</th>\n",
              "      <td>0</td>\n",
              "      <td>18</td>\n",
              "      <td>0.963622</td>\n",
              "      <td>10</td>\n",
              "    </tr>\n",
              "    <tr>\n",
              "      <th>3</th>\n",
              "      <td>0</td>\n",
              "      <td>19</td>\n",
              "      <td>0.966224</td>\n",
              "      <td>5</td>\n",
              "    </tr>\n",
              "    <tr>\n",
              "      <th>4</th>\n",
              "      <td>0</td>\n",
              "      <td>20</td>\n",
              "      <td>0.964549</td>\n",
              "      <td>8</td>\n",
              "    </tr>\n",
              "    <tr>\n",
              "      <th>5</th>\n",
              "      <td>0</td>\n",
              "      <td>21</td>\n",
              "      <td>0.966337</td>\n",
              "      <td>4</td>\n",
              "    </tr>\n",
              "    <tr>\n",
              "      <th>6</th>\n",
              "      <td>0</td>\n",
              "      <td>22</td>\n",
              "      <td>0.965032</td>\n",
              "      <td>6</td>\n",
              "    </tr>\n",
              "    <tr>\n",
              "      <th>7</th>\n",
              "      <td>1</td>\n",
              "      <td>22</td>\n",
              "      <td>0.983152</td>\n",
              "      <td>2</td>\n",
              "    </tr>\n",
              "    <tr>\n",
              "      <th>8</th>\n",
              "      <td>1</td>\n",
              "      <td>19</td>\n",
              "      <td>0.982480</td>\n",
              "      <td>3</td>\n",
              "    </tr>\n",
              "    <tr>\n",
              "      <th>9</th>\n",
              "      <td>1</td>\n",
              "      <td>21</td>\n",
              "      <td>0.983438</td>\n",
              "      <td>1</td>\n",
              "    </tr>\n",
              "  </tbody>\n",
              "</table>\n",
              "</div>\n",
              "      <button class=\"colab-df-convert\" onclick=\"convertToInteractive('df-25d584a3-b4b6-45ed-97b0-8cad6e7d83e1')\"\n",
              "              title=\"Convert this dataframe to an interactive table.\"\n",
              "              style=\"display:none;\">\n",
              "        \n",
              "  <svg xmlns=\"http://www.w3.org/2000/svg\" height=\"24px\"viewBox=\"0 0 24 24\"\n",
              "       width=\"24px\">\n",
              "    <path d=\"M0 0h24v24H0V0z\" fill=\"none\"/>\n",
              "    <path d=\"M18.56 5.44l.94 2.06.94-2.06 2.06-.94-2.06-.94-.94-2.06-.94 2.06-2.06.94zm-11 1L8.5 8.5l.94-2.06 2.06-.94-2.06-.94L8.5 2.5l-.94 2.06-2.06.94zm10 10l.94 2.06.94-2.06 2.06-.94-2.06-.94-.94-2.06-.94 2.06-2.06.94z\"/><path d=\"M17.41 7.96l-1.37-1.37c-.4-.4-.92-.59-1.43-.59-.52 0-1.04.2-1.43.59L10.3 9.45l-7.72 7.72c-.78.78-.78 2.05 0 2.83L4 21.41c.39.39.9.59 1.41.59.51 0 1.02-.2 1.41-.59l7.78-7.78 2.81-2.81c.8-.78.8-2.07 0-2.86zM5.41 20L4 18.59l7.72-7.72 1.47 1.35L5.41 20z\"/>\n",
              "  </svg>\n",
              "      </button>\n",
              "      \n",
              "  <style>\n",
              "    .colab-df-container {\n",
              "      display:flex;\n",
              "      flex-wrap:wrap;\n",
              "      gap: 12px;\n",
              "    }\n",
              "\n",
              "    .colab-df-convert {\n",
              "      background-color: #E8F0FE;\n",
              "      border: none;\n",
              "      border-radius: 50%;\n",
              "      cursor: pointer;\n",
              "      display: none;\n",
              "      fill: #1967D2;\n",
              "      height: 32px;\n",
              "      padding: 0 0 0 0;\n",
              "      width: 32px;\n",
              "    }\n",
              "\n",
              "    .colab-df-convert:hover {\n",
              "      background-color: #E2EBFA;\n",
              "      box-shadow: 0px 1px 2px rgba(60, 64, 67, 0.3), 0px 1px 3px 1px rgba(60, 64, 67, 0.15);\n",
              "      fill: #174EA6;\n",
              "    }\n",
              "\n",
              "    [theme=dark] .colab-df-convert {\n",
              "      background-color: #3B4455;\n",
              "      fill: #D2E3FC;\n",
              "    }\n",
              "\n",
              "    [theme=dark] .colab-df-convert:hover {\n",
              "      background-color: #434B5C;\n",
              "      box-shadow: 0px 1px 3px 1px rgba(0, 0, 0, 0.15);\n",
              "      filter: drop-shadow(0px 1px 2px rgba(0, 0, 0, 0.3));\n",
              "      fill: #FFFFFF;\n",
              "    }\n",
              "  </style>\n",
              "\n",
              "      <script>\n",
              "        const buttonEl =\n",
              "          document.querySelector('#df-25d584a3-b4b6-45ed-97b0-8cad6e7d83e1 button.colab-df-convert');\n",
              "        buttonEl.style.display =\n",
              "          google.colab.kernel.accessAllowed ? 'block' : 'none';\n",
              "\n",
              "        async function convertToInteractive(key) {\n",
              "          const element = document.querySelector('#df-25d584a3-b4b6-45ed-97b0-8cad6e7d83e1');\n",
              "          const dataTable =\n",
              "            await google.colab.kernel.invokeFunction('convertToInteractive',\n",
              "                                                     [key], {});\n",
              "          if (!dataTable) return;\n",
              "\n",
              "          const docLinkHtml = 'Like what you see? Visit the ' +\n",
              "            '<a target=\"_blank\" href=https://colab.research.google.com/notebooks/data_table.ipynb>data table notebook</a>'\n",
              "            + ' to learn more about interactive tables.';\n",
              "          element.innerHTML = '';\n",
              "          dataTable['output_type'] = 'display_data';\n",
              "          await google.colab.output.renderOutput(dataTable, element);\n",
              "          const docLink = document.createElement('div');\n",
              "          docLink.innerHTML = docLinkHtml;\n",
              "          element.appendChild(docLink);\n",
              "        }\n",
              "      </script>\n",
              "    </div>\n",
              "  </div>\n",
              "  "
            ]
          },
          "metadata": {},
          "execution_count": 53
        },
        {
          "output_type": "display_data",
          "data": {
            "text/plain": [
              "<Figure size 432x288 with 1 Axes>"
            ],
            "image/png": "[encoded data removed]"
          },
          "metadata": {
            "needs_background": "light"
          }
        }
      ]
    },
    {
      "cell_type": "code",
      "source": [
        "best_bagging_2 = clf_bagging_2.best_estimator_\n",
        "best_bagging_2"
      ],
      "metadata": {
        "id": "dEtmICAchoZj",
        "colab": {
          "base_uri": "https://localhost:8080/"
        },
        "outputId": "20ace7c0-f866-439b-d636-c4e368df3e8d"
      },
      "execution_count": 54,
      "outputs": [
        {
          "output_type": "execute_result",
          "data": {
            "text/plain": [
              "BaggingClassifier(n_estimators=21, random_state=42)"
            ]
          },
          "metadata": {},
          "execution_count": 54
        }
      ]
    },
    {
      "cell_type": "code",
      "source": [
        "y_val_pred_best_bagging_2 = best_bagging_2.predict(X_val)\n",
        "f2_score(y_val, y_val_pred_best_bagging_2)"
      ],
      "metadata": {
        "id": "G_cBlWWohoZk",
        "colab": {
          "base_uri": "https://localhost:8080/"
        },
        "outputId": "2af18e2e-ccb4-45a1-b8a8-c791736c6d7d"
      },
      "execution_count": 55,
      "outputs": [
        {
          "output_type": "execute_result",
          "data": {
            "text/plain": [
              "0.46874999999999994"
            ]
          },
          "metadata": {},
          "execution_count": 55
        }
      ]
    },
    {
      "cell_type": "markdown",
      "source": [
        "# AdaBoost (1/2)"
      ],
      "metadata": {
        "id": "_LlteTimuzec"
      }
    },
    {
      "cell_type": "markdown",
      "source": [
        "## Setting up parameter grid and AdaBoost"
      ],
      "metadata": {
        "id": "cUEJsztEvyWX"
      }
    },
    {
      "cell_type": "code",
      "source": [
        "n_estimators_ada_1 = np.unique(np.linspace(2, 100, num=10, dtype=int))\n",
        "n_estimators_ada_1"
      ],
      "metadata": {
        "id": "u-PNn9DHvyWd",
        "colab": {
          "base_uri": "https://localhost:8080/"
        },
        "outputId": "508cd09b-497d-456c-96bf-770183eeaf81"
      },
      "execution_count": 56,
      "outputs": [
        {
          "output_type": "execute_result",
          "data": {
            "text/plain": [
              "array([  2,  12,  23,  34,  45,  56,  67,  78,  89, 100])"
            ]
          },
          "metadata": {},
          "execution_count": 56
        }
      ]
    },
    {
      "cell_type": "code",
      "source": [
        "param_grid_ada_1 = {'n_estimators': n_estimators_ada_1}"
      ],
      "metadata": {
        "id": "mkGngPdovyWe"
      },
      "execution_count": 57,
      "outputs": []
    },
    {
      "cell_type": "code",
      "source": [
        "ada_1 = AdaBoostClassifier(random_state=RANDOM_STATE)\n",
        "ada_1"
      ],
      "metadata": {
        "id": "GoHqdaSTvyWe",
        "colab": {
          "base_uri": "https://localhost:8080/"
        },
        "outputId": "3d4fb4d4-7ffc-40ff-caf5-7b55b5c2bf68"
      },
      "execution_count": 58,
      "outputs": [
        {
          "output_type": "execute_result",
          "data": {
            "text/plain": [
              "AdaBoostClassifier(random_state=42)"
            ]
          },
          "metadata": {},
          "execution_count": 58
        }
      ]
    },
    {
      "cell_type": "markdown",
      "source": [
        "## Performing grid search cross validation and choosing the best model"
      ],
      "metadata": {
        "id": "kXzJ9s0MvyWe"
      }
    },
    {
      "cell_type": "code",
      "source": [
        "clf_ada_1 = HalvingGridSearchCV(ada_1, param_grid_ada_1, scoring=f2_scorer)\n",
        "clf_ada_1"
      ],
      "metadata": {
        "id": "G6JI4Z4yvyWe",
        "colab": {
          "base_uri": "https://localhost:8080/"
        },
        "outputId": "d07a9d6f-16ca-4ce9-ab97-7e08342dfea5"
      },
      "execution_count": 59,
      "outputs": [
        {
          "output_type": "execute_result",
          "data": {
            "text/plain": [
              "HalvingGridSearchCV(estimator=AdaBoostClassifier(random_state=42),\n",
              "                    param_grid={'n_estimators': array([  2,  12,  23,  34,  45,  56,  67,  78,  89, 100])},\n",
              "                    scoring=make_scorer(fbeta_score, beta=2))"
            ]
          },
          "metadata": {},
          "execution_count": 59
        }
      ]
    },
    {
      "cell_type": "code",
      "source": [
        "# clf_ada_1.fit(X_train_over, y_train_over)\n",
        "clf_ada_1.fit(X_train_over, y_train_over)"
      ],
      "metadata": {
        "id": "2kMs5TumvyWe",
        "colab": {
          "base_uri": "https://localhost:8080/"
        },
        "outputId": "3a4af940-b688-41e0-9337-bbf4f5e5f4a9"
      },
      "execution_count": 60,
      "outputs": [
        {
          "output_type": "execute_result",
          "data": {
            "text/plain": [
              "HalvingGridSearchCV(estimator=AdaBoostClassifier(random_state=42),\n",
              "                    param_grid={'n_estimators': array([  2,  12,  23,  34,  45,  56,  67,  78,  89, 100])},\n",
              "                    scoring=make_scorer(fbeta_score, beta=2))"
            ]
          },
          "metadata": {},
          "execution_count": 60
        }
      ]
    },
    {
      "cell_type": "code",
      "source": [
        "clf_ada_1.cv_results_"
      ],
      "metadata": {
        "id": "KpV8DJkLvyWe",
        "colab": {
          "base_uri": "https://localhost:8080/"
        },
        "outputId": "cad427a2-326f-42cf-de38-94335839952f"
      },
      "execution_count": 61,
      "outputs": [
        {
          "output_type": "execute_result",
          "data": {
            "text/plain": [
              "{'iter': array([0, 0, 0, 0, 0, 0, 0, 0, 0, 0, 1, 1, 1, 1, 2, 2]),\n",
              " 'mean_fit_time': array([ 0.02580113,  0.14599805,  0.28200316,  0.40766039,  0.54006534,\n",
              "         0.67544489,  0.80412493,  0.94109941,  1.06540837,  1.19621005,\n",
              "         2.36427832,  3.54151988,  3.16827426,  2.76494274, 11.02594128,\n",
              "         9.81623764]),\n",
              " 'mean_score_time': array([0.00148664, 0.00453038, 0.00566287, 0.00757537, 0.00945792,\n",
              "        0.01195617, 0.01345816, 0.01571813, 0.01826506, 0.02160029,\n",
              "        0.0290379 , 0.04105635, 0.03589849, 0.03082905, 0.07890205,\n",
              "        0.0704042 ]),\n",
              " 'mean_test_score': array([0.87402821, 0.90545474, 0.93101822, 0.94005156, 0.93708093,\n",
              "        0.94241939, 0.94497837, 0.95184941, 0.95067638, 0.94537449,\n",
              "        0.94825006, 0.95718836, 0.95724323, 0.95408772, 0.96491698,\n",
              "        0.96328888]),\n",
              " 'mean_train_score': array([0.88428889, 0.93317018, 0.96896779, 0.98204162, 0.98973538,\n",
              "        0.99625349, 0.99873339, 0.99966302, 1.        , 1.        ,\n",
              "        0.98034954, 0.99093751, 0.98747212, 0.98364939, 0.97729511,\n",
              "        0.97418758]),\n",
              " 'n_resources': array([ 1154,  1154,  1154,  1154,  1154,  1154,  1154,  1154,  1154,\n",
              "         1154,  3462,  3462,  3462,  3462, 10386, 10386]),\n",
              " 'param_n_estimators': masked_array(data=[2, 12, 23, 34, 45, 56, 67, 78, 89, 100, 67, 100, 89,\n",
              "                    78, 100, 89],\n",
              "              mask=[False, False, False, False, False, False, False, False,\n",
              "                    False, False, False, False, False, False, False, False],\n",
              "        fill_value='?',\n",
              "             dtype=object),\n",
              " 'params': [{'n_estimators': 2},\n",
              "  {'n_estimators': 12},\n",
              "  {'n_estimators': 23},\n",
              "  {'n_estimators': 34},\n",
              "  {'n_estimators': 45},\n",
              "  {'n_estimators': 56},\n",
              "  {'n_estimators': 67},\n",
              "  {'n_estimators': 78},\n",
              "  {'n_estimators': 89},\n",
              "  {'n_estimators': 100},\n",
              "  {'n_estimators': 67},\n",
              "  {'n_estimators': 100},\n",
              "  {'n_estimators': 89},\n",
              "  {'n_estimators': 78},\n",
              "  {'n_estimators': 100},\n",
              "  {'n_estimators': 89}],\n",
              " 'rank_test_score': array([16, 15, 14, 12, 13, 11, 10,  6,  7,  9,  8,  4,  3,  5,  1,  2],\n",
              "       dtype=int32),\n",
              " 'split0_test_score': array([0.85346216, 0.89951378, 0.93247588, 0.93397746, 0.92891761,\n",
              "        0.93699515, 0.94354839, 0.92382496, 0.94354839, 0.94202899,\n",
              "        0.9334126 , 0.94674556, 0.94250148, 0.93043995, 0.937017  ,\n",
              "        0.93804285]),\n",
              " 'split0_train_score': array([0.88322091, 0.92860178, 0.95884599, 0.97881356, 0.98126862,\n",
              "        0.99446337, 0.99744246, 1.        , 1.        , 1.        ,\n",
              "        0.98140942, 0.99480594, 0.99178319, 0.98484848, 0.98206579,\n",
              "        0.97814103]),\n",
              " 'split1_test_score': array([0.91609589, 0.94024605, 0.95446585, 0.97539543, 0.96858639,\n",
              "        0.96322242, 0.94736842, 0.96858639, 0.97027972, 0.97027972,\n",
              "        0.95756561, 0.96271564, 0.96314908, 0.96819196, 0.96549752,\n",
              "        0.96186845]),\n",
              " 'split1_train_score': array([0.89484979, 0.92869718, 0.96314173, 0.98159509, 0.9881162 ,\n",
              "        0.99735799, 1.        , 1.        , 1.        , 1.        ,\n",
              "        0.97681159, 0.98925824, 0.98565009, 0.98087511, 0.976066  ,\n",
              "        0.97310771]),\n",
              " 'split2_test_score': array([0.82167832, 0.91141397, 0.91680815, 0.94067797, 0.93434343,\n",
              "        0.94435076, 0.95317726, 0.96153846, 0.96153846, 0.94957983,\n",
              "        0.94755662, 0.95719382, 0.95959596, 0.95605701, 0.97264728,\n",
              "        0.97171794]),\n",
              " 'split2_train_score': array([0.84599156, 0.95365053, 0.97621001, 0.9848174 , 0.99630238,\n",
              "        0.99958865, 0.99958865, 1.        , 1.        , 1.        ,\n",
              "        0.98227052, 0.99513521, 0.99213162, 0.99014145, 0.97434053,\n",
              "        0.97202898]),\n",
              " 'split3_test_score': array([0.89655172, 0.91783217, 0.95652174, 0.95818815, 0.96153846,\n",
              "        0.95986038, 0.97027972, 0.97560976, 0.95614035, 0.95446585,\n",
              "        0.94262295, 0.96030356, 0.96266044, 0.9521028 , 0.97563315,\n",
              "        0.97160944]),\n",
              " 'split3_train_score': array([0.90753425, 0.93130779, 0.97802198, 0.98594642, 0.99559471,\n",
              "        0.99867725, 1.        , 1.        , 1.        , 1.        ,\n",
              "        0.97659055, 0.98331175, 0.98044853, 0.97858888, 0.97959379,\n",
              "        0.97498443]),\n",
              " 'split4_test_score': array([0.88235294, 0.85826772, 0.89481947, 0.89201878, 0.89201878,\n",
              "        0.90766823, 0.91051805, 0.9296875 , 0.921875  , 0.91051805,\n",
              "        0.96009254, 0.95898325, 0.95830921, 0.96364686, 0.97378994,\n",
              "        0.97320574]),\n",
              " 'split4_train_score': array([0.88984792, 0.92359362, 0.96861925, 0.97903564, 0.98739496,\n",
              "        0.99118018, 0.99663583, 0.99831508, 1.        , 1.        ,\n",
              "        0.98466563, 0.99217639, 0.98734717, 0.98379301, 0.97440945,\n",
              "        0.97267576]),\n",
              " 'std_fit_time': array([0.00174947, 0.00473078, 0.00210683, 0.00226026, 0.00421504,\n",
              "        0.00420121, 0.00761894, 0.00639652, 0.00643715, 0.0066211 ,\n",
              "        0.00436108, 0.01296288, 0.00922926, 0.00576818, 0.04620914,\n",
              "        0.01391841]),\n",
              " 'std_score_time': array([2.28656221e-05, 1.25680945e-03, 1.85341604e-04, 2.82030536e-05,\n",
              "        6.21460974e-05, 5.85393743e-04, 9.51486223e-05, 3.21060893e-04,\n",
              "        1.04085146e-03, 2.58206860e-03, 2.82641988e-03, 3.69248191e-03,\n",
              "        1.29468666e-03, 1.21711748e-04, 8.41438088e-04, 2.06788481e-04]),\n",
              " 'std_test_score': array([0.0331957 , 0.02705941, 0.02330074, 0.02800914, 0.02718638,\n",
              "        0.01988844, 0.01950718, 0.02104794, 0.01680749, 0.01973206,\n",
              "        0.00979101, 0.0055232 , 0.00759231, 0.01309459, 0.01436711,\n",
              "        0.01325145]),\n",
              " 'std_train_score': array([0.02073937, 0.01054042, 0.0073613 , 0.00291918, 0.0056079 ,\n",
              "        0.00307118, 0.00141466, 0.00067397, 0.        , 0.        ,\n",
              "        0.0031651 , 0.00436102, 0.0043119 , 0.00392201, 0.00305322,\n",
              "        0.00220799])}"
            ]
          },
          "metadata": {},
          "execution_count": 61
        }
      ]
    },
    {
      "cell_type": "code",
      "source": [
        "show_cv_results('n_estimators', clf_ada_1.cv_results_)"
      ],
      "metadata": {
        "id": "P2FD6jsJvyWe",
        "colab": {
          "base_uri": "https://localhost:8080/",
          "height": 799
        },
        "outputId": "a1f7c713-9f43-4a69-b0b0-2a244a7b743c"
      },
      "execution_count": 62,
      "outputs": [
        {
          "output_type": "execute_result",
          "data": {
            "text/plain": [
              "    iter  n_estimators  mean_test_score  rank_test_score\n",
              "0      0             2         0.874028               16\n",
              "1      0            12         0.905455               15\n",
              "2      0            23         0.931018               14\n",
              "3      0            34         0.940052               12\n",
              "4      0            45         0.937081               13\n",
              "5      0            56         0.942419               11\n",
              "6      0            67         0.944978               10\n",
              "7      0            78         0.951849                6\n",
              "8      0            89         0.950676                7\n",
              "9      0           100         0.945374                9\n",
              "10     1            67         0.948250                8\n",
              "11     1           100         0.957188                4\n",
              "12     1            89         0.957243                3\n",
              "13     1            78         0.954088                5\n",
              "14     2           100         0.964917                1\n",
              "15     2            89         0.963289                2"
            ],
            "text/html": [
              "\n",
              "  <div id=\"df-9a221a58-6e44-4186-b2f2-92c3861ec635\">\n",
              "    <div class=\"colab-df-container\">\n",
              "      <div>\n",
              "<style scoped>\n",
              "    .dataframe tbody tr th:only-of-type {\n",
              "        vertical-align: middle;\n",
              "    }\n",
              "\n",
              "    .dataframe tbody tr th {\n",
              "        vertical-align: top;\n",
              "    }\n",
              "\n",
              "    .dataframe thead th {\n",
              "        text-align: right;\n",
              "    }\n",
              "</style>\n",
              "<table border=\"1\" class=\"dataframe\">\n",
              "  <thead>\n",
              "    <tr style=\"text-align: right;\">\n",
              "      <th></th>\n",
              "      <th>iter</th>\n",
              "      <th>n_estimators</th>\n",
              "      <th>mean_test_score</th>\n",
              "      <th>rank_test_score</th>\n",
              "    </tr>\n",
              "  </thead>\n",
              "  <tbody>\n",
              "    <tr>\n",
              "      <th>0</th>\n",
              "      <td>0</td>\n",
              "      <td>2</td>\n",
              "      <td>0.874028</td>\n",
              "      <td>16</td>\n",
              "    </tr>\n",
              "    <tr>\n",
              "      <th>1</th>\n",
              "      <td>0</td>\n",
              "      <td>12</td>\n",
              "      <td>0.905455</td>\n",
              "      <td>15</td>\n",
              "    </tr>\n",
              "    <tr>\n",
              "      <th>2</th>\n",
              "      <td>0</td>\n",
              "      <td>23</td>\n",
              "      <td>0.931018</td>\n",
              "      <td>14</td>\n",
              "    </tr>\n",
              "    <tr>\n",
              "      <th>3</th>\n",
              "      <td>0</td>\n",
              "      <td>34</td>\n",
              "      <td>0.940052</td>\n",
              "      <td>12</td>\n",
              "    </tr>\n",
              "    <tr>\n",
              "      <th>4</th>\n",
              "      <td>0</td>\n",
              "      <td>45</td>\n",
              "      <td>0.937081</td>\n",
              "      <td>13</td>\n",
              "    </tr>\n",
              "    <tr>\n",
              "      <th>5</th>\n",
              "      <td>0</td>\n",
              "      <td>56</td>\n",
              "      <td>0.942419</td>\n",
              "      <td>11</td>\n",
              "    </tr>\n",
              "    <tr>\n",
              "      <th>6</th>\n",
              "      <td>0</td>\n",
              "      <td>67</td>\n",
              "      <td>0.944978</td>\n",
              "      <td>10</td>\n",
              "    </tr>\n",
              "    <tr>\n",
              "      <th>7</th>\n",
              "      <td>0</td>\n",
              "      <td>78</td>\n",
              "      <td>0.951849</td>\n",
              "      <td>6</td>\n",
              "    </tr>\n",
              "    <tr>\n",
              "      <th>8</th>\n",
              "      <td>0</td>\n",
              "      <td>89</td>\n",
              "      <td>0.950676</td>\n",
              "      <td>7</td>\n",
              "    </tr>\n",
              "    <tr>\n",
              "      <th>9</th>\n",
              "      <td>0</td>\n",
              "      <td>100</td>\n",
              "      <td>0.945374</td>\n",
              "      <td>9</td>\n",
              "    </tr>\n",
              "    <tr>\n",
              "      <th>10</th>\n",
              "      <td>1</td>\n",
              "      <td>67</td>\n",
              "      <td>0.948250</td>\n",
              "      <td>8</td>\n",
              "    </tr>\n",
              "    <tr>\n",
              "      <th>11</th>\n",
              "      <td>1</td>\n",
              "      <td>100</td>\n",
              "      <td>0.957188</td>\n",
              "      <td>4</td>\n",
              "    </tr>\n",
              "    <tr>\n",
              "      <th>12</th>\n",
              "      <td>1</td>\n",
              "      <td>89</td>\n",
              "      <td>0.957243</td>\n",
              "      <td>3</td>\n",
              "    </tr>\n",
              "    <tr>\n",
              "      <th>13</th>\n",
              "      <td>1</td>\n",
              "      <td>78</td>\n",
              "      <td>0.954088</td>\n",
              "      <td>5</td>\n",
              "    </tr>\n",
              "    <tr>\n",
              "      <th>14</th>\n",
              "      <td>2</td>\n",
              "      <td>100</td>\n",
              "      <td>0.964917</td>\n",
              "      <td>1</td>\n",
              "    </tr>\n",
              "    <tr>\n",
              "      <th>15</th>\n",
              "      <td>2</td>\n",
              "      <td>89</td>\n",
              "      <td>0.963289</td>\n",
              "      <td>2</td>\n",
              "    </tr>\n",
              "  </tbody>\n",
              "</table>\n",
              "</div>\n",
              "      <button class=\"colab-df-convert\" onclick=\"convertToInteractive('df-9a221a58-6e44-4186-b2f2-92c3861ec635')\"\n",
              "              title=\"Convert this dataframe to an interactive table.\"\n",
              "              style=\"display:none;\">\n",
              "        \n",
              "  <svg xmlns=\"http://www.w3.org/2000/svg\" height=\"24px\"viewBox=\"0 0 24 24\"\n",
              "       width=\"24px\">\n",
              "    <path d=\"M0 0h24v24H0V0z\" fill=\"none\"/>\n",
              "    <path d=\"M18.56 5.44l.94 2.06.94-2.06 2.06-.94-2.06-.94-.94-2.06-.94 2.06-2.06.94zm-11 1L8.5 8.5l.94-2.06 2.06-.94-2.06-.94L8.5 2.5l-.94 2.06-2.06.94zm10 10l.94 2.06.94-2.06 2.06-.94-2.06-.94-.94-2.06-.94 2.06-2.06.94z\"/><path d=\"M17.41 7.96l-1.37-1.37c-.4-.4-.92-.59-1.43-.59-.52 0-1.04.2-1.43.59L10.3 9.45l-7.72 7.72c-.78.78-.78 2.05 0 2.83L4 21.41c.39.39.9.59 1.41.59.51 0 1.02-.2 1.41-.59l7.78-7.78 2.81-2.81c.8-.78.8-2.07 0-2.86zM5.41 20L4 18.59l7.72-7.72 1.47 1.35L5.41 20z\"/>\n",
              "  </svg>\n",
              "      </button>\n",
              "      \n",
              "  <style>\n",
              "    .colab-df-container {\n",
              "      display:flex;\n",
              "      flex-wrap:wrap;\n",
              "      gap: 12px;\n",
              "    }\n",
              "\n",
              "    .colab-df-convert {\n",
              "      background-color: #E8F0FE;\n",
              "      border: none;\n",
              "      border-radius: 50%;\n",
              "      cursor: pointer;\n",
              "      display: none;\n",
              "      fill: #1967D2;\n",
              "      height: 32px;\n",
              "      padding: 0 0 0 0;\n",
              "      width: 32px;\n",
              "    }\n",
              "\n",
              "    .colab-df-convert:hover {\n",
              "      background-color: #E2EBFA;\n",
              "      box-shadow: 0px 1px 2px rgba(60, 64, 67, 0.3), 0px 1px 3px 1px rgba(60, 64, 67, 0.15);\n",
              "      fill: #174EA6;\n",
              "    }\n",
              "\n",
              "    [theme=dark] .colab-df-convert {\n",
              "      background-color: #3B4455;\n",
              "      fill: #D2E3FC;\n",
              "    }\n",
              "\n",
              "    [theme=dark] .colab-df-convert:hover {\n",
              "      background-color: #434B5C;\n",
              "      box-shadow: 0px 1px 3px 1px rgba(0, 0, 0, 0.15);\n",
              "      filter: drop-shadow(0px 1px 2px rgba(0, 0, 0, 0.3));\n",
              "      fill: #FFFFFF;\n",
              "    }\n",
              "  </style>\n",
              "\n",
              "      <script>\n",
              "        const buttonEl =\n",
              "          document.querySelector('#df-9a221a58-6e44-4186-b2f2-92c3861ec635 button.colab-df-convert');\n",
              "        buttonEl.style.display =\n",
              "          google.colab.kernel.accessAllowed ? 'block' : 'none';\n",
              "\n",
              "        async function convertToInteractive(key) {\n",
              "          const element = document.querySelector('#df-9a221a58-6e44-4186-b2f2-92c3861ec635');\n",
              "          const dataTable =\n",
              "            await google.colab.kernel.invokeFunction('convertToInteractive',\n",
              "                                                     [key], {});\n",
              "          if (!dataTable) return;\n",
              "\n",
              "          const docLinkHtml = 'Like what you see? Visit the ' +\n",
              "            '<a target=\"_blank\" href=https://colab.research.google.com/notebooks/data_table.ipynb>data table notebook</a>'\n",
              "            + ' to learn more about interactive tables.';\n",
              "          element.innerHTML = '';\n",
              "          dataTable['output_type'] = 'display_data';\n",
              "          await google.colab.output.renderOutput(dataTable, element);\n",
              "          const docLink = document.createElement('div');\n",
              "          docLink.innerHTML = docLinkHtml;\n",
              "          element.appendChild(docLink);\n",
              "        }\n",
              "      </script>\n",
              "    </div>\n",
              "  </div>\n",
              "  "
            ]
          },
          "metadata": {},
          "execution_count": 62
        },
        {
          "output_type": "display_data",
          "data": {
            "text/plain": [
              "<Figure size 432x288 with 1 Axes>"
            ],
            "image/png": "[encoded data removed]"
          },
          "metadata": {
            "needs_background": "light"
          }
        }
      ]
    },
    {
      "cell_type": "code",
      "source": [
        "best_ada_1 = clf_ada_1.best_estimator_\n",
        "best_ada_1"
      ],
      "metadata": {
        "id": "3Zuu6w-9vyWf",
        "colab": {
          "base_uri": "https://localhost:8080/"
        },
        "outputId": "96036705-2c4d-42fe-9d65-eb047b04de6c"
      },
      "execution_count": 63,
      "outputs": [
        {
          "output_type": "execute_result",
          "data": {
            "text/plain": [
              "AdaBoostClassifier(n_estimators=100, random_state=42)"
            ]
          },
          "metadata": {},
          "execution_count": 63
        }
      ]
    },
    {
      "cell_type": "code",
      "source": [
        "y_val_pred_best_ada_1 = best_ada_1.predict(X_val)\n",
        "f2_score(y_val, y_val_pred_best_ada_1)"
      ],
      "metadata": {
        "id": "eg19zpfhvyWf",
        "colab": {
          "base_uri": "https://localhost:8080/"
        },
        "outputId": "0e07d699-d90f-4bbd-cc36-0bd8964f5954"
      },
      "execution_count": 64,
      "outputs": [
        {
          "output_type": "execute_result",
          "data": {
            "text/plain": [
              "0.4910714285714286"
            ]
          },
          "metadata": {},
          "execution_count": 64
        }
      ]
    },
    {
      "cell_type": "markdown",
      "source": [
        "# AdaBoost (2/2)"
      ],
      "metadata": {
        "id": "SUEBa7mpzq4W"
      }
    },
    {
      "cell_type": "markdown",
      "source": [
        "## Setting up parameter grid and AdaBoost"
      ],
      "metadata": {
        "id": "gwpe5GBLzq4e"
      }
    },
    {
      "cell_type": "code",
      "source": [
        "n_estimators_ada_2 = np.unique(np.linspace(85, 104, num=20, dtype=int))\n",
        "n_estimators_ada_2"
      ],
      "metadata": {
        "id": "A67oTruhzq4e",
        "colab": {
          "base_uri": "https://localhost:8080/"
        },
        "outputId": "6dc3a0f2-b9b3-4b39-b8a4-19625916f83c"
      },
      "execution_count": 65,
      "outputs": [
        {
          "output_type": "execute_result",
          "data": {
            "text/plain": [
              "array([ 85,  86,  87,  88,  89,  90,  91,  92,  93,  94,  95,  96,  97,\n",
              "        98,  99, 100, 101, 102, 103, 104])"
            ]
          },
          "metadata": {},
          "execution_count": 65
        }
      ]
    },
    {
      "cell_type": "code",
      "source": [
        "param_grid_ada_2 = {'n_estimators': n_estimators_ada_2}"
      ],
      "metadata": {
        "id": "-TRwK9wuzq4e"
      },
      "execution_count": 66,
      "outputs": []
    },
    {
      "cell_type": "code",
      "source": [
        "ada_2 = AdaBoostClassifier(random_state=RANDOM_STATE)\n",
        "ada_2"
      ],
      "metadata": {
        "id": "nRIYL0Rfzq4f",
        "colab": {
          "base_uri": "https://localhost:8080/"
        },
        "outputId": "45f40828-afc4-4e22-bf4c-ad3b48edd86c"
      },
      "execution_count": 67,
      "outputs": [
        {
          "output_type": "execute_result",
          "data": {
            "text/plain": [
              "AdaBoostClassifier(random_state=42)"
            ]
          },
          "metadata": {},
          "execution_count": 67
        }
      ]
    },
    {
      "cell_type": "markdown",
      "source": [
        "## Performing grid search cross validation and choosing the best model"
      ],
      "metadata": {
        "id": "HMDZVMTxzq4f"
      }
    },
    {
      "cell_type": "code",
      "source": [
        "clf_ada_2 = HalvingGridSearchCV(ada_2, param_grid_ada_2, scoring=f2_scorer)\n",
        "clf_ada_2"
      ],
      "metadata": {
        "id": "ASDWt-CYzq4f",
        "colab": {
          "base_uri": "https://localhost:8080/"
        },
        "outputId": "3fff827e-bcc3-410b-850b-976416220d1d"
      },
      "execution_count": 68,
      "outputs": [
        {
          "output_type": "execute_result",
          "data": {
            "text/plain": [
              "HalvingGridSearchCV(estimator=AdaBoostClassifier(random_state=42),\n",
              "                    param_grid={'n_estimators': array([ 85,  86,  87,  88,  89,  90,  91,  92,  93,  94,  95,  96,  97,\n",
              "        98,  99, 100, 101, 102, 103, 104])},\n",
              "                    scoring=make_scorer(fbeta_score, beta=2))"
            ]
          },
          "metadata": {},
          "execution_count": 68
        }
      ]
    },
    {
      "cell_type": "code",
      "source": [
        "clf_ada_2.fit(X_train_over, y_train_over)"
      ],
      "metadata": {
        "id": "jcDgc69Qzq4f",
        "colab": {
          "base_uri": "https://localhost:8080/"
        },
        "outputId": "ff653f45-f404-4bdb-80d2-aa4dbc5575e2"
      },
      "execution_count": 69,
      "outputs": [
        {
          "output_type": "execute_result",
          "data": {
            "text/plain": [
              "HalvingGridSearchCV(estimator=AdaBoostClassifier(random_state=42),\n",
              "                    param_grid={'n_estimators': array([ 85,  86,  87,  88,  89,  90,  91,  92,  93,  94,  95,  96,  97,\n",
              "        98,  99, 100, 101, 102, 103, 104])},\n",
              "                    scoring=make_scorer(fbeta_score, beta=2))"
            ]
          },
          "metadata": {},
          "execution_count": 69
        }
      ]
    },
    {
      "cell_type": "code",
      "source": [
        "clf_ada_2.cv_results_"
      ],
      "metadata": {
        "id": "JdMi2eqczq4f",
        "colab": {
          "base_uri": "https://localhost:8080/"
        },
        "outputId": "e31a8113-6948-434d-c475-79ccc8c0adf4"
      },
      "execution_count": 70,
      "outputs": [
        {
          "output_type": "execute_result",
          "data": {
            "text/plain": [
              "{'iter': array([0, 0, 0, 0, 0, 0, 0, 0, 0, 0, 0, 0, 0, 0, 0, 0, 0, 0, 0, 0, 1, 1,\n",
              "        1, 1, 1, 1, 1, 2, 2, 2]),\n",
              " 'mean_fit_time': array([ 1.04782319,  1.03443499,  1.04256396,  1.05285802,  1.0663003 ,\n",
              "         1.08068047,  1.09190493,  1.10747142,  1.1188766 ,  1.12471766,\n",
              "         1.13928123,  1.15579548,  1.16658916,  1.17227311,  1.18548408,\n",
              "         1.41012807,  1.21941495,  1.22660713,  1.24119072,  1.2564229 ,\n",
              "         3.37431979,  3.47766995,  3.33414302,  3.28817258,  3.12164283,\n",
              "         3.45420637,  3.26159992, 10.44313631, 10.73705893, 10.16883025]),\n",
              " 'mean_score_time': array([0.01700087, 0.01865711, 0.01759052, 0.01750631, 0.01837177,\n",
              "        0.01811471, 0.01835842, 0.01891279, 0.01912503, 0.01929674,\n",
              "        0.01917691, 0.02106209, 0.01936884, 0.0210021 , 0.02052283,\n",
              "        0.02423062, 0.02019281, 0.02013936, 0.02046862, 0.02066259,\n",
              "        0.04018493, 0.03845553, 0.03815064, 0.03690953, 0.03626218,\n",
              "        0.03881083, 0.03692498, 0.07328997, 0.07602897, 0.07087874]),\n",
              " 'mean_test_score': array([0.94578064, 0.9488249 , 0.94744495, 0.95184107, 0.94946575,\n",
              "        0.94981481, 0.94988538, 0.95323989, 0.9514891 , 0.9514599 ,\n",
              "        0.95136843, 0.9480073 , 0.95285996, 0.95137954, 0.94868907,\n",
              "        0.95076071, 0.94755132, 0.94865005, 0.94794976, 0.94723492,\n",
              "        0.95794988, 0.95826419, 0.95768484, 0.95835579, 0.95719517,\n",
              "        0.9579286 , 0.95732701, 0.96297841, 0.96193728, 0.96327889]),\n",
              " 'mean_train_score': array([1.        , 1.        , 1.        , 1.        , 1.        ,\n",
              "        1.        , 1.        , 0.99991251, 1.        , 1.        ,\n",
              "        1.        , 1.        , 1.        , 1.        , 1.        ,\n",
              "        1.        , 1.        , 1.        , 1.        , 1.        ,\n",
              "        0.98647561, 0.98806574, 0.98674023, 0.9857879 , 0.98409239,\n",
              "        0.9876059 , 0.98536634, 0.97558215, 0.97596989, 0.97531626]),\n",
              " 'n_resources': array([ 1154,  1154,  1154,  1154,  1154,  1154,  1154,  1154,  1154,\n",
              "         1154,  1154,  1154,  1154,  1154,  1154,  1154,  1154,  1154,\n",
              "         1154,  1154,  3462,  3462,  3462,  3462,  3462,  3462,  3462,\n",
              "        10386, 10386, 10386]),\n",
              " 'param_n_estimators': masked_array(data=[85, 86, 87, 88, 89, 90, 91, 92, 93, 94, 95, 96, 97, 98,\n",
              "                    99, 100, 101, 102, 103, 104, 95, 98, 94, 93, 88, 97,\n",
              "                    92, 95, 98, 93],\n",
              "              mask=[False, False, False, False, False, False, False, False,\n",
              "                    False, False, False, False, False, False, False, False,\n",
              "                    False, False, False, False, False, False, False, False,\n",
              "                    False, False, False, False, False, False],\n",
              "        fill_value='?',\n",
              "             dtype=object),\n",
              " 'params': [{'n_estimators': 85},\n",
              "  {'n_estimators': 86},\n",
              "  {'n_estimators': 87},\n",
              "  {'n_estimators': 88},\n",
              "  {'n_estimators': 89},\n",
              "  {'n_estimators': 90},\n",
              "  {'n_estimators': 91},\n",
              "  {'n_estimators': 92},\n",
              "  {'n_estimators': 93},\n",
              "  {'n_estimators': 94},\n",
              "  {'n_estimators': 95},\n",
              "  {'n_estimators': 96},\n",
              "  {'n_estimators': 97},\n",
              "  {'n_estimators': 98},\n",
              "  {'n_estimators': 99},\n",
              "  {'n_estimators': 100},\n",
              "  {'n_estimators': 101},\n",
              "  {'n_estimators': 102},\n",
              "  {'n_estimators': 103},\n",
              "  {'n_estimators': 104},\n",
              "  {'n_estimators': 95},\n",
              "  {'n_estimators': 98},\n",
              "  {'n_estimators': 94},\n",
              "  {'n_estimators': 93},\n",
              "  {'n_estimators': 88},\n",
              "  {'n_estimators': 97},\n",
              "  {'n_estimators': 92},\n",
              "  {'n_estimators': 95},\n",
              "  {'n_estimators': 98},\n",
              "  {'n_estimators': 93}],\n",
              " 'rank_test_score': array([30, 22, 28, 13, 21, 20, 19, 11, 14, 15, 17, 25, 12, 16, 23, 18, 27,\n",
              "        24, 26, 29,  6,  5,  8,  4, 10,  7,  9,  2,  3,  1], dtype=int32),\n",
              " 'split0_test_score': array([0.92050209, 0.92901879, 0.92050209, 0.92901879, 0.92050209,\n",
              "        0.91858038, 0.92050209, 0.9375    , 0.92708333, 0.93555094,\n",
              "        0.93167702, 0.93167702, 0.93555094, 0.93360996, 0.92515593,\n",
              "        0.93555094, 0.93360996, 0.93360996, 0.92323651, 0.92515593,\n",
              "        0.92163355, 0.92837466, 0.92163355, 0.92388307, 0.92490337,\n",
              "        0.9261301 , 0.92163355, 0.93586514, 0.93368237, 0.93925324]),\n",
              " 'split0_train_score': array([1.        , 1.        , 1.        , 1.        , 1.        ,\n",
              "        1.        , 1.        , 1.        , 1.        , 1.        ,\n",
              "        1.        , 1.        , 1.        , 1.        , 1.        ,\n",
              "        1.        , 1.        , 1.        , 1.        , 1.        ,\n",
              "        0.98709022, 0.99013492, 0.98897112, 0.98722416, 0.9862219 ,\n",
              "        0.98926603, 0.9866415 , 0.98100811, 0.98071202, 0.98049552]),\n",
              " 'split1_test_score': array([0.94370861, 0.95041322, 0.95041322, 0.96375618, 0.95709571,\n",
              "        0.95709571, 0.95551895, 0.96217105, 0.96217105, 0.96217105,\n",
              "        0.95867769, 0.94884488, 0.95551895, 0.96217105, 0.95551895,\n",
              "        0.95551895, 0.95551895, 0.95394737, 0.95394737, 0.95551895,\n",
              "        0.96262741, 0.96491228, 0.96262741, 0.96719457, 0.96033994,\n",
              "        0.9631728 , 0.96371882, 0.96986458, 0.96795728, 0.96641862]),\n",
              " 'split1_train_score': array([1.        , 1.        , 1.        , 1.        , 1.        ,\n",
              "        1.        , 1.        , 1.        , 1.        , 1.        ,\n",
              "        1.        , 1.        , 1.        , 1.        , 1.        ,\n",
              "        1.        , 1.        , 1.        , 1.        , 1.        ,\n",
              "        0.98929686, 0.9892889 , 0.98974588, 0.98600982, 0.98483722,\n",
              "        0.98914175, 0.9872138 , 0.97393558, 0.97490162, 0.97388257]),\n",
              " 'split2_test_score': array([0.96938776, 0.96938776, 0.96938776, 0.96938776, 0.97103918,\n",
              "        0.97103918, 0.97269625, 0.97269625, 0.97435897, 0.97269625,\n",
              "        0.97269625, 0.97435897, 0.97269625, 0.96581197, 0.96746575,\n",
              "        0.96581197, 0.96581197, 0.96581197, 0.96581197, 0.96581197,\n",
              "        0.96929561, 0.9711365 , 0.96686747, 0.96570397, 0.96628537,\n",
              "        0.9711365 , 0.96628537, 0.97033493, 0.96977812, 0.97304531]),\n",
              " 'split2_train_score': array([1.        , 1.        , 1.        , 1.        , 1.        ,\n",
              "        1.        , 1.        , 1.        , 1.        , 1.        ,\n",
              "        1.        , 1.        , 1.        , 1.        , 1.        ,\n",
              "        1.        , 1.        , 1.        , 1.        , 1.        ,\n",
              "        0.98569157, 0.98785952, 0.98785952, 0.98468429, 0.9836776 ,\n",
              "        0.98757405, 0.98468429, 0.97222888, 0.97424707, 0.973341  ]),\n",
              " 'split3_test_score': array([0.94454073, 0.94454073, 0.94454073, 0.95155709, 0.95320624,\n",
              "        0.95320624, 0.95155709, 0.95155709, 0.95155709, 0.94991364,\n",
              "        0.94991364, 0.94127807, 0.94290657, 0.94454073, 0.94454073,\n",
              "        0.94454073, 0.93043478, 0.9375    , 0.9375    , 0.93043478,\n",
              "        0.97278518, 0.9693287 , 0.97278518, 0.97334878, 0.97334878,\n",
              "        0.96755504, 0.97334878, 0.97022094, 0.97006333, 0.96811371]),\n",
              " 'split3_train_score': array([1.        , 1.        , 1.        , 1.        , 1.        ,\n",
              "        1.        , 1.        , 0.99956255, 1.        , 1.        ,\n",
              "        1.        , 1.        , 1.        , 1.        , 1.        ,\n",
              "        1.        , 1.        , 1.        , 1.        , 1.        ,\n",
              "        0.98491379, 0.98563218, 0.98260495, 0.98346513, 0.98119437,\n",
              "        0.98405402, 0.98174501, 0.97677759, 0.97638663, 0.97572072]),\n",
              " 'split4_test_score': array([0.95076401, 0.95076401, 0.95238095, 0.94548552, 0.94548552,\n",
              "        0.94915254, 0.94915254, 0.94227504, 0.94227504, 0.93696763,\n",
              "        0.94387755, 0.94387755, 0.95762712, 0.95076401, 0.95076401,\n",
              "        0.95238095, 0.95238095, 0.95238095, 0.95925297, 0.95925297,\n",
              "        0.96340766, 0.95756881, 0.96451059, 0.96164854, 0.9610984 ,\n",
              "        0.96164854, 0.96164854, 0.96860643, 0.96820532, 0.96956355]),\n",
              " 'split4_train_score': array([1.        , 1.        , 1.        , 1.        , 1.        ,\n",
              "        1.        , 1.        , 1.        , 1.        , 1.        ,\n",
              "        1.        , 1.        , 1.        , 1.        , 1.        ,\n",
              "        1.        , 1.        , 1.        , 1.        , 1.        ,\n",
              "        0.98538562, 0.98741319, 0.98451968, 0.98755607, 0.98453087,\n",
              "        0.98799364, 0.98654709, 0.97396058, 0.97360211, 0.97314149]),\n",
              " 'std_fit_time': array([0.03702822, 0.0040727 , 0.00195109, 0.00253366, 0.00386308,\n",
              "        0.00548777, 0.00381229, 0.00641155, 0.00307443, 0.00292723,\n",
              "        0.00406322, 0.00465502, 0.00399109, 0.00678754, 0.00462017,\n",
              "        0.20498696, 0.00616143, 0.00625434, 0.00603598, 0.00922823,\n",
              "        0.00778184, 0.00767081, 0.00851335, 0.00326003, 0.0069825 ,\n",
              "        0.00453615, 0.00513927, 0.03943083, 0.01273795, 0.01858801]),\n",
              " 'std_score_time': array([0.00041265, 0.00292158, 0.00084858, 0.00026534, 0.00121225,\n",
              "        0.00019951, 0.00053833, 0.00136922, 0.00113779, 0.00163072,\n",
              "        0.00060262, 0.00354621, 0.00037655, 0.00307776, 0.00242897,\n",
              "        0.00534593, 0.00078838, 0.00019418, 0.00051786, 0.00055441,\n",
              "        0.00257307, 0.00061779, 0.0009794 , 0.00038908, 0.0015964 ,\n",
              "        0.00140826, 0.00070048, 0.00139193, 0.00275948, 0.00080868]),\n",
              " 'std_test_score': array([0.01566503, 0.01295955, 0.01580515, 0.01422101, 0.01668746,\n",
              "        0.01726856, 0.01684507, 0.01287726, 0.01623379, 0.01436122,\n",
              "        0.01381508, 0.01431173, 0.01282144, 0.01172739, 0.0139609 ,\n",
              "        0.01021598, 0.01347291, 0.01172212, 0.01550957, 0.01629658,\n",
              "        0.01854375, 0.01566004, 0.01834697, 0.01764154, 0.01680152,\n",
              "        0.01624562, 0.01827842, 0.01357053, 0.01415189, 0.01220938]),\n",
              " 'std_train_score': array([0.        , 0.        , 0.        , 0.        , 0.        ,\n",
              "        0.        , 0.        , 0.00017498, 0.        , 0.        ,\n",
              "        0.        , 0.        , 0.        , 0.        , 0.        ,\n",
              "        0.        , 0.        , 0.        , 0.        , 0.        ,\n",
              "        0.00158615, 0.00156001, 0.00273112, 0.00153959, 0.00166448,\n",
              "        0.00189114, 0.00200063, 0.00308075, 0.00254469, 0.002745  ])}"
            ]
          },
          "metadata": {},
          "execution_count": 70
        }
      ]
    },
    {
      "cell_type": "code",
      "source": [
        "show_cv_results('n_estimators', clf_ada_2.cv_results_)"
      ],
      "metadata": {
        "id": "OEmvCY9Vzq4f",
        "colab": {
          "base_uri": "https://localhost:8080/",
          "height": 1000
        },
        "outputId": "7fb20254-0a7c-4c4e-84ee-5b355229b772"
      },
      "execution_count": 71,
      "outputs": [
        {
          "output_type": "execute_result",
          "data": {
            "text/plain": [
              "    iter  n_estimators  mean_test_score  rank_test_score\n",
              "0      0            85         0.945781               30\n",
              "1      0            86         0.948825               22\n",
              "2      0            87         0.947445               28\n",
              "3      0            88         0.951841               13\n",
              "4      0            89         0.949466               21\n",
              "5      0            90         0.949815               20\n",
              "6      0            91         0.949885               19\n",
              "7      0            92         0.953240               11\n",
              "8      0            93         0.951489               14\n",
              "9      0            94         0.951460               15\n",
              "10     0            95         0.951368               17\n",
              "11     0            96         0.948007               25\n",
              "12     0            97         0.952860               12\n",
              "13     0            98         0.951380               16\n",
              "14     0            99         0.948689               23\n",
              "15     0           100         0.950761               18\n",
              "16     0           101         0.947551               27\n",
              "17     0           102         0.948650               24\n",
              "18     0           103         0.947950               26\n",
              "19     0           104         0.947235               29\n",
              "20     1            95         0.957950                6\n",
              "21     1            98         0.958264                5\n",
              "22     1            94         0.957685                8\n",
              "23     1            93         0.958356                4\n",
              "24     1            88         0.957195               10\n",
              "25     1            97         0.957929                7\n",
              "26     1            92         0.957327                9\n",
              "27     2            95         0.962978                2\n",
              "28     2            98         0.961937                3\n",
              "29     2            93         0.963279                1"
            ],
            "text/html": [
              "\n",
              "  <div id=\"df-6a093c95-976b-46b2-bb63-74c32e765e68\">\n",
              "    <div class=\"colab-df-container\">\n",
              "      <div>\n",
              "<style scoped>\n",
              "    .dataframe tbody tr th:only-of-type {\n",
              "        vertical-align: middle;\n",
              "    }\n",
              "\n",
              "    .dataframe tbody tr th {\n",
              "        vertical-align: top;\n",
              "    }\n",
              "\n",
              "    .dataframe thead th {\n",
              "        text-align: right;\n",
              "    }\n",
              "</style>\n",
              "<table border=\"1\" class=\"dataframe\">\n",
              "  <thead>\n",
              "    <tr style=\"text-align: right;\">\n",
              "      <th></th>\n",
              "      <th>iter</th>\n",
              "      <th>n_estimators</th>\n",
              "      <th>mean_test_score</th>\n",
              "      <th>rank_test_score</th>\n",
              "    </tr>\n",
              "  </thead>\n",
              "  <tbody>\n",
              "    <tr>\n",
              "      <th>0</th>\n",
              "      <td>0</td>\n",
              "      <td>85</td>\n",
              "      <td>0.945781</td>\n",
              "      <td>30</td>\n",
              "    </tr>\n",
              "    <tr>\n",
              "      <th>1</th>\n",
              "      <td>0</td>\n",
              "      <td>86</td>\n",
              "      <td>0.948825</td>\n",
              "      <td>22</td>\n",
              "    </tr>\n",
              "    <tr>\n",
              "      <th>2</th>\n",
              "      <td>0</td>\n",
              "      <td>87</td>\n",
              "      <td>0.947445</td>\n",
              "      <td>28</td>\n",
              "    </tr>\n",
              "    <tr>\n",
              "      <th>3</th>\n",
              "      <td>0</td>\n",
              "      <td>88</td>\n",
              "      <td>0.951841</td>\n",
              "      <td>13</td>\n",
              "    </tr>\n",
              "    <tr>\n",
              "      <th>4</th>\n",
              "      <td>0</td>\n",
              "      <td>89</td>\n",
              "      <td>0.949466</td>\n",
              "      <td>21</td>\n",
              "    </tr>\n",
              "    <tr>\n",
              "      <th>5</th>\n",
              "      <td>0</td>\n",
              "      <td>90</td>\n",
              "      <td>0.949815</td>\n",
              "      <td>20</td>\n",
              "    </tr>\n",
              "    <tr>\n",
              "      <th>6</th>\n",
              "      <td>0</td>\n",
              "      <td>91</td>\n",
              "      <td>0.949885</td>\n",
              "      <td>19</td>\n",
              "    </tr>\n",
              "    <tr>\n",
              "      <th>7</th>\n",
              "      <td>0</td>\n",
              "      <td>92</td>\n",
              "      <td>0.953240</td>\n",
              "      <td>11</td>\n",
              "    </tr>\n",
              "    <tr>\n",
              "      <th>8</th>\n",
              "      <td>0</td>\n",
              "      <td>93</td>\n",
              "      <td>0.951489</td>\n",
              "      <td>14</td>\n",
              "    </tr>\n",
              "    <tr>\n",
              "      <th>9</th>\n",
              "      <td>0</td>\n",
              "      <td>94</td>\n",
              "      <td>0.951460</td>\n",
              "      <td>15</td>\n",
              "    </tr>\n",
              "    <tr>\n",
              "      <th>10</th>\n",
              "      <td>0</td>\n",
              "      <td>95</td>\n",
              "      <td>0.951368</td>\n",
              "      <td>17</td>\n",
              "    </tr>\n",
              "    <tr>\n",
              "      <th>11</th>\n",
              "      <td>0</td>\n",
              "      <td>96</td>\n",
              "      <td>0.948007</td>\n",
              "      <td>25</td>\n",
              "    </tr>\n",
              "    <tr>\n",
              "      <th>12</th>\n",
              "      <td>0</td>\n",
              "      <td>97</td>\n",
              "      <td>0.952860</td>\n",
              "      <td>12</td>\n",
              "    </tr>\n",
              "    <tr>\n",
              "      <th>13</th>\n",
              "      <td>0</td>\n",
              "      <td>98</td>\n",
              "      <td>0.951380</td>\n",
              "      <td>16</td>\n",
              "    </tr>\n",
              "    <tr>\n",
              "      <th>14</th>\n",
              "      <td>0</td>\n",
              "      <td>99</td>\n",
              "      <td>0.948689</td>\n",
              "      <td>23</td>\n",
              "    </tr>\n",
              "    <tr>\n",
              "      <th>15</th>\n",
              "      <td>0</td>\n",
              "      <td>100</td>\n",
              "      <td>0.950761</td>\n",
              "      <td>18</td>\n",
              "    </tr>\n",
              "    <tr>\n",
              "      <th>16</th>\n",
              "      <td>0</td>\n",
              "      <td>101</td>\n",
              "      <td>0.947551</td>\n",
              "      <td>27</td>\n",
              "    </tr>\n",
              "    <tr>\n",
              "      <th>17</th>\n",
              "      <td>0</td>\n",
              "      <td>102</td>\n",
              "      <td>0.948650</td>\n",
              "      <td>24</td>\n",
              "    </tr>\n",
              "    <tr>\n",
              "      <th>18</th>\n",
              "      <td>0</td>\n",
              "      <td>103</td>\n",
              "      <td>0.947950</td>\n",
              "      <td>26</td>\n",
              "    </tr>\n",
              "    <tr>\n",
              "      <th>19</th>\n",
              "      <td>0</td>\n",
              "      <td>104</td>\n",
              "      <td>0.947235</td>\n",
              "      <td>29</td>\n",
              "    </tr>\n",
              "    <tr>\n",
              "      <th>20</th>\n",
              "      <td>1</td>\n",
              "      <td>95</td>\n",
              "      <td>0.957950</td>\n",
              "      <td>6</td>\n",
              "    </tr>\n",
              "    <tr>\n",
              "      <th>21</th>\n",
              "      <td>1</td>\n",
              "      <td>98</td>\n",
              "      <td>0.958264</td>\n",
              "      <td>5</td>\n",
              "    </tr>\n",
              "    <tr>\n",
              "      <th>22</th>\n",
              "      <td>1</td>\n",
              "      <td>94</td>\n",
              "      <td>0.957685</td>\n",
              "      <td>8</td>\n",
              "    </tr>\n",
              "    <tr>\n",
              "      <th>23</th>\n",
              "      <td>1</td>\n",
              "      <td>93</td>\n",
              "      <td>0.958356</td>\n",
              "      <td>4</td>\n",
              "    </tr>\n",
              "    <tr>\n",
              "      <th>24</th>\n",
              "      <td>1</td>\n",
              "      <td>88</td>\n",
              "      <td>0.957195</td>\n",
              "      <td>10</td>\n",
              "    </tr>\n",
              "    <tr>\n",
              "      <th>25</th>\n",
              "      <td>1</td>\n",
              "      <td>97</td>\n",
              "      <td>0.957929</td>\n",
              "      <td>7</td>\n",
              "    </tr>\n",
              "    <tr>\n",
              "      <th>26</th>\n",
              "      <td>1</td>\n",
              "      <td>92</td>\n",
              "      <td>0.957327</td>\n",
              "      <td>9</td>\n",
              "    </tr>\n",
              "    <tr>\n",
              "      <th>27</th>\n",
              "      <td>2</td>\n",
              "      <td>95</td>\n",
              "      <td>0.962978</td>\n",
              "      <td>2</td>\n",
              "    </tr>\n",
              "    <tr>\n",
              "      <th>28</th>\n",
              "      <td>2</td>\n",
              "      <td>98</td>\n",
              "      <td>0.961937</td>\n",
              "      <td>3</td>\n",
              "    </tr>\n",
              "    <tr>\n",
              "      <th>29</th>\n",
              "      <td>2</td>\n",
              "      <td>93</td>\n",
              "      <td>0.963279</td>\n",
              "      <td>1</td>\n",
              "    </tr>\n",
              "  </tbody>\n",
              "</table>\n",
              "</div>\n",
              "      <button class=\"colab-df-convert\" onclick=\"convertToInteractive('df-6a093c95-976b-46b2-bb63-74c32e765e68')\"\n",
              "              title=\"Convert this dataframe to an interactive table.\"\n",
              "              style=\"display:none;\">\n",
              "        \n",
              "  <svg xmlns=\"http://www.w3.org/2000/svg\" height=\"24px\"viewBox=\"0 0 24 24\"\n",
              "       width=\"24px\">\n",
              "    <path d=\"M0 0h24v24H0V0z\" fill=\"none\"/>\n",
              "    <path d=\"M18.56 5.44l.94 2.06.94-2.06 2.06-.94-2.06-.94-.94-2.06-.94 2.06-2.06.94zm-11 1L8.5 8.5l.94-2.06 2.06-.94-2.06-.94L8.5 2.5l-.94 2.06-2.06.94zm10 10l.94 2.06.94-2.06 2.06-.94-2.06-.94-.94-2.06-.94 2.06-2.06.94z\"/><path d=\"M17.41 7.96l-1.37-1.37c-.4-.4-.92-.59-1.43-.59-.52 0-1.04.2-1.43.59L10.3 9.45l-7.72 7.72c-.78.78-.78 2.05 0 2.83L4 21.41c.39.39.9.59 1.41.59.51 0 1.02-.2 1.41-.59l7.78-7.78 2.81-2.81c.8-.78.8-2.07 0-2.86zM5.41 20L4 18.59l7.72-7.72 1.47 1.35L5.41 20z\"/>\n",
              "  </svg>\n",
              "      </button>\n",
              "      \n",
              "  <style>\n",
              "    .colab-df-container {\n",
              "      display:flex;\n",
              "      flex-wrap:wrap;\n",
              "      gap: 12px;\n",
              "    }\n",
              "\n",
              "    .colab-df-convert {\n",
              "      background-color: #E8F0FE;\n",
              "      border: none;\n",
              "      border-radius: 50%;\n",
              "      cursor: pointer;\n",
              "      display: none;\n",
              "      fill: #1967D2;\n",
              "      height: 32px;\n",
              "      padding: 0 0 0 0;\n",
              "      width: 32px;\n",
              "    }\n",
              "\n",
              "    .colab-df-convert:hover {\n",
              "      background-color: #E2EBFA;\n",
              "      box-shadow: 0px 1px 2px rgba(60, 64, 67, 0.3), 0px 1px 3px 1px rgba(60, 64, 67, 0.15);\n",
              "      fill: #174EA6;\n",
              "    }\n",
              "\n",
              "    [theme=dark] .colab-df-convert {\n",
              "      background-color: #3B4455;\n",
              "      fill: #D2E3FC;\n",
              "    }\n",
              "\n",
              "    [theme=dark] .colab-df-convert:hover {\n",
              "      background-color: #434B5C;\n",
              "      box-shadow: 0px 1px 3px 1px rgba(0, 0, 0, 0.15);\n",
              "      filter: drop-shadow(0px 1px 2px rgba(0, 0, 0, 0.3));\n",
              "      fill: #FFFFFF;\n",
              "    }\n",
              "  </style>\n",
              "\n",
              "      <script>\n",
              "        const buttonEl =\n",
              "          document.querySelector('#df-6a093c95-976b-46b2-bb63-74c32e765e68 button.colab-df-convert');\n",
              "        buttonEl.style.display =\n",
              "          google.colab.kernel.accessAllowed ? 'block' : 'none';\n",
              "\n",
              "        async function convertToInteractive(key) {\n",
              "          const element = document.querySelector('#df-6a093c95-976b-46b2-bb63-74c32e765e68');\n",
              "          const dataTable =\n",
              "            await google.colab.kernel.invokeFunction('convertToInteractive',\n",
              "                                                     [key], {});\n",
              "          if (!dataTable) return;\n",
              "\n",
              "          const docLinkHtml = 'Like what you see? Visit the ' +\n",
              "            '<a target=\"_blank\" href=https://colab.research.google.com/notebooks/data_table.ipynb>data table notebook</a>'\n",
              "            + ' to learn more about interactive tables.';\n",
              "          element.innerHTML = '';\n",
              "          dataTable['output_type'] = 'display_data';\n",
              "          await google.colab.output.renderOutput(dataTable, element);\n",
              "          const docLink = document.createElement('div');\n",
              "          docLink.innerHTML = docLinkHtml;\n",
              "          element.appendChild(docLink);\n",
              "        }\n",
              "      </script>\n",
              "    </div>\n",
              "  </div>\n",
              "  "
            ]
          },
          "metadata": {},
          "execution_count": 71
        },
        {
          "output_type": "display_data",
          "data": {
            "text/plain": [
              "<Figure size 432x288 with 1 Axes>"
            ],
            "image/png": "[encoded data removed]"
          },
          "metadata": {
            "needs_background": "light"
          }
        }
      ]
    },
    {
      "cell_type": "code",
      "source": [
        "best_ada_2 = clf_ada_2.best_estimator_\n",
        "best_ada_2"
      ],
      "metadata": {
        "id": "-vCQp5n4zq4f",
        "colab": {
          "base_uri": "https://localhost:8080/"
        },
        "outputId": "e734f14d-b73e-40dc-ac0f-54b117e335b1"
      },
      "execution_count": 72,
      "outputs": [
        {
          "output_type": "execute_result",
          "data": {
            "text/plain": [
              "AdaBoostClassifier(n_estimators=93, random_state=42)"
            ]
          },
          "metadata": {},
          "execution_count": 72
        }
      ]
    },
    {
      "cell_type": "code",
      "source": [
        "y_val_pred_best_ada_2 = best_ada_2.predict(X_val)\n",
        "f2_score(y_val, y_val_pred_best_ada_2)"
      ],
      "metadata": {
        "id": "6MwWTVWOzq4g",
        "colab": {
          "base_uri": "https://localhost:8080/"
        },
        "outputId": "f8ea3d8c-42c8-4679-deb2-e760cca82276"
      },
      "execution_count": 73,
      "outputs": [
        {
          "output_type": "execute_result",
          "data": {
            "text/plain": [
              "0.5982905982905984"
            ]
          },
          "metadata": {},
          "execution_count": 73
        }
      ]
    },
    {
      "cell_type": "markdown",
      "source": [
        "# Gradient Boosting (1/2)"
      ],
      "metadata": {
        "id": "CW4_qBBgI1OK"
      }
    },
    {
      "cell_type": "markdown",
      "source": [
        "## Setting up parameter grid and Gradient Boosting"
      ],
      "metadata": {
        "id": "g0jXJrHDI1OK"
      }
    },
    {
      "cell_type": "code",
      "source": [
        "n_estimators_gb_1 = np.unique(np.linspace(2, 200, num=20, dtype=int))\n",
        "n_estimators_gb_1"
      ],
      "metadata": {
        "id": "8ELXc7B6I1OK",
        "colab": {
          "base_uri": "https://localhost:8080/"
        },
        "outputId": "26c8a20a-7327-40c5-9e3d-9ccba29c8566"
      },
      "execution_count": 74,
      "outputs": [
        {
          "output_type": "execute_result",
          "data": {
            "text/plain": [
              "array([  2,  12,  22,  33,  43,  54,  64,  74,  85,  95, 106, 116, 127,\n",
              "       137, 147, 158, 168, 179, 189, 200])"
            ]
          },
          "metadata": {},
          "execution_count": 74
        }
      ]
    },
    {
      "cell_type": "code",
      "source": [
        "param_grid_gb_1 = {'n_estimators': n_estimators_gb_1}"
      ],
      "metadata": {
        "id": "xl2b8-soI1OL"
      },
      "execution_count": 75,
      "outputs": []
    },
    {
      "cell_type": "code",
      "source": [
        "gb_1 = GradientBoostingClassifier(random_state=RANDOM_STATE)\n",
        "gb_1"
      ],
      "metadata": {
        "id": "eHoQKhD3I1OL",
        "colab": {
          "base_uri": "https://localhost:8080/"
        },
        "outputId": "e26003d9-a56e-43ce-b44e-dd5ea0563de0"
      },
      "execution_count": 76,
      "outputs": [
        {
          "output_type": "execute_result",
          "data": {
            "text/plain": [
              "GradientBoostingClassifier(random_state=42)"
            ]
          },
          "metadata": {},
          "execution_count": 76
        }
      ]
    },
    {
      "cell_type": "markdown",
      "source": [
        "## Performing grid search cross validation and choosing the best model"
      ],
      "metadata": {
        "id": "v09rwTxVI1OL"
      }
    },
    {
      "cell_type": "code",
      "source": [
        "clf_gb_1 = HalvingGridSearchCV(gb_1, param_grid_gb_1, scoring=f2_scorer)\n",
        "clf_gb_1"
      ],
      "metadata": {
        "id": "MbnHDfCbI1OL",
        "colab": {
          "base_uri": "https://localhost:8080/"
        },
        "outputId": "7cb9e876-74f1-4061-cf08-e919cf951e9c"
      },
      "execution_count": 77,
      "outputs": [
        {
          "output_type": "execute_result",
          "data": {
            "text/plain": [
              "HalvingGridSearchCV(estimator=GradientBoostingClassifier(random_state=42),\n",
              "                    param_grid={'n_estimators': array([  2,  12,  22,  33,  43,  54,  64,  74,  85,  95, 106, 116, 127,\n",
              "       137, 147, 158, 168, 179, 189, 200])},\n",
              "                    scoring=make_scorer(fbeta_score, beta=2))"
            ]
          },
          "metadata": {},
          "execution_count": 77
        }
      ]
    },
    {
      "cell_type": "code",
      "source": [
        "clf_gb_1.fit(X_train_over, y_train_over)"
      ],
      "metadata": {
        "id": "ahQFhATSI1OM",
        "colab": {
          "base_uri": "https://localhost:8080/"
        },
        "outputId": "986e37d6-3a66-4a17-fa3c-22d5e785f0a9"
      },
      "execution_count": 78,
      "outputs": [
        {
          "output_type": "execute_result",
          "data": {
            "text/plain": [
              "HalvingGridSearchCV(estimator=GradientBoostingClassifier(random_state=42),\n",
              "                    param_grid={'n_estimators': array([  2,  12,  22,  33,  43,  54,  64,  74,  85,  95, 106, 116, 127,\n",
              "       137, 147, 158, 168, 179, 189, 200])},\n",
              "                    scoring=make_scorer(fbeta_score, beta=2))"
            ]
          },
          "metadata": {},
          "execution_count": 78
        }
      ]
    },
    {
      "cell_type": "code",
      "source": [
        "clf_gb_1.cv_results_"
      ],
      "metadata": {
        "id": "BdBY6pX5I1OM",
        "colab": {
          "base_uri": "https://localhost:8080/"
        },
        "outputId": "62a1f4cf-278d-4761-9db1-5623355a9610"
      },
      "execution_count": 79,
      "outputs": [
        {
          "output_type": "execute_result",
          "data": {
            "text/plain": [
              "{'iter': array([0, 0, 0, 0, 0, 0, 0, 0, 0, 0, 0, 0, 0, 0, 0, 0, 0, 0, 0, 0, 1, 1,\n",
              "        1, 1, 1, 1, 1, 2, 2, 2]),\n",
              " 'mean_fit_time': array([4.85991001e-02, 2.92141676e-01, 5.24961472e-01, 7.82886553e-01,\n",
              "        1.01526051e+00, 1.28248019e+00, 1.51549101e+00, 1.75869684e+00,\n",
              "        2.02323337e+00, 2.26044540e+00, 2.52422318e+00, 2.76924706e+00,\n",
              "        3.03115630e+00, 3.28229394e+00, 3.52555847e+00, 3.78314776e+00,\n",
              "        4.02378001e+00, 4.53886795e+00, 4.52233701e+00, 4.79265094e+00,\n",
              "        1.08442469e+01, 1.16402262e+01, 1.25061940e+01, 1.49906808e+01,\n",
              "        1.41864987e+01, 1.33189538e+01, 1.61180585e+01, 4.69691977e+01,\n",
              "        5.28168853e+01, 4.95297674e+01]),\n",
              " 'mean_score_time': array([0.00141935, 0.00170546, 0.00158615, 0.00169997, 0.00167241,\n",
              "        0.00176778, 0.00181656, 0.00188422, 0.00189705, 0.00209603,\n",
              "        0.00222287, 0.00224547, 0.0023212 , 0.00216222, 0.00226107,\n",
              "        0.00227122, 0.00231509, 0.00246272, 0.00239377, 0.00243845,\n",
              "        0.00373945, 0.00394573, 0.00399108, 0.00461216, 0.00438533,\n",
              "        0.00417042, 0.00524182, 0.00983491, 0.01032643, 0.00989017]),\n",
              " 'mean_test_score': array([0.91171386, 0.92620981, 0.92683707, 0.93011154, 0.93271494,\n",
              "        0.94255661, 0.94340197, 0.95021394, 0.95021394, 0.95191862,\n",
              "        0.95311828, 0.95454562, 0.95598878, 0.9589402 , 0.9589402 ,\n",
              "        0.96028968, 0.96233208, 0.96217514, 0.96188712, 0.96648615,\n",
              "        0.9679083 , 0.96904304, 0.96984544, 0.97207273, 0.97077483,\n",
              "        0.96995361, 0.97150937, 0.98252456, 0.98320749, 0.98271224]),\n",
              " 'mean_train_score': array([0.94120041, 0.96136302, 0.97084064, 0.98112918, 0.98844239,\n",
              "        0.99614899, 0.99767249, 0.99853371, 0.99974874, 0.99983011,\n",
              "        0.99983011, 1.        , 1.        , 1.        , 1.        ,\n",
              "        1.        , 1.        , 1.        , 1.        , 1.        ,\n",
              "        0.99603861, 0.99670486, 0.99760052, 0.99895972, 0.99869845,\n",
              "        0.9981494 , 0.99907542, 0.99345599, 0.99489637, 0.99422392]),\n",
              " 'n_resources': array([ 1154,  1154,  1154,  1154,  1154,  1154,  1154,  1154,  1154,\n",
              "         1154,  1154,  1154,  1154,  1154,  1154,  1154,  1154,  1154,\n",
              "         1154,  1154,  3462,  3462,  3462,  3462,  3462,  3462,  3462,\n",
              "        10386, 10386, 10386]),\n",
              " 'param_n_estimators': masked_array(data=[2, 12, 22, 33, 43, 54, 64, 74, 85, 95, 106, 116, 127,\n",
              "                    137, 147, 158, 168, 179, 189, 200, 137, 147, 158, 189,\n",
              "                    179, 168, 200, 179, 200, 189],\n",
              "              mask=[False, False, False, False, False, False, False, False,\n",
              "                    False, False, False, False, False, False, False, False,\n",
              "                    False, False, False, False, False, False, False, False,\n",
              "                    False, False, False, False, False, False],\n",
              "        fill_value='?',\n",
              "             dtype=object),\n",
              " 'params': [{'n_estimators': 2},\n",
              "  {'n_estimators': 12},\n",
              "  {'n_estimators': 22},\n",
              "  {'n_estimators': 33},\n",
              "  {'n_estimators': 43},\n",
              "  {'n_estimators': 54},\n",
              "  {'n_estimators': 64},\n",
              "  {'n_estimators': 74},\n",
              "  {'n_estimators': 85},\n",
              "  {'n_estimators': 95},\n",
              "  {'n_estimators': 106},\n",
              "  {'n_estimators': 116},\n",
              "  {'n_estimators': 127},\n",
              "  {'n_estimators': 137},\n",
              "  {'n_estimators': 147},\n",
              "  {'n_estimators': 158},\n",
              "  {'n_estimators': 168},\n",
              "  {'n_estimators': 179},\n",
              "  {'n_estimators': 189},\n",
              "  {'n_estimators': 200},\n",
              "  {'n_estimators': 137},\n",
              "  {'n_estimators': 147},\n",
              "  {'n_estimators': 158},\n",
              "  {'n_estimators': 189},\n",
              "  {'n_estimators': 179},\n",
              "  {'n_estimators': 168},\n",
              "  {'n_estimators': 200},\n",
              "  {'n_estimators': 179},\n",
              "  {'n_estimators': 200},\n",
              "  {'n_estimators': 189}],\n",
              " 'rank_test_score': array([30, 29, 28, 27, 26, 25, 24, 22, 22, 21, 20, 19, 18, 16, 16, 15, 12,\n",
              "        13, 14, 11, 10,  9,  8,  4,  6,  7,  5,  3,  1,  2], dtype=int32),\n",
              " 'split0_test_score': array([0.88429752, 0.94616639, 0.954323  , 0.94771242, 0.95276873,\n",
              "        0.95276873, 0.95588235, 0.95744681, 0.95744681, 0.96405229,\n",
              "        0.95744681, 0.95744681, 0.95744681, 0.95744681, 0.95744681,\n",
              "        0.95744681, 0.95744681, 0.95744681, 0.95744681, 0.95744681,\n",
              "        0.946255  , 0.94857143, 0.95088521, 0.95659623, 0.95428571,\n",
              "        0.95197256, 0.95428571, 0.96938776, 0.96994799, 0.96976117]),\n",
              " 'split0_train_score': array([0.92674316, 0.96052632, 0.96618357, 0.97797357, 0.98675497,\n",
              "        0.99646487, 0.99734631, 0.99778761, 0.99955772, 0.99955772,\n",
              "        0.99955772, 1.        , 1.        , 1.        , 1.        ,\n",
              "        1.        , 1.        , 1.        , 1.        , 1.        ,\n",
              "        0.99640029, 0.99755114, 0.99870392, 0.99913557, 0.99899165,\n",
              "        0.99899165, 0.99942355, 0.99409307, 0.99553271, 0.99505236]),\n",
              " 'split1_test_score': array([0.92      , 0.92948718, 0.92948718, 0.93450479, 0.93301435,\n",
              "        0.93301435, 0.93949045, 0.94896332, 0.94896332, 0.94249201,\n",
              "        0.94896332, 0.94249201, 0.94249201, 0.95047923, 0.95047923,\n",
              "        0.95047923, 0.952     , 0.96      , 0.95846645, 0.95846645,\n",
              "        0.97450425, 0.97450425, 0.97450425, 0.97395243, 0.97450425,\n",
              "        0.97450425, 0.97395243, 0.98434218, 0.98471824, 0.98415426]),\n",
              " 'split1_train_score': array([0.95008052, 0.97261377, 0.98098706, 0.98457166, 0.98943519,\n",
              "        0.99633998, 0.9987795 , 0.999186  , 0.999186  , 0.99959283,\n",
              "        0.99959283, 1.        , 1.        , 1.        , 1.        ,\n",
              "        1.        , 1.        , 1.        , 1.        , 1.        ,\n",
              "        0.99539701, 0.99568345, 0.99582674, 0.99784017, 0.99784017,\n",
              "        0.99654378, 0.99798387, 0.99341568, 0.99423077, 0.99403961]),\n",
              " 'split2_test_score': array([0.89350181, 0.89189189, 0.89189189, 0.90664273, 0.89928058,\n",
              "        0.92857143, 0.92857143, 0.94474153, 0.94474153, 0.94474153,\n",
              "        0.94474153, 0.94474153, 0.9519573 , 0.9519573 , 0.9519573 ,\n",
              "        0.9519573 , 0.95914742, 0.9519573 , 0.9519573 , 0.97345133,\n",
              "        0.97431602, 0.97765363, 0.97820011, 0.97820011, 0.97765363,\n",
              "        0.97765363, 0.97595078, 0.98587517, 0.98644003, 0.98644003]),\n",
              " 'split2_train_score': array([0.92969081, 0.95829823, 0.97011785, 0.98692535, 0.9953508 ,\n",
              "        0.99703641, 0.99873043, 0.99957645, 1.        , 1.        ,\n",
              "        1.        , 1.        , 1.        , 1.        , 1.        ,\n",
              "        1.        , 1.        , 1.        , 1.        , 1.        ,\n",
              "        0.99540692, 0.99612459, 0.99755993, 0.99928212, 0.99870764,\n",
              "        0.9984209 , 0.99928212, 0.99307992, 0.99476062, 0.99394405]),\n",
              " 'split3_test_score': array([0.95092025, 0.94907407, 0.95092025, 0.95565749, 0.97094801,\n",
              "        0.97560976, 0.97709924, 0.97709924, 0.97709924, 0.97709924,\n",
              "        0.98323171, 0.98323171, 0.98323171, 0.98323171, 0.98323171,\n",
              "        0.98323171, 0.98473282, 0.98473282, 0.98323171, 0.98473282,\n",
              "        0.98394768, 0.98453302, 0.98511905, 0.98871734, 0.98453302,\n",
              "        0.98511905, 0.98989298, 0.99043062, 0.99043062, 0.98947368]),\n",
              " 'split3_train_score': array([0.95389171, 0.96227215, 0.96945269, 0.97881356, 0.98681412,\n",
              "        0.99787234, 0.99829715, 0.99829715, 1.        , 1.        ,\n",
              "        1.        , 1.        , 1.        , 1.        , 1.        ,\n",
              "        1.        , 1.        , 1.        , 1.        , 1.        ,\n",
              "        0.99529896, 0.99647525, 0.99735605, 0.99911842, 0.99853049,\n",
              "        0.99809048, 0.99926525, 0.99341884, 0.99481094, 0.99380225]),\n",
              " 'split4_test_score': array([0.90984975, 0.91442953, 0.90756303, 0.90604027, 0.90756303,\n",
              "        0.92281879, 0.91596639, 0.92281879, 0.92281879, 0.93120805,\n",
              "        0.93120805, 0.94481605, 0.94481605, 0.95158598, 0.95158598,\n",
              "        0.95833333, 0.95833333, 0.95673877, 0.95833333, 0.95833333,\n",
              "        0.96051856, 0.95995289, 0.96051856, 0.96289753, 0.96289753,\n",
              "        0.96051856, 0.96346494, 0.98258706, 0.98450057, 0.98373206]),\n",
              " 'split4_train_score': array([0.94559585, 0.95310465, 0.96746204, 0.97736178, 0.98385689,\n",
              "        0.99303136, 0.99520906, 0.99782135, 1.        , 1.        ,\n",
              "        1.        , 1.        , 1.        , 1.        , 1.        ,\n",
              "        1.        , 1.        , 1.        , 1.        , 1.        ,\n",
              "        0.99768986, 0.99768986, 0.99855596, 0.9994223 , 0.9994223 ,\n",
              "        0.99870017, 0.9994223 , 0.99327247, 0.9951468 , 0.99428132]),\n",
              " 'std_fit_time': array([0.00069157, 0.00591353, 0.00538531, 0.00358202, 0.00398525,\n",
              "        0.01146326, 0.00531732, 0.01129061, 0.01077957, 0.00757826,\n",
              "        0.00983884, 0.01128318, 0.01066725, 0.01519957, 0.01203512,\n",
              "        0.01266071, 0.01712567, 0.50964604, 0.01160713, 0.02299449,\n",
              "        0.02170447, 0.02309064, 0.02583873, 0.03324479, 0.02140227,\n",
              "        0.02867254, 0.45019134, 0.05912339, 0.43785057, 0.07428045]),\n",
              " 'std_score_time': array([3.16249102e-05, 2.41275804e-04, 8.46490048e-06, 1.47093049e-04,\n",
              "        2.06253982e-05, 3.02743157e-05, 4.94658283e-05, 5.13865882e-05,\n",
              "        2.49461040e-05, 2.56380339e-04, 4.06712009e-04, 3.83156724e-04,\n",
              "        4.36026306e-04, 4.45489437e-05, 1.11401917e-04, 2.02885105e-05,\n",
              "        5.84916922e-05, 2.04340640e-04, 4.28343114e-05, 1.50363323e-05,\n",
              "        6.39332834e-05, 1.55899690e-04, 2.68740786e-05, 4.89208279e-04,\n",
              "        1.68031122e-04, 1.14138123e-04, 9.02716334e-04, 1.75989323e-04,\n",
              "        1.55224184e-04, 1.05794209e-04]),\n",
              " 'std_test_score': array([0.02320608, 0.02120507, 0.02422871, 0.02055188, 0.02688675,\n",
              "        0.01935469, 0.02135051, 0.01764732, 0.01764732, 0.01643526,\n",
              "        0.01728031, 0.01527994, 0.01461197, 0.01238338, 0.01238338,\n",
              "        0.01186524, 0.01147644, 0.01157494, 0.01093837, 0.01089907,\n",
              "        0.01315523, 0.0130048 , 0.0124199 , 0.01132985, 0.01081163,\n",
              "        0.01201938, 0.01204175, 0.00706563, 0.00696264, 0.00678916]),\n",
              " 'std_train_score': array([0.0109611 , 0.00641404, 0.00526311, 0.00387194, 0.0038791 ,\n",
              "        0.00165005, 0.0013349 , 0.00072565, 0.00032941, 0.00020837,\n",
              "        0.00020837, 0.        , 0.        , 0.        , 0.        ,\n",
              "        0.        , 0.        , 0.        , 0.        , 0.        ,\n",
              "        0.00091817, 0.00078983, 0.00103325, 0.00057051, 0.00052438,\n",
              "        0.0008565 , 0.00054987, 0.00034176, 0.00043276, 0.00044265])}"
            ]
          },
          "metadata": {},
          "execution_count": 79
        }
      ]
    },
    {
      "cell_type": "code",
      "source": [
        "show_cv_results('n_estimators', clf_gb_1.cv_results_)"
      ],
      "metadata": {
        "id": "umzliMJAI1OM",
        "colab": {
          "base_uri": "https://localhost:8080/",
          "height": 1000
        },
        "outputId": "8cf6ec00-19ad-482c-96d6-ec2f64359404"
      },
      "execution_count": 80,
      "outputs": [
        {
          "output_type": "execute_result",
          "data": {
            "text/plain": [
              "    iter  n_estimators  mean_test_score  rank_test_score\n",
              "0      0             2         0.911714               30\n",
              "1      0            12         0.926210               29\n",
              "2      0            22         0.926837               28\n",
              "3      0            33         0.930112               27\n",
              "4      0            43         0.932715               26\n",
              "5      0            54         0.942557               25\n",
              "6      0            64         0.943402               24\n",
              "7      0            74         0.950214               22\n",
              "8      0            85         0.950214               22\n",
              "9      0            95         0.951919               21\n",
              "10     0           106         0.953118               20\n",
              "11     0           116         0.954546               19\n",
              "12     0           127         0.955989               18\n",
              "13     0           137         0.958940               16\n",
              "14     0           147         0.958940               16\n",
              "15     0           158         0.960290               15\n",
              "16     0           168         0.962332               12\n",
              "17     0           179         0.962175               13\n",
              "18     0           189         0.961887               14\n",
              "19     0           200         0.966486               11\n",
              "20     1           137         0.967908               10\n",
              "21     1           147         0.969043                9\n",
              "22     1           158         0.969845                8\n",
              "23     1           189         0.972073                4\n",
              "24     1           179         0.970775                6\n",
              "25     1           168         0.969954                7\n",
              "26     1           200         0.971509                5\n",
              "27     2           179         0.982525                3\n",
              "28     2           200         0.983207                1\n",
              "29     2           189         0.982712                2"
            ],
            "text/html": [
              "\n",
              "  <div id=\"df-b0de6d2f-7490-4ac3-b87a-1733ce5b2067\">\n",
              "    <div class=\"colab-df-container\">\n",
              "      <div>\n",
              "<style scoped>\n",
              "    .dataframe tbody tr th:only-of-type {\n",
              "        vertical-align: middle;\n",
              "    }\n",
              "\n",
              "    .dataframe tbody tr th {\n",
              "        vertical-align: top;\n",
              "    }\n",
              "\n",
              "    .dataframe thead th {\n",
              "        text-align: right;\n",
              "    }\n",
              "</style>\n",
              "<table border=\"1\" class=\"dataframe\">\n",
              "  <thead>\n",
              "    <tr style=\"text-align: right;\">\n",
              "      <th></th>\n",
              "      <th>iter</th>\n",
              "      <th>n_estimators</th>\n",
              "      <th>mean_test_score</th>\n",
              "      <th>rank_test_score</th>\n",
              "    </tr>\n",
              "  </thead>\n",
              "  <tbody>\n",
              "    <tr>\n",
              "      <th>0</th>\n",
              "      <td>0</td>\n",
              "      <td>2</td>\n",
              "      <td>0.911714</td>\n",
              "      <td>30</td>\n",
              "    </tr>\n",
              "    <tr>\n",
              "      <th>1</th>\n",
              "      <td>0</td>\n",
              "      <td>12</td>\n",
              "      <td>0.926210</td>\n",
              "      <td>29</td>\n",
              "    </tr>\n",
              "    <tr>\n",
              "      <th>2</th>\n",
              "      <td>0</td>\n",
              "      <td>22</td>\n",
              "      <td>0.926837</td>\n",
              "      <td>28</td>\n",
              "    </tr>\n",
              "    <tr>\n",
              "      <th>3</th>\n",
              "      <td>0</td>\n",
              "      <td>33</td>\n",
              "      <td>0.930112</td>\n",
              "      <td>27</td>\n",
              "    </tr>\n",
              "    <tr>\n",
              "      <th>4</th>\n",
              "      <td>0</td>\n",
              "      <td>43</td>\n",
              "      <td>0.932715</td>\n",
              "      <td>26</td>\n",
              "    </tr>\n",
              "    <tr>\n",
              "      <th>5</th>\n",
              "      <td>0</td>\n",
              "      <td>54</td>\n",
              "      <td>0.942557</td>\n",
              "      <td>25</td>\n",
              "    </tr>\n",
              "    <tr>\n",
              "      <th>6</th>\n",
              "      <td>0</td>\n",
              "      <td>64</td>\n",
              "      <td>0.943402</td>\n",
              "      <td>24</td>\n",
              "    </tr>\n",
              "    <tr>\n",
              "      <th>7</th>\n",
              "      <td>0</td>\n",
              "      <td>74</td>\n",
              "      <td>0.950214</td>\n",
              "      <td>22</td>\n",
              "    </tr>\n",
              "    <tr>\n",
              "      <th>8</th>\n",
              "      <td>0</td>\n",
              "      <td>85</td>\n",
              "      <td>0.950214</td>\n",
              "      <td>22</td>\n",
              "    </tr>\n",
              "    <tr>\n",
              "      <th>9</th>\n",
              "      <td>0</td>\n",
              "      <td>95</td>\n",
              "      <td>0.951919</td>\n",
              "      <td>21</td>\n",
              "    </tr>\n",
              "    <tr>\n",
              "      <th>10</th>\n",
              "      <td>0</td>\n",
              "      <td>106</td>\n",
              "      <td>0.953118</td>\n",
              "      <td>20</td>\n",
              "    </tr>\n",
              "    <tr>\n",
              "      <th>11</th>\n",
              "      <td>0</td>\n",
              "      <td>116</td>\n",
              "      <td>0.954546</td>\n",
              "      <td>19</td>\n",
              "    </tr>\n",
              "    <tr>\n",
              "      <th>12</th>\n",
              "      <td>0</td>\n",
              "      <td>127</td>\n",
              "      <td>0.955989</td>\n",
              "      <td>18</td>\n",
              "    </tr>\n",
              "    <tr>\n",
              "      <th>13</th>\n",
              "      <td>0</td>\n",
              "      <td>137</td>\n",
              "      <td>0.958940</td>\n",
              "      <td>16</td>\n",
              "    </tr>\n",
              "    <tr>\n",
              "      <th>14</th>\n",
              "      <td>0</td>\n",
              "      <td>147</td>\n",
              "      <td>0.958940</td>\n",
              "      <td>16</td>\n",
              "    </tr>\n",
              "    <tr>\n",
              "      <th>15</th>\n",
              "      <td>0</td>\n",
              "      <td>158</td>\n",
              "      <td>0.960290</td>\n",
              "      <td>15</td>\n",
              "    </tr>\n",
              "    <tr>\n",
              "      <th>16</th>\n",
              "      <td>0</td>\n",
              "      <td>168</td>\n",
              "      <td>0.962332</td>\n",
              "      <td>12</td>\n",
              "    </tr>\n",
              "    <tr>\n",
              "      <th>17</th>\n",
              "      <td>0</td>\n",
              "      <td>179</td>\n",
              "      <td>0.962175</td>\n",
              "      <td>13</td>\n",
              "    </tr>\n",
              "    <tr>\n",
              "      <th>18</th>\n",
              "      <td>0</td>\n",
              "      <td>189</td>\n",
              "      <td>0.961887</td>\n",
              "      <td>14</td>\n",
              "    </tr>\n",
              "    <tr>\n",
              "      <th>19</th>\n",
              "      <td>0</td>\n",
              "      <td>200</td>\n",
              "      <td>0.966486</td>\n",
              "      <td>11</td>\n",
              "    </tr>\n",
              "    <tr>\n",
              "      <th>20</th>\n",
              "      <td>1</td>\n",
              "      <td>137</td>\n",
              "      <td>0.967908</td>\n",
              "      <td>10</td>\n",
              "    </tr>\n",
              "    <tr>\n",
              "      <th>21</th>\n",
              "      <td>1</td>\n",
              "      <td>147</td>\n",
              "      <td>0.969043</td>\n",
              "      <td>9</td>\n",
              "    </tr>\n",
              "    <tr>\n",
              "      <th>22</th>\n",
              "      <td>1</td>\n",
              "      <td>158</td>\n",
              "      <td>0.969845</td>\n",
              "      <td>8</td>\n",
              "    </tr>\n",
              "    <tr>\n",
              "      <th>23</th>\n",
              "      <td>1</td>\n",
              "      <td>189</td>\n",
              "      <td>0.972073</td>\n",
              "      <td>4</td>\n",
              "    </tr>\n",
              "    <tr>\n",
              "      <th>24</th>\n",
              "      <td>1</td>\n",
              "      <td>179</td>\n",
              "      <td>0.970775</td>\n",
              "      <td>6</td>\n",
              "    </tr>\n",
              "    <tr>\n",
              "      <th>25</th>\n",
              "      <td>1</td>\n",
              "      <td>168</td>\n",
              "      <td>0.969954</td>\n",
              "      <td>7</td>\n",
              "    </tr>\n",
              "    <tr>\n",
              "      <th>26</th>\n",
              "      <td>1</td>\n",
              "      <td>200</td>\n",
              "      <td>0.971509</td>\n",
              "      <td>5</td>\n",
              "    </tr>\n",
              "    <tr>\n",
              "      <th>27</th>\n",
              "      <td>2</td>\n",
              "      <td>179</td>\n",
              "      <td>0.982525</td>\n",
              "      <td>3</td>\n",
              "    </tr>\n",
              "    <tr>\n",
              "      <th>28</th>\n",
              "      <td>2</td>\n",
              "      <td>200</td>\n",
              "      <td>0.983207</td>\n",
              "      <td>1</td>\n",
              "    </tr>\n",
              "    <tr>\n",
              "      <th>29</th>\n",
              "      <td>2</td>\n",
              "      <td>189</td>\n",
              "      <td>0.982712</td>\n",
              "      <td>2</td>\n",
              "    </tr>\n",
              "  </tbody>\n",
              "</table>\n",
              "</div>\n",
              "      <button class=\"colab-df-convert\" onclick=\"convertToInteractive('df-b0de6d2f-7490-4ac3-b87a-1733ce5b2067')\"\n",
              "              title=\"Convert this dataframe to an interactive table.\"\n",
              "              style=\"display:none;\">\n",
              "        \n",
              "  <svg xmlns=\"http://www.w3.org/2000/svg\" height=\"24px\"viewBox=\"0 0 24 24\"\n",
              "       width=\"24px\">\n",
              "    <path d=\"M0 0h24v24H0V0z\" fill=\"none\"/>\n",
              "    <path d=\"M18.56 5.44l.94 2.06.94-2.06 2.06-.94-2.06-.94-.94-2.06-.94 2.06-2.06.94zm-11 1L8.5 8.5l.94-2.06 2.06-.94-2.06-.94L8.5 2.5l-.94 2.06-2.06.94zm10 10l.94 2.06.94-2.06 2.06-.94-2.06-.94-.94-2.06-.94 2.06-2.06.94z\"/><path d=\"M17.41 7.96l-1.37-1.37c-.4-.4-.92-.59-1.43-.59-.52 0-1.04.2-1.43.59L10.3 9.45l-7.72 7.72c-.78.78-.78 2.05 0 2.83L4 21.41c.39.39.9.59 1.41.59.51 0 1.02-.2 1.41-.59l7.78-7.78 2.81-2.81c.8-.78.8-2.07 0-2.86zM5.41 20L4 18.59l7.72-7.72 1.47 1.35L5.41 20z\"/>\n",
              "  </svg>\n",
              "      </button>\n",
              "      \n",
              "  <style>\n",
              "    .colab-df-container {\n",
              "      display:flex;\n",
              "      flex-wrap:wrap;\n",
              "      gap: 12px;\n",
              "    }\n",
              "\n",
              "    .colab-df-convert {\n",
              "      background-color: #E8F0FE;\n",
              "      border: none;\n",
              "      border-radius: 50%;\n",
              "      cursor: pointer;\n",
              "      display: none;\n",
              "      fill: #1967D2;\n",
              "      height: 32px;\n",
              "      padding: 0 0 0 0;\n",
              "      width: 32px;\n",
              "    }\n",
              "\n",
              "    .colab-df-convert:hover {\n",
              "      background-color: #E2EBFA;\n",
              "      box-shadow: 0px 1px 2px rgba(60, 64, 67, 0.3), 0px 1px 3px 1px rgba(60, 64, 67, 0.15);\n",
              "      fill: #174EA6;\n",
              "    }\n",
              "\n",
              "    [theme=dark] .colab-df-convert {\n",
              "      background-color: #3B4455;\n",
              "      fill: #D2E3FC;\n",
              "    }\n",
              "\n",
              "    [theme=dark] .colab-df-convert:hover {\n",
              "      background-color: #434B5C;\n",
              "      box-shadow: 0px 1px 3px 1px rgba(0, 0, 0, 0.15);\n",
              "      filter: drop-shadow(0px 1px 2px rgba(0, 0, 0, 0.3));\n",
              "      fill: #FFFFFF;\n",
              "    }\n",
              "  </style>\n",
              "\n",
              "      <script>\n",
              "        const buttonEl =\n",
              "          document.querySelector('#df-b0de6d2f-7490-4ac3-b87a-1733ce5b2067 button.colab-df-convert');\n",
              "        buttonEl.style.display =\n",
              "          google.colab.kernel.accessAllowed ? 'block' : 'none';\n",
              "\n",
              "        async function convertToInteractive(key) {\n",
              "          const element = document.querySelector('#df-b0de6d2f-7490-4ac3-b87a-1733ce5b2067');\n",
              "          const dataTable =\n",
              "            await google.colab.kernel.invokeFunction('convertToInteractive',\n",
              "                                                     [key], {});\n",
              "          if (!dataTable) return;\n",
              "\n",
              "          const docLinkHtml = 'Like what you see? Visit the ' +\n",
              "            '<a target=\"_blank\" href=https://colab.research.google.com/notebooks/data_table.ipynb>data table notebook</a>'\n",
              "            + ' to learn more about interactive tables.';\n",
              "          element.innerHTML = '';\n",
              "          dataTable['output_type'] = 'display_data';\n",
              "          await google.colab.output.renderOutput(dataTable, element);\n",
              "          const docLink = document.createElement('div');\n",
              "          docLink.innerHTML = docLinkHtml;\n",
              "          element.appendChild(docLink);\n",
              "        }\n",
              "      </script>\n",
              "    </div>\n",
              "  </div>\n",
              "  "
            ]
          },
          "metadata": {},
          "execution_count": 80
        },
        {
          "output_type": "display_data",
          "data": {
            "text/plain": [
              "<Figure size 432x288 with 1 Axes>"
            ],
            "image/png": "[encoded data removed]"
          },
          "metadata": {
            "needs_background": "light"
          }
        }
      ]
    },
    {
      "cell_type": "code",
      "source": [
        "best_gb_1 = clf_gb_1.best_estimator_\n",
        "best_gb_1"
      ],
      "metadata": {
        "id": "uW8rOqlTI1OM",
        "colab": {
          "base_uri": "https://localhost:8080/"
        },
        "outputId": "e55da10b-f6e6-4a56-f7d1-31c8f106e582"
      },
      "execution_count": 81,
      "outputs": [
        {
          "output_type": "execute_result",
          "data": {
            "text/plain": [
              "GradientBoostingClassifier(n_estimators=200, random_state=42)"
            ]
          },
          "metadata": {},
          "execution_count": 81
        }
      ]
    },
    {
      "cell_type": "code",
      "source": [
        "y_val_pred_best_gb_1 = best_gb_1.predict(X_val)\n",
        "f2_score(y_val, y_val_pred_best_gb_1)"
      ],
      "metadata": {
        "id": "Df_H41zSI1OM",
        "colab": {
          "base_uri": "https://localhost:8080/"
        },
        "outputId": "3fea6b6a-6bb3-4533-c7aa-2f4009433067"
      },
      "execution_count": 82,
      "outputs": [
        {
          "output_type": "execute_result",
          "data": {
            "text/plain": [
              "0.6363636363636362"
            ]
          },
          "metadata": {},
          "execution_count": 82
        }
      ]
    },
    {
      "cell_type": "markdown",
      "source": [
        "# Gradient Boosting (2/2)"
      ],
      "metadata": {
        "id": "C7rp1vnAL8ZJ"
      }
    },
    {
      "cell_type": "markdown",
      "source": [
        "## Setting up parameter grid and Gradient Boosting"
      ],
      "metadata": {
        "id": "RIp1lcjbL8ZJ"
      }
    },
    {
      "cell_type": "code",
      "source": [
        "n_estimators_gb_2 = np.unique(np.linspace(180, 200, num=10, dtype=int))\n",
        "n_estimators_gb_2"
      ],
      "metadata": {
        "id": "XZRH3twYL8ZK",
        "colab": {
          "base_uri": "https://localhost:8080/"
        },
        "outputId": "a07bea95-8e55-4224-9863-d9ab01749747"
      },
      "execution_count": 83,
      "outputs": [
        {
          "output_type": "execute_result",
          "data": {
            "text/plain": [
              "array([180, 182, 184, 186, 188, 191, 193, 195, 197, 200])"
            ]
          },
          "metadata": {},
          "execution_count": 83
        }
      ]
    },
    {
      "cell_type": "code",
      "source": [
        "param_grid_gb_2 = {'n_estimators': n_estimators_gb_2}"
      ],
      "metadata": {
        "id": "03XkRCsTL8ZK"
      },
      "execution_count": 84,
      "outputs": []
    },
    {
      "cell_type": "code",
      "source": [
        "gb_2 = GradientBoostingClassifier(random_state=RANDOM_STATE)\n",
        "gb_2"
      ],
      "metadata": {
        "id": "r3in2OePL8ZK",
        "colab": {
          "base_uri": "https://localhost:8080/"
        },
        "outputId": "b2722c1b-dbe8-4b66-c3ef-cd4b4988d5fb"
      },
      "execution_count": 85,
      "outputs": [
        {
          "output_type": "execute_result",
          "data": {
            "text/plain": [
              "GradientBoostingClassifier(random_state=42)"
            ]
          },
          "metadata": {},
          "execution_count": 85
        }
      ]
    },
    {
      "cell_type": "markdown",
      "source": [
        "## Performing grid search cross validation and choosing the best model"
      ],
      "metadata": {
        "id": "z5ALWNINL8ZK"
      }
    },
    {
      "cell_type": "code",
      "source": [
        "clf_gb_2 = HalvingGridSearchCV(gb_2, param_grid_gb_2, scoring=f2_scorer)\n",
        "clf_gb_2"
      ],
      "metadata": {
        "id": "EdHirloqL8ZK",
        "colab": {
          "base_uri": "https://localhost:8080/"
        },
        "outputId": "33aa60af-a4aa-4cb5-88ec-d5ebae82326f"
      },
      "execution_count": 86,
      "outputs": [
        {
          "output_type": "execute_result",
          "data": {
            "text/plain": [
              "HalvingGridSearchCV(estimator=GradientBoostingClassifier(random_state=42),\n",
              "                    param_grid={'n_estimators': array([180, 182, 184, 186, 188, 191, 193, 195, 197, 200])},\n",
              "                    scoring=make_scorer(fbeta_score, beta=2))"
            ]
          },
          "metadata": {},
          "execution_count": 86
        }
      ]
    },
    {
      "cell_type": "code",
      "source": [
        "clf_gb_2.fit(X_train_over, y_train_over)"
      ],
      "metadata": {
        "id": "uoovW0liL8ZL",
        "colab": {
          "base_uri": "https://localhost:8080/"
        },
        "outputId": "92cd54f6-650d-4192-af97-ec709dae73eb"
      },
      "execution_count": 87,
      "outputs": [
        {
          "output_type": "execute_result",
          "data": {
            "text/plain": [
              "HalvingGridSearchCV(estimator=GradientBoostingClassifier(random_state=42),\n",
              "                    param_grid={'n_estimators': array([180, 182, 184, 186, 188, 191, 193, 195, 197, 200])},\n",
              "                    scoring=make_scorer(fbeta_score, beta=2))"
            ]
          },
          "metadata": {},
          "execution_count": 87
        }
      ]
    },
    {
      "cell_type": "code",
      "source": [
        "clf_gb_2.cv_results_"
      ],
      "metadata": {
        "id": "h5C-bdCXL8ZL",
        "colab": {
          "base_uri": "https://localhost:8080/"
        },
        "outputId": "1009f47b-376a-47bf-e4df-d017552a28f5"
      },
      "execution_count": 88,
      "outputs": [
        {
          "output_type": "execute_result",
          "data": {
            "text/plain": [
              "{'iter': array([0, 0, 0, 0, 0, 0, 0, 0, 0, 0, 1, 1, 1, 1, 2, 2]),\n",
              " 'mean_fit_time': array([ 4.33164306,  4.36514707,  4.40388455,  4.45488276,  4.51746588,\n",
              "         4.58945189,  4.89521537,  4.67333817,  4.72007914,  4.79710588,\n",
              "        15.48869877, 15.67462273, 14.44206247, 14.76477075, 48.05436835,\n",
              "        51.65881166]),\n",
              " 'mean_score_time': array([0.0023746 , 0.00240378, 0.00241046, 0.00242538, 0.00248542,\n",
              "        0.00268288, 0.00272479, 0.00246511, 0.00268493, 0.002494  ,\n",
              "        0.00446272, 0.00443673, 0.00427141, 0.0043292 , 0.00986714,\n",
              "        0.01034532]),\n",
              " 'mean_test_score': array([0.95843069, 0.95956371, 0.95809091, 0.96022824, 0.95889049,\n",
              "        0.95783985, 0.95783985, 0.95923113, 0.95923113, 0.95785336,\n",
              "        0.9736039 , 0.97451963, 0.97407879, 0.97383016, 0.98347322,\n",
              "        0.98389612]),\n",
              " 'mean_train_score': array([1.        , 1.        , 1.        , 1.        , 1.        ,\n",
              "        1.        , 1.        , 1.        , 1.        , 1.        ,\n",
              "        0.99889697, 0.99889697, 0.99863687, 0.99869511, 0.99377326,\n",
              "        0.99467535]),\n",
              " 'n_resources': array([ 1154,  1154,  1154,  1154,  1154,  1154,  1154,  1154,  1154,\n",
              "         1154,  3462,  3462,  3462,  3462, 10386, 10386]),\n",
              " 'param_n_estimators': masked_array(data=[180, 182, 184, 186, 188, 191, 193, 195, 197, 200, 195,\n",
              "                    197, 182, 186, 182, 197],\n",
              "              mask=[False, False, False, False, False, False, False, False,\n",
              "                    False, False, False, False, False, False, False, False],\n",
              "        fill_value='?',\n",
              "             dtype=object),\n",
              " 'params': [{'n_estimators': 180},\n",
              "  {'n_estimators': 182},\n",
              "  {'n_estimators': 184},\n",
              "  {'n_estimators': 186},\n",
              "  {'n_estimators': 188},\n",
              "  {'n_estimators': 191},\n",
              "  {'n_estimators': 193},\n",
              "  {'n_estimators': 195},\n",
              "  {'n_estimators': 197},\n",
              "  {'n_estimators': 200},\n",
              "  {'n_estimators': 195},\n",
              "  {'n_estimators': 197},\n",
              "  {'n_estimators': 182},\n",
              "  {'n_estimators': 186},\n",
              "  {'n_estimators': 182},\n",
              "  {'n_estimators': 197}],\n",
              " 'rank_test_score': array([12,  8, 13,  7, 11, 15, 15,  9,  9, 14,  6,  3,  4,  5,  2,  1],\n",
              "       dtype=int32),\n",
              " 'split0_test_score': array([0.94871795, 0.94871795, 0.94871795, 0.94871795, 0.94871795,\n",
              "        0.94871795, 0.94871795, 0.94871795, 0.94871795, 0.94871795,\n",
              "        0.96131301, 0.96187683, 0.96367897, 0.96131301, 0.96764876,\n",
              "        0.96957443]),\n",
              " 'split0_train_score': array([1.        , 1.        , 1.        , 1.        , 1.        ,\n",
              "        1.        , 1.        , 1.        , 1.        , 1.        ,\n",
              "        0.99942931, 0.99942931, 0.99942931, 0.99942931, 0.99452292,\n",
              "        0.99581871]),\n",
              " 'split1_test_score': array([0.9580292 , 0.96539162, 0.9580292 , 0.96539162, 0.96539162,\n",
              "        0.96539162, 0.96539162, 0.96539162, 0.96539162, 0.96715328,\n",
              "        0.97735399, 0.97793679, 0.97735399, 0.97793679, 0.98529693,\n",
              "        0.98529693]),\n",
              " 'split1_train_score': array([1.        , 1.        , 1.        , 1.        , 1.        ,\n",
              "        1.        , 1.        , 1.        , 1.        , 1.        ,\n",
              "        0.99852507, 0.99852507, 0.99837782, 0.99852507, 0.99341409,\n",
              "        0.99418297]),\n",
              " 'split2_test_score': array([0.98445596, 0.98275862, 0.98445596, 0.98445596, 0.98445596,\n",
              "        0.97920277, 0.97920277, 0.98615917, 0.98615917, 0.97750865,\n",
              "        0.98071625, 0.98071625, 0.98017621, 0.98071625, 0.98796102,\n",
              "        0.98853868]),\n",
              " 'split2_train_score': array([1.        , 1.        , 1.        , 1.        , 1.        ,\n",
              "        1.        , 1.        , 1.        , 1.        , 1.        ,\n",
              "        0.99870017, 0.99870017, 0.99855596, 0.99855596, 0.9937545 ,\n",
              "        0.994138  ]),\n",
              " 'split3_test_score': array([0.92250923, 0.92250923, 0.92081031, 0.92250923, 0.92250923,\n",
              "        0.92250923, 0.92250923, 0.92250923, 0.92250923, 0.92250923,\n",
              "        0.98327566, 0.98615917, 0.98327566, 0.98327566, 0.99061123,\n",
              "        0.99022239]),\n",
              " 'split3_train_score': array([1.        , 1.        , 1.        , 1.        , 1.        ,\n",
              "        1.        , 1.        , 1.        , 1.        , 1.        ,\n",
              "        0.99942313, 0.99942313, 0.99841407, 0.99855804, 0.99390068,\n",
              "        0.99442736]),\n",
              " 'split4_test_score': array([0.97844113, 0.97844113, 0.97844113, 0.98006645, 0.9733777 ,\n",
              "        0.9733777 , 0.9733777 , 0.9733777 , 0.9733777 , 0.9733777 ,\n",
              "        0.96536059, 0.96590909, 0.96590909, 0.96590909, 0.98584815,\n",
              "        0.98584815]),\n",
              " 'split4_train_score': array([1.        , 1.        , 1.        , 1.        , 1.        ,\n",
              "        1.        , 1.        , 1.        , 1.        , 1.        ,\n",
              "        0.99840718, 0.99840718, 0.99840718, 0.99840718, 0.99327408,\n",
              "        0.99480969]),\n",
              " 'std_fit_time': array([0.00926179, 0.00961375, 0.00739161, 0.01242767, 0.01009636,\n",
              "        0.01081338, 0.33513693, 0.00648493, 0.01318137, 0.01296583,\n",
              "        0.01945531, 0.00830075, 0.0172416 , 0.0214547 , 0.47599507,\n",
              "        0.09916633]),\n",
              " 'std_score_time': array([5.29292253e-05, 4.74464713e-05, 5.16811854e-05, 1.76869952e-05,\n",
              "        8.29113558e-05, 4.39106557e-04, 3.76225624e-04, 2.71288915e-05,\n",
              "        4.84797330e-04, 2.36092666e-05, 4.53592208e-05, 2.82463135e-05,\n",
              "        4.15025323e-05, 4.96948056e-05, 2.51367656e-04, 7.22993639e-05]),\n",
              " 'std_test_score': array([0.02219271, 0.02199541, 0.02274619, 0.02263806, 0.02160007,\n",
              "        0.0204269 , 0.0204269 , 0.0220101 , 0.0220101 , 0.0202311 ,\n",
              "        0.00868573, 0.00916008, 0.00784077, 0.00863623, 0.00812984,\n",
              "        0.00738185]),\n",
              " 'std_train_score': array([0.        , 0.        , 0.        , 0.        , 0.        ,\n",
              "        0.        , 0.        , 0.        , 0.        , 0.        ,\n",
              "        0.00044208, 0.00044208, 0.000401  , 0.00037122, 0.00043744,\n",
              "        0.00061936])}"
            ]
          },
          "metadata": {},
          "execution_count": 88
        }
      ]
    },
    {
      "cell_type": "code",
      "source": [
        "show_cv_results('n_estimators', clf_gb_2.cv_results_)"
      ],
      "metadata": {
        "id": "6tGrZq0pL8ZL",
        "colab": {
          "base_uri": "https://localhost:8080/",
          "height": 802
        },
        "outputId": "413c9402-8b62-4bd8-9797-f022c4d4c938"
      },
      "execution_count": 89,
      "outputs": [
        {
          "output_type": "execute_result",
          "data": {
            "text/plain": [
              "    iter  n_estimators  mean_test_score  rank_test_score\n",
              "0      0           180         0.958431               12\n",
              "1      0           182         0.959564                8\n",
              "2      0           184         0.958091               13\n",
              "3      0           186         0.960228                7\n",
              "4      0           188         0.958890               11\n",
              "5      0           191         0.957840               15\n",
              "6      0           193         0.957840               15\n",
              "7      0           195         0.959231                9\n",
              "8      0           197         0.959231                9\n",
              "9      0           200         0.957853               14\n",
              "10     1           195         0.973604                6\n",
              "11     1           197         0.974520                3\n",
              "12     1           182         0.974079                4\n",
              "13     1           186         0.973830                5\n",
              "14     2           182         0.983473                2\n",
              "15     2           197         0.983896                1"
            ],
            "text/html": [
              "\n",
              "  <div id=\"df-e8d69233-6f7c-4d56-bcdd-d16c23ff4be1\">\n",
              "    <div class=\"colab-df-container\">\n",
              "      <div>\n",
              "<style scoped>\n",
              "    .dataframe tbody tr th:only-of-type {\n",
              "        vertical-align: middle;\n",
              "    }\n",
              "\n",
              "    .dataframe tbody tr th {\n",
              "        vertical-align: top;\n",
              "    }\n",
              "\n",
              "    .dataframe thead th {\n",
              "        text-align: right;\n",
              "    }\n",
              "</style>\n",
              "<table border=\"1\" class=\"dataframe\">\n",
              "  <thead>\n",
              "    <tr style=\"text-align: right;\">\n",
              "      <th></th>\n",
              "      <th>iter</th>\n",
              "      <th>n_estimators</th>\n",
              "      <th>mean_test_score</th>\n",
              "      <th>rank_test_score</th>\n",
              "    </tr>\n",
              "  </thead>\n",
              "  <tbody>\n",
              "    <tr>\n",
              "      <th>0</th>\n",
              "      <td>0</td>\n",
              "      <td>180</td>\n",
              "      <td>0.958431</td>\n",
              "      <td>12</td>\n",
              "    </tr>\n",
              "    <tr>\n",
              "      <th>1</th>\n",
              "      <td>0</td>\n",
              "      <td>182</td>\n",
              "      <td>0.959564</td>\n",
              "      <td>8</td>\n",
              "    </tr>\n",
              "    <tr>\n",
              "      <th>2</th>\n",
              "      <td>0</td>\n",
              "      <td>184</td>\n",
              "      <td>0.958091</td>\n",
              "      <td>13</td>\n",
              "    </tr>\n",
              "    <tr>\n",
              "      <th>3</th>\n",
              "      <td>0</td>\n",
              "      <td>186</td>\n",
              "      <td>0.960228</td>\n",
              "      <td>7</td>\n",
              "    </tr>\n",
              "    <tr>\n",
              "      <th>4</th>\n",
              "      <td>0</td>\n",
              "      <td>188</td>\n",
              "      <td>0.958890</td>\n",
              "      <td>11</td>\n",
              "    </tr>\n",
              "    <tr>\n",
              "      <th>5</th>\n",
              "      <td>0</td>\n",
              "      <td>191</td>\n",
              "      <td>0.957840</td>\n",
              "      <td>15</td>\n",
              "    </tr>\n",
              "    <tr>\n",
              "      <th>6</th>\n",
              "      <td>0</td>\n",
              "      <td>193</td>\n",
              "      <td>0.957840</td>\n",
              "      <td>15</td>\n",
              "    </tr>\n",
              "    <tr>\n",
              "      <th>7</th>\n",
              "      <td>0</td>\n",
              "      <td>195</td>\n",
              "      <td>0.959231</td>\n",
              "      <td>9</td>\n",
              "    </tr>\n",
              "    <tr>\n",
              "      <th>8</th>\n",
              "      <td>0</td>\n",
              "      <td>197</td>\n",
              "      <td>0.959231</td>\n",
              "      <td>9</td>\n",
              "    </tr>\n",
              "    <tr>\n",
              "      <th>9</th>\n",
              "      <td>0</td>\n",
              "      <td>200</td>\n",
              "      <td>0.957853</td>\n",
              "      <td>14</td>\n",
              "    </tr>\n",
              "    <tr>\n",
              "      <th>10</th>\n",
              "      <td>1</td>\n",
              "      <td>195</td>\n",
              "      <td>0.973604</td>\n",
              "      <td>6</td>\n",
              "    </tr>\n",
              "    <tr>\n",
              "      <th>11</th>\n",
              "      <td>1</td>\n",
              "      <td>197</td>\n",
              "      <td>0.974520</td>\n",
              "      <td>3</td>\n",
              "    </tr>\n",
              "    <tr>\n",
              "      <th>12</th>\n",
              "      <td>1</td>\n",
              "      <td>182</td>\n",
              "      <td>0.974079</td>\n",
              "      <td>4</td>\n",
              "    </tr>\n",
              "    <tr>\n",
              "      <th>13</th>\n",
              "      <td>1</td>\n",
              "      <td>186</td>\n",
              "      <td>0.973830</td>\n",
              "      <td>5</td>\n",
              "    </tr>\n",
              "    <tr>\n",
              "      <th>14</th>\n",
              "      <td>2</td>\n",
              "      <td>182</td>\n",
              "      <td>0.983473</td>\n",
              "      <td>2</td>\n",
              "    </tr>\n",
              "    <tr>\n",
              "      <th>15</th>\n",
              "      <td>2</td>\n",
              "      <td>197</td>\n",
              "      <td>0.983896</td>\n",
              "      <td>1</td>\n",
              "    </tr>\n",
              "  </tbody>\n",
              "</table>\n",
              "</div>\n",
              "      <button class=\"colab-df-convert\" onclick=\"convertToInteractive('df-e8d69233-6f7c-4d56-bcdd-d16c23ff4be1')\"\n",
              "              title=\"Convert this dataframe to an interactive table.\"\n",
              "              style=\"display:none;\">\n",
              "        \n",
              "  <svg xmlns=\"http://www.w3.org/2000/svg\" height=\"24px\"viewBox=\"0 0 24 24\"\n",
              "       width=\"24px\">\n",
              "    <path d=\"M0 0h24v24H0V0z\" fill=\"none\"/>\n",
              "    <path d=\"M18.56 5.44l.94 2.06.94-2.06 2.06-.94-2.06-.94-.94-2.06-.94 2.06-2.06.94zm-11 1L8.5 8.5l.94-2.06 2.06-.94-2.06-.94L8.5 2.5l-.94 2.06-2.06.94zm10 10l.94 2.06.94-2.06 2.06-.94-2.06-.94-.94-2.06-.94 2.06-2.06.94z\"/><path d=\"M17.41 7.96l-1.37-1.37c-.4-.4-.92-.59-1.43-.59-.52 0-1.04.2-1.43.59L10.3 9.45l-7.72 7.72c-.78.78-.78 2.05 0 2.83L4 21.41c.39.39.9.59 1.41.59.51 0 1.02-.2 1.41-.59l7.78-7.78 2.81-2.81c.8-.78.8-2.07 0-2.86zM5.41 20L4 18.59l7.72-7.72 1.47 1.35L5.41 20z\"/>\n",
              "  </svg>\n",
              "      </button>\n",
              "      \n",
              "  <style>\n",
              "    .colab-df-container {\n",
              "      display:flex;\n",
              "      flex-wrap:wrap;\n",
              "      gap: 12px;\n",
              "    }\n",
              "\n",
              "    .colab-df-convert {\n",
              "      background-color: #E8F0FE;\n",
              "      border: none;\n",
              "      border-radius: 50%;\n",
              "      cursor: pointer;\n",
              "      display: none;\n",
              "      fill: #1967D2;\n",
              "      height: 32px;\n",
              "      padding: 0 0 0 0;\n",
              "      width: 32px;\n",
              "    }\n",
              "\n",
              "    .colab-df-convert:hover {\n",
              "      background-color: #E2EBFA;\n",
              "      box-shadow: 0px 1px 2px rgba(60, 64, 67, 0.3), 0px 1px 3px 1px rgba(60, 64, 67, 0.15);\n",
              "      fill: #174EA6;\n",
              "    }\n",
              "\n",
              "    [theme=dark] .colab-df-convert {\n",
              "      background-color: #3B4455;\n",
              "      fill: #D2E3FC;\n",
              "    }\n",
              "\n",
              "    [theme=dark] .colab-df-convert:hover {\n",
              "      background-color: #434B5C;\n",
              "      box-shadow: 0px 1px 3px 1px rgba(0, 0, 0, 0.15);\n",
              "      filter: drop-shadow(0px 1px 2px rgba(0, 0, 0, 0.3));\n",
              "      fill: #FFFFFF;\n",
              "    }\n",
              "  </style>\n",
              "\n",
              "      <script>\n",
              "        const buttonEl =\n",
              "          document.querySelector('#df-e8d69233-6f7c-4d56-bcdd-d16c23ff4be1 button.colab-df-convert');\n",
              "        buttonEl.style.display =\n",
              "          google.colab.kernel.accessAllowed ? 'block' : 'none';\n",
              "\n",
              "        async function convertToInteractive(key) {\n",
              "          const element = document.querySelector('#df-e8d69233-6f7c-4d56-bcdd-d16c23ff4be1');\n",
              "          const dataTable =\n",
              "            await google.colab.kernel.invokeFunction('convertToInteractive',\n",
              "                                                     [key], {});\n",
              "          if (!dataTable) return;\n",
              "\n",
              "          const docLinkHtml = 'Like what you see? Visit the ' +\n",
              "            '<a target=\"_blank\" href=https://colab.research.google.com/notebooks/data_table.ipynb>data table notebook</a>'\n",
              "            + ' to learn more about interactive tables.';\n",
              "          element.innerHTML = '';\n",
              "          dataTable['output_type'] = 'display_data';\n",
              "          await google.colab.output.renderOutput(dataTable, element);\n",
              "          const docLink = document.createElement('div');\n",
              "          docLink.innerHTML = docLinkHtml;\n",
              "          element.appendChild(docLink);\n",
              "        }\n",
              "      </script>\n",
              "    </div>\n",
              "  </div>\n",
              "  "
            ]
          },
          "metadata": {},
          "execution_count": 89
        },
        {
          "output_type": "display_data",
          "data": {
            "text/plain": [
              "<Figure size 432x288 with 1 Axes>"
            ],
            "image/png": "[encoded data removed]"
          },
          "metadata": {
            "needs_background": "light"
          }
        }
      ]
    },
    {
      "cell_type": "code",
      "source": [
        "best_gb_2 = clf_gb_2.best_estimator_\n",
        "best_gb_2"
      ],
      "metadata": {
        "id": "Adm6zwAgL8ZL",
        "colab": {
          "base_uri": "https://localhost:8080/"
        },
        "outputId": "d4f3103c-cf38-4ab8-882b-230991ad2d98"
      },
      "execution_count": 90,
      "outputs": [
        {
          "output_type": "execute_result",
          "data": {
            "text/plain": [
              "GradientBoostingClassifier(n_estimators=197, random_state=42)"
            ]
          },
          "metadata": {},
          "execution_count": 90
        }
      ]
    },
    {
      "cell_type": "code",
      "source": [
        "y_val_pred_best_gb_2 = best_gb_2.predict(X_val)\n",
        "f2_score(y_val, y_val_pred_best_gb_2)"
      ],
      "metadata": {
        "id": "a1fiOMuRL8ZL",
        "colab": {
          "base_uri": "https://localhost:8080/"
        },
        "outputId": "9c28ce63-8742-4558-e119-e5c4ec686f8d"
      },
      "execution_count": 91,
      "outputs": [
        {
          "output_type": "execute_result",
          "data": {
            "text/plain": [
              "0.6422018348623852"
            ]
          },
          "metadata": {},
          "execution_count": 91
        }
      ]
    },
    {
      "cell_type": "markdown",
      "source": [
        "# Stacking"
      ],
      "metadata": {
        "id": "UHl5mH6lZFo9"
      }
    },
    {
      "cell_type": "code",
      "source": [
        ""
      ],
      "metadata": {
        "id": "RiugY2-TZVk8"
      },
      "execution_count": 91,
      "outputs": []
    },
    {
      "cell_type": "markdown",
      "source": [
        "# Information"
      ],
      "metadata": {
        "id": "zv4zlUToUOBS"
      }
    },
    {
      "cell_type": "markdown",
      "source": [
        "## Notebook approximated execution time"
      ],
      "metadata": {
        "id": "MWJFic0NWFYB"
      }
    },
    {
      "cell_type": "code",
      "source": [
        "end_time = time.time()\n",
        "running_time = end_time - start_time\n",
        "print(f'Time in seconds             {running_time}')\n",
        "print(f'Time in hour:minute:second  \\\n",
        "{str(datetime.timedelta(seconds=running_time))}')"
      ],
      "metadata": {
        "id": "SbEmHVEPWEzi",
        "colab": {
          "base_uri": "https://localhost:8080/"
        },
        "outputId": "4fd32a41-efc6-4f40-e248-cb84892dd0ba"
      },
      "execution_count": 92,
      "outputs": [
        {
          "output_type": "stream",
          "name": "stdout",
          "text": [
            "Time in seconds             4677.761944055557\n",
            "Time in hour:minute:second  1:17:57.761944\n"
          ]
        }
      ]
    },
    {
      "cell_type": "markdown",
      "source": [
        "## Hardware specifications"
      ],
      "metadata": {
        "id": "U5m5-6tBVmCi"
      }
    },
    {
      "cell_type": "code",
      "source": [
        "!df -h"
      ],
      "metadata": {
        "id": "fCP7OXEDVWMa",
        "colab": {
          "base_uri": "https://localhost:8080/"
        },
        "outputId": "3edc4c58-a8ac-44ae-bfc9-48b805df6fb2"
      },
      "execution_count": 93,
      "outputs": [
        {
          "output_type": "stream",
          "name": "stdout",
          "text": [
            "Filesystem      Size  Used Avail Use% Mounted on\n",
            "overlay         108G   39G   70G  36% /\n",
            "tmpfs            64M     0   64M   0% /dev\n",
            "shm             5.8G     0  5.8G   0% /dev/shm\n",
            "/dev/root       2.0G  1.2G  812M  59% /sbin/docker-init\n",
            "tmpfs           6.4G   36K  6.4G   1% /var/colab\n",
            "/dev/sda1        81G   43G   39G  53% /etc/hosts\n",
            "tmpfs           6.4G     0  6.4G   0% /proc/acpi\n",
            "tmpfs           6.4G     0  6.4G   0% /proc/scsi\n",
            "tmpfs           6.4G     0  6.4G   0% /sys/firmware\n",
            "drive            15G  5.7G  9.4G  38% /content/drive\n"
          ]
        }
      ]
    },
    {
      "cell_type": "code",
      "source": [
        "!cat /proc/cpuinfo"
      ],
      "metadata": {
        "id": "MOLbZMk8VevC",
        "colab": {
          "base_uri": "https://localhost:8080/"
        },
        "outputId": "039ca408-015e-4fa0-ac96-46022fbd851a"
      },
      "execution_count": 94,
      "outputs": [
        {
          "output_type": "stream",
          "name": "stdout",
          "text": [
            "processor\t: 0\n",
            "vendor_id\t: GenuineIntel\n",
            "cpu family\t: 6\n",
            "model\t\t: 79\n",
            "model name\t: Intel(R) Xeon(R) CPU @ 2.20GHz\n",
            "stepping\t: 0\n",
            "microcode\t: 0x1\n",
            "cpu MHz\t\t: 2200.142\n",
            "cache size\t: 56320 KB\n",
            "physical id\t: 0\n",
            "siblings\t: 2\n",
            "core id\t\t: 0\n",
            "cpu cores\t: 1\n",
            "apicid\t\t: 0\n",
            "initial apicid\t: 0\n",
            "fpu\t\t: yes\n",
            "fpu_exception\t: yes\n",
            "cpuid level\t: 13\n",
            "wp\t\t: yes\n",
            "flags\t\t: fpu vme de pse tsc msr pae mce cx8 apic sep mtrr pge mca cmov pat pse36 clflush mmx fxsr sse sse2 ss ht syscall nx pdpe1gb rdtscp lm constant_tsc rep_good nopl xtopology nonstop_tsc cpuid tsc_known_freq pni pclmulqdq ssse3 fma cx16 pcid sse4_1 sse4_2 x2apic movbe popcnt aes xsave avx f16c rdrand hypervisor lahf_lm abm 3dnowprefetch invpcid_single ssbd ibrs ibpb stibp fsgsbase tsc_adjust bmi1 hle avx2 smep bmi2 erms invpcid rtm rdseed adx smap xsaveopt arat md_clear arch_capabilities\n",
            "bugs\t\t: cpu_meltdown spectre_v1 spectre_v2 spec_store_bypass l1tf mds swapgs taa\n",
            "bogomips\t: 4400.28\n",
            "clflush size\t: 64\n",
            "cache_alignment\t: 64\n",
            "address sizes\t: 46 bits physical, 48 bits virtual\n",
            "power management:\n",
            "\n",
            "processor\t: 1\n",
            "vendor_id\t: GenuineIntel\n",
            "cpu family\t: 6\n",
            "model\t\t: 79\n",
            "model name\t: Intel(R) Xeon(R) CPU @ 2.20GHz\n",
            "stepping\t: 0\n",
            "microcode\t: 0x1\n",
            "cpu MHz\t\t: 2200.142\n",
            "cache size\t: 56320 KB\n",
            "physical id\t: 0\n",
            "siblings\t: 2\n",
            "core id\t\t: 0\n",
            "cpu cores\t: 1\n",
            "apicid\t\t: 1\n",
            "initial apicid\t: 1\n",
            "fpu\t\t: yes\n",
            "fpu_exception\t: yes\n",
            "cpuid level\t: 13\n",
            "wp\t\t: yes\n",
            "flags\t\t: fpu vme de pse tsc msr pae mce cx8 apic sep mtrr pge mca cmov pat pse36 clflush mmx fxsr sse sse2 ss ht syscall nx pdpe1gb rdtscp lm constant_tsc rep_good nopl xtopology nonstop_tsc cpuid tsc_known_freq pni pclmulqdq ssse3 fma cx16 pcid sse4_1 sse4_2 x2apic movbe popcnt aes xsave avx f16c rdrand hypervisor lahf_lm abm 3dnowprefetch invpcid_single ssbd ibrs ibpb stibp fsgsbase tsc_adjust bmi1 hle avx2 smep bmi2 erms invpcid rtm rdseed adx smap xsaveopt arat md_clear arch_capabilities\n",
            "bugs\t\t: cpu_meltdown spectre_v1 spectre_v2 spec_store_bypass l1tf mds swapgs taa\n",
            "bogomips\t: 4400.28\n",
            "clflush size\t: 64\n",
            "cache_alignment\t: 64\n",
            "address sizes\t: 46 bits physical, 48 bits virtual\n",
            "power management:\n",
            "\n"
          ]
        }
      ]
    },
    {
      "cell_type": "code",
      "source": [
        "!cat /proc/meminfo"
      ],
      "metadata": {
        "id": "vBW7JNKTVh0d",
        "colab": {
          "base_uri": "https://localhost:8080/"
        },
        "outputId": "b59ba023-b40e-45e9-93a1-5d5346281cff"
      },
      "execution_count": 95,
      "outputs": [
        {
          "output_type": "stream",
          "name": "stdout",
          "text": [
            "MemTotal:       13298580 kB\n",
            "MemFree:         9676428 kB\n",
            "MemAvailable:   11835480 kB\n",
            "Buffers:          121044 kB\n",
            "Cached:          2066880 kB\n",
            "SwapCached:            0 kB\n",
            "Active:          1761780 kB\n",
            "Inactive:        1650060 kB\n",
            "Active(anon):    1056472 kB\n",
            "Inactive(anon):      448 kB\n",
            "Active(file):     705308 kB\n",
            "Inactive(file):  1649612 kB\n",
            "Unevictable:           0 kB\n",
            "Mlocked:               0 kB\n",
            "SwapTotal:             0 kB\n",
            "SwapFree:              0 kB\n",
            "Dirty:               756 kB\n",
            "Writeback:             0 kB\n",
            "AnonPages:       1223752 kB\n",
            "Mapped:           318436 kB\n",
            "Shmem:              1204 kB\n",
            "KReclaimable:      91168 kB\n",
            "Slab:             135900 kB\n",
            "SReclaimable:      91168 kB\n",
            "SUnreclaim:        44732 kB\n",
            "KernelStack:        5904 kB\n",
            "PageTables:        17308 kB\n",
            "NFS_Unstable:          0 kB\n",
            "Bounce:                0 kB\n",
            "WritebackTmp:          0 kB\n",
            "CommitLimit:     6649288 kB\n",
            "Committed_AS:    3915732 kB\n",
            "VmallocTotal:   34359738367 kB\n",
            "VmallocUsed:        8408 kB\n",
            "VmallocChunk:          0 kB\n",
            "Percpu:             1504 kB\n",
            "AnonHugePages:     22528 kB\n",
            "ShmemHugePages:        0 kB\n",
            "ShmemPmdMapped:        0 kB\n",
            "FileHugePages:         0 kB\n",
            "FilePmdMapped:         0 kB\n",
            "CmaTotal:              0 kB\n",
            "CmaFree:               0 kB\n",
            "HugePages_Total:       0\n",
            "HugePages_Free:        0\n",
            "HugePages_Rsvd:        0\n",
            "HugePages_Surp:        0\n",
            "Hugepagesize:       2048 kB\n",
            "Hugetlb:               0 kB\n",
            "DirectMap4k:      103232 kB\n",
            "DirectMap2M:     5136384 kB\n",
            "DirectMap1G:    10485760 kB\n"
          ]
        }
      ]
    },
    {
      "cell_type": "markdown",
      "source": [
        "## Versions"
      ],
      "metadata": {
        "id": "z125jvbdVwQF"
      }
    },
    {
      "cell_type": "code",
      "source": [
        "!python --version"
      ],
      "metadata": {
        "id": "RDwDncmbUNAX",
        "colab": {
          "base_uri": "https://localhost:8080/"
        },
        "outputId": "d7afe46f-30f3-4c2d-a3ea-60b5a83d332b"
      },
      "execution_count": 96,
      "outputs": [
        {
          "output_type": "stream",
          "name": "stdout",
          "text": [
            "Python 3.7.13\n"
          ]
        }
      ]
    },
    {
      "cell_type": "code",
      "source": [
        "np.__version__"
      ],
      "metadata": {
        "id": "XzvlCJsuUdVJ",
        "colab": {
          "base_uri": "https://localhost:8080/",
          "height": 35
        },
        "outputId": "e9aef46d-33a8-4173-afe3-19814b0edd6d"
      },
      "execution_count": 97,
      "outputs": [
        {
          "output_type": "execute_result",
          "data": {
            "text/plain": [
              "'1.21.6'"
            ],
            "application/vnd.google.colaboratory.intrinsic+json": {
              "type": "string"
            }
          },
          "metadata": {},
          "execution_count": 97
        }
      ]
    },
    {
      "cell_type": "code",
      "source": [
        "pd.__version__"
      ],
      "metadata": {
        "id": "-tzlxIKWUv8m",
        "colab": {
          "base_uri": "https://localhost:8080/",
          "height": 35
        },
        "outputId": "697c30fd-27c4-4be1-9759-ebc94f7f78ab"
      },
      "execution_count": 98,
      "outputs": [
        {
          "output_type": "execute_result",
          "data": {
            "text/plain": [
              "'1.3.5'"
            ],
            "application/vnd.google.colaboratory.intrinsic+json": {
              "type": "string"
            }
          },
          "metadata": {},
          "execution_count": 98
        }
      ]
    },
    {
      "cell_type": "code",
      "source": [
        "matplotlib.__version__"
      ],
      "metadata": {
        "id": "aHiJjqVdU0R_",
        "colab": {
          "base_uri": "https://localhost:8080/",
          "height": 35
        },
        "outputId": "0bf4127c-6015-4229-d1f0-c88531242389"
      },
      "execution_count": 99,
      "outputs": [
        {
          "output_type": "execute_result",
          "data": {
            "text/plain": [
              "'3.2.2'"
            ],
            "application/vnd.google.colaboratory.intrinsic+json": {
              "type": "string"
            }
          },
          "metadata": {},
          "execution_count": 99
        }
      ]
    },
    {
      "cell_type": "code",
      "source": [
        "sklearn.__version__"
      ],
      "metadata": {
        "id": "m5lb4TJJVEwB",
        "colab": {
          "base_uri": "https://localhost:8080/",
          "height": 35
        },
        "outputId": "d88c721a-369e-4400-c48f-1d1652db247b"
      },
      "execution_count": 100,
      "outputs": [
        {
          "output_type": "execute_result",
          "data": {
            "text/plain": [
              "'1.0.2'"
            ],
            "application/vnd.google.colaboratory.intrinsic+json": {
              "type": "string"
            }
          },
          "metadata": {},
          "execution_count": 100
        }
      ]
    },
    {
      "cell_type": "code",
      "source": [
        "imblearn.__version__"
      ],
      "metadata": {
        "id": "OAa-sSxNVOqs",
        "colab": {
          "base_uri": "https://localhost:8080/",
          "height": 35
        },
        "outputId": "97b40820-d50e-43ef-f0b1-c327d9993845"
      },
      "execution_count": 101,
      "outputs": [
        {
          "output_type": "execute_result",
          "data": {
            "text/plain": [
              "'0.8.1'"
            ],
            "application/vnd.google.colaboratory.intrinsic+json": {
              "type": "string"
            }
          },
          "metadata": {},
          "execution_count": 101
        }
      ]
    }
  ]
}