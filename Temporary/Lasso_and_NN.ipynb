{
  "nbformat": 4,
  "nbformat_minor": 0,
  "metadata": {
    "colab": {
      "name": "Lasso and NN.ipynb",
      "provenance": [],
      "collapsed_sections": [],
      "toc_visible": true
    },
    "kernelspec": {
      "name": "python3",
      "display_name": "Python 3"
    },
    "language_info": {
      "name": "python"
    }
  },
  "cells": [
    {
      "cell_type": "markdown",
      "source": [
        "# Import and Prepare"
      ],
      "metadata": {
        "id": "NcvYDUf9Ukt_"
      }
    },
    {
      "cell_type": "code",
      "execution_count": 1,
      "metadata": {
        "id": "WxXiMoVbQBOY"
      },
      "outputs": [],
      "source": [
        "import os\n",
        "from copy import deepcopy\n",
        "\n",
        "import numpy as np\n",
        "import pandas as pd\n",
        "\n",
        "from sklearn.linear_model import Lasso\n",
        "from sklearn.model_selection import train_test_split\n",
        "from imblearn.over_sampling import SMOTE\n",
        "from sklearn.neural_network import MLPClassifier\n",
        "from sklearn.metrics import f1_score, accuracy_score\n",
        "\n",
        "import matplotlib.pyplot as plt"
      ]
    },
    {
      "cell_type": "code",
      "source": [
        "CSV_FILE_PATH = '/content/drive/MyDrive/Colab Notebooks/AppStats Project/data.csv'\n",
        "\n",
        "TEST_SIZE = 0.15\n",
        "RANDOM_STATE = 42"
      ],
      "metadata": {
        "id": "Je6-VkKzQR0B"
      },
      "execution_count": 2,
      "outputs": []
    },
    {
      "cell_type": "code",
      "source": [
        "df = pd.read_csv(CSV_FILE_PATH)\n",
        "df.head()"
      ],
      "metadata": {
        "id": "ei9sUlO8QQB_",
        "colab": {
          "base_uri": "https://localhost:8080/",
          "height": 386
        },
        "outputId": "aefb477a-3d89-4999-c62d-ec1a82269764"
      },
      "execution_count": 3,
      "outputs": [
        {
          "output_type": "execute_result",
          "data": {
            "text/plain": [
              "   Bankrupt?   ROA(C) before interest and depreciation before interest  \\\n",
              "0          1                                           0.370594          \n",
              "1          1                                           0.464291          \n",
              "2          1                                           0.426071          \n",
              "3          1                                           0.399844          \n",
              "4          1                                           0.465022          \n",
              "\n",
              "    ROA(A) before interest and % after tax  \\\n",
              "0                                 0.424389   \n",
              "1                                 0.538214   \n",
              "2                                 0.499019   \n",
              "3                                 0.451265   \n",
              "4                                 0.538432   \n",
              "\n",
              "    ROA(B) before interest and depreciation after tax  \\\n",
              "0                                           0.405750    \n",
              "1                                           0.516730    \n",
              "2                                           0.472295    \n",
              "3                                           0.457733    \n",
              "4                                           0.522298    \n",
              "\n",
              "    Operating Gross Margin   Realized Sales Gross Margin  \\\n",
              "0                 0.601457                      0.601457   \n",
              "1                 0.610235                      0.610235   \n",
              "2                 0.601450                      0.601364   \n",
              "3                 0.583541                      0.583541   \n",
              "4                 0.598783                      0.598783   \n",
              "\n",
              "    Operating Profit Rate   Pre-tax net Interest Rate  \\\n",
              "0                0.998969                    0.796887   \n",
              "1                0.998946                    0.797380   \n",
              "2                0.998857                    0.796403   \n",
              "3                0.998700                    0.796967   \n",
              "4                0.998973                    0.797366   \n",
              "\n",
              "    After-tax net Interest Rate   Non-industry income and expenditure/revenue  \\\n",
              "0                      0.808809                                      0.302646   \n",
              "1                      0.809301                                      0.303556   \n",
              "2                      0.808388                                      0.302035   \n",
              "3                      0.808966                                      0.303350   \n",
              "4                      0.809304                                      0.303475   \n",
              "\n",
              "   ...   Net Income to Total Assets   Total assets to GNP price  \\\n",
              "0  ...                     0.716845                    0.009219   \n",
              "1  ...                     0.795297                    0.008323   \n",
              "2  ...                     0.774670                    0.040003   \n",
              "3  ...                     0.739555                    0.003252   \n",
              "4  ...                     0.795016                    0.003878   \n",
              "\n",
              "    No-credit Interval   Gross Profit to Sales  \\\n",
              "0             0.622879                0.601453   \n",
              "1             0.623652                0.610237   \n",
              "2             0.623841                0.601449   \n",
              "3             0.622929                0.583538   \n",
              "4             0.623521                0.598782   \n",
              "\n",
              "    Net Income to Stockholder's Equity   Liability to Equity  \\\n",
              "0                             0.827890              0.290202   \n",
              "1                             0.839969              0.283846   \n",
              "2                             0.836774              0.290189   \n",
              "3                             0.834697              0.281721   \n",
              "4                             0.839973              0.278514   \n",
              "\n",
              "    Degree of Financial Leverage (DFL)  \\\n",
              "0                             0.026601   \n",
              "1                             0.264577   \n",
              "2                             0.026555   \n",
              "3                             0.026697   \n",
              "4                             0.024752   \n",
              "\n",
              "    Interest Coverage Ratio (Interest expense to EBIT)   Net Income Flag  \\\n",
              "0                                           0.564050                   1   \n",
              "1                                           0.570175                   1   \n",
              "2                                           0.563706                   1   \n",
              "3                                           0.564663                   1   \n",
              "4                                           0.575617                   1   \n",
              "\n",
              "    Equity to Liability  \n",
              "0              0.016469  \n",
              "1              0.020794  \n",
              "2              0.016474  \n",
              "3              0.023982  \n",
              "4              0.035490  \n",
              "\n",
              "[5 rows x 96 columns]"
            ],
            "text/html": [
              "\n",
              "  <div id=\"df-0dbccebe-0f65-441f-80fd-8ed2d9781832\">\n",
              "    <div class=\"colab-df-container\">\n",
              "      <div>\n",
              "<style scoped>\n",
              "    .dataframe tbody tr th:only-of-type {\n",
              "        vertical-align: middle;\n",
              "    }\n",
              "\n",
              "    .dataframe tbody tr th {\n",
              "        vertical-align: top;\n",
              "    }\n",
              "\n",
              "    .dataframe thead th {\n",
              "        text-align: right;\n",
              "    }\n",
              "</style>\n",
              "<table border=\"1\" class=\"dataframe\">\n",
              "  <thead>\n",
              "    <tr style=\"text-align: right;\">\n",
              "      <th></th>\n",
              "      <th>Bankrupt?</th>\n",
              "      <th>ROA(C) before interest and depreciation before interest</th>\n",
              "      <th>ROA(A) before interest and % after tax</th>\n",
              "      <th>ROA(B) before interest and depreciation after tax</th>\n",
              "      <th>Operating Gross Margin</th>\n",
              "      <th>Realized Sales Gross Margin</th>\n",
              "      <th>Operating Profit Rate</th>\n",
              "      <th>Pre-tax net Interest Rate</th>\n",
              "      <th>After-tax net Interest Rate</th>\n",
              "      <th>Non-industry income and expenditure/revenue</th>\n",
              "      <th>...</th>\n",
              "      <th>Net Income to Total Assets</th>\n",
              "      <th>Total assets to GNP price</th>\n",
              "      <th>No-credit Interval</th>\n",
              "      <th>Gross Profit to Sales</th>\n",
              "      <th>Net Income to Stockholder's Equity</th>\n",
              "      <th>Liability to Equity</th>\n",
              "      <th>Degree of Financial Leverage (DFL)</th>\n",
              "      <th>Interest Coverage Ratio (Interest expense to EBIT)</th>\n",
              "      <th>Net Income Flag</th>\n",
              "      <th>Equity to Liability</th>\n",
              "    </tr>\n",
              "  </thead>\n",
              "  <tbody>\n",
              "    <tr>\n",
              "      <th>0</th>\n",
              "      <td>1</td>\n",
              "      <td>0.370594</td>\n",
              "      <td>0.424389</td>\n",
              "      <td>0.405750</td>\n",
              "      <td>0.601457</td>\n",
              "      <td>0.601457</td>\n",
              "      <td>0.998969</td>\n",
              "      <td>0.796887</td>\n",
              "      <td>0.808809</td>\n",
              "      <td>0.302646</td>\n",
              "      <td>...</td>\n",
              "      <td>0.716845</td>\n",
              "      <td>0.009219</td>\n",
              "      <td>0.622879</td>\n",
              "      <td>0.601453</td>\n",
              "      <td>0.827890</td>\n",
              "      <td>0.290202</td>\n",
              "      <td>0.026601</td>\n",
              "      <td>0.564050</td>\n",
              "      <td>1</td>\n",
              "      <td>0.016469</td>\n",
              "    </tr>\n",
              "    <tr>\n",
              "      <th>1</th>\n",
              "      <td>1</td>\n",
              "      <td>0.464291</td>\n",
              "      <td>0.538214</td>\n",
              "      <td>0.516730</td>\n",
              "      <td>0.610235</td>\n",
              "      <td>0.610235</td>\n",
              "      <td>0.998946</td>\n",
              "      <td>0.797380</td>\n",
              "      <td>0.809301</td>\n",
              "      <td>0.303556</td>\n",
              "      <td>...</td>\n",
              "      <td>0.795297</td>\n",
              "      <td>0.008323</td>\n",
              "      <td>0.623652</td>\n",
              "      <td>0.610237</td>\n",
              "      <td>0.839969</td>\n",
              "      <td>0.283846</td>\n",
              "      <td>0.264577</td>\n",
              "      <td>0.570175</td>\n",
              "      <td>1</td>\n",
              "      <td>0.020794</td>\n",
              "    </tr>\n",
              "    <tr>\n",
              "      <th>2</th>\n",
              "      <td>1</td>\n",
              "      <td>0.426071</td>\n",
              "      <td>0.499019</td>\n",
              "      <td>0.472295</td>\n",
              "      <td>0.601450</td>\n",
              "      <td>0.601364</td>\n",
              "      <td>0.998857</td>\n",
              "      <td>0.796403</td>\n",
              "      <td>0.808388</td>\n",
              "      <td>0.302035</td>\n",
              "      <td>...</td>\n",
              "      <td>0.774670</td>\n",
              "      <td>0.040003</td>\n",
              "      <td>0.623841</td>\n",
              "      <td>0.601449</td>\n",
              "      <td>0.836774</td>\n",
              "      <td>0.290189</td>\n",
              "      <td>0.026555</td>\n",
              "      <td>0.563706</td>\n",
              "      <td>1</td>\n",
              "      <td>0.016474</td>\n",
              "    </tr>\n",
              "    <tr>\n",
              "      <th>3</th>\n",
              "      <td>1</td>\n",
              "      <td>0.399844</td>\n",
              "      <td>0.451265</td>\n",
              "      <td>0.457733</td>\n",
              "      <td>0.583541</td>\n",
              "      <td>0.583541</td>\n",
              "      <td>0.998700</td>\n",
              "      <td>0.796967</td>\n",
              "      <td>0.808966</td>\n",
              "      <td>0.303350</td>\n",
              "      <td>...</td>\n",
              "      <td>0.739555</td>\n",
              "      <td>0.003252</td>\n",
              "      <td>0.622929</td>\n",
              "      <td>0.583538</td>\n",
              "      <td>0.834697</td>\n",
              "      <td>0.281721</td>\n",
              "      <td>0.026697</td>\n",
              "      <td>0.564663</td>\n",
              "      <td>1</td>\n",
              "      <td>0.023982</td>\n",
              "    </tr>\n",
              "    <tr>\n",
              "      <th>4</th>\n",
              "      <td>1</td>\n",
              "      <td>0.465022</td>\n",
              "      <td>0.538432</td>\n",
              "      <td>0.522298</td>\n",
              "      <td>0.598783</td>\n",
              "      <td>0.598783</td>\n",
              "      <td>0.998973</td>\n",
              "      <td>0.797366</td>\n",
              "      <td>0.809304</td>\n",
              "      <td>0.303475</td>\n",
              "      <td>...</td>\n",
              "      <td>0.795016</td>\n",
              "      <td>0.003878</td>\n",
              "      <td>0.623521</td>\n",
              "      <td>0.598782</td>\n",
              "      <td>0.839973</td>\n",
              "      <td>0.278514</td>\n",
              "      <td>0.024752</td>\n",
              "      <td>0.575617</td>\n",
              "      <td>1</td>\n",
              "      <td>0.035490</td>\n",
              "    </tr>\n",
              "  </tbody>\n",
              "</table>\n",
              "<p>5 rows × 96 columns</p>\n",
              "</div>\n",
              "      <button class=\"colab-df-convert\" onclick=\"convertToInteractive('df-0dbccebe-0f65-441f-80fd-8ed2d9781832')\"\n",
              "              title=\"Convert this dataframe to an interactive table.\"\n",
              "              style=\"display:none;\">\n",
              "        \n",
              "  <svg xmlns=\"http://www.w3.org/2000/svg\" height=\"24px\"viewBox=\"0 0 24 24\"\n",
              "       width=\"24px\">\n",
              "    <path d=\"M0 0h24v24H0V0z\" fill=\"none\"/>\n",
              "    <path d=\"M18.56 5.44l.94 2.06.94-2.06 2.06-.94-2.06-.94-.94-2.06-.94 2.06-2.06.94zm-11 1L8.5 8.5l.94-2.06 2.06-.94-2.06-.94L8.5 2.5l-.94 2.06-2.06.94zm10 10l.94 2.06.94-2.06 2.06-.94-2.06-.94-.94-2.06-.94 2.06-2.06.94z\"/><path d=\"M17.41 7.96l-1.37-1.37c-.4-.4-.92-.59-1.43-.59-.52 0-1.04.2-1.43.59L10.3 9.45l-7.72 7.72c-.78.78-.78 2.05 0 2.83L4 21.41c.39.39.9.59 1.41.59.51 0 1.02-.2 1.41-.59l7.78-7.78 2.81-2.81c.8-.78.8-2.07 0-2.86zM5.41 20L4 18.59l7.72-7.72 1.47 1.35L5.41 20z\"/>\n",
              "  </svg>\n",
              "      </button>\n",
              "      \n",
              "  <style>\n",
              "    .colab-df-container {\n",
              "      display:flex;\n",
              "      flex-wrap:wrap;\n",
              "      gap: 12px;\n",
              "    }\n",
              "\n",
              "    .colab-df-convert {\n",
              "      background-color: #E8F0FE;\n",
              "      border: none;\n",
              "      border-radius: 50%;\n",
              "      cursor: pointer;\n",
              "      display: none;\n",
              "      fill: #1967D2;\n",
              "      height: 32px;\n",
              "      padding: 0 0 0 0;\n",
              "      width: 32px;\n",
              "    }\n",
              "\n",
              "    .colab-df-convert:hover {\n",
              "      background-color: #E2EBFA;\n",
              "      box-shadow: 0px 1px 2px rgba(60, 64, 67, 0.3), 0px 1px 3px 1px rgba(60, 64, 67, 0.15);\n",
              "      fill: #174EA6;\n",
              "    }\n",
              "\n",
              "    [theme=dark] .colab-df-convert {\n",
              "      background-color: #3B4455;\n",
              "      fill: #D2E3FC;\n",
              "    }\n",
              "\n",
              "    [theme=dark] .colab-df-convert:hover {\n",
              "      background-color: #434B5C;\n",
              "      box-shadow: 0px 1px 3px 1px rgba(0, 0, 0, 0.15);\n",
              "      filter: drop-shadow(0px 1px 2px rgba(0, 0, 0, 0.3));\n",
              "      fill: #FFFFFF;\n",
              "    }\n",
              "  </style>\n",
              "\n",
              "      <script>\n",
              "        const buttonEl =\n",
              "          document.querySelector('#df-0dbccebe-0f65-441f-80fd-8ed2d9781832 button.colab-df-convert');\n",
              "        buttonEl.style.display =\n",
              "          google.colab.kernel.accessAllowed ? 'block' : 'none';\n",
              "\n",
              "        async function convertToInteractive(key) {\n",
              "          const element = document.querySelector('#df-0dbccebe-0f65-441f-80fd-8ed2d9781832');\n",
              "          const dataTable =\n",
              "            await google.colab.kernel.invokeFunction('convertToInteractive',\n",
              "                                                     [key], {});\n",
              "          if (!dataTable) return;\n",
              "\n",
              "          const docLinkHtml = 'Like what you see? Visit the ' +\n",
              "            '<a target=\"_blank\" href=https://colab.research.google.com/notebooks/data_table.ipynb>data table notebook</a>'\n",
              "            + ' to learn more about interactive tables.';\n",
              "          element.innerHTML = '';\n",
              "          dataTable['output_type'] = 'display_data';\n",
              "          await google.colab.output.renderOutput(dataTable, element);\n",
              "          const docLink = document.createElement('div');\n",
              "          docLink.innerHTML = docLinkHtml;\n",
              "          element.appendChild(docLink);\n",
              "        }\n",
              "      </script>\n",
              "    </div>\n",
              "  </div>\n",
              "  "
            ]
          },
          "metadata": {},
          "execution_count": 3
        }
      ]
    },
    {
      "cell_type": "code",
      "source": [
        "df.describe()"
      ],
      "metadata": {
        "colab": {
          "base_uri": "https://localhost:8080/",
          "height": 480
        },
        "id": "K3O7T38Xb3_T",
        "outputId": "b9f90a3b-2f26-4662-828b-2ed5d4f3f181"
      },
      "execution_count": 4,
      "outputs": [
        {
          "output_type": "execute_result",
          "data": {
            "text/plain": [
              "         Bankrupt?   ROA(C) before interest and depreciation before interest  \\\n",
              "count  6819.000000                                        6819.000000          \n",
              "mean      0.032263                                           0.505180          \n",
              "std       0.176710                                           0.060686          \n",
              "min       0.000000                                           0.000000          \n",
              "25%       0.000000                                           0.476527          \n",
              "50%       0.000000                                           0.502706          \n",
              "75%       0.000000                                           0.535563          \n",
              "max       1.000000                                           1.000000          \n",
              "\n",
              "        ROA(A) before interest and % after tax  \\\n",
              "count                              6819.000000   \n",
              "mean                                  0.558625   \n",
              "std                                   0.065620   \n",
              "min                                   0.000000   \n",
              "25%                                   0.535543   \n",
              "50%                                   0.559802   \n",
              "75%                                   0.589157   \n",
              "max                                   1.000000   \n",
              "\n",
              "        ROA(B) before interest and depreciation after tax  \\\n",
              "count                                        6819.000000    \n",
              "mean                                            0.553589    \n",
              "std                                             0.061595    \n",
              "min                                             0.000000    \n",
              "25%                                             0.527277    \n",
              "50%                                             0.552278    \n",
              "75%                                             0.584105    \n",
              "max                                             1.000000    \n",
              "\n",
              "        Operating Gross Margin   Realized Sales Gross Margin  \\\n",
              "count              6819.000000                   6819.000000   \n",
              "mean                  0.607948                      0.607929   \n",
              "std                   0.016934                      0.016916   \n",
              "min                   0.000000                      0.000000   \n",
              "25%                   0.600445                      0.600434   \n",
              "50%                   0.605997                      0.605976   \n",
              "75%                   0.613914                      0.613842   \n",
              "max                   1.000000                      1.000000   \n",
              "\n",
              "        Operating Profit Rate   Pre-tax net Interest Rate  \\\n",
              "count             6819.000000                 6819.000000   \n",
              "mean                 0.998755                    0.797190   \n",
              "std                  0.013010                    0.012869   \n",
              "min                  0.000000                    0.000000   \n",
              "25%                  0.998969                    0.797386   \n",
              "50%                  0.999022                    0.797464   \n",
              "75%                  0.999095                    0.797579   \n",
              "max                  1.000000                    1.000000   \n",
              "\n",
              "        After-tax net Interest Rate  \\\n",
              "count                   6819.000000   \n",
              "mean                       0.809084   \n",
              "std                        0.013601   \n",
              "min                        0.000000   \n",
              "25%                        0.809312   \n",
              "50%                        0.809375   \n",
              "75%                        0.809469   \n",
              "max                        1.000000   \n",
              "\n",
              "        Non-industry income and expenditure/revenue  ...  \\\n",
              "count                                   6819.000000  ...   \n",
              "mean                                       0.303623  ...   \n",
              "std                                        0.011163  ...   \n",
              "min                                        0.000000  ...   \n",
              "25%                                        0.303466  ...   \n",
              "50%                                        0.303525  ...   \n",
              "75%                                        0.303585  ...   \n",
              "max                                        1.000000  ...   \n",
              "\n",
              "        Net Income to Total Assets   Total assets to GNP price  \\\n",
              "count                  6819.000000                6.819000e+03   \n",
              "mean                      0.807760                1.862942e+07   \n",
              "std                       0.040332                3.764501e+08   \n",
              "min                       0.000000                0.000000e+00   \n",
              "25%                       0.796750                9.036205e-04   \n",
              "50%                       0.810619                2.085213e-03   \n",
              "75%                       0.826455                5.269777e-03   \n",
              "max                       1.000000                9.820000e+09   \n",
              "\n",
              "        No-credit Interval   Gross Profit to Sales  \\\n",
              "count          6819.000000             6819.000000   \n",
              "mean              0.623915                0.607946   \n",
              "std               0.012290                0.016934   \n",
              "min               0.000000                0.000000   \n",
              "25%               0.623636                0.600443   \n",
              "50%               0.623879                0.605998   \n",
              "75%               0.624168                0.613913   \n",
              "max               1.000000                1.000000   \n",
              "\n",
              "        Net Income to Stockholder's Equity   Liability to Equity  \\\n",
              "count                          6819.000000           6819.000000   \n",
              "mean                              0.840402              0.280365   \n",
              "std                               0.014523              0.014463   \n",
              "min                               0.000000              0.000000   \n",
              "25%                               0.840115              0.276944   \n",
              "50%                               0.841179              0.278778   \n",
              "75%                               0.842357              0.281449   \n",
              "max                               1.000000              1.000000   \n",
              "\n",
              "        Degree of Financial Leverage (DFL)  \\\n",
              "count                          6819.000000   \n",
              "mean                              0.027541   \n",
              "std                               0.015668   \n",
              "min                               0.000000   \n",
              "25%                               0.026791   \n",
              "50%                               0.026808   \n",
              "75%                               0.026913   \n",
              "max                               1.000000   \n",
              "\n",
              "        Interest Coverage Ratio (Interest expense to EBIT)   Net Income Flag  \\\n",
              "count                                        6819.000000              6819.0   \n",
              "mean                                            0.565358                 1.0   \n",
              "std                                             0.013214                 0.0   \n",
              "min                                             0.000000                 1.0   \n",
              "25%                                             0.565158                 1.0   \n",
              "50%                                             0.565252                 1.0   \n",
              "75%                                             0.565725                 1.0   \n",
              "max                                             1.000000                 1.0   \n",
              "\n",
              "        Equity to Liability  \n",
              "count           6819.000000  \n",
              "mean               0.047578  \n",
              "std                0.050014  \n",
              "min                0.000000  \n",
              "25%                0.024477  \n",
              "50%                0.033798  \n",
              "75%                0.052838  \n",
              "max                1.000000  \n",
              "\n",
              "[8 rows x 96 columns]"
            ],
            "text/html": [
              "\n",
              "  <div id=\"df-4e42589d-a896-4a9d-858e-a907ac6d5e66\">\n",
              "    <div class=\"colab-df-container\">\n",
              "      <div>\n",
              "<style scoped>\n",
              "    .dataframe tbody tr th:only-of-type {\n",
              "        vertical-align: middle;\n",
              "    }\n",
              "\n",
              "    .dataframe tbody tr th {\n",
              "        vertical-align: top;\n",
              "    }\n",
              "\n",
              "    .dataframe thead th {\n",
              "        text-align: right;\n",
              "    }\n",
              "</style>\n",
              "<table border=\"1\" class=\"dataframe\">\n",
              "  <thead>\n",
              "    <tr style=\"text-align: right;\">\n",
              "      <th></th>\n",
              "      <th>Bankrupt?</th>\n",
              "      <th>ROA(C) before interest and depreciation before interest</th>\n",
              "      <th>ROA(A) before interest and % after tax</th>\n",
              "      <th>ROA(B) before interest and depreciation after tax</th>\n",
              "      <th>Operating Gross Margin</th>\n",
              "      <th>Realized Sales Gross Margin</th>\n",
              "      <th>Operating Profit Rate</th>\n",
              "      <th>Pre-tax net Interest Rate</th>\n",
              "      <th>After-tax net Interest Rate</th>\n",
              "      <th>Non-industry income and expenditure/revenue</th>\n",
              "      <th>...</th>\n",
              "      <th>Net Income to Total Assets</th>\n",
              "      <th>Total assets to GNP price</th>\n",
              "      <th>No-credit Interval</th>\n",
              "      <th>Gross Profit to Sales</th>\n",
              "      <th>Net Income to Stockholder's Equity</th>\n",
              "      <th>Liability to Equity</th>\n",
              "      <th>Degree of Financial Leverage (DFL)</th>\n",
              "      <th>Interest Coverage Ratio (Interest expense to EBIT)</th>\n",
              "      <th>Net Income Flag</th>\n",
              "      <th>Equity to Liability</th>\n",
              "    </tr>\n",
              "  </thead>\n",
              "  <tbody>\n",
              "    <tr>\n",
              "      <th>count</th>\n",
              "      <td>6819.000000</td>\n",
              "      <td>6819.000000</td>\n",
              "      <td>6819.000000</td>\n",
              "      <td>6819.000000</td>\n",
              "      <td>6819.000000</td>\n",
              "      <td>6819.000000</td>\n",
              "      <td>6819.000000</td>\n",
              "      <td>6819.000000</td>\n",
              "      <td>6819.000000</td>\n",
              "      <td>6819.000000</td>\n",
              "      <td>...</td>\n",
              "      <td>6819.000000</td>\n",
              "      <td>6.819000e+03</td>\n",
              "      <td>6819.000000</td>\n",
              "      <td>6819.000000</td>\n",
              "      <td>6819.000000</td>\n",
              "      <td>6819.000000</td>\n",
              "      <td>6819.000000</td>\n",
              "      <td>6819.000000</td>\n",
              "      <td>6819.0</td>\n",
              "      <td>6819.000000</td>\n",
              "    </tr>\n",
              "    <tr>\n",
              "      <th>mean</th>\n",
              "      <td>0.032263</td>\n",
              "      <td>0.505180</td>\n",
              "      <td>0.558625</td>\n",
              "      <td>0.553589</td>\n",
              "      <td>0.607948</td>\n",
              "      <td>0.607929</td>\n",
              "      <td>0.998755</td>\n",
              "      <td>0.797190</td>\n",
              "      <td>0.809084</td>\n",
              "      <td>0.303623</td>\n",
              "      <td>...</td>\n",
              "      <td>0.807760</td>\n",
              "      <td>1.862942e+07</td>\n",
              "      <td>0.623915</td>\n",
              "      <td>0.607946</td>\n",
              "      <td>0.840402</td>\n",
              "      <td>0.280365</td>\n",
              "      <td>0.027541</td>\n",
              "      <td>0.565358</td>\n",
              "      <td>1.0</td>\n",
              "      <td>0.047578</td>\n",
              "    </tr>\n",
              "    <tr>\n",
              "      <th>std</th>\n",
              "      <td>0.176710</td>\n",
              "      <td>0.060686</td>\n",
              "      <td>0.065620</td>\n",
              "      <td>0.061595</td>\n",
              "      <td>0.016934</td>\n",
              "      <td>0.016916</td>\n",
              "      <td>0.013010</td>\n",
              "      <td>0.012869</td>\n",
              "      <td>0.013601</td>\n",
              "      <td>0.011163</td>\n",
              "      <td>...</td>\n",
              "      <td>0.040332</td>\n",
              "      <td>3.764501e+08</td>\n",
              "      <td>0.012290</td>\n",
              "      <td>0.016934</td>\n",
              "      <td>0.014523</td>\n",
              "      <td>0.014463</td>\n",
              "      <td>0.015668</td>\n",
              "      <td>0.013214</td>\n",
              "      <td>0.0</td>\n",
              "      <td>0.050014</td>\n",
              "    </tr>\n",
              "    <tr>\n",
              "      <th>min</th>\n",
              "      <td>0.000000</td>\n",
              "      <td>0.000000</td>\n",
              "      <td>0.000000</td>\n",
              "      <td>0.000000</td>\n",
              "      <td>0.000000</td>\n",
              "      <td>0.000000</td>\n",
              "      <td>0.000000</td>\n",
              "      <td>0.000000</td>\n",
              "      <td>0.000000</td>\n",
              "      <td>0.000000</td>\n",
              "      <td>...</td>\n",
              "      <td>0.000000</td>\n",
              "      <td>0.000000e+00</td>\n",
              "      <td>0.000000</td>\n",
              "      <td>0.000000</td>\n",
              "      <td>0.000000</td>\n",
              "      <td>0.000000</td>\n",
              "      <td>0.000000</td>\n",
              "      <td>0.000000</td>\n",
              "      <td>1.0</td>\n",
              "      <td>0.000000</td>\n",
              "    </tr>\n",
              "    <tr>\n",
              "      <th>25%</th>\n",
              "      <td>0.000000</td>\n",
              "      <td>0.476527</td>\n",
              "      <td>0.535543</td>\n",
              "      <td>0.527277</td>\n",
              "      <td>0.600445</td>\n",
              "      <td>0.600434</td>\n",
              "      <td>0.998969</td>\n",
              "      <td>0.797386</td>\n",
              "      <td>0.809312</td>\n",
              "      <td>0.303466</td>\n",
              "      <td>...</td>\n",
              "      <td>0.796750</td>\n",
              "      <td>9.036205e-04</td>\n",
              "      <td>0.623636</td>\n",
              "      <td>0.600443</td>\n",
              "      <td>0.840115</td>\n",
              "      <td>0.276944</td>\n",
              "      <td>0.026791</td>\n",
              "      <td>0.565158</td>\n",
              "      <td>1.0</td>\n",
              "      <td>0.024477</td>\n",
              "    </tr>\n",
              "    <tr>\n",
              "      <th>50%</th>\n",
              "      <td>0.000000</td>\n",
              "      <td>0.502706</td>\n",
              "      <td>0.559802</td>\n",
              "      <td>0.552278</td>\n",
              "      <td>0.605997</td>\n",
              "      <td>0.605976</td>\n",
              "      <td>0.999022</td>\n",
              "      <td>0.797464</td>\n",
              "      <td>0.809375</td>\n",
              "      <td>0.303525</td>\n",
              "      <td>...</td>\n",
              "      <td>0.810619</td>\n",
              "      <td>2.085213e-03</td>\n",
              "      <td>0.623879</td>\n",
              "      <td>0.605998</td>\n",
              "      <td>0.841179</td>\n",
              "      <td>0.278778</td>\n",
              "      <td>0.026808</td>\n",
              "      <td>0.565252</td>\n",
              "      <td>1.0</td>\n",
              "      <td>0.033798</td>\n",
              "    </tr>\n",
              "    <tr>\n",
              "      <th>75%</th>\n",
              "      <td>0.000000</td>\n",
              "      <td>0.535563</td>\n",
              "      <td>0.589157</td>\n",
              "      <td>0.584105</td>\n",
              "      <td>0.613914</td>\n",
              "      <td>0.613842</td>\n",
              "      <td>0.999095</td>\n",
              "      <td>0.797579</td>\n",
              "      <td>0.809469</td>\n",
              "      <td>0.303585</td>\n",
              "      <td>...</td>\n",
              "      <td>0.826455</td>\n",
              "      <td>5.269777e-03</td>\n",
              "      <td>0.624168</td>\n",
              "      <td>0.613913</td>\n",
              "      <td>0.842357</td>\n",
              "      <td>0.281449</td>\n",
              "      <td>0.026913</td>\n",
              "      <td>0.565725</td>\n",
              "      <td>1.0</td>\n",
              "      <td>0.052838</td>\n",
              "    </tr>\n",
              "    <tr>\n",
              "      <th>max</th>\n",
              "      <td>1.000000</td>\n",
              "      <td>1.000000</td>\n",
              "      <td>1.000000</td>\n",
              "      <td>1.000000</td>\n",
              "      <td>1.000000</td>\n",
              "      <td>1.000000</td>\n",
              "      <td>1.000000</td>\n",
              "      <td>1.000000</td>\n",
              "      <td>1.000000</td>\n",
              "      <td>1.000000</td>\n",
              "      <td>...</td>\n",
              "      <td>1.000000</td>\n",
              "      <td>9.820000e+09</td>\n",
              "      <td>1.000000</td>\n",
              "      <td>1.000000</td>\n",
              "      <td>1.000000</td>\n",
              "      <td>1.000000</td>\n",
              "      <td>1.000000</td>\n",
              "      <td>1.000000</td>\n",
              "      <td>1.0</td>\n",
              "      <td>1.000000</td>\n",
              "    </tr>\n",
              "  </tbody>\n",
              "</table>\n",
              "<p>8 rows × 96 columns</p>\n",
              "</div>\n",
              "      <button class=\"colab-df-convert\" onclick=\"convertToInteractive('df-4e42589d-a896-4a9d-858e-a907ac6d5e66')\"\n",
              "              title=\"Convert this dataframe to an interactive table.\"\n",
              "              style=\"display:none;\">\n",
              "        \n",
              "  <svg xmlns=\"http://www.w3.org/2000/svg\" height=\"24px\"viewBox=\"0 0 24 24\"\n",
              "       width=\"24px\">\n",
              "    <path d=\"M0 0h24v24H0V0z\" fill=\"none\"/>\n",
              "    <path d=\"M18.56 5.44l.94 2.06.94-2.06 2.06-.94-2.06-.94-.94-2.06-.94 2.06-2.06.94zm-11 1L8.5 8.5l.94-2.06 2.06-.94-2.06-.94L8.5 2.5l-.94 2.06-2.06.94zm10 10l.94 2.06.94-2.06 2.06-.94-2.06-.94-.94-2.06-.94 2.06-2.06.94z\"/><path d=\"M17.41 7.96l-1.37-1.37c-.4-.4-.92-.59-1.43-.59-.52 0-1.04.2-1.43.59L10.3 9.45l-7.72 7.72c-.78.78-.78 2.05 0 2.83L4 21.41c.39.39.9.59 1.41.59.51 0 1.02-.2 1.41-.59l7.78-7.78 2.81-2.81c.8-.78.8-2.07 0-2.86zM5.41 20L4 18.59l7.72-7.72 1.47 1.35L5.41 20z\"/>\n",
              "  </svg>\n",
              "      </button>\n",
              "      \n",
              "  <style>\n",
              "    .colab-df-container {\n",
              "      display:flex;\n",
              "      flex-wrap:wrap;\n",
              "      gap: 12px;\n",
              "    }\n",
              "\n",
              "    .colab-df-convert {\n",
              "      background-color: #E8F0FE;\n",
              "      border: none;\n",
              "      border-radius: 50%;\n",
              "      cursor: pointer;\n",
              "      display: none;\n",
              "      fill: #1967D2;\n",
              "      height: 32px;\n",
              "      padding: 0 0 0 0;\n",
              "      width: 32px;\n",
              "    }\n",
              "\n",
              "    .colab-df-convert:hover {\n",
              "      background-color: #E2EBFA;\n",
              "      box-shadow: 0px 1px 2px rgba(60, 64, 67, 0.3), 0px 1px 3px 1px rgba(60, 64, 67, 0.15);\n",
              "      fill: #174EA6;\n",
              "    }\n",
              "\n",
              "    [theme=dark] .colab-df-convert {\n",
              "      background-color: #3B4455;\n",
              "      fill: #D2E3FC;\n",
              "    }\n",
              "\n",
              "    [theme=dark] .colab-df-convert:hover {\n",
              "      background-color: #434B5C;\n",
              "      box-shadow: 0px 1px 3px 1px rgba(0, 0, 0, 0.15);\n",
              "      filter: drop-shadow(0px 1px 2px rgba(0, 0, 0, 0.3));\n",
              "      fill: #FFFFFF;\n",
              "    }\n",
              "  </style>\n",
              "\n",
              "      <script>\n",
              "        const buttonEl =\n",
              "          document.querySelector('#df-4e42589d-a896-4a9d-858e-a907ac6d5e66 button.colab-df-convert');\n",
              "        buttonEl.style.display =\n",
              "          google.colab.kernel.accessAllowed ? 'block' : 'none';\n",
              "\n",
              "        async function convertToInteractive(key) {\n",
              "          const element = document.querySelector('#df-4e42589d-a896-4a9d-858e-a907ac6d5e66');\n",
              "          const dataTable =\n",
              "            await google.colab.kernel.invokeFunction('convertToInteractive',\n",
              "                                                     [key], {});\n",
              "          if (!dataTable) return;\n",
              "\n",
              "          const docLinkHtml = 'Like what you see? Visit the ' +\n",
              "            '<a target=\"_blank\" href=https://colab.research.google.com/notebooks/data_table.ipynb>data table notebook</a>'\n",
              "            + ' to learn more about interactive tables.';\n",
              "          element.innerHTML = '';\n",
              "          dataTable['output_type'] = 'display_data';\n",
              "          await google.colab.output.renderOutput(dataTable, element);\n",
              "          const docLink = document.createElement('div');\n",
              "          docLink.innerHTML = docLinkHtml;\n",
              "          element.appendChild(docLink);\n",
              "        }\n",
              "      </script>\n",
              "    </div>\n",
              "  </div>\n",
              "  "
            ]
          },
          "metadata": {},
          "execution_count": 4
        }
      ]
    },
    {
      "cell_type": "markdown",
      "source": [
        "# Train test split"
      ],
      "metadata": {
        "id": "aG4V4DM1Uxit"
      }
    },
    {
      "cell_type": "code",
      "source": [
        "y = (df['Bankrupt?']).to_numpy()\n",
        "y"
      ],
      "metadata": {
        "id": "O_3S5yfmQa74",
        "colab": {
          "base_uri": "https://localhost:8080/"
        },
        "outputId": "cc438adf-700a-432f-e310-e0b4ea3bc552"
      },
      "execution_count": 5,
      "outputs": [
        {
          "output_type": "execute_result",
          "data": {
            "text/plain": [
              "array([1, 1, 1, ..., 0, 0, 0])"
            ]
          },
          "metadata": {},
          "execution_count": 5
        }
      ]
    },
    {
      "cell_type": "code",
      "source": [
        "X = df.drop('Bankrupt?', axis=1, inplace=False).to_numpy()\n",
        "X"
      ],
      "metadata": {
        "id": "RLtbZ-kBQbN2",
        "colab": {
          "base_uri": "https://localhost:8080/"
        },
        "outputId": "f89cc2cc-263c-434f-eb07-fd0e32178842"
      },
      "execution_count": 6,
      "outputs": [
        {
          "output_type": "execute_result",
          "data": {
            "text/plain": [
              "array([[0.37059426, 0.42438945, 0.40574977, ..., 0.56405011, 1.        ,\n",
              "        0.01646874],\n",
              "       [0.46429094, 0.53821413, 0.51673002, ..., 0.57017495, 1.        ,\n",
              "        0.02079431],\n",
              "       [0.42607127, 0.49901875, 0.47229509, ..., 0.56370608, 1.        ,\n",
              "        0.01647411],\n",
              "       ...,\n",
              "       [0.47272461, 0.533744  , 0.52063815, ..., 0.5651584 , 1.        ,\n",
              "        0.09764874],\n",
              "       [0.50626432, 0.5599106 , 0.55404465, ..., 0.56530151, 1.        ,\n",
              "        0.04400945],\n",
              "       [0.49305319, 0.57010467, 0.54954762, ..., 0.56516694, 1.        ,\n",
              "        0.23390224]])"
            ]
          },
          "metadata": {},
          "execution_count": 6
        }
      ]
    },
    {
      "cell_type": "code",
      "source": [
        "X_train, X_test, y_train, y_test = train_test_split(\n",
        "        X, y, test_size=TEST_SIZE, stratify=y, random_state=RANDOM_STATE)\n",
        "print(  X_train.shape,\n",
        "        X_test.shape,\n",
        "        y_train.shape,\n",
        "        y_test.shape\n",
        ")"
      ],
      "metadata": {
        "colab": {
          "base_uri": "https://localhost:8080/"
        },
        "id": "lUWu7PAaVOHp",
        "outputId": "27ea0064-4cb1-4289-c3ff-a21b30e469a6"
      },
      "execution_count": 7,
      "outputs": [
        {
          "output_type": "stream",
          "name": "stdout",
          "text": [
            "(5796, 95) (1023, 95) (5796,) (1023,)\n"
          ]
        }
      ]
    },
    {
      "cell_type": "code",
      "source": [
        "fig, ax = plt.subplots(1, 3)\n",
        "fig.set_figheight(3)\n",
        "fig.set_figwidth(12)\n",
        "\n",
        "ax[0].hist(y, bins=2)\n",
        "ax[1].hist(y_train, bins=2)\n",
        "ax[2].hist(y_test, bins=2)\n",
        "\n",
        "print(np.unique(y, return_counts=True))\n",
        "print(np.unique(y_train, return_counts=True))\n",
        "print(np.unique(y_test, return_counts=True))"
      ],
      "metadata": {
        "colab": {
          "base_uri": "https://localhost:8080/",
          "height": 263
        },
        "id": "noTjouT8YbIs",
        "outputId": "4e2d7f77-5fdb-4187-8a4e-aef8d5edda13"
      },
      "execution_count": 8,
      "outputs": [
        {
          "output_type": "stream",
          "name": "stdout",
          "text": [
            "(array([0, 1]), array([6599,  220]))\n",
            "(array([0, 1]), array([5609,  187]))\n",
            "(array([0, 1]), array([990,  33]))\n"
          ]
        },
        {
          "output_type": "display_data",
          "data": {
            "text/plain": [
              "<Figure size 864x216 with 3 Axes>"
            ],
            "image/png": "[encoded data removed]"
          },
          "metadata": {
            "needs_background": "light"
          }
        }
      ]
    },
    {
      "cell_type": "markdown",
      "source": [
        ""
      ],
      "metadata": {
        "id": "HncZpcmIVOlQ"
      }
    },
    {
      "cell_type": "markdown",
      "source": [
        "# SMOTE over-sample "
      ],
      "metadata": {
        "id": "R9hm3eryWaNQ"
      }
    },
    {
      "cell_type": "code",
      "source": [
        "X_resampled, y_resampled = SMOTE().fit_resample(X_train, y_train)"
      ],
      "metadata": {
        "id": "onjiEUv1WZpi"
      },
      "execution_count": 9,
      "outputs": []
    },
    {
      "cell_type": "code",
      "source": [
        "plt.hist(y_resampled, bins=3)\n",
        "print(np.unique(y_resampled, return_counts=True))"
      ],
      "metadata": {
        "colab": {
          "base_uri": "https://localhost:8080/",
          "height": 282
        },
        "id": "5X9iiyACbXsF",
        "outputId": "5e15af77-9e06-4c30-bb67-735f7a7e84e1"
      },
      "execution_count": 10,
      "outputs": [
        {
          "output_type": "stream",
          "name": "stdout",
          "text": [
            "(array([0, 1]), array([5609, 5609]))\n"
          ]
        },
        {
          "output_type": "display_data",
          "data": {
            "text/plain": [
              "<Figure size 432x288 with 1 Axes>"
            ],
            "image/png": "[encoded data removed]"
          },
          "metadata": {
            "needs_background": "light"
          }
        }
      ]
    },
    {
      "cell_type": "markdown",
      "source": [
        "# Lasso regress and Feature select"
      ],
      "metadata": {
        "id": "OD2EgFsCjjKg"
      }
    },
    {
      "cell_type": "code",
      "source": [
        "lasso = Lasso()\n",
        "lasso.fit(X_resampled, y_resampled)\n",
        "lasso.coef_"
      ],
      "metadata": {
        "id": "KElJu1BHQdHt",
        "colab": {
          "base_uri": "https://localhost:8080/"
        },
        "outputId": "3e950d79-0f45-4ec1-a2b4-7e164df8aaa1"
      },
      "execution_count": 11,
      "outputs": [
        {
          "output_type": "execute_result",
          "data": {
            "text/plain": [
              "array([-0.00000000e+00, -0.00000000e+00, -0.00000000e+00, -0.00000000e+00,\n",
              "       -0.00000000e+00,  0.00000000e+00, -0.00000000e+00, -0.00000000e+00,\n",
              "       -0.00000000e+00, -0.00000000e+00, -7.60601555e-12, -2.02039599e-11,\n",
              "       -0.00000000e+00, -4.29783416e-10, -0.00000000e+00, -0.00000000e+00,\n",
              "       -0.00000000e+00, -0.00000000e+00, -0.00000000e+00, -0.00000000e+00,\n",
              "       -9.13290782e-11, -0.00000000e+00, -0.00000000e+00,  0.00000000e+00,\n",
              "       -0.00000000e+00, -0.00000000e+00, -0.00000000e+00, -0.00000000e+00,\n",
              "       -2.78446437e-11,  1.58382337e-10, -0.00000000e+00, -0.00000000e+00,\n",
              "       -1.64610757e-10,  2.09617100e-11, -0.00000000e+00,  5.86998829e-11,\n",
              "        0.00000000e+00, -0.00000000e+00, -0.00000000e+00,  0.00000000e+00,\n",
              "        0.00000000e+00, -0.00000000e+00, -0.00000000e+00,  0.00000000e+00,\n",
              "       -0.00000000e+00, -9.91533641e-11, -7.93429830e-11, -3.21954065e-12,\n",
              "        2.62846251e-11,  0.00000000e+00, -5.40620348e-11, -0.00000000e+00,\n",
              "       -6.28927137e-11, -0.00000000e+00, -0.00000000e+00, -0.00000000e+00,\n",
              "       -0.00000000e+00, -5.41217660e-11,  5.81283690e-11,  0.00000000e+00,\n",
              "       -0.00000000e+00,  0.00000000e+00, -6.90669629e-12, -0.00000000e+00,\n",
              "       -0.00000000e+00,  0.00000000e+00, -3.17170736e-12, -0.00000000e+00,\n",
              "       -0.00000000e+00,  0.00000000e+00,  3.17271920e-12,  5.57246693e-12,\n",
              "        0.00000000e+00, -1.00095547e-11,  0.00000000e+00,  1.11951723e-10,\n",
              "       -0.00000000e+00,  0.00000000e+00,  0.00000000e+00, -0.00000000e+00,\n",
              "       -0.00000000e+00, -0.00000000e+00, -0.00000000e+00,  0.00000000e+00,\n",
              "        0.00000000e+00, -0.00000000e+00,  4.59295243e-11, -0.00000000e+00,\n",
              "       -0.00000000e+00, -0.00000000e+00,  0.00000000e+00,  0.00000000e+00,\n",
              "       -0.00000000e+00,  0.00000000e+00, -0.00000000e+00])"
            ]
          },
          "metadata": {},
          "execution_count": 11
        }
      ]
    },
    {
      "cell_type": "code",
      "source": [
        "zero_filter = lasso.coef_ != 0\n",
        "zero_filter"
      ],
      "metadata": {
        "colab": {
          "base_uri": "https://localhost:8080/"
        },
        "id": "-nzWmKFrj4gy",
        "outputId": "8a48e7c8-260a-4664-b114-b2463338acae"
      },
      "execution_count": 12,
      "outputs": [
        {
          "output_type": "execute_result",
          "data": {
            "text/plain": [
              "array([False, False, False, False, False, False, False, False, False,\n",
              "       False,  True,  True, False,  True, False, False, False, False,\n",
              "       False, False,  True, False, False, False, False, False, False,\n",
              "       False,  True,  True, False, False,  True,  True, False,  True,\n",
              "       False, False, False, False, False, False, False, False, False,\n",
              "        True,  True,  True,  True, False,  True, False,  True, False,\n",
              "       False, False, False,  True,  True, False, False, False,  True,\n",
              "       False, False, False,  True, False, False, False,  True,  True,\n",
              "       False,  True, False,  True, False, False, False, False, False,\n",
              "       False, False, False, False, False,  True, False, False, False,\n",
              "       False, False, False, False, False])"
            ]
          },
          "metadata": {},
          "execution_count": 12
        }
      ]
    },
    {
      "cell_type": "code",
      "source": [
        "sum(zero_filter)  # number of non-zero numbers"
      ],
      "metadata": {
        "colab": {
          "base_uri": "https://localhost:8080/"
        },
        "id": "nGmLO5MmkH0h",
        "outputId": "30742721-00d1-4e5a-9227-9b3b1c28306c"
      },
      "execution_count": 13,
      "outputs": [
        {
          "output_type": "execute_result",
          "data": {
            "text/plain": [
              "24"
            ]
          },
          "metadata": {},
          "execution_count": 13
        }
      ]
    },
    {
      "cell_type": "code",
      "source": [
        "filtered_X_resampled = X_resampled.transpose()\n",
        "filtered_X_resampled = filtered_X_resampled[zero_filter]\n",
        "filtered_X_resampled = filtered_X_resampled.transpose()\n",
        "print(filtered_X_resampled.shape)\n",
        "filtered_X_resampled"
      ],
      "metadata": {
        "colab": {
          "base_uri": "https://localhost:8080/"
        },
        "id": "b-9LMV_okeUK",
        "outputId": "c67109ee-c4d6-42f5-d3c4-18b9741f7108"
      },
      "execution_count": 14,
      "outputs": [
        {
          "output_type": "stream",
          "name": "stdout",
          "text": [
            "(11218, 24)\n"
          ]
        },
        {
          "output_type": "execute_result",
          "data": {
            "text/plain": [
              "array([[1.31709967e-04, 1.02000000e+09, 1.94019402e-04, ...,\n",
              "        1.27000000e+09, 2.60621223e-01, 3.17818677e-03],\n",
              "       [7.18000000e+09, 0.00000000e+00, 6.27062706e-04, ...,\n",
              "        4.01000000e+09, 6.08504883e-01, 9.39829344e-04],\n",
              "       [5.40000000e+09, 3.34000000e+09, 9.80098010e-04, ...,\n",
              "        3.82000000e+08, 1.59617057e-01, 4.70266612e-03],\n",
              "       ...,\n",
              "       [4.48223900e+09, 0.00000000e+00, 3.84793418e-04, ...,\n",
              "        2.74643691e+09, 2.18078353e-01, 2.30494580e-03],\n",
              "       [5.88914426e+09, 0.00000000e+00, 7.84436958e-04, ...,\n",
              "        1.32953152e+09, 5.20152134e-01, 3.74368277e-03],\n",
              "       [6.79907937e+08, 3.39613497e+09, 8.34227598e-04, ...,\n",
              "        8.67039865e+08, 6.93158212e-01, 3.76378515e-03]])"
            ]
          },
          "metadata": {},
          "execution_count": 14
        }
      ]
    },
    {
      "cell_type": "markdown",
      "source": [
        "# Apply neural network, predict, and evaluate"
      ],
      "metadata": {
        "id": "y2fXuV3lnCC2"
      }
    },
    {
      "cell_type": "code",
      "source": [
        "clf = MLPClassifier(\n",
        "    hidden_layer_sizes=(200, 200), random_state=RANDOM_STATE)\n",
        "clf.fit(filtered_X_resampled, y_resampled)"
      ],
      "metadata": {
        "colab": {
          "base_uri": "https://localhost:8080/"
        },
        "id": "F3SuR2PinLZE",
        "outputId": "51a64307-ce27-4502-cd6e-cc6454c92597"
      },
      "execution_count": 15,
      "outputs": [
        {
          "output_type": "execute_result",
          "data": {
            "text/plain": [
              "MLPClassifier(hidden_layer_sizes=(200, 200), random_state=42)"
            ]
          },
          "metadata": {},
          "execution_count": 15
        }
      ]
    },
    {
      "cell_type": "code",
      "source": [
        "# TODO: save model"
      ],
      "metadata": {
        "id": "l57xI8kTon5p"
      },
      "execution_count": 16,
      "outputs": []
    },
    {
      "cell_type": "code",
      "source": [
        "filtered_X_test = X_test.transpose()\n",
        "filtered_X_test = filtered_X_test[zero_filter]\n",
        "filtered_X_test = filtered_X_test.transpose()"
      ],
      "metadata": {
        "id": "eky7RkjsovTM"
      },
      "execution_count": 17,
      "outputs": []
    },
    {
      "cell_type": "code",
      "source": [
        "y_pred = clf.predict(filtered_X_test)"
      ],
      "metadata": {
        "id": "xWR0HRehn7aC"
      },
      "execution_count": 18,
      "outputs": []
    },
    {
      "cell_type": "code",
      "source": [
        "f1_score(y_true=y_test, y_pred=y_pred)"
      ],
      "metadata": {
        "colab": {
          "base_uri": "https://localhost:8080/"
        },
        "id": "ByXNm--yoM3R",
        "outputId": "7763ff6a-6637-4314-e6ee-8cded02fa039"
      },
      "execution_count": 19,
      "outputs": [
        {
          "output_type": "execute_result",
          "data": {
            "text/plain": [
              "0.18840579710144928"
            ]
          },
          "metadata": {},
          "execution_count": 19
        }
      ]
    },
    {
      "cell_type": "code",
      "source": [
        "accuracy_score(y_true=y_test, y_pred=y_pred)"
      ],
      "metadata": {
        "colab": {
          "base_uri": "https://localhost:8080/"
        },
        "id": "GAyNokQUvd7O",
        "outputId": "b74febf0-3fa0-4883-841b-c119c388b8bf"
      },
      "execution_count": 20,
      "outputs": [
        {
          "output_type": "execute_result",
          "data": {
            "text/plain": [
              "0.8905180840664711"
            ]
          },
          "metadata": {},
          "execution_count": 20
        }
      ]
    },
    {
      "cell_type": "markdown",
      "source": [
        "# Apply neural network without Lasso"
      ],
      "metadata": {
        "id": "_T63KJSGp7s3"
      }
    },
    {
      "cell_type": "code",
      "source": [
        "clf_no_filter = MLPClassifier(\n",
        "    hidden_layer_sizes=(200, 200), random_state=RANDOM_STATE)\n",
        "clf_no_filter.fit(X_resampled, y_resampled)"
      ],
      "metadata": {
        "colab": {
          "base_uri": "https://localhost:8080/"
        },
        "id": "LaVmdfr3p7NX",
        "outputId": "d0c466cb-2010-40a4-9c2a-20719304b0ff"
      },
      "execution_count": 21,
      "outputs": [
        {
          "output_type": "execute_result",
          "data": {
            "text/plain": [
              "MLPClassifier(hidden_layer_sizes=(200, 200), random_state=42)"
            ]
          },
          "metadata": {},
          "execution_count": 21
        }
      ]
    },
    {
      "cell_type": "code",
      "source": [
        "# TODO: save model"
      ],
      "metadata": {
        "id": "pRv6Yxumuw1B"
      },
      "execution_count": 22,
      "outputs": []
    },
    {
      "cell_type": "code",
      "source": [
        "y_pred_no_filter = clf_no_filter.predict(X_test)"
      ],
      "metadata": {
        "id": "k6O5kn5BqUC4"
      },
      "execution_count": 23,
      "outputs": []
    },
    {
      "cell_type": "code",
      "source": [
        "f1_score(y_true=y_test, y_pred=y_pred_no_filter)"
      ],
      "metadata": {
        "colab": {
          "base_uri": "https://localhost:8080/"
        },
        "id": "iZeOcymiql4L",
        "outputId": "469009c7-5d81-4308-8b05-8fafd03e7ae7"
      },
      "execution_count": 24,
      "outputs": [
        {
          "output_type": "execute_result",
          "data": {
            "text/plain": [
              "0.1257142857142857"
            ]
          },
          "metadata": {},
          "execution_count": 24
        }
      ]
    },
    {
      "cell_type": "code",
      "source": [
        "accuracy_score(y_true=y_test, y_pred=y_pred_no_filter)"
      ],
      "metadata": {
        "colab": {
          "base_uri": "https://localhost:8080/"
        },
        "id": "LCV-8TTXvrza",
        "outputId": "48a3d5de-5802-48cc-d1c6-a9ed94398072"
      },
      "execution_count": 25,
      "outputs": [
        {
          "output_type": "execute_result",
          "data": {
            "text/plain": [
              "0.8504398826979472"
            ]
          },
          "metadata": {},
          "execution_count": 25
        }
      ]
    }
  ]
}